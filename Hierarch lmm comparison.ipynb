{
 "cells": [
  {
   "cell_type": "code",
   "execution_count": 1,
   "metadata": {},
   "outputs": [],
   "source": [
    "import numpy as np\n",
    "import scipy.stats as stats\n",
    "from multiprocessing import Pool\n",
    "from functools import partial\n",
    "from pathlib import Path\n",
    "from lmmcomparison import poweranalysis\n",
    "\n",
    "seedlist = np.loadtxt(\"seedlist.csv\", dtype='int', delimiter=',')"
   ]
  },
  {
   "cell_type": "code",
   "execution_count": 2,
   "metadata": {},
   "outputs": [],
   "source": [
    "hierarchy = [2,3,3]\n",
    "\n",
    "bootstraps = 100\n",
    "permutations = 100\n",
    "treatment_col = 0\n",
    "compare = \"corr\"\n",
    "\n",
    "loop_count = 729\n",
    "\n",
    "worker = partial(\n",
    "poweranalysis,\n",
    "compare=compare,\n",
    "loops=loop_count,\n",
    "treatment_col=treatment_col,\n",
    "bootstraps = bootstraps,\n",
    "permutations = permutations)"
   ]
  },
  {
   "cell_type": "code",
   "execution_count": 11,
   "metadata": {},
   "outputs": [
    {
     "name": "stdout",
     "output_type": "stream",
     "text": [
      "[3.         0.05408583 0.28052126]\n",
      "[6.         0.05330198 0.25034294]\n",
      "[9.         0.04644327 0.2260435 ]\n",
      "[12.          0.04889281  0.22545561]\n",
      "[15.          0.05114638  0.22574956]\n",
      "[18.          0.05036253  0.223398  ]\n",
      "[21.          0.05330198  0.22623947]\n",
      "CPU times: total: 46.9 ms\n",
      "Wall time: 15min 37s\n"
     ]
    }
   ],
   "source": [
    "%%time\n",
    "\n",
    "\n",
    "num_level_1s = [3, 6, 9, 12, 15, 18, 21]\n",
    "seed = tuple(idx + 336 for idx, v in enumerate(num_level_1s))\n",
    "final = np.empty((len(num_level_1s), 3))\n",
    "\n",
    "  \n",
    "\n",
    "if __name__ ==  '__main__': \n",
    "    num_processors = 14\n",
    "\n",
    "    paramlist = [[0, 0], [stats.norm], [stats.norm]]\n",
    "    paramlist = [paramlist] * num_processors\n",
    "    \n",
    "\n",
    "    with Pool(processes = num_processors) as p:\n",
    "\n",
    "        for idx, v in enumerate(num_level_1s):\n",
    "\n",
    "            hierarchy = [2, v, 3]\n",
    "            containers = [hierarchy] * num_processors\n",
    "\n",
    "            ss = np.random.SeedSequence(seedlist[seed[idx]])\n",
    "            child_seeds = ss.spawn(num_processors)\n",
    "            seeds = [np.random.default_rng(s) for s in child_seeds]\n",
    "\n",
    "            output = p.starmap(worker, zip(containers, paramlist, seeds))\n",
    "\n",
    "            final[idx, 0] = v    \n",
    "            final[idx, 1:] = (np.asarray(output) <= 0.05).sum(axis=2).sum(axis=0) / (loop_count*num_processors)\n",
    "            print(final[idx])\n",
    "    \n",
    "    \n",
    "    filename = \"norm_hierarch_vs_lmm.csv\"\n",
    "    np.savetxt(Path(\"figures\") / \"simulations\" / filename, final, delimiter=',') \n"
   ]
  },
  {
   "cell_type": "code",
   "execution_count": 3,
   "metadata": {},
   "outputs": [
    {
     "name": "stdout",
     "output_type": "stream",
     "text": [
      "[3.         0.05034294 0.27119342]\n",
      "[6.         0.05089163 0.24320988]\n",
      "[9.         0.04814815 0.22716049]\n",
      "[12.          0.04855967  0.22414266]\n",
      "[15.          0.04924554  0.22524005]\n",
      "[18.          0.04540466  0.21947874]\n",
      "[21.          0.05459534  0.22688615]\n",
      "CPU times: total: 109 ms\n",
      "Wall time: 14min 37s\n"
     ]
    }
   ],
   "source": [
    "%%time\n",
    "\n",
    "\n",
    "num_level_1s = [3, 6, 9, 12, 15, 18, 21]\n",
    "seed = tuple(idx + 346 for idx, v in enumerate(num_level_1s))\n",
    "final = np.empty((len(num_level_1s), 3))\n",
    "\n",
    "  \n",
    "\n",
    "if __name__ ==  '__main__': \n",
    "    num_processors = 10\n",
    "\n",
    "    paramlist = [[0, 0], [stats.lognorm, 1], [stats.lognorm, 1]]\n",
    "    paramlist = [paramlist] * num_processors\n",
    "    \n",
    "\n",
    "    with Pool(processes = num_processors) as p:\n",
    "\n",
    "        for idx, v in enumerate(num_level_1s):\n",
    "\n",
    "            hierarchy = [2, v, 3]\n",
    "            containers = [hierarchy] * num_processors\n",
    "\n",
    "            ss = np.random.SeedSequence(seedlist[seed[idx]])\n",
    "            child_seeds = ss.spawn(num_processors)\n",
    "            seeds = [np.random.default_rng(s) for s in child_seeds]\n",
    "\n",
    "            output = p.starmap(worker, zip(containers, paramlist, seeds))\n",
    "\n",
    "            final[idx, 0] = v    \n",
    "            final[idx, 1:] = (np.asarray(output) <= 0.05).sum(axis=2).sum(axis=0) / (loop_count*num_processors)\n",
    "            print(final[idx])\n",
    "\n",
    "    filename = \"lognorm_hierarch_vs_lmm.csv\"\n",
    "    np.savetxt(Path(\"figures\") / \"simulations\" / filename, final, delimiter=',') \n"
   ]
  },
  {
   "cell_type": "code",
   "execution_count": 4,
   "metadata": {},
   "outputs": [
    {
     "name": "stdout",
     "output_type": "stream",
     "text": [
      "[3.         0.04771703 0.27140898]\n",
      "[6.         0.05036253 0.23809524]\n",
      "[9.         0.04957868 0.23476386]\n",
      "[12.          0.05153831  0.22525965]\n",
      "[15.          0.05379189  0.22947286]\n",
      "[18.          0.04722712  0.22378993]\n",
      "[21.          0.05036253  0.22114442]\n",
      "CPU times: total: 141 ms\n",
      "Wall time: 16min 58s\n"
     ]
    }
   ],
   "source": [
    "%%time\n",
    "\n",
    "\n",
    "num_level_1s = [3, 6, 9, 12, 15, 18, 21]\n",
    "seed = tuple(idx + 356 for idx, v in enumerate(num_level_1s))\n",
    "final = np.empty((len(num_level_1s), 3))\n",
    "\n",
    "  \n",
    "\n",
    "if __name__ ==  '__main__': \n",
    "    num_processors = 14\n",
    "\n",
    "    paramlist = [[0, 0], [stats.pareto, 2.839], [stats.pareto, 2.839]]\n",
    "    paramlist = [paramlist] * num_processors\n",
    "    \n",
    "\n",
    "    with Pool(processes = num_processors) as p:\n",
    "\n",
    "        for idx, v in enumerate(num_level_1s):\n",
    "\n",
    "            hierarchy = [2, v, 3]\n",
    "            containers = [hierarchy] * num_processors\n",
    "\n",
    "            ss = np.random.SeedSequence(seedlist[seed[idx]])\n",
    "            child_seeds = ss.spawn(num_processors)\n",
    "            seeds = [np.random.default_rng(s) for s in child_seeds]\n",
    "\n",
    "            output = p.starmap(worker, zip(containers, paramlist, seeds))\n",
    "\n",
    "            final[idx, 0] = v    \n",
    "            final[idx, 1:] = (np.asarray(output) <= 0.05).sum(axis=2).sum(axis=0) / (loop_count*num_processors)\n",
    "            print(final[idx])\n",
    "\n",
    "    filename = \"pareto_hierarch_vs_lmm.csv\"\n",
    "    np.savetxt(Path(\"figures\") / \"simulations\" / filename, final, delimiter=',') "
   ]
  },
  {
   "cell_type": "code",
   "execution_count": 5,
   "metadata": {},
   "outputs": [
    {
     "name": "stdout",
     "output_type": "stream",
     "text": [
      "[3.         0.0494807  0.27219283]\n",
      "[6.         0.04869684 0.23780129]\n",
      "[9.         0.05006859 0.22957084]\n",
      "[12.          0.04908877  0.22908093]\n",
      "[15.          0.05281207  0.22378993]\n",
      "[18.          0.04918675  0.22124241]\n",
      "[21.          0.05281207  0.22349598]\n",
      "CPU times: total: 109 ms\n",
      "Wall time: 15min 39s\n"
     ]
    }
   ],
   "source": [
    "%%time\n",
    "\n",
    "\n",
    "num_level_1s = [3, 6, 9, 12, 15, 18, 21]\n",
    "seed = tuple(idx + 366 for idx, v in enumerate(num_level_1s))\n",
    "final = np.empty((len(num_level_1s), 3))\n",
    "\n",
    "  \n",
    "\n",
    "if __name__ ==  '__main__': \n",
    "    num_processors = 14\n",
    "\n",
    "    paramlist = [[0, 0], [stats.gamma, 2], [stats.gamma, 2]]\n",
    "    paramlist = [paramlist] * num_processors\n",
    "    \n",
    "\n",
    "    with Pool(processes = num_processors) as p:\n",
    "\n",
    "        for idx, v in enumerate(num_level_1s):\n",
    "\n",
    "            hierarchy = [2, v, 3]\n",
    "            containers = [hierarchy] * num_processors\n",
    "\n",
    "            ss = np.random.SeedSequence(seedlist[seed[idx]])\n",
    "            child_seeds = ss.spawn(num_processors)\n",
    "            seeds = [np.random.default_rng(s) for s in child_seeds]\n",
    "\n",
    "            output = p.starmap(worker, zip(containers, paramlist, seeds))\n",
    "\n",
    "            final[idx, 0] = v    \n",
    "            final[idx, 1:] = (np.asarray(output) <= 0.05).sum(axis=2).sum(axis=0) / (loop_count*num_processors)\n",
    "            print(final[idx])\n",
    "\n",
    "    filename = \"gamma_hierarch_vs_lmm.csv\"\n",
    "    np.savetxt(Path(\"figures\") / \"simulations\" / filename, final, delimiter=',') \n"
   ]
  },
  {
   "cell_type": "code",
   "execution_count": null,
   "metadata": {},
   "outputs": [],
   "source": []
  }
 ],
 "metadata": {
  "interpreter": {
   "hash": "a71b82c53bcde5eca1133f7c28d771569019f2d31067b169ad1772c2da860ab6"
  },
  "kernelspec": {
   "display_name": "Python 3.9.10 ('hierarch-paper')",
   "language": "python",
   "name": "python3"
  },
  "language_info": {
   "codemirror_mode": {
    "name": "ipython",
    "version": 3
   },
   "file_extension": ".py",
   "mimetype": "text/x-python",
   "name": "python",
   "nbconvert_exporter": "python",
   "pygments_lexer": "ipython3",
   "version": "3.9.10"
  },
  "orig_nbformat": 4
 },
 "nbformat": 4,
 "nbformat_minor": 2
}
