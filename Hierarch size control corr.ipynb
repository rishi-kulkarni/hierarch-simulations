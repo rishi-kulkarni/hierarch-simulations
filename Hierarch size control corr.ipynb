{
 "cells": [
  {
   "cell_type": "code",
   "execution_count": 1,
   "metadata": {},
   "outputs": [],
   "source": [
    "import pandas as pd\r\n",
    "import numpy as np\r\n",
    "import numba as nb\r\n",
    "import scipy.stats as stats\r\n",
    "import hierarch as ha\r\n",
    "from multiprocessing import Pool\r\n",
    "from functools import partial\r\n",
    "import os\r\n",
    "from poweranalysis import poweranalysis\r\n",
    "\r\n",
    "seedlist = np.loadtxt(\"seedlist.csv\", dtype='int', delimiter=',')"
   ]
  },
  {
   "cell_type": "code",
   "execution_count": 2,
   "metadata": {},
   "outputs": [],
   "source": [
    "folder = os.path.abspath('size control corr many')"
   ]
  },
  {
   "cell_type": "code",
   "execution_count": 3,
   "metadata": {},
   "outputs": [],
   "source": [
    "hierarchy = [3,3,3]\r\n",
    "\r\n",
    "bootstraps = 50\r\n",
    "permutations = 1000\r\n",
    "treatment_col = 0\r\n",
    "compare = \"corr\"\r\n",
    "\r\n",
    "loop_count = 729\r\n",
    "\r\n",
    "worker = partial(\r\n",
    "poweranalysis,\r\n",
    "compare=compare,\r\n",
    "loops=loop_count,\r\n",
    "treatment_col=treatment_col,\r\n",
    "bootstraps = bootstraps,\r\n",
    "permutations = permutations)"
   ]
  },
  {
   "cell_type": "code",
   "execution_count": 4,
   "metadata": {},
   "outputs": [],
   "source": [
    "distributions = \"lognorm_lognorm_\""
   ]
  },
  {
   "cell_type": "code",
   "execution_count": 5,
   "metadata": {},
   "outputs": [
    {
     "name": "stdout",
     "output_type": "stream",
     "text": [
      "[0.01       0.05300803 0.04076034]\n",
      "[0.1        0.05349794 0.03978052]\n",
      "[0.31622777 0.05095042 0.04428767]\n",
      "[1.         0.04761905 0.03948658]\n",
      "[3.16227766 0.04683519 0.03537135]\n",
      "[10.          0.04673721  0.03213796]\n",
      "[1.00000000e+02 4.92847345e-02 3.67430923e-02]\n",
      "Wall time: 7min 36s\n"
     ]
    }
   ],
   "source": [
    "%%time\r\n",
    "\r\n",
    "\r\n",
    "interclass_corr = [-2, -1, -0.5, 0, 0.5, 1, 2]\r\n",
    "seed = tuple(i for i in range(336, 343))\r\n",
    "final = np.empty((len(interclass_corr), 3))\r\n",
    "\r\n",
    "  \r\n",
    "\r\n",
    "if __name__ ==  '__main__': \r\n",
    "    num_processors = 14\r\n",
    "\r\n",
    "    containers = [hierarchy] * num_processors\r\n",
    "\r\n",
    "    p=Pool(processes = num_processors)\r\n",
    "\r\n",
    "    for idx, v in enumerate(interclass_corr):\r\n",
    "\r\n",
    "        paramlist = [[0]*hierarchy[0], [stats.lognorm, 1, 0, 10**v], [stats.lognorm, 1]]\r\n",
    "        paramlist = [paramlist] * num_processors\r\n",
    "\r\n",
    "        ss = np.random.SeedSequence(seedlist[seed[idx]])\r\n",
    "        child_seeds = ss.spawn(num_processors)\r\n",
    "        seeds = [np.random.default_rng(s) for s in child_seeds]\r\n",
    "\r\n",
    "        output = p.starmap(worker, zip(containers, paramlist, seeds))\r\n",
    "\r\n",
    "        final[idx, 0] = 10**v    \r\n",
    "        final[idx, 1:] = (np.asarray(output) <= 0.05).sum(axis=2).sum(axis=0) / (loop_count*num_processors)\r\n",
    "        print(final[idx])\r\n",
    "\r\n",
    "    containerstr = str(hierarchy).translate({ord(','):ord('_'), ord('['):None, ord(']'):None, ord(' '):None})\r\n",
    "    filename = containerstr + \"data_\" + distributions + \".csv\"\r\n",
    "    np.savetxt(os.path.join(folder, filename), final, delimiter=',') \r\n",
    "\r\n",
    "    p.close()\r\n",
    "\r\n"
   ]
  },
  {
   "cell_type": "code",
   "execution_count": 6,
   "metadata": {},
   "outputs": [],
   "source": [
    "distributions = \"norm_norm_\""
   ]
  },
  {
   "cell_type": "code",
   "execution_count": 7,
   "metadata": {},
   "outputs": [
    {
     "name": "stdout",
     "output_type": "stream",
     "text": [
      "[0.01       0.05300803 0.0510484 ]\n",
      "[0.1        0.05006859 0.05075446]\n",
      "[0.31622777 0.05016657 0.04977464]\n",
      "[1.         0.0494807  0.04791299]\n",
      "[3.16227766 0.05036253 0.05193024]\n",
      "[10.          0.05134235  0.05046051]\n",
      "[1.00000000e+02 4.88928082e-02 4.81089555e-02]\n",
      "Wall time: 7min 22s\n"
     ]
    }
   ],
   "source": [
    "%%time\r\n",
    "\r\n",
    "interclass_corr = [-2, -1, -0.5, 0, 0.5, 1, 2]\r\n",
    "seed = tuple(i for i in range(343, 350))\r\n",
    "final = np.empty((len(interclass_corr), 3))\r\n",
    "\r\n",
    "  \r\n",
    "\r\n",
    "if __name__ ==  '__main__': \r\n",
    "    num_processors = 14\r\n",
    "\r\n",
    "    containers = [hierarchy] * num_processors\r\n",
    "\r\n",
    "    p=Pool(processes = num_processors)\r\n",
    "\r\n",
    "    for idx, v in enumerate(interclass_corr):\r\n",
    "\r\n",
    "        paramlist = [[0]*hierarchy[0], [stats.norm, 0, 10**v], [stats.norm, 0, 1]]\r\n",
    "        paramlist = [paramlist] * num_processors\r\n",
    "\r\n",
    "        ss = np.random.SeedSequence(seedlist[seed[idx]])\r\n",
    "        child_seeds = ss.spawn(num_processors)\r\n",
    "        seeds = [np.random.default_rng(s) for s in child_seeds]\r\n",
    "\r\n",
    "        output = p.starmap(worker, zip(containers, paramlist, seeds))\r\n",
    "\r\n",
    "        final[idx, 0] = 10**v     \r\n",
    "        final[idx, 1:] = (np.asarray(output) <= 0.05).sum(axis=2).sum(axis=0) / (loop_count*num_processors)\r\n",
    "        print(final[idx])\r\n",
    "\r\n",
    "    containerstr = str(hierarchy).translate({ord(','):ord('_'), ord('['):None, ord(']'):None, ord(' '):None})\r\n",
    "    filename = containerstr + \"data_\" + distributions + \".csv\"\r\n",
    "    np.savetxt(os.path.join(folder, filename), final, delimiter=',') \r\n",
    "\r\n",
    "    p.close()\r\n"
   ]
  },
  {
   "cell_type": "code",
   "execution_count": 8,
   "metadata": {},
   "outputs": [
    {
     "name": "stdout",
     "output_type": "stream",
     "text": [
      "[[1.00000000e-02 5.30080345e-02 5.10484029e-02]\n",
      " [1.00000000e-01 5.00685871e-02 5.07544582e-02]\n",
      " [3.16227766e-01 5.01665687e-02 4.97746424e-02]\n",
      " [1.00000000e+00 4.94806976e-02 4.79129924e-02]\n",
      " [3.16227766e+00 5.03625318e-02 5.19302371e-02]\n",
      " [1.00000000e+01 5.13423476e-02 5.04605134e-02]\n",
      " [1.00000000e+02 4.88928082e-02 4.81089555e-02]]\n"
     ]
    }
   ],
   "source": [
    "print(final)\r\n"
   ]
  },
  {
   "cell_type": "code",
   "execution_count": 9,
   "metadata": {},
   "outputs": [],
   "source": [
    "distributions = \"pareto_pareto_\""
   ]
  },
  {
   "cell_type": "code",
   "execution_count": 10,
   "metadata": {},
   "outputs": [
    {
     "name": "stdout",
     "output_type": "stream",
     "text": [
      "[0.01       0.05251813 0.04036841]\n",
      "[0.1        0.05281207 0.04291593]\n",
      "[0.31622777 0.05046051 0.04056437]\n",
      "[1.         0.04997061 0.04134823]\n",
      "[3.16227766 0.04497354 0.03586126]\n",
      "[10.          0.05516363  0.0398785 ]\n",
      "[1.00000000e+02 5.17342740e-02 3.45874976e-02]\n",
      "Wall time: 7min 31s\n"
     ]
    }
   ],
   "source": [
    "%%time\r\n",
    "\r\n",
    "loop_count = 729\r\n",
    "\r\n",
    "\r\n",
    "interclass_corr = [-2, -1, -0.5, 0, 0.5, 1, 2]\r\n",
    "seed = tuple(i for i in range(350, 357))\r\n",
    "final = np.empty((len(interclass_corr), 3))\r\n",
    "\r\n",
    "  \r\n",
    "\r\n",
    "if __name__ ==  '__main__': \r\n",
    "    num_processors = 14\r\n",
    "\r\n",
    "    containers = [hierarchy] * num_processors\r\n",
    "\r\n",
    "    p=Pool(processes = num_processors)\r\n",
    "\r\n",
    "    for idx, v in enumerate(interclass_corr):\r\n",
    "\r\n",
    "        paramlist = [[0]*hierarchy[0], [stats.pareto, 2.839, 0, 10**v], [stats.pareto, 2.839]]\r\n",
    "        paramlist = [paramlist] * num_processors\r\n",
    "\r\n",
    "        ss = np.random.SeedSequence(seedlist[seed[idx]])\r\n",
    "        child_seeds = ss.spawn(num_processors)\r\n",
    "        seeds = [np.random.default_rng(s) for s in child_seeds]\r\n",
    "\r\n",
    "        output = p.starmap(worker, zip(containers, paramlist, seeds))\r\n",
    "\r\n",
    "        final[idx, 0] = 10**v     \r\n",
    "        final[idx, 1:] = (np.asarray(output) <= 0.05).sum(axis=2).sum(axis=0) / (loop_count*num_processors)\r\n",
    "        print(final[idx])\r\n",
    "\r\n",
    "    containerstr = str(hierarchy).translate({ord(','):ord('_'), ord('['):None, ord(']'):None, ord(' '):None})\r\n",
    "    filename = containerstr + \"data_\" + distributions + \".csv\"\r\n",
    "    np.savetxt(os.path.join(folder, filename), final, delimiter=',') \r\n",
    "\r\n",
    "    p.close()\r\n"
   ]
  },
  {
   "cell_type": "code",
   "execution_count": 11,
   "metadata": {},
   "outputs": [
    {
     "name": "stdout",
     "output_type": "stream",
     "text": [
      "[[1.00000000e-02 5.25181266e-02 4.03684107e-02]\n",
      " [1.00000000e-01 5.28120713e-02 4.29159318e-02]\n",
      " [3.16227766e-01 5.04605134e-02 4.05643739e-02]\n",
      " [1.00000000e+00 4.99706055e-02 4.13482265e-02]\n",
      " [3.16227766e+00 4.49735450e-02 3.58612581e-02]\n",
      " [1.00000000e+01 5.51636292e-02 3.98785028e-02]\n",
      " [1.00000000e+02 5.17342740e-02 3.45874976e-02]]\n"
     ]
    }
   ],
   "source": [
    "print(final)\r\n"
   ]
  },
  {
   "cell_type": "code",
   "execution_count": 12,
   "metadata": {},
   "outputs": [],
   "source": [
    "distributions = \"gamma_gamma_\""
   ]
  },
  {
   "cell_type": "code",
   "execution_count": 13,
   "metadata": {},
   "outputs": [
    {
     "name": "stdout",
     "output_type": "stream",
     "text": [
      "[0.01       0.05242015 0.04889281]\n",
      "[0.1        0.05271409 0.04830492]\n",
      "[0.31622777 0.05193024 0.05124437]\n",
      "[1.         0.05046051 0.04683519]\n",
      "[3.16227766 0.05271409 0.04781501]\n",
      "[10.          0.04722712  0.04389575]\n",
      "[1.00000000e+02 4.71291397e-02 4.42876739e-02]\n",
      "Wall time: 7min 38s\n"
     ]
    }
   ],
   "source": [
    "%%time\r\n",
    "\r\n",
    "loop_count = 729\r\n",
    "\r\n",
    "\r\n",
    "interclass_corr = [-2, -1, -0.5, 0, 0.5, 1, 2]\r\n",
    "seed = tuple(i for i in range(357, 364))\r\n",
    "final = np.empty((len(interclass_corr), 3))\r\n",
    "\r\n",
    "  \r\n",
    "\r\n",
    "if __name__ ==  '__main__': \r\n",
    "    num_processors = 14\r\n",
    "\r\n",
    "    containers = [hierarchy] * num_processors\r\n",
    "\r\n",
    "    p=Pool(processes = num_processors)\r\n",
    "\r\n",
    "    for idx, v in enumerate(interclass_corr):\r\n",
    "\r\n",
    "        paramlist = [[0]*hierarchy[0], [stats.gamma, 2, 0, 10**v], [stats.gamma, 2]]\r\n",
    "        paramlist = [paramlist] * num_processors\r\n",
    "\r\n",
    "        ss = np.random.SeedSequence(seedlist[seed[idx]])\r\n",
    "        child_seeds = ss.spawn(num_processors)\r\n",
    "        seeds = [np.random.default_rng(s) for s in child_seeds]\r\n",
    "\r\n",
    "        output = p.starmap(worker, zip(containers, paramlist, seeds))\r\n",
    "\r\n",
    "        final[idx, 0] = 10**v     \r\n",
    "        final[idx, 1:] = (np.asarray(output) <= 0.05).sum(axis=2).sum(axis=0) / (loop_count*num_processors)\r\n",
    "        print(final[idx])\r\n",
    "\r\n",
    "    containerstr = str(hierarchy).translate({ord(','):ord('_'), ord('['):None, ord(']'):None, ord(' '):None})\r\n",
    "    filename = containerstr + \"data_\" + distributions + \".csv\"\r\n",
    "    np.savetxt(os.path.join(folder, filename), final, delimiter=',') \r\n",
    "\r\n",
    "    p.close()\r\n"
   ]
  },
  {
   "cell_type": "code",
   "execution_count": 14,
   "metadata": {},
   "outputs": [
    {
     "name": "stdout",
     "output_type": "stream",
     "text": [
      "[[1.00000000e-02 5.24201450e-02 4.88928082e-02]\n",
      " [1.00000000e-01 5.27140898e-02 4.83049187e-02]\n",
      " [3.16227766e-01 5.19302371e-02 5.12443661e-02]\n",
      " [1.00000000e+00 5.04605134e-02 4.68351950e-02]\n",
      " [3.16227766e+00 5.27140898e-02 4.78150108e-02]\n",
      " [1.00000000e+01 4.72271213e-02 4.38957476e-02]\n",
      " [1.00000000e+02 4.71291397e-02 4.42876739e-02]]\n"
     ]
    }
   ],
   "source": [
    "print(final)\r\n"
   ]
  },
  {
   "cell_type": "code",
   "execution_count": 15,
   "metadata": {},
   "outputs": [],
   "source": [
    "hierarchy = [4, 3, 3]\r\n",
    "\r\n",
    "bootstraps = 50\r\n",
    "permutations = 1000\r\n",
    "treatment_col = 0\r\n",
    "compare = \"corr\"\r\n",
    "\r\n",
    "loop_count = 729\r\n",
    "\r\n",
    "worker = partial(\r\n",
    "poweranalysis,\r\n",
    "compare=compare,\r\n",
    "loops=loop_count,\r\n",
    "treatment_col=treatment_col,\r\n",
    "bootstraps = bootstraps,\r\n",
    "permutations = permutations)"
   ]
  },
  {
   "cell_type": "code",
   "execution_count": 16,
   "metadata": {},
   "outputs": [],
   "source": [
    "distributions = \"lognorm_lognorm_\""
   ]
  },
  {
   "cell_type": "code",
   "execution_count": 17,
   "metadata": {},
   "outputs": [
    {
     "name": "stdout",
     "output_type": "stream",
     "text": [
      "[0.01       0.05594748 0.04565942]\n",
      "[0.1        0.05575152 0.04585538]\n",
      "[0.31622777 0.053204   0.04330786]\n",
      "[1.         0.05163629 0.04242602]\n",
      "[3.16227766 0.04605134 0.04027043]\n",
      "[10.          0.05300803  0.04017245]\n",
      "[1.00000000e+02 4.85008818e-02 3.65471291e-02]\n",
      "Wall time: 7min 53s\n"
     ]
    }
   ],
   "source": [
    "%%time\r\n",
    "\r\n",
    "loop_count = 729\r\n",
    "\r\n",
    "\r\n",
    "interclass_corr = [-2, -1, -0.5, 0, 0.5, 1, 2]\r\n",
    "seed = tuple(i for i in range(364, 371))\r\n",
    "final = np.empty((len(interclass_corr), 3))\r\n",
    "\r\n",
    "  \r\n",
    "\r\n",
    "if __name__ ==  '__main__': \r\n",
    "    num_processors = 14\r\n",
    "\r\n",
    "    containers = [hierarchy] * num_processors\r\n",
    "\r\n",
    "    p=Pool(processes = num_processors)\r\n",
    "\r\n",
    "    for idx, v in enumerate(interclass_corr):\r\n",
    "\r\n",
    "        paramlist = [[0]*hierarchy[0], [stats.lognorm, 1, 0, 10**v], [stats.lognorm, 1]]\r\n",
    "        paramlist = [paramlist] * num_processors\r\n",
    "\r\n",
    "        ss = np.random.SeedSequence(seedlist[seed[idx]])\r\n",
    "        child_seeds = ss.spawn(num_processors)\r\n",
    "        seeds = [np.random.default_rng(s) for s in child_seeds]\r\n",
    "\r\n",
    "        output = p.starmap(worker, zip(containers, paramlist, seeds))\r\n",
    "\r\n",
    "        final[idx, 0] = 10**v     \r\n",
    "        final[idx, 1:] = (np.asarray(output) <= 0.05).sum(axis=2).sum(axis=0) / (loop_count*num_processors)\r\n",
    "        print(final[idx])\r\n",
    "\r\n",
    "    containerstr = str(hierarchy).translate({ord(','):ord('_'), ord('['):None, ord(']'):None, ord(' '):None})\r\n",
    "    filename = containerstr + \"data_\" + distributions + \".csv\"\r\n",
    "    np.savetxt(os.path.join(folder, filename), final, delimiter=',') \r\n",
    "\r\n",
    "    p.close()\r\n"
   ]
  },
  {
   "cell_type": "code",
   "execution_count": 18,
   "metadata": {},
   "outputs": [
    {
     "name": "stdout",
     "output_type": "stream",
     "text": [
      "[[1.00000000e-02 5.59474819e-02 4.56594160e-02]\n",
      " [1.00000000e-01 5.57515187e-02 4.58553792e-02]\n",
      " [3.16227766e-01 5.32039976e-02 4.33078581e-02]\n",
      " [1.00000000e+00 5.16362924e-02 4.24260239e-02]\n",
      " [3.16227766e+00 4.60513423e-02 4.02704292e-02]\n",
      " [1.00000000e+01 5.30080345e-02 4.01724476e-02]\n",
      " [1.00000000e+02 4.85008818e-02 3.65471291e-02]]\n"
     ]
    }
   ],
   "source": [
    "print(final)\r\n"
   ]
  },
  {
   "cell_type": "code",
   "execution_count": 19,
   "metadata": {},
   "outputs": [],
   "source": [
    "distributions = \"norm_norm_\""
   ]
  },
  {
   "cell_type": "code",
   "execution_count": 20,
   "metadata": {},
   "outputs": [
    {
     "name": "stdout",
     "output_type": "stream",
     "text": [
      "[0.01       0.04899079 0.0521262 ]\n",
      "[0.1        0.04859886 0.04585538]\n",
      "[0.31622777 0.04997061 0.04928473]\n",
      "[1.         0.04879483 0.04987262]\n",
      "[3.16227766 0.0510484  0.04899079]\n",
      "[10.          0.04967666  0.05036253]\n",
      "[1.00000000e+02 4.96766608e-02 4.84029003e-02]\n",
      "Wall time: 7min 49s\n"
     ]
    }
   ],
   "source": [
    "%%time\r\n",
    "\r\n",
    "loop_count = 729\r\n",
    "\r\n",
    "\r\n",
    "interclass_corr = [-2, -1, -0.5, 0, 0.5, 1, 2]\r\n",
    "seed = tuple(i for i in range(371, 378))\r\n",
    "final = np.empty((len(interclass_corr), 3))\r\n",
    "\r\n",
    "  \r\n",
    "\r\n",
    "if __name__ ==  '__main__': \r\n",
    "    num_processors = 14\r\n",
    "\r\n",
    "    containers = [hierarchy] * num_processors\r\n",
    "\r\n",
    "    p=Pool(processes = num_processors)\r\n",
    "\r\n",
    "    for idx, v in enumerate(interclass_corr):\r\n",
    "\r\n",
    "        paramlist = [[0]*hierarchy[0], [stats.norm, 0, 10**v], [stats.norm, 0, 1]]\r\n",
    "        paramlist = [paramlist] * num_processors\r\n",
    "\r\n",
    "        ss = np.random.SeedSequence(seedlist[seed[idx]])\r\n",
    "        child_seeds = ss.spawn(num_processors)\r\n",
    "        seeds = [np.random.default_rng(s) for s in child_seeds]\r\n",
    "\r\n",
    "        output = p.starmap(worker, zip(containers, paramlist, seeds))\r\n",
    "\r\n",
    "        final[idx, 0] = 10**v     \r\n",
    "        final[idx, 1:] = (np.asarray(output) <= 0.05).sum(axis=2).sum(axis=0) / (loop_count*num_processors)\r\n",
    "        print(final[idx])\r\n",
    "\r\n",
    "    containerstr = str(hierarchy).translate({ord(','):ord('_'), ord('['):None, ord(']'):None, ord(' '):None})\r\n",
    "    filename = containerstr + \"data_\" + distributions + \".csv\"\r\n",
    "    np.savetxt(os.path.join(folder, filename), final, delimiter=',') \r\n",
    "\r\n",
    "    p.close()\r\n"
   ]
  },
  {
   "cell_type": "code",
   "execution_count": 21,
   "metadata": {},
   "outputs": [
    {
     "name": "stdout",
     "output_type": "stream",
     "text": [
      "[[1.00000000e-02 4.89907897e-02 5.21262003e-02]\n",
      " [1.00000000e-01 4.85988634e-02 4.58553792e-02]\n",
      " [3.16227766e-01 4.99706055e-02 4.92847345e-02]\n",
      " [1.00000000e+00 4.87948266e-02 4.98726239e-02]\n",
      " [3.16227766e+00 5.10484029e-02 4.89907897e-02]\n",
      " [1.00000000e+01 4.96766608e-02 5.03625318e-02]\n",
      " [1.00000000e+02 4.96766608e-02 4.84029003e-02]]\n"
     ]
    }
   ],
   "source": [
    "print(final)\r\n"
   ]
  },
  {
   "cell_type": "code",
   "execution_count": 22,
   "metadata": {},
   "outputs": [],
   "source": [
    "distributions = \"pareto_pareto_\""
   ]
  },
  {
   "cell_type": "code",
   "execution_count": 23,
   "metadata": {},
   "outputs": [
    {
     "name": "stdout",
     "output_type": "stream",
     "text": [
      "[0.01       0.0473251  0.04213208]\n",
      "[0.1        0.05026455 0.04144621]\n",
      "[0.31622777 0.05085244 0.0436018 ]\n",
      "[1.         0.0505585  0.04056437]\n",
      "[3.16227766 0.04634529 0.03654713]\n",
      "[10.          0.04859886  0.03997648]\n",
      "[1.00000000e+02 4.65412502e-02 3.47834607e-02]\n",
      "Wall time: 7min 32s\n"
     ]
    }
   ],
   "source": [
    "%%time\r\n",
    "\r\n",
    "loop_count = 729\r\n",
    "\r\n",
    "\r\n",
    "interclass_corr = [-2, -1, -0.5, 0, 0.5, 1, 2]\r\n",
    "seed = tuple(i for i in range(378, 385))\r\n",
    "final = np.empty((len(interclass_corr), 3))\r\n",
    "\r\n",
    "  \r\n",
    "\r\n",
    "if __name__ ==  '__main__': \r\n",
    "    num_processors = 14\r\n",
    "\r\n",
    "    containers = [hierarchy] * num_processors\r\n",
    "\r\n",
    "    p=Pool(processes = num_processors)\r\n",
    "\r\n",
    "    for idx, v in enumerate(interclass_corr):\r\n",
    "\r\n",
    "        paramlist = [[0]*hierarchy[0], [stats.pareto, 2.839, 0, 10**v], [stats.pareto, 2.839]]\r\n",
    "        paramlist = [paramlist] * num_processors\r\n",
    "\r\n",
    "        ss = np.random.SeedSequence(seedlist[seed[idx]])\r\n",
    "        child_seeds = ss.spawn(num_processors)\r\n",
    "        seeds = [np.random.default_rng(s) for s in child_seeds]\r\n",
    "\r\n",
    "        output = p.starmap(worker, zip(containers, paramlist, seeds))\r\n",
    "\r\n",
    "        final[idx, 0] = 10**v     \r\n",
    "        final[idx, 1:] = (np.asarray(output) <= 0.05).sum(axis=2).sum(axis=0) / (loop_count*num_processors)\r\n",
    "        print(final[idx])\r\n",
    "\r\n",
    "    containerstr = str(hierarchy).translate({ord(','):ord('_'), ord('['):None, ord(']'):None, ord(' '):None})\r\n",
    "    filename = containerstr + \"data_\" + distributions + \".csv\"\r\n",
    "    np.savetxt(os.path.join(folder, filename), final, delimiter=',') \r\n",
    "\r\n",
    "    p.close()\r\n"
   ]
  },
  {
   "cell_type": "code",
   "execution_count": 24,
   "metadata": {},
   "outputs": [
    {
     "name": "stdout",
     "output_type": "stream",
     "text": [
      "[[1.00000000e-02 4.73251029e-02 4.21320792e-02]\n",
      " [1.00000000e-01 5.02645503e-02 4.14462081e-02]\n",
      " [3.16227766e-01 5.08524397e-02 4.36018029e-02]\n",
      " [1.00000000e+00 5.05584950e-02 4.05643739e-02]\n",
      " [3.16227766e+00 4.63452871e-02 3.65471291e-02]\n",
      " [1.00000000e+01 4.85988634e-02 3.99764844e-02]\n",
      " [1.00000000e+02 4.65412502e-02 3.47834607e-02]]\n"
     ]
    }
   ],
   "source": [
    "print(final)"
   ]
  },
  {
   "cell_type": "code",
   "execution_count": 25,
   "metadata": {},
   "outputs": [],
   "source": [
    "distributions = \"gamma_gamma_\""
   ]
  },
  {
   "cell_type": "code",
   "execution_count": 26,
   "metadata": {},
   "outputs": [
    {
     "name": "stdout",
     "output_type": "stream",
     "text": [
      "[0.01       0.04859886 0.0457574 ]\n",
      "[0.1        0.05006859 0.04820694]\n",
      "[0.31622777 0.05193024 0.04899079]\n",
      "[1.         0.05075446 0.05026455]\n",
      "[3.16227766 0.04771703 0.04556143]\n",
      "[10.          0.05085244  0.04673721]\n",
      "[1.00000000e+02 4.84029003e-02 4.64432687e-02]\n",
      "Wall time: 8min 25s\n"
     ]
    }
   ],
   "source": [
    "%%time\r\n",
    "\r\n",
    "loop_count = 729\r\n",
    "\r\n",
    "\r\n",
    "interclass_corr = [-2, -1, -0.5, 0, 0.5, 1, 2]\r\n",
    "seed = tuple(i for i in range(385, 392))\r\n",
    "final = np.empty((len(interclass_corr), 3))\r\n",
    "\r\n",
    "  \r\n",
    "\r\n",
    "if __name__ ==  '__main__': \r\n",
    "    num_processors = 14\r\n",
    "\r\n",
    "    containers = [hierarchy] * num_processors\r\n",
    "\r\n",
    "    p=Pool(processes = num_processors)\r\n",
    "\r\n",
    "    for idx, v in enumerate(interclass_corr):\r\n",
    "\r\n",
    "\r\n",
    "        paramlist = [[0]*hierarchy[0], [stats.gamma, 2, 0, 10**v], [stats.gamma, 2]]\r\n",
    "        paramlist = [paramlist] * num_processors\r\n",
    "\r\n",
    "        ss = np.random.SeedSequence(seedlist[seed[idx]])\r\n",
    "        child_seeds = ss.spawn(num_processors)\r\n",
    "        seeds = [np.random.default_rng(s) for s in child_seeds]\r\n",
    "\r\n",
    "        output = p.starmap(worker, zip(containers, paramlist, seeds))\r\n",
    "\r\n",
    "        final[idx, 0] = 10**v     \r\n",
    "        final[idx, 1:] = (np.asarray(output) <= 0.05).sum(axis=2).sum(axis=0) / (loop_count*num_processors)\r\n",
    "        print(final[idx])\r\n",
    "\r\n",
    "    containerstr = str(hierarchy).translate({ord(','):ord('_'), ord('['):None, ord(']'):None, ord(' '):None})\r\n",
    "    filename = containerstr + \"data_\" + distributions + \".csv\"\r\n",
    "    np.savetxt(os.path.join(folder, filename), final, delimiter=',') \r\n",
    "\r\n",
    "    p.close()\r\n"
   ]
  },
  {
   "cell_type": "code",
   "execution_count": 27,
   "metadata": {},
   "outputs": [
    {
     "name": "stdout",
     "output_type": "stream",
     "text": [
      "[[1.00000000e-02 4.85988634e-02 4.57573976e-02]\n",
      " [1.00000000e-01 5.00685871e-02 4.82069371e-02]\n",
      " [3.16227766e-01 5.19302371e-02 4.89907897e-02]\n",
      " [1.00000000e+00 5.07544582e-02 5.02645503e-02]\n",
      " [3.16227766e+00 4.77170292e-02 4.55614345e-02]\n",
      " [1.00000000e+01 5.08524397e-02 4.67372134e-02]\n",
      " [1.00000000e+02 4.84029003e-02 4.64432687e-02]]\n"
     ]
    }
   ],
   "source": [
    "print(final)"
   ]
  },
  {
   "cell_type": "code",
   "execution_count": 28,
   "metadata": {},
   "outputs": [],
   "source": [
    "hierarchy = [3, 4, 3, 3]\r\n",
    "\r\n",
    "bootstraps = 100\r\n",
    "permutations = 1000\r\n",
    "treatment_col = 1\r\n",
    "compare = \"corr\"\r\n",
    "\r\n",
    "loop_count = 729\r\n",
    "\r\n",
    "worker = partial(\r\n",
    "poweranalysis,\r\n",
    "compare=compare,\r\n",
    "loops=loop_count,\r\n",
    "treatment_col=treatment_col,\r\n",
    "bootstraps = bootstraps,\r\n",
    "permutations = permutations)"
   ]
  },
  {
   "cell_type": "code",
   "execution_count": 29,
   "metadata": {},
   "outputs": [],
   "source": [
    "distributions = \"lognorm_lognorm_\""
   ]
  },
  {
   "cell_type": "code",
   "execution_count": 30,
   "metadata": {},
   "outputs": [
    {
     "name": "stdout",
     "output_type": "stream",
     "text": [
      "[0.01       0.05418381 0.04605134]\n",
      "[0.1        0.05242015 0.04477758]\n",
      "[0.31622777 0.04869684 0.03635117]\n",
      "[1.         0.0484029  0.03047227]\n",
      "[3.16227766 0.04536547 0.02429943]\n",
      "[10.          0.05144033  0.02351558]\n",
      "[1.00000000e+02 5.19302371e-02 2.42994317e-02]\n",
      "Wall time: 18min 39s\n"
     ]
    }
   ],
   "source": [
    "%%time\r\n",
    "\r\n",
    "loop_count = 729\r\n",
    "\r\n",
    "\r\n",
    "interclass_corr = [-2, -1, -0.5, 0, 0.5, 1, 2]\r\n",
    "seed = tuple(i for i in range(392, 399))\r\n",
    "final = np.empty((len(interclass_corr), 3))\r\n",
    "\r\n",
    "  \r\n",
    "\r\n",
    "if __name__ ==  '__main__': \r\n",
    "    num_processors = 14\r\n",
    "    \r\n",
    "    containers = [hierarchy] * num_processors\r\n",
    "\r\n",
    "\r\n",
    "    p=Pool(processes = num_processors)\r\n",
    "\r\n",
    "    for idx, v in enumerate(interclass_corr):\r\n",
    "         \r\n",
    "\r\n",
    "        paramlist = [[stats.lognorm, 1, 0, 10**v], [0]*hierarchy[1]*3, [stats.lognorm, 1, 0, 10**v], [stats.lognorm, 1]]\r\n",
    "        paramlist = [paramlist] * num_processors\r\n",
    "\r\n",
    "        ss = np.random.SeedSequence(seedlist[seed[idx]])\r\n",
    "        child_seeds = ss.spawn(num_processors)\r\n",
    "        seeds = [np.random.default_rng(s) for s in child_seeds]\r\n",
    "\r\n",
    "        output = p.starmap(worker, zip(containers, paramlist, seeds))\r\n",
    "\r\n",
    "        final[idx, 0] = 10**v     \r\n",
    "        final[idx, 1:] = (np.asarray(output) <= 0.05).sum(axis=2).sum(axis=0) / (loop_count*num_processors)\r\n",
    "        print(final[idx])\r\n",
    "\r\n",
    "\r\n",
    "    containerstr = str(hierarchy).translate({ord(','):ord('_'), ord('['):None, ord(']'):None, ord(' '):None})\r\n",
    "    filename = containerstr + \"data_\" + distributions + \".csv\"\r\n",
    "    np.savetxt(os.path.join(folder, filename), final, delimiter=',') \r\n",
    "\r\n",
    "    p.close()\r\n"
   ]
  },
  {
   "cell_type": "code",
   "execution_count": 31,
   "metadata": {},
   "outputs": [
    {
     "name": "stdout",
     "output_type": "stream",
     "text": [
      "[[1.00000000e-02 5.41838134e-02 4.60513423e-02]\n",
      " [1.00000000e-01 5.24201450e-02 4.47775818e-02]\n",
      " [3.16227766e-01 4.86968450e-02 3.63511660e-02]\n",
      " [1.00000000e+00 4.84029003e-02 3.04722712e-02]\n",
      " [3.16227766e+00 4.53654713e-02 2.42994317e-02]\n",
      " [1.00000000e+01 5.14403292e-02 2.35155791e-02]\n",
      " [1.00000000e+02 5.19302371e-02 2.42994317e-02]]\n"
     ]
    }
   ],
   "source": [
    "print(final)"
   ]
  },
  {
   "cell_type": "code",
   "execution_count": 32,
   "metadata": {},
   "outputs": [],
   "source": [
    "distributions = \"norm_norm_\""
   ]
  },
  {
   "cell_type": "code",
   "execution_count": 33,
   "metadata": {},
   "outputs": [
    {
     "name": "stdout",
     "output_type": "stream",
     "text": [
      "[0.01       0.04654125 0.04850088]\n",
      "[0.1        0.04624731 0.04409171]\n",
      "[0.31622777 0.04262199 0.03497942]\n",
      "[1.         0.03742896 0.01851852]\n",
      "[3.16227766 0.04771703 0.0223398 ]\n",
      "[10.          0.05065648  0.02018421]\n",
      "[1.00000000e+02 5.47717029e-02 2.08700764e-02]\n",
      "Wall time: 18min 6s\n"
     ]
    }
   ],
   "source": [
    "%%time\r\n",
    "\r\n",
    "loop_count = 729\r\n",
    "\r\n",
    "\r\n",
    "interclass_corr = [-2, -1, -0.5, 0, 0.5, 1, 2]\r\n",
    "seed = tuple(i for i in range(399, 406))\r\n",
    "final = np.empty((len(interclass_corr), 3))\r\n",
    "\r\n",
    "  \r\n",
    "\r\n",
    "if __name__ ==  '__main__': \r\n",
    "    num_processors = 14\r\n",
    "\r\n",
    "    containers = [hierarchy] * num_processors\r\n",
    "\r\n",
    "    p=Pool(processes = num_processors)\r\n",
    "\r\n",
    "    for idx, v in enumerate(interclass_corr):\r\n",
    "         \r\n",
    "\r\n",
    "        paramlist = [[stats.norm, 0, 10**v], [0]*hierarchy[1]*3, [stats.norm, 0, 10**v], [stats.norm]]\r\n",
    "        paramlist = [paramlist] * num_processors\r\n",
    "\r\n",
    "        ss = np.random.SeedSequence(seedlist[seed[idx]])\r\n",
    "        child_seeds = ss.spawn(num_processors)\r\n",
    "        seeds = [np.random.default_rng(s) for s in child_seeds]\r\n",
    "\r\n",
    "        output = p.starmap(worker, zip(containers, paramlist, seeds))\r\n",
    "\r\n",
    "        final[idx, 0] = 10**v     \r\n",
    "        final[idx, 1:] = (np.asarray(output) <= 0.05).sum(axis=2).sum(axis=0) / (loop_count*num_processors)\r\n",
    "        print(final[idx])\r\n",
    "\r\n",
    "    containerstr = str(hierarchy).translate({ord(','):ord('_'), ord('['):None, ord(']'):None, ord(' '):None})\r\n",
    "    filename = containerstr + \"data_\" + distributions + \".csv\"\r\n",
    "    np.savetxt(os.path.join(folder, filename), final, delimiter=',') \r\n",
    "\r\n",
    "    p.close()\r\n"
   ]
  },
  {
   "cell_type": "code",
   "execution_count": 34,
   "metadata": {},
   "outputs": [
    {
     "name": "stdout",
     "output_type": "stream",
     "text": [
      "[[1.00000000e-02 4.65412502e-02 4.85008818e-02]\n",
      " [1.00000000e-01 4.62473055e-02 4.40917108e-02]\n",
      " [3.16227766e-01 4.26219871e-02 3.49794239e-02]\n",
      " [1.00000000e+00 3.74289634e-02 1.85185185e-02]\n",
      " [3.16227766e+00 4.77170292e-02 2.23398001e-02]\n",
      " [1.00000000e+01 5.06564766e-02 2.01842054e-02]\n",
      " [1.00000000e+02 5.47717029e-02 2.08700764e-02]]\n"
     ]
    }
   ],
   "source": [
    "print(final)\r\n"
   ]
  },
  {
   "cell_type": "code",
   "execution_count": 35,
   "metadata": {},
   "outputs": [],
   "source": [
    "distributions = \"pareto_pareto_\""
   ]
  },
  {
   "cell_type": "code",
   "execution_count": 36,
   "metadata": {},
   "outputs": [
    {
     "name": "stdout",
     "output_type": "stream",
     "text": [
      "[0.01       0.05712326 0.04830492]\n",
      "[0.1        0.04712914 0.0398785 ]\n",
      "[0.31622777 0.04801097 0.03880071]\n",
      "[1.         0.04507153 0.02821869]\n",
      "[3.16227766 0.04957868 0.02361356]\n",
      "[10.          0.04595336  0.02429943]\n",
      "[1.00000000e+02 4.82069371e-02 2.16539291e-02]\n",
      "Wall time: 22min 11s\n"
     ]
    }
   ],
   "source": [
    "%%time\r\n",
    "\r\n",
    "loop_count = 729\r\n",
    "\r\n",
    "\r\n",
    "interclass_corr = [-2, -1, -0.5, 0, 0.5, 1, 2]\r\n",
    "seed = tuple(i for i in range(406, 413))\r\n",
    "final = np.empty((len(interclass_corr), 3))\r\n",
    "\r\n",
    "  \r\n",
    "\r\n",
    "if __name__ ==  '__main__': \r\n",
    "    num_processors = 14\r\n",
    "\r\n",
    "    containers = [hierarchy] * num_processors\r\n",
    "\r\n",
    "    p=Pool(processes = num_processors)\r\n",
    "\r\n",
    "    for idx, v in enumerate(interclass_corr):\r\n",
    "\r\n",
    "        paramlist = [[stats.pareto, 2.839, 0, 10**v], [0]*hierarchy[1]*3, [stats.pareto, 2.839, 0, 10**v], [stats.pareto, 2.839]]\r\n",
    "        paramlist = [paramlist] * num_processors\r\n",
    "\r\n",
    "        ss = np.random.SeedSequence(seedlist[seed[idx]])\r\n",
    "        child_seeds = ss.spawn(num_processors)\r\n",
    "        seeds = [np.random.default_rng(s) for s in child_seeds]\r\n",
    "\r\n",
    "        output = p.starmap(worker, zip(containers, paramlist, seeds))\r\n",
    "\r\n",
    "        final[idx, 0] = 10**v     \r\n",
    "        final[idx, 1:] = (np.asarray(output) <= 0.05).sum(axis=2).sum(axis=0) / (loop_count*num_processors)\r\n",
    "        print(final[idx])\r\n",
    "\r\n",
    "    containerstr = str(hierarchy).translate({ord(','):ord('_'), ord('['):None, ord(']'):None, ord(' '):None})\r\n",
    "    filename = containerstr + \"data_\" + distributions + \".csv\"\r\n",
    "    np.savetxt(os.path.join(folder, filename), final, delimiter=',') \r\n",
    "\r\n",
    "    p.close()\r\n",
    "\r\n"
   ]
  },
  {
   "cell_type": "code",
   "execution_count": 37,
   "metadata": {},
   "outputs": [
    {
     "name": "stdout",
     "output_type": "stream",
     "text": [
      "[[1.00000000e-02 5.71232608e-02 4.83049187e-02]\n",
      " [1.00000000e-01 4.71291397e-02 3.98785028e-02]\n",
      " [3.16227766e-01 4.80109739e-02 3.88007055e-02]\n",
      " [1.00000000e+00 4.50715266e-02 2.82186949e-02]\n",
      " [3.16227766e+00 4.95786792e-02 2.36135607e-02]\n",
      " [1.00000000e+01 4.59533608e-02 2.42994317e-02]\n",
      " [1.00000000e+02 4.82069371e-02 2.16539291e-02]]\n"
     ]
    }
   ],
   "source": [
    "print(final)"
   ]
  },
  {
   "cell_type": "code",
   "execution_count": 38,
   "metadata": {},
   "outputs": [],
   "source": [
    "distributions = \"gamma_gamma_\""
   ]
  },
  {
   "cell_type": "code",
   "execution_count": 39,
   "metadata": {},
   "outputs": [
    {
     "name": "stdout",
     "output_type": "stream",
     "text": [
      "[0.01       0.05408583 0.05232216]\n",
      "[0.1        0.04938272 0.04771703]\n",
      "[0.31622777 0.04409171 0.03605722]\n",
      "[1.         0.04487556 0.02547521]\n",
      "[3.16227766 0.04791299 0.01910641]\n",
      "[10.          0.05124437  0.02380952]\n",
      "[1.00000000e+02 4.74230845e-02 2.16539291e-02]\n",
      "Wall time: 17min 40s\n"
     ]
    }
   ],
   "source": [
    "%%time\r\n",
    "\r\n",
    "loop_count = 729\r\n",
    "\r\n",
    "\r\n",
    "interclass_corr = [-2, -1, -0.5, 0, 0.5, 1, 2]\r\n",
    "seed = tuple(i for i in range(413, 420))\r\n",
    "final = np.empty((len(interclass_corr), 3))\r\n",
    "\r\n",
    "  \r\n",
    "\r\n",
    "if __name__ ==  '__main__': \r\n",
    "    num_processors = 14\r\n",
    "\r\n",
    "    containers = [hierarchy] * num_processors\r\n",
    "\r\n",
    "    p=Pool(processes = num_processors)\r\n",
    "\r\n",
    "    for idx, v in enumerate(interclass_corr):\r\n",
    "\r\n",
    "        paramlist = [[stats.gamma, 2, 0, 10**v], [0]*hierarchy[1]*3, [stats.gamma, 2, 0, 10**v], [stats.gamma, 2]]\r\n",
    "        paramlist = [paramlist] * num_processors\r\n",
    "\r\n",
    "        ss = np.random.SeedSequence(seedlist[seed[idx]])\r\n",
    "        child_seeds = ss.spawn(num_processors)\r\n",
    "        seeds = [np.random.default_rng(s) for s in child_seeds]\r\n",
    "\r\n",
    "        output = p.starmap(worker, zip(containers, paramlist, seeds))\r\n",
    "\r\n",
    "        final[idx, 0] = 10**v     \r\n",
    "        final[idx, 1:] = (np.asarray(output) <= 0.05).sum(axis=2).sum(axis=0) / (loop_count*num_processors)\r\n",
    "        print(final[idx])\r\n",
    "\r\n",
    "\r\n",
    "    containerstr = str(hierarchy).translate({ord(','):ord('_'), ord('['):None, ord(']'):None, ord(' '):None})\r\n",
    "    filename = containerstr + \"data_\" + distributions + \".csv\"\r\n",
    "    np.savetxt(os.path.join(folder, filename), final, delimiter=',') \r\n",
    "\r\n",
    "    p.close()\r\n",
    "\r\n"
   ]
  },
  {
   "cell_type": "code",
   "execution_count": 40,
   "metadata": {},
   "outputs": [
    {
     "name": "stdout",
     "output_type": "stream",
     "text": [
      "[[1.00000000e-02 5.40858319e-02 5.23221634e-02]\n",
      " [1.00000000e-01 4.93827160e-02 4.77170292e-02]\n",
      " [3.16227766e-01 4.40917108e-02 3.60572212e-02]\n",
      " [1.00000000e+00 4.48755634e-02 2.54752107e-02]\n",
      " [3.16227766e+00 4.79129924e-02 1.91064080e-02]\n",
      " [1.00000000e+01 5.12443661e-02 2.38095238e-02]\n",
      " [1.00000000e+02 4.74230845e-02 2.16539291e-02]]\n"
     ]
    }
   ],
   "source": [
    "print(final)\r\n"
   ]
  },
  {
   "cell_type": "code",
   "execution_count": 41,
   "metadata": {},
   "outputs": [],
   "source": [
    "folder = os.path.abspath('size control corr var')"
   ]
  },
  {
   "cell_type": "code",
   "execution_count": 42,
   "metadata": {},
   "outputs": [],
   "source": [
    "hierarchy = [3,3,3]\r\n",
    "\r\n",
    "bootstraps = 50\r\n",
    "permutations = 1000\r\n",
    "treatment_col = 0\r\n",
    "compare = \"corr\"\r\n",
    "\r\n",
    "loop_count = 729\r\n",
    "\r\n",
    "worker = partial(\r\n",
    "poweranalysis,\r\n",
    "compare=compare,\r\n",
    "loops=loop_count,\r\n",
    "treatment_col=treatment_col,\r\n",
    "bootstraps = bootstraps,\r\n",
    "permutations = permutations)"
   ]
  },
  {
   "cell_type": "code",
   "execution_count": 43,
   "metadata": {},
   "outputs": [],
   "source": [
    "distributions = \"lognorm_lognorm_\""
   ]
  },
  {
   "cell_type": "code",
   "execution_count": 44,
   "metadata": {},
   "outputs": [
    {
     "name": "stdout",
     "output_type": "stream",
     "text": [
      "[0.01       0.05163629 0.04027043]\n",
      "[0.1        0.05535959 0.04252401]\n",
      "[0.31622777 0.05369391 0.04507153]\n",
      "[1.         0.0494807  0.04262199]\n",
      "[3.16227766 0.05193024 0.0420341 ]\n",
      "[10.          0.05447776  0.03978052]\n",
      "[1.00000000e+02 5.60454635e-02 4.04663923e-02]\n",
      "Wall time: 7min 6s\n"
     ]
    }
   ],
   "source": [
    "%%time\r\n",
    "\r\n",
    "\r\n",
    "interclass_corr = [-2, -1, -0.5, 0, 0.5, 1, 2]\r\n",
    "seed = tuple(i for i in range(420, 427))\r\n",
    "final = np.empty((len(interclass_corr), 3))\r\n",
    "\r\n",
    "  \r\n",
    "\r\n",
    "if __name__ ==  '__main__': \r\n",
    "    num_processors = 14\r\n",
    "\r\n",
    "    containers = [hierarchy] * num_processors\r\n",
    "\r\n",
    "    p=Pool(processes = num_processors)\r\n",
    "\r\n",
    "    for idx, v in enumerate(interclass_corr):\r\n",
    "        t_1 = [stats.lognorm, 1, 0, (10**v)]\r\n",
    "\r\n",
    "        loc_correction_2 = stats.lognorm.mean(1, 0, (10**v)) - stats.lognorm.mean(1, 0, 1.112*(10**v))\r\n",
    "\r\n",
    "        t_2 = [stats.lognorm, 1, loc_correction_2, 1.112*(10**v)]\r\n",
    "\r\n",
    "        loc_correction_3 = stats.lognorm.mean(1, 0, (10**v)) - stats.lognorm.mean(1, 0, 1.224*(10**v))\r\n",
    "\r\n",
    "        t_3 = [stats.lognorm, 1, loc_correction_3, 1.224*(10**v)]\r\n",
    "\r\n",
    "        paramlist = [[stats.norm, 0, 0],  [t_1]*hierarchy[1] + [t_2]*hierarchy[1] + [t_3]*hierarchy[1], [stats.lognorm, 1]]\r\n",
    "        \r\n",
    "        paramlist = [paramlist] * num_processors\r\n",
    "\r\n",
    "        ss = np.random.SeedSequence(seedlist[seed[idx]])\r\n",
    "        child_seeds = ss.spawn(num_processors)\r\n",
    "        seeds = [np.random.default_rng(s) for s in child_seeds]\r\n",
    "\r\n",
    "        output = p.starmap(worker, zip(containers, paramlist, seeds))\r\n",
    "\r\n",
    "        final[idx, 0] = 10**v    \r\n",
    "        final[idx, 1:] = (np.asarray(output) <= 0.05).sum(axis=2).sum(axis=0) / (loop_count*num_processors)\r\n",
    "        print(final[idx])\r\n",
    "\r\n",
    "    containerstr = str(hierarchy).translate({ord(','):ord('_'), ord('['):None, ord(']'):None, ord(' '):None})\r\n",
    "    filename = containerstr + \"data_\" + distributions + \".csv\"\r\n",
    "    np.savetxt(os.path.join(folder, filename), final, delimiter=',') \r\n",
    "\r\n",
    "    p.close()\r\n",
    "\r\n"
   ]
  },
  {
   "cell_type": "code",
   "execution_count": 45,
   "metadata": {},
   "outputs": [],
   "source": [
    "distributions = \"norm_norm_\""
   ]
  },
  {
   "cell_type": "code",
   "execution_count": 46,
   "metadata": {},
   "outputs": [
    {
     "name": "stdout",
     "output_type": "stream",
     "text": [
      "[0.01       0.04997061 0.04987262]\n",
      "[0.1        0.04683519 0.04556143]\n",
      "[0.31622777 0.05085244 0.05144033]\n",
      "[1.         0.05271409 0.05075446]\n",
      "[3.16227766 0.05261611 0.0521262 ]\n",
      "[10.          0.05046051  0.05173427]\n",
      "[1.00000000e+02 4.90887713e-02 4.82069371e-02]\n",
      "Wall time: 7min 8s\n"
     ]
    }
   ],
   "source": [
    "%%time\r\n",
    "\r\n",
    "interclass_corr = [-2, -1, -0.5, 0, 0.5, 1, 2]\r\n",
    "seed = tuple(i for i in range(427, 434))\r\n",
    "final = np.empty((len(interclass_corr), 3))\r\n",
    "\r\n",
    "  \r\n",
    "\r\n",
    "if __name__ ==  '__main__': \r\n",
    "    num_processors = 14\r\n",
    "\r\n",
    "    containers = [hierarchy] * num_processors\r\n",
    "\r\n",
    "    p=Pool(processes = num_processors)\r\n",
    "\r\n",
    "    for idx, v in enumerate(interclass_corr):\r\n",
    "        \r\n",
    "        t_1 = [stats.norm, 0, 10**v]\r\n",
    "        t_2 = [stats.norm, 0, 1.112*(10**v)]\r\n",
    "        t_3 = [stats.norm, 0, 1.224*(10**v)]\r\n",
    "\r\n",
    "        paramlist = [[stats.norm, 0, 0],  [t_1]*hierarchy[1] + [t_2]*hierarchy[1] + [t_3]*hierarchy[1], [stats.norm, 0, 1]]\r\n",
    "        \r\n",
    "        paramlist = [paramlist] * num_processors\r\n",
    "\r\n",
    "        ss = np.random.SeedSequence(seedlist[seed[idx]])\r\n",
    "        child_seeds = ss.spawn(num_processors)\r\n",
    "        seeds = [np.random.default_rng(s) for s in child_seeds]\r\n",
    "\r\n",
    "        output = p.starmap(worker, zip(containers, paramlist, seeds))\r\n",
    "\r\n",
    "        final[idx, 0] = 10**v     \r\n",
    "        final[idx, 1:] = (np.asarray(output) <= 0.05).sum(axis=2).sum(axis=0) / (loop_count*num_processors)\r\n",
    "        print(final[idx])\r\n",
    "\r\n",
    "    containerstr = str(hierarchy).translate({ord(','):ord('_'), ord('['):None, ord(']'):None, ord(' '):None})\r\n",
    "    filename = containerstr + \"data_\" + distributions + \".csv\"\r\n",
    "    np.savetxt(os.path.join(folder, filename), final, delimiter=',') \r\n",
    "\r\n",
    "    p.close()\r\n"
   ]
  },
  {
   "cell_type": "code",
   "execution_count": 47,
   "metadata": {},
   "outputs": [
    {
     "name": "stdout",
     "output_type": "stream",
     "text": [
      "[[1.00000000e-02 4.99706055e-02 4.98726239e-02]\n",
      " [1.00000000e-01 4.68351950e-02 4.55614345e-02]\n",
      " [3.16227766e-01 5.08524397e-02 5.14403292e-02]\n",
      " [1.00000000e+00 5.27140898e-02 5.07544582e-02]\n",
      " [3.16227766e+00 5.26161082e-02 5.21262003e-02]\n",
      " [1.00000000e+01 5.04605134e-02 5.17342740e-02]\n",
      " [1.00000000e+02 4.90887713e-02 4.82069371e-02]]\n"
     ]
    }
   ],
   "source": [
    "print(final)\r\n"
   ]
  },
  {
   "cell_type": "code",
   "execution_count": 48,
   "metadata": {},
   "outputs": [],
   "source": [
    "distributions = \"pareto_pareto_\""
   ]
  },
  {
   "cell_type": "code",
   "execution_count": 49,
   "metadata": {},
   "outputs": [
    {
     "name": "stdout",
     "output_type": "stream",
     "text": [
      "[0.01       0.05016657 0.03791887]\n",
      "[0.1        0.04830492 0.04085832]\n",
      "[0.31622777 0.05202822 0.04232804]\n",
      "[1.         0.05114638 0.03929061]\n",
      "[3.16227766 0.05183226 0.03791887]\n",
      "[10.          0.05388987  0.03929061]\n",
      "[1.00000000e+02 5.68293161e-02 4.04663923e-02]\n",
      "Wall time: 10min 53s\n"
     ]
    }
   ],
   "source": [
    "%%time\r\n",
    "\r\n",
    "loop_count = 729\r\n",
    "\r\n",
    "\r\n",
    "interclass_corr = [-2, -1, -0.5, 0, 0.5, 1, 2]\r\n",
    "seed = tuple(i for i in range(434, 441))\r\n",
    "final = np.empty((len(interclass_corr), 3))\r\n",
    "\r\n",
    "  \r\n",
    "\r\n",
    "if __name__ ==  '__main__': \r\n",
    "    num_processors = 14\r\n",
    "\r\n",
    "    containers = [hierarchy] * num_processors\r\n",
    "\r\n",
    "    p=Pool(processes = num_processors)\r\n",
    "\r\n",
    "    for idx, v in enumerate(interclass_corr):\r\n",
    "\r\n",
    "        t_1 = [stats.pareto, 2.839, 0, 10**v]\r\n",
    "\r\n",
    "        loc_correction_2 = stats.pareto.mean(2.839, 0, (10**v)) - stats.pareto.mean(2.839, 0, 1.112*(10**v))\r\n",
    "\r\n",
    "        t_2 = [stats.pareto, 2.839, loc_correction_2, 1.112*(10**v)]\r\n",
    "\r\n",
    "        loc_correction_3 = stats.pareto.mean(2.839, 0, (10**v)) - stats.pareto.mean(2.839, 0, 1.224*(10**v))\r\n",
    "\r\n",
    "        t_3 = [stats.pareto, 2.839, loc_correction_3, 1.224*(10**v)]\r\n",
    "\r\n",
    "        paramlist = [[stats.norm, 0, 0],  [t_1]*hierarchy[1] + [t_2]*hierarchy[1] + [t_3]*hierarchy[1], [stats.pareto, 2.839]]\r\n",
    "\r\n",
    "        paramlist = [paramlist] * num_processors\r\n",
    "\r\n",
    "        ss = np.random.SeedSequence(seedlist[seed[idx]])\r\n",
    "        child_seeds = ss.spawn(num_processors)\r\n",
    "        seeds = [np.random.default_rng(s) for s in child_seeds]\r\n",
    "\r\n",
    "        output = p.starmap(worker, zip(containers, paramlist, seeds))\r\n",
    "\r\n",
    "        final[idx, 0] = 10**v     \r\n",
    "        final[idx, 1:] = (np.asarray(output) <= 0.05).sum(axis=2).sum(axis=0) / (loop_count*num_processors)\r\n",
    "        print(final[idx])\r\n",
    "\r\n",
    "    containerstr = str(hierarchy).translate({ord(','):ord('_'), ord('['):None, ord(']'):None, ord(' '):None})\r\n",
    "    filename = containerstr + \"data_\" + distributions + \".csv\"\r\n",
    "    np.savetxt(os.path.join(folder, filename), final, delimiter=',') \r\n",
    "\r\n",
    "    p.close()\r\n"
   ]
  },
  {
   "cell_type": "code",
   "execution_count": 50,
   "metadata": {},
   "outputs": [
    {
     "name": "stdout",
     "output_type": "stream",
     "text": [
      "[[1.00000000e-02 5.01665687e-02 3.79188713e-02]\n",
      " [1.00000000e-01 4.83049187e-02 4.08583186e-02]\n",
      " [3.16227766e-01 5.20282187e-02 4.23280423e-02]\n",
      " [1.00000000e+00 5.11463845e-02 3.92906134e-02]\n",
      " [3.16227766e+00 5.18322555e-02 3.79188713e-02]\n",
      " [1.00000000e+01 5.38898687e-02 3.92906134e-02]\n",
      " [1.00000000e+02 5.68293161e-02 4.04663923e-02]]\n"
     ]
    }
   ],
   "source": [
    "print(final)\r\n"
   ]
  },
  {
   "cell_type": "code",
   "execution_count": 53,
   "metadata": {},
   "outputs": [],
   "source": [
    "distributions = \"gamma_gamma_\""
   ]
  },
  {
   "cell_type": "code",
   "execution_count": 54,
   "metadata": {},
   "outputs": [
    {
     "name": "stdout",
     "output_type": "stream",
     "text": [
      "[0.01       0.05467372 0.05330198]\n",
      "[0.1        0.05349794 0.04997061]\n",
      "[0.31622777 0.04859886 0.04722712]\n",
      "[1.         0.04850088 0.04791299]\n",
      "[3.16227766 0.05144033 0.04899079]\n",
      "[10.          0.04507153  0.04409171]\n",
      "[1.00000000e+02 5.43797766e-02 4.96766608e-02]\n",
      "Wall time: 6min 59s\n"
     ]
    }
   ],
   "source": [
    "%%time\r\n",
    "\r\n",
    "loop_count = 729\r\n",
    "\r\n",
    "\r\n",
    "interclass_corr = [-2, -1, -0.5, 0, 0.5, 1, 2]\r\n",
    "seed = tuple(i for i in range(441, 448))\r\n",
    "final = np.empty((len(interclass_corr), 3))\r\n",
    "\r\n",
    "  \r\n",
    "\r\n",
    "if __name__ ==  '__main__': \r\n",
    "    num_processors = 14\r\n",
    "\r\n",
    "    containers = [hierarchy] * num_processors\r\n",
    "\r\n",
    "    p=Pool(processes = num_processors)\r\n",
    "\r\n",
    "    for idx, v in enumerate(interclass_corr):\r\n",
    "        \r\n",
    "        t_1 = [stats.gamma, 2, 0, (10**v)]\r\n",
    "\r\n",
    "        loc_correction_2 = stats.gamma.mean(2, 0, (10**v)) - stats.gamma.mean(2, 0, 1.112*(10**v))\r\n",
    "\r\n",
    "        t_2 = [stats.gamma, 2, loc_correction_2, 1.112*(10**v)]\r\n",
    "\r\n",
    "        loc_correction_3 = stats.gamma.mean(2, 0, (10**v)) - stats.gamma.mean(2, 0, 1.224*(10**v))\r\n",
    "\r\n",
    "        t_3 = [stats.gamma, 2, loc_correction_3, 1.224*(10**v)]\r\n",
    "\r\n",
    "        paramlist = [[stats.norm, 0, 0],  [t_1]*hierarchy[1] + [t_2]*hierarchy[1] + [t_3]*hierarchy[1], [stats.gamma, 2]]\r\n",
    "\r\n",
    "        paramlist = [paramlist] * num_processors\r\n",
    "\r\n",
    "        ss = np.random.SeedSequence(seedlist[seed[idx]])\r\n",
    "        child_seeds = ss.spawn(num_processors)\r\n",
    "        seeds = [np.random.default_rng(s) for s in child_seeds]\r\n",
    "\r\n",
    "        output = p.starmap(worker, zip(containers, paramlist, seeds))\r\n",
    "\r\n",
    "        final[idx, 0] = 10**v     \r\n",
    "        final[idx, 1:] = (np.asarray(output) <= 0.05).sum(axis=2).sum(axis=0) / (loop_count*num_processors)\r\n",
    "        print(final[idx])\r\n",
    "\r\n",
    "    containerstr = str(hierarchy).translate({ord(','):ord('_'), ord('['):None, ord(']'):None, ord(' '):None})\r\n",
    "    filename = containerstr + \"data_\" + distributions + \".csv\"\r\n",
    "    np.savetxt(os.path.join(folder, filename), final, delimiter=',') \r\n",
    "\r\n",
    "    p.close()\r\n"
   ]
  },
  {
   "cell_type": "code",
   "execution_count": 55,
   "metadata": {},
   "outputs": [
    {
     "name": "stdout",
     "output_type": "stream",
     "text": [
      "[[1.00000000e-02 5.46737213e-02 5.33019792e-02]\n",
      " [1.00000000e-01 5.34979424e-02 4.99706055e-02]\n",
      " [3.16227766e-01 4.85988634e-02 4.72271213e-02]\n",
      " [1.00000000e+00 4.85008818e-02 4.79129924e-02]\n",
      " [3.16227766e+00 5.14403292e-02 4.89907897e-02]\n",
      " [1.00000000e+01 4.50715266e-02 4.40917108e-02]\n",
      " [1.00000000e+02 5.43797766e-02 4.96766608e-02]]\n"
     ]
    }
   ],
   "source": [
    "print(final)\r\n"
   ]
  },
  {
   "cell_type": "code",
   "execution_count": 56,
   "metadata": {},
   "outputs": [],
   "source": [
    "hierarchy = [4, 3, 3]\r\n",
    "\r\n",
    "bootstraps = 50\r\n",
    "permutations = 1000\r\n",
    "treatment_col = 0\r\n",
    "compare = \"corr\"\r\n",
    "\r\n",
    "loop_count = 729\r\n",
    "\r\n",
    "worker = partial(\r\n",
    "poweranalysis,\r\n",
    "compare=compare,\r\n",
    "loops=loop_count,\r\n",
    "treatment_col=treatment_col,\r\n",
    "bootstraps = bootstraps,\r\n",
    "permutations = permutations)"
   ]
  },
  {
   "cell_type": "code",
   "execution_count": 57,
   "metadata": {},
   "outputs": [],
   "source": [
    "distributions = \"lognorm_lognorm_\""
   ]
  },
  {
   "cell_type": "code",
   "execution_count": 58,
   "metadata": {},
   "outputs": [
    {
     "name": "stdout",
     "output_type": "stream",
     "text": [
      "[0.01       0.05359592 0.04252401]\n",
      "[0.1        0.05251813 0.04242602]\n",
      "[0.31622777 0.05065648 0.04223006]\n",
      "[1.         0.04967666 0.04301391]\n",
      "[3.16227766 0.05712326 0.04801097]\n",
      "[10.          0.05339996  0.04252401]\n",
      "[1.00000000e+02 5.68293161e-02 4.24260239e-02]\n",
      "Wall time: 7min 9s\n"
     ]
    }
   ],
   "source": [
    "%%time\r\n",
    "\r\n",
    "loop_count = 729\r\n",
    "\r\n",
    "\r\n",
    "interclass_corr = [-2, -1, -0.5, 0, 0.5, 1, 2]\r\n",
    "seed = tuple(i for i in range(448, 455))\r\n",
    "final = np.empty((len(interclass_corr), 3))\r\n",
    "\r\n",
    "  \r\n",
    "\r\n",
    "if __name__ ==  '__main__': \r\n",
    "    num_processors = 14\r\n",
    "\r\n",
    "    containers = [hierarchy] * num_processors\r\n",
    "\r\n",
    "    p=Pool(processes = num_processors)\r\n",
    "\r\n",
    "    for idx, v in enumerate(interclass_corr):\r\n",
    "\r\n",
    "        t_1 = [stats.lognorm, 1, 0, (10 ** v)]\r\n",
    "\r\n",
    "        loc_correction_2 = stats.lognorm.mean(1, 0, (10 ** v)) - stats.lognorm.mean(\r\n",
    "            1, 0, 1.112 * (10 ** v)\r\n",
    "        )\r\n",
    "\r\n",
    "        t_2 = [stats.lognorm, 1, loc_correction_2, 1.112 * (10 ** v)]\r\n",
    "\r\n",
    "        loc_correction_3 = stats.lognorm.mean(1, 0, (10 ** v)) - stats.lognorm.mean(\r\n",
    "            1, 0, 1.224 * (10 ** v)\r\n",
    "        )\r\n",
    "\r\n",
    "        t_3 = [stats.lognorm, 1, loc_correction_3, 1.224 * (10 ** v)]\r\n",
    "\r\n",
    "        loc_correction_4 = stats.lognorm.mean(1, 0, (10 ** v)) - stats.lognorm.mean(\r\n",
    "            1, 0, 1.336 * (10 ** v)\r\n",
    "        )\r\n",
    "\r\n",
    "        t_4 = [stats.lognorm, 1, loc_correction_4, 1.336 * (10 ** v)]\r\n",
    "\r\n",
    "        paramlist = [\r\n",
    "            [stats.norm, 0, 0],\r\n",
    "            [t_1] * hierarchy[1]\r\n",
    "            + [t_2] * hierarchy[1]\r\n",
    "            + [t_3] * hierarchy[1]\r\n",
    "            + [t_4] * hierarchy[1],\r\n",
    "            [stats.lognorm, 1],\r\n",
    "        ]\r\n",
    "\r\n",
    "        paramlist = [paramlist] * num_processors\r\n",
    "\r\n",
    "        ss = np.random.SeedSequence(seedlist[seed[idx]])\r\n",
    "        child_seeds = ss.spawn(num_processors)\r\n",
    "        seeds = [np.random.default_rng(s) for s in child_seeds]\r\n",
    "\r\n",
    "        output = p.starmap(worker, zip(containers, paramlist, seeds))\r\n",
    "\r\n",
    "        final[idx, 0] = 10**v     \r\n",
    "        final[idx, 1:] = (np.asarray(output) <= 0.05).sum(axis=2).sum(axis=0) / (loop_count*num_processors)\r\n",
    "        print(final[idx])\r\n",
    "\r\n",
    "    containerstr = str(hierarchy).translate({ord(','):ord('_'), ord('['):None, ord(']'):None, ord(' '):None})\r\n",
    "    filename = containerstr + \"data_\" + distributions + \".csv\"\r\n",
    "    np.savetxt(os.path.join(folder, filename), final, delimiter=',') \r\n",
    "\r\n",
    "    p.close()\r\n"
   ]
  },
  {
   "cell_type": "code",
   "execution_count": 59,
   "metadata": {},
   "outputs": [
    {
     "name": "stdout",
     "output_type": "stream",
     "text": [
      "[[1.00000000e-02 5.35959240e-02 4.25240055e-02]\n",
      " [1.00000000e-01 5.25181266e-02 4.24260239e-02]\n",
      " [3.16227766e-01 5.06564766e-02 4.22300607e-02]\n",
      " [1.00000000e+00 4.96766608e-02 4.30139134e-02]\n",
      " [3.16227766e+00 5.71232608e-02 4.80109739e-02]\n",
      " [1.00000000e+01 5.33999608e-02 4.25240055e-02]\n",
      " [1.00000000e+02 5.68293161e-02 4.24260239e-02]]\n"
     ]
    }
   ],
   "source": [
    "print(final)\r\n"
   ]
  },
  {
   "cell_type": "code",
   "execution_count": 60,
   "metadata": {},
   "outputs": [],
   "source": [
    "distributions = \"norm_norm_\""
   ]
  },
  {
   "cell_type": "code",
   "execution_count": 61,
   "metadata": {},
   "outputs": [
    {
     "name": "stdout",
     "output_type": "stream",
     "text": [
      "[0.01       0.04899079 0.04889281]\n",
      "[0.1        0.05261611 0.05065648]\n",
      "[0.31622777 0.05300803 0.04889281]\n",
      "[1.         0.05006859 0.05016657]\n",
      "[3.16227766 0.05251813 0.05183226]\n",
      "[10.          0.04997061  0.04683519]\n",
      "[1.00000000e+02 5.30080345e-02 5.27140898e-02]\n",
      "Wall time: 7min 12s\n"
     ]
    }
   ],
   "source": [
    "%%time\r\n",
    "\r\n",
    "loop_count = 729\r\n",
    "\r\n",
    "\r\n",
    "interclass_corr = [-2, -1, -0.5, 0, 0.5, 1, 2]\r\n",
    "seed = tuple(i for i in range(455, 462))\r\n",
    "final = np.empty((len(interclass_corr), 3))\r\n",
    "\r\n",
    "  \r\n",
    "\r\n",
    "if __name__ ==  '__main__': \r\n",
    "    num_processors = 14\r\n",
    "\r\n",
    "    containers = [hierarchy] * num_processors\r\n",
    "\r\n",
    "    p=Pool(processes = num_processors)\r\n",
    "\r\n",
    "    for idx, v in enumerate(interclass_corr):\r\n",
    "\r\n",
    "        t_1 = [stats.norm, 0, 10**v]\r\n",
    "        t_2 = [stats.norm, 0, 1.112*(10**v)]\r\n",
    "        t_3 = [stats.norm, 0, 1.224*(10**v)]\r\n",
    "        t_4 = [stats.norm, 0, 1.336*(10**v)]\r\n",
    "\r\n",
    "        paramlist = [[stats.norm, 0, 0],  [t_1]*hierarchy[1] + [t_2]*hierarchy[1] + [t_3]*hierarchy[1] + [t_4]*hierarchy[1], [stats.norm, 0, 1]]\r\n",
    "\r\n",
    "        paramlist = [paramlist] * num_processors\r\n",
    "\r\n",
    "        ss = np.random.SeedSequence(seedlist[seed[idx]])\r\n",
    "        child_seeds = ss.spawn(num_processors)\r\n",
    "        seeds = [np.random.default_rng(s) for s in child_seeds]\r\n",
    "\r\n",
    "        output = p.starmap(worker, zip(containers, paramlist, seeds))\r\n",
    "\r\n",
    "        final[idx, 0] = 10**v     \r\n",
    "        final[idx, 1:] = (np.asarray(output) <= 0.05).sum(axis=2).sum(axis=0) / (loop_count*num_processors)\r\n",
    "        print(final[idx])\r\n",
    "\r\n",
    "    containerstr = str(hierarchy).translate({ord(','):ord('_'), ord('['):None, ord(']'):None, ord(' '):None})\r\n",
    "    filename = containerstr + \"data_\" + distributions + \".csv\"\r\n",
    "    np.savetxt(os.path.join(folder, filename), final, delimiter=',') \r\n",
    "\r\n",
    "    p.close()\r\n"
   ]
  },
  {
   "cell_type": "code",
   "execution_count": 62,
   "metadata": {},
   "outputs": [
    {
     "name": "stdout",
     "output_type": "stream",
     "text": [
      "[[1.00000000e-02 4.89907897e-02 4.88928082e-02]\n",
      " [1.00000000e-01 5.26161082e-02 5.06564766e-02]\n",
      " [3.16227766e-01 5.30080345e-02 4.88928082e-02]\n",
      " [1.00000000e+00 5.00685871e-02 5.01665687e-02]\n",
      " [3.16227766e+00 5.25181266e-02 5.18322555e-02]\n",
      " [1.00000000e+01 4.99706055e-02 4.68351950e-02]\n",
      " [1.00000000e+02 5.30080345e-02 5.27140898e-02]]\n"
     ]
    }
   ],
   "source": [
    "print(final)\r\n"
   ]
  },
  {
   "cell_type": "code",
   "execution_count": 63,
   "metadata": {},
   "outputs": [],
   "source": [
    "distributions = \"pareto_pareto_\""
   ]
  },
  {
   "cell_type": "code",
   "execution_count": 64,
   "metadata": {},
   "outputs": [
    {
     "name": "stdout",
     "output_type": "stream",
     "text": [
      "[0.01       0.0521262  0.04125024]\n",
      "[0.1        0.05251813 0.04252401]\n",
      "[0.31622777 0.05163629 0.04448364]\n",
      "[1.         0.05085244 0.04281795]\n",
      "[3.16227766 0.05643739 0.0446796 ]\n",
      "[10.          0.05947482  0.04330786]\n",
      "[1.00000000e+02 6.16304135e-02 4.56594160e-02]\n",
      "Wall time: 7min 10s\n"
     ]
    }
   ],
   "source": [
    "%%time\r\n",
    "\r\n",
    "loop_count = 729\r\n",
    "\r\n",
    "\r\n",
    "interclass_corr = [-2, -1, -0.5, 0, 0.5, 1, 2]\r\n",
    "seed = tuple(i for i in range(462, 469))\r\n",
    "final = np.empty((len(interclass_corr), 3))\r\n",
    "\r\n",
    "  \r\n",
    "\r\n",
    "if __name__ ==  '__main__': \r\n",
    "    num_processors = 14\r\n",
    "\r\n",
    "    containers = [hierarchy] * num_processors\r\n",
    "\r\n",
    "    p=Pool(processes = num_processors)\r\n",
    "\r\n",
    "    for idx, v in enumerate(interclass_corr):\r\n",
    "\r\n",
    "        t_1 = [stats.pareto, 2.839, 0, 10 ** v]\r\n",
    "\r\n",
    "        loc_correction_2 = stats.pareto.mean(2.839, 0, (10 ** v)) - stats.pareto.mean(\r\n",
    "            2.839, 0, 1.112 * (10 ** v)\r\n",
    "        )\r\n",
    "\r\n",
    "        t_2 = [stats.pareto, 2.839, loc_correction_2, 1.112 * (10 ** v)]\r\n",
    "\r\n",
    "        loc_correction_3 = stats.pareto.mean(2.839, 0, (10 ** v)) - stats.pareto.mean(\r\n",
    "            2.839, 0, 1.224 * (10 ** v)\r\n",
    "        )\r\n",
    "\r\n",
    "        t_3 = [stats.pareto, 2.839, loc_correction_3, 1.224 * (10 ** v)]\r\n",
    "\r\n",
    "        loc_correction_4 = stats.pareto.mean(2.839, 0, (10 ** v)) - stats.pareto.mean(\r\n",
    "            2.839, 0, 1.336 * (10 ** v)\r\n",
    "        )\r\n",
    "\r\n",
    "        t_4 = [stats.pareto, 2.839, loc_correction_4, 1.336 * (10 ** v)]\r\n",
    "\r\n",
    "        paramlist = [\r\n",
    "            [stats.norm, 0, 0],\r\n",
    "            [t_1] * hierarchy[1]\r\n",
    "            + [t_2] * hierarchy[1]\r\n",
    "            + [t_3] * hierarchy[1]\r\n",
    "            + [t_4] * hierarchy[1],\r\n",
    "            [stats.pareto, 2.839],\r\n",
    "        ]\r\n",
    "\r\n",
    "        paramlist = [paramlist] * num_processors\r\n",
    "\r\n",
    "        ss = np.random.SeedSequence(seedlist[seed[idx]])\r\n",
    "        child_seeds = ss.spawn(num_processors)\r\n",
    "        seeds = [np.random.default_rng(s) for s in child_seeds]\r\n",
    "\r\n",
    "        output = p.starmap(worker, zip(containers, paramlist, seeds))\r\n",
    "\r\n",
    "        final[idx, 0] = 10**v     \r\n",
    "        final[idx, 1:] = (np.asarray(output) <= 0.05).sum(axis=2).sum(axis=0) / (loop_count*num_processors)\r\n",
    "        print(final[idx])\r\n",
    "\r\n",
    "    containerstr = str(hierarchy).translate({ord(','):ord('_'), ord('['):None, ord(']'):None, ord(' '):None})\r\n",
    "    filename = containerstr + \"data_\" + distributions + \".csv\"\r\n",
    "    np.savetxt(os.path.join(folder, filename), final, delimiter=',') \r\n",
    "\r\n",
    "    p.close()\r\n"
   ]
  },
  {
   "cell_type": "code",
   "execution_count": 65,
   "metadata": {},
   "outputs": [
    {
     "name": "stdout",
     "output_type": "stream",
     "text": [
      "[[1.00000000e-02 5.21262003e-02 4.12502450e-02]\n",
      " [1.00000000e-01 5.25181266e-02 4.25240055e-02]\n",
      " [3.16227766e-01 5.16362924e-02 4.44836371e-02]\n",
      " [1.00000000e+00 5.08524397e-02 4.28179502e-02]\n",
      " [3.16227766e+00 5.64373898e-02 4.46796002e-02]\n",
      " [1.00000000e+01 5.94748187e-02 4.33078581e-02]\n",
      " [1.00000000e+02 6.16304135e-02 4.56594160e-02]]\n"
     ]
    }
   ],
   "source": [
    "print(final)"
   ]
  },
  {
   "cell_type": "code",
   "execution_count": 66,
   "metadata": {},
   "outputs": [],
   "source": [
    "distributions = \"gamma_gamma_\""
   ]
  },
  {
   "cell_type": "code",
   "execution_count": 67,
   "metadata": {},
   "outputs": [
    {
     "name": "stdout",
     "output_type": "stream",
     "text": [
      "[0.01       0.05193024 0.05046051]\n",
      "[0.1        0.05398785 0.04997061]\n",
      "[0.31622777 0.05516363 0.05183226]\n",
      "[1.         0.04957868 0.05114638]\n",
      "[3.16227766 0.05183226 0.04565942]\n",
      "[10.          0.05016657  0.04859886]\n",
      "[1.00000000e+02 5.37918871e-02 4.91867529e-02]\n",
      "Wall time: 7min 39s\n"
     ]
    }
   ],
   "source": [
    "%%time\r\n",
    "\r\n",
    "loop_count = 729\r\n",
    "\r\n",
    "\r\n",
    "interclass_corr = [-2, -1, -0.5, 0, 0.5, 1, 2]\r\n",
    "seed = tuple(i for i in range(469, 476))\r\n",
    "final = np.empty((len(interclass_corr), 3))\r\n",
    "\r\n",
    "  \r\n",
    "\r\n",
    "if __name__ ==  '__main__': \r\n",
    "    num_processors = 14\r\n",
    "\r\n",
    "    containers = [hierarchy] * num_processors\r\n",
    "\r\n",
    "    p=Pool(processes = num_processors)\r\n",
    "\r\n",
    "    for idx, v in enumerate(interclass_corr):\r\n",
    "\r\n",
    "        t_1 = [stats.gamma, 2, 0, (10 ** v)]\r\n",
    "\r\n",
    "        loc_correction_2 = stats.gamma.mean(2, 0, (10 ** v)) - stats.gamma.mean(\r\n",
    "            2, 0, 1.112 * (10 ** v)\r\n",
    "        )\r\n",
    "\r\n",
    "        t_2 = [stats.gamma, 2, loc_correction_2, 1.112 * (10 ** v)]\r\n",
    "\r\n",
    "        loc_correction_3 = stats.gamma.mean(2, 0, (10 ** v)) - stats.gamma.mean(\r\n",
    "            2, 0, 1.224 * (10 ** v)\r\n",
    "        )\r\n",
    "\r\n",
    "        t_3 = [stats.gamma, 2, loc_correction_3, 1.224 * (10 ** v)]\r\n",
    "\r\n",
    "        loc_correction_4 = stats.gamma.mean(2, 0, (10 ** v)) - stats.gamma.mean(\r\n",
    "            2, 0, 1.336 * (10 ** v)\r\n",
    "        )\r\n",
    "\r\n",
    "        t_4 = [stats.gamma, 2, loc_correction_4, 1.336 * (10 ** v)]\r\n",
    "\r\n",
    "        paramlist = [\r\n",
    "            [stats.norm, 0, 0],\r\n",
    "            [t_1] * hierarchy[1]\r\n",
    "            + [t_2] * hierarchy[1]\r\n",
    "            + [t_3] * hierarchy[1]\r\n",
    "            + [t_4] * hierarchy[1],\r\n",
    "            [stats.gamma, 2],\r\n",
    "        ]\r\n",
    "\r\n",
    "        paramlist = [paramlist] * num_processors\r\n",
    "\r\n",
    "        ss = np.random.SeedSequence(seedlist[seed[idx]])\r\n",
    "        child_seeds = ss.spawn(num_processors)\r\n",
    "        seeds = [np.random.default_rng(s) for s in child_seeds]\r\n",
    "\r\n",
    "        output = p.starmap(worker, zip(containers, paramlist, seeds))\r\n",
    "\r\n",
    "        final[idx, 0] = 10**v     \r\n",
    "        final[idx, 1:] = (np.asarray(output) <= 0.05).sum(axis=2).sum(axis=0) / (loop_count*num_processors)\r\n",
    "        print(final[idx])\r\n",
    "\r\n",
    "    containerstr = str(hierarchy).translate({ord(','):ord('_'), ord('['):None, ord(']'):None, ord(' '):None})\r\n",
    "    filename = containerstr + \"data_\" + distributions + \".csv\"\r\n",
    "    np.savetxt(os.path.join(folder, filename), final, delimiter=',') \r\n",
    "\r\n",
    "    p.close()\r\n"
   ]
  },
  {
   "cell_type": "code",
   "execution_count": 68,
   "metadata": {},
   "outputs": [
    {
     "name": "stdout",
     "output_type": "stream",
     "text": [
      "[[1.00000000e-02 5.19302371e-02 5.04605134e-02]\n",
      " [1.00000000e-01 5.39878503e-02 4.99706055e-02]\n",
      " [3.16227766e-01 5.51636292e-02 5.18322555e-02]\n",
      " [1.00000000e+00 4.95786792e-02 5.11463845e-02]\n",
      " [3.16227766e+00 5.18322555e-02 4.56594160e-02]\n",
      " [1.00000000e+01 5.01665687e-02 4.85988634e-02]\n",
      " [1.00000000e+02 5.37918871e-02 4.91867529e-02]]\n"
     ]
    }
   ],
   "source": [
    "print(final)"
   ]
  },
  {
   "cell_type": "code",
   "execution_count": 69,
   "metadata": {},
   "outputs": [],
   "source": [
    "hierarchy = [3, 4, 3, 3]\r\n",
    "\r\n",
    "bootstraps = 50\r\n",
    "permutations = 2000\r\n",
    "treatment_col = 1\r\n",
    "compare = \"corr\"\r\n",
    "\r\n",
    "loop_count = 729\r\n",
    "\r\n",
    "worker = partial(\r\n",
    "poweranalysis,\r\n",
    "compare=compare,\r\n",
    "loops=loop_count,\r\n",
    "treatment_col=treatment_col,\r\n",
    "bootstraps = bootstraps,\r\n",
    "permutations = permutations)"
   ]
  },
  {
   "cell_type": "code",
   "execution_count": 70,
   "metadata": {},
   "outputs": [],
   "source": [
    "distributions = \"lognorm_lognorm_\""
   ]
  },
  {
   "cell_type": "code",
   "execution_count": 71,
   "metadata": {},
   "outputs": [
    {
     "name": "stdout",
     "output_type": "stream",
     "text": [
      "[0.01       0.058495   0.04879483]\n",
      "[0.1        0.053204   0.04389575]\n",
      "[0.31622777 0.04928473 0.03948658]\n",
      "[1.         0.04918675 0.02880658]\n",
      "[3.16227766 0.05594748 0.03115814]\n",
      "[10.          0.05908289  0.02919851]\n",
      "[1.00000000e+02 5.84950029e-02 2.95904370e-02]\n"
     ]
    }
   ],
   "source": [
    "\r\n",
    "loop_count = 729\r\n",
    "\r\n",
    "\r\n",
    "interclass_corr = [-2, -1, -0.5, 0, 0.5, 1, 2]\r\n",
    "seed = tuple(i for i in range(476, 483))\r\n",
    "final = np.empty((len(interclass_corr), 3))\r\n",
    "\r\n",
    "  \r\n",
    "\r\n",
    "if __name__ ==  '__main__': \r\n",
    "    num_processors = 14\r\n",
    "    \r\n",
    "    containers = [hierarchy] * num_processors\r\n",
    "\r\n",
    "\r\n",
    "    p=Pool(processes = num_processors)\r\n",
    "\r\n",
    "    for idx, v in enumerate(interclass_corr):\r\n",
    "         \r\n",
    "\r\n",
    "        t_1 = [stats.lognorm, 1, 0, (10 ** v)]\r\n",
    "\r\n",
    "        loc_correction_2 = stats.lognorm.mean(1, 0, (10 ** v)) - stats.lognorm.mean(\r\n",
    "            1, 0, 1.112 * (10 ** v))\r\n",
    "\r\n",
    "        t_2 = [stats.lognorm, 1, loc_correction_2, 1.112 * (10 ** v)]\r\n",
    "\r\n",
    "        loc_correction_3 = stats.lognorm.mean(1, 0, (10 ** v)) - stats.lognorm.mean(\r\n",
    "            1, 0, 1.224 * (10 ** v)\r\n",
    "        )\r\n",
    "\r\n",
    "        t_3 = [stats.lognorm, 1, loc_correction_3, 1.224 * (10 ** v)]\r\n",
    "\r\n",
    "        loc_correction_4 = stats.lognorm.mean(1, 0, (10 ** v)) - stats.lognorm.mean(\r\n",
    "            1, 0, 1.336 * (10 ** v)\r\n",
    "        )\r\n",
    "\r\n",
    "        t_4 = [stats.lognorm, 1, loc_correction_4, 1.336 * (10 ** v)]\r\n",
    "\r\n",
    "        paramlist = [\r\n",
    "            [stats.lognorm, 1, 0, (10 ** v)],\r\n",
    "            [stats.norm, 0, 0],\r\n",
    "            (\r\n",
    "                [t_1] * hierarchy[2]\r\n",
    "                + [t_2] * hierarchy[2]\r\n",
    "                + [t_3] * hierarchy[2]\r\n",
    "                + [t_4] * hierarchy[2]\r\n",
    "            )\r\n",
    "            * hierarchy[0],\r\n",
    "            [stats.lognorm, 1],\r\n",
    "        ]\r\n",
    "\r\n",
    "        paramlist = [paramlist] * num_processors\r\n",
    "\r\n",
    "        ss = np.random.SeedSequence(seedlist[seed[idx]])\r\n",
    "        child_seeds = ss.spawn(num_processors)\r\n",
    "        seeds = [np.random.default_rng(s) for s in child_seeds]\r\n",
    "\r\n",
    "        output = p.starmap(worker, zip(containers, paramlist, seeds))\r\n",
    "\r\n",
    "        final[idx, 0] = 10**v     \r\n",
    "        final[idx, 1:] = (np.asarray(output) <= 0.05).sum(axis=2).sum(axis=0) / (loop_count*num_processors)\r\n",
    "        print(final[idx])\r\n",
    "\r\n",
    "\r\n",
    "    containerstr = str(hierarchy).translate({ord(','):ord('_'), ord('['):None, ord(']'):None, ord(' '):None})\r\n",
    "    filename = containerstr + \"data_\" + distributions + \".csv\"\r\n",
    "    np.savetxt(os.path.join(folder, filename), final, delimiter=',') \r\n",
    "\r\n",
    "    p.close()\r\n"
   ]
  },
  {
   "cell_type": "code",
   "execution_count": 72,
   "metadata": {},
   "outputs": [
    {
     "name": "stdout",
     "output_type": "stream",
     "text": [
      "[[1.00000000e-02 5.84950029e-02 4.87948266e-02]\n",
      " [1.00000000e-01 5.32039976e-02 4.38957476e-02]\n",
      " [3.16227766e-01 4.92847345e-02 3.94865765e-02]\n",
      " [1.00000000e+00 4.91867529e-02 2.88065844e-02]\n",
      " [3.16227766e+00 5.59474819e-02 3.11581423e-02]\n",
      " [1.00000000e+01 5.90828924e-02 2.91985107e-02]\n",
      " [1.00000000e+02 5.84950029e-02 2.95904370e-02]]\n"
     ]
    }
   ],
   "source": [
    "print(final)"
   ]
  },
  {
   "cell_type": "code",
   "execution_count": 73,
   "metadata": {},
   "outputs": [],
   "source": [
    "distributions = \"norm_norm_\""
   ]
  },
  {
   "cell_type": "code",
   "execution_count": 74,
   "metadata": {},
   "outputs": [
    {
     "name": "stdout",
     "output_type": "stream",
     "text": [
      "[0.01       0.04928473 0.0494807 ]\n",
      "[0.1        0.04791299 0.04546345]\n",
      "[0.31622777 0.04810896 0.03742896]\n",
      "[1.         0.04742308 0.02674897]\n",
      "[3.16227766 0.05075446 0.02400549]\n",
      "[10.          0.05006859  0.02351558]\n",
      "[1.00000000e+02 5.12443661e-02 2.42014501e-02]\n",
      "Wall time: 17min 33s\n"
     ]
    }
   ],
   "source": [
    "%%time\r\n",
    "\r\n",
    "loop_count = 729\r\n",
    "\r\n",
    "\r\n",
    "interclass_corr = [-2, -1, -0.5, 0, 0.5, 1, 2]\r\n",
    "seed = tuple(i for i in range(483, 490))\r\n",
    "final = np.empty((len(interclass_corr), 3))\r\n",
    "\r\n",
    "  \r\n",
    "\r\n",
    "if __name__ ==  '__main__': \r\n",
    "    num_processors = 14\r\n",
    "\r\n",
    "    containers = [hierarchy] * num_processors\r\n",
    "\r\n",
    "    p=Pool(processes = num_processors)\r\n",
    "\r\n",
    "    for idx, v in enumerate(interclass_corr):\r\n",
    "         \r\n",
    "        t_1 = [stats.norm, 0, (10 ** v)]\r\n",
    "\r\n",
    "        t_2 = [stats.norm, 0, 1.112 * (10 ** v)]\r\n",
    "\r\n",
    "        t_3 = [stats.norm, 0, 1.224 * (10 ** v)]\r\n",
    "\r\n",
    "        t_4 = [stats.norm, 0, 1.336 * (10 ** v)]\r\n",
    "\r\n",
    "        paramlist = [\r\n",
    "            [stats.norm, 0, (10 ** v)],\r\n",
    "            [stats.norm, 0, 0],\r\n",
    "            (\r\n",
    "                [t_1] * hierarchy[2]\r\n",
    "                + [t_2] * hierarchy[2]\r\n",
    "                + [t_3] * hierarchy[2]\r\n",
    "                + [t_4] * hierarchy[2]\r\n",
    "            )\r\n",
    "            * hierarchy[0],\r\n",
    "            [stats.norm, 0, 1],\r\n",
    "        ]\r\n",
    "\r\n",
    "        paramlist = [paramlist] * num_processors\r\n",
    "\r\n",
    "        ss = np.random.SeedSequence(seedlist[seed[idx]])\r\n",
    "        child_seeds = ss.spawn(num_processors)\r\n",
    "        seeds = [np.random.default_rng(s) for s in child_seeds]\r\n",
    "\r\n",
    "        output = p.starmap(worker, zip(containers, paramlist, seeds))\r\n",
    "\r\n",
    "        final[idx, 0] = 10**v     \r\n",
    "        final[idx, 1:] = (np.asarray(output) <= 0.05).sum(axis=2).sum(axis=0) / (loop_count*num_processors)\r\n",
    "        print(final[idx])\r\n",
    "\r\n",
    "    containerstr = str(hierarchy).translate({ord(','):ord('_'), ord('['):None, ord(']'):None, ord(' '):None})\r\n",
    "    filename = containerstr + \"data_\" + distributions + \".csv\"\r\n",
    "    np.savetxt(os.path.join(folder, filename), final, delimiter=',') \r\n",
    "\r\n",
    "    p.close()\r\n"
   ]
  },
  {
   "cell_type": "code",
   "execution_count": 75,
   "metadata": {},
   "outputs": [
    {
     "name": "stdout",
     "output_type": "stream",
     "text": [
      "[[1.00000000e-02 4.92847345e-02 4.94806976e-02]\n",
      " [1.00000000e-01 4.79129924e-02 4.54634529e-02]\n",
      " [3.16227766e-01 4.81089555e-02 3.74289634e-02]\n",
      " [1.00000000e+00 4.74230845e-02 2.67489712e-02]\n",
      " [3.16227766e+00 5.07544582e-02 2.40054870e-02]\n",
      " [1.00000000e+01 5.00685871e-02 2.35155791e-02]\n",
      " [1.00000000e+02 5.12443661e-02 2.42014501e-02]]\n"
     ]
    }
   ],
   "source": [
    "print(final)\r\n"
   ]
  },
  {
   "cell_type": "code",
   "execution_count": 76,
   "metadata": {},
   "outputs": [],
   "source": [
    "distributions = \"pareto_pareto_\""
   ]
  },
  {
   "cell_type": "code",
   "execution_count": 77,
   "metadata": {},
   "outputs": [
    {
     "name": "stdout",
     "output_type": "stream",
     "text": [
      "[0.01       0.05388987 0.0436018 ]\n",
      "[0.1        0.05535959 0.04252401]\n",
      "[0.31622777 0.04987262 0.03625318]\n",
      "[1.         0.05349794 0.03370566]\n",
      "[3.16227766 0.05467372 0.03017833]\n",
      "[10.          0.058495    0.02763081]\n",
      "[1.00000000e+02 5.94748187e-02 2.69449344e-02]\n",
      "Wall time: 17min 41s\n"
     ]
    }
   ],
   "source": [
    "%%time\r\n",
    "\r\n",
    "loop_count = 729\r\n",
    "\r\n",
    "\r\n",
    "interclass_corr = [-2, -1, -0.5, 0, 0.5, 1, 2]\r\n",
    "seed = tuple(i for i in range(490, 497))\r\n",
    "final = np.empty((len(interclass_corr), 3))\r\n",
    "\r\n",
    "  \r\n",
    "\r\n",
    "if __name__ ==  '__main__': \r\n",
    "    num_processors = 14\r\n",
    "\r\n",
    "    containers = [hierarchy] * num_processors\r\n",
    "\r\n",
    "    p=Pool(processes = num_processors)\r\n",
    "\r\n",
    "    for idx, v in enumerate(interclass_corr):\r\n",
    "\r\n",
    "\r\n",
    "        t_1 = [stats.pareto, 2.839, 0, (10 ** v)]\r\n",
    "\r\n",
    "        loc_correction_2 = stats.pareto.mean(2.839, 0, (10 ** v)) - stats.pareto.mean(\r\n",
    "            2.839, 0, 1.112 * (10 ** v)\r\n",
    "        )\r\n",
    "\r\n",
    "        t_2 = [stats.pareto, 2.839, loc_correction_2, 1.112 * (10 ** v)]\r\n",
    "\r\n",
    "        loc_correction_3 = stats.pareto.mean(2.839, 0, (10 ** v)) - stats.pareto.mean(\r\n",
    "            2.839, 0, 1.224 * (10 ** v)\r\n",
    "        )\r\n",
    "\r\n",
    "        t_3 = [stats.pareto, 2.839, loc_correction_3, 1.224 * (10 ** v)]\r\n",
    "\r\n",
    "        loc_correction_4 = stats.pareto.mean(2.839, 0, (10 ** v)) - stats.pareto.mean(\r\n",
    "            2.839, 0, 1.336 * (10 ** v)\r\n",
    "        )\r\n",
    "\r\n",
    "        t_4 = [stats.pareto, 2.839, loc_correction_4, 1.336 * (10 ** v)]\r\n",
    "\r\n",
    "        paramlist = [\r\n",
    "            [stats.pareto, 2.839, 0, (10 ** v)],\r\n",
    "            [stats.norm, 0, 0],\r\n",
    "            (\r\n",
    "                [t_1] * hierarchy[2]\r\n",
    "                + [t_2] * hierarchy[2]\r\n",
    "                + [t_3] * hierarchy[2]\r\n",
    "                + [t_4] * hierarchy[2]\r\n",
    "            )\r\n",
    "            * hierarchy[0],\r\n",
    "            [stats.pareto, 2.839],\r\n",
    "        ]\r\n",
    "\r\n",
    "        paramlist = [paramlist] * num_processors\r\n",
    "\r\n",
    "        ss = np.random.SeedSequence(seedlist[seed[idx]])\r\n",
    "        child_seeds = ss.spawn(num_processors)\r\n",
    "        seeds = [np.random.default_rng(s) for s in child_seeds]\r\n",
    "\r\n",
    "        output = p.starmap(worker, zip(containers, paramlist, seeds))\r\n",
    "\r\n",
    "        final[idx, 0] = 10**v     \r\n",
    "        final[idx, 1:] = (np.asarray(output) <= 0.05).sum(axis=2).sum(axis=0) / (loop_count*num_processors)\r\n",
    "        print(final[idx])\r\n",
    "\r\n",
    "    containerstr = str(hierarchy).translate({ord(','):ord('_'), ord('['):None, ord(']'):None, ord(' '):None})\r\n",
    "    filename = containerstr + \"data_\" + distributions + \".csv\"\r\n",
    "    np.savetxt(os.path.join(folder, filename), final, delimiter=',') \r\n",
    "\r\n",
    "    p.close()\r\n",
    "\r\n"
   ]
  },
  {
   "cell_type": "code",
   "execution_count": 78,
   "metadata": {},
   "outputs": [
    {
     "name": "stdout",
     "output_type": "stream",
     "text": [
      "[[1.00000000e-02 5.38898687e-02 4.36018029e-02]\n",
      " [1.00000000e-01 5.53595924e-02 4.25240055e-02]\n",
      " [3.16227766e-01 4.98726239e-02 3.62531844e-02]\n",
      " [1.00000000e+00 5.34979424e-02 3.37056633e-02]\n",
      " [3.16227766e+00 5.46737213e-02 3.01783265e-02]\n",
      " [1.00000000e+01 5.84950029e-02 2.76308054e-02]\n",
      " [1.00000000e+02 5.94748187e-02 2.69449344e-02]]\n"
     ]
    }
   ],
   "source": [
    "print(final)"
   ]
  },
  {
   "cell_type": "code",
   "execution_count": 79,
   "metadata": {},
   "outputs": [],
   "source": [
    "distributions = \"gamma_gamma_\""
   ]
  },
  {
   "cell_type": "code",
   "execution_count": 80,
   "metadata": {},
   "outputs": [
    {
     "name": "stdout",
     "output_type": "stream",
     "text": [
      "[0.01       0.05095042 0.04801097]\n",
      "[0.1        0.05291005 0.04869684]\n",
      "[0.31622777 0.04850088 0.03938859]\n",
      "[1.         0.04320988 0.02635704]\n",
      "[3.16227766 0.05379189 0.02684695]\n",
      "[10.          0.05075446  0.02508328]\n",
      "[1.00000000e+02 5.06564766e-02 2.43974133e-02]\n",
      "Wall time: 17min 45s\n"
     ]
    }
   ],
   "source": [
    "%%time\r\n",
    "\r\n",
    "loop_count = 729\r\n",
    "\r\n",
    "\r\n",
    "interclass_corr = [-2, -1, -0.5, 0, 0.5, 1, 2]\r\n",
    "seed = tuple(i for i in range(496, 503))\r\n",
    "final = np.empty((len(interclass_corr), 3))\r\n",
    "\r\n",
    "  \r\n",
    "\r\n",
    "if __name__ ==  '__main__': \r\n",
    "    num_processors = 14\r\n",
    "\r\n",
    "    containers = [hierarchy] * num_processors\r\n",
    "\r\n",
    "    p=Pool(processes = num_processors)\r\n",
    "\r\n",
    "    for idx, v in enumerate(interclass_corr):\r\n",
    "        \r\n",
    "        t_1 = [stats.gamma, 2, 0, (10 ** v)]\r\n",
    "\r\n",
    "        loc_correction_2 = stats.gamma.mean(2, 0, (10 ** v)) - stats.gamma.mean(\r\n",
    "            2, 0, 1.112 * (10 ** v)\r\n",
    "        )\r\n",
    "\r\n",
    "        t_2 = [stats.gamma, 2, loc_correction_2, 1.112 * (10 ** v)]\r\n",
    "\r\n",
    "        loc_correction_3 = stats.gamma.mean(2, 0, (10 ** v)) - stats.gamma.mean(\r\n",
    "            2, 0, 1.224 * (10 ** v)\r\n",
    "        )\r\n",
    "\r\n",
    "        t_3 = [stats.gamma, 2, loc_correction_3, 1.224 * (10 ** v)]\r\n",
    "\r\n",
    "        loc_correction_4 = stats.gamma.mean(2, 0, (10 ** v)) - stats.gamma.mean(\r\n",
    "            2, 0, 1.336 * (10 ** v)\r\n",
    "        )\r\n",
    "\r\n",
    "        t_4 = [stats.gamma, 2, loc_correction_4, 1.336 * (10 ** v)]\r\n",
    "\r\n",
    "        paramlist = [\r\n",
    "            [stats.gamma, 2, 0, (10 ** v)],\r\n",
    "            [stats.norm, 0, 0],\r\n",
    "            (\r\n",
    "                [t_1] * hierarchy[2]\r\n",
    "                + [t_2] * hierarchy[2]\r\n",
    "                + [t_3] * hierarchy[2]\r\n",
    "                + [t_4] * hierarchy[2]\r\n",
    "            )\r\n",
    "            * hierarchy[0],\r\n",
    "            [stats.gamma, 2],\r\n",
    "        ]\r\n",
    "\r\n",
    "        paramlist = [paramlist] * num_processors\r\n",
    "\r\n",
    "        ss = np.random.SeedSequence(seedlist[seed[idx]])\r\n",
    "        child_seeds = ss.spawn(num_processors)\r\n",
    "        seeds = [np.random.default_rng(s) for s in child_seeds]\r\n",
    "\r\n",
    "        output = p.starmap(worker, zip(containers, paramlist, seeds))\r\n",
    "\r\n",
    "        final[idx, 0] = 10**v     \r\n",
    "        final[idx, 1:] = (np.asarray(output) <= 0.05).sum(axis=2).sum(axis=0) / (loop_count*num_processors)\r\n",
    "        print(final[idx])\r\n",
    "\r\n",
    "\r\n",
    "    containerstr = str(hierarchy).translate({ord(','):ord('_'), ord('['):None, ord(']'):None, ord(' '):None})\r\n",
    "    filename = containerstr + \"data_\" + distributions + \".csv\"\r\n",
    "    np.savetxt(os.path.join(folder, filename), final, delimiter=',') \r\n",
    "\r\n",
    "    p.close()\r\n",
    "\r\n"
   ]
  },
  {
   "cell_type": "code",
   "execution_count": 81,
   "metadata": {},
   "outputs": [
    {
     "name": "stdout",
     "output_type": "stream",
     "text": [
      "[[1.00000000e-02 5.09504213e-02 4.80109739e-02]\n",
      " [1.00000000e-01 5.29100529e-02 4.86968450e-02]\n",
      " [3.16227766e-01 4.85008818e-02 3.93885949e-02]\n",
      " [1.00000000e+00 4.32098765e-02 2.63570449e-02]\n",
      " [3.16227766e+00 5.37918871e-02 2.68469528e-02]\n",
      " [1.00000000e+01 5.07544582e-02 2.50832843e-02]\n",
      " [1.00000000e+02 5.06564766e-02 2.43974133e-02]]\n"
     ]
    }
   ],
   "source": [
    "print(final)\r\n"
   ]
  },
  {
   "cell_type": "code",
   "execution_count": null,
   "metadata": {},
   "outputs": [],
   "source": []
  }
 ],
 "metadata": {
  "interpreter": {
   "hash": "6366f6cbfee632ea607dd741425fd59c16398e10991248334782cf8f57619d54"
  },
  "kernelspec": {
   "display_name": "Python 3.8.8 64-bit ('base': conda)",
   "name": "python3"
  },
  "language_info": {
   "codemirror_mode": {
    "name": "ipython",
    "version": 3
   },
   "file_extension": ".py",
   "mimetype": "text/x-python",
   "name": "python",
   "nbconvert_exporter": "python",
   "pygments_lexer": "ipython3",
   "version": "3.8.8"
  }
 },
 "nbformat": 4,
 "nbformat_minor": 4
}