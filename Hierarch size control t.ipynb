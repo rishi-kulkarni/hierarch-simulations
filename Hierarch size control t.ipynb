{
 "cells": [
  {
   "cell_type": "code",
   "execution_count": 1,
   "metadata": {},
   "outputs": [],
   "source": [
    "import pandas as pd\r\n",
    "import numpy as np\r\n",
    "import numba as nb\r\n",
    "import scipy.stats as stats\r\n",
    "import hierarch as ha\r\n",
    "from multiprocessing import Pool\r\n",
    "from functools import partial\r\n",
    "import os\r\n",
    "from poweranalysis import poweranalysis\r\n",
    "\r\n",
    "seedlist = np.loadtxt(\"seedlist.csv\", dtype='int', delimiter=',')"
   ]
  },
  {
   "cell_type": "code",
   "execution_count": 2,
   "metadata": {},
   "outputs": [],
   "source": [
    "folder = os.path.abspath('hierarch size control_t')"
   ]
  },
  {
   "cell_type": "code",
   "execution_count": 3,
   "metadata": {},
   "outputs": [],
   "source": [
    "hierarchy = [2,3,3]\r\n",
    "\r\n",
    "bootstraps = 500\r\n",
    "permutations = 'all'\r\n",
    "treatment_col = 0\r\n",
    "compare = \"means\"\r\n",
    "\r\n",
    "loop_count = 729\r\n",
    "\r\n",
    "worker = partial(\r\n",
    "poweranalysis,\r\n",
    "compare=compare,\r\n",
    "loops=loop_count,\r\n",
    "treatment_col=treatment_col,\r\n",
    "bootstraps = bootstraps,\r\n",
    "permutations = permutations)"
   ]
  },
  {
   "cell_type": "code",
   "execution_count": 4,
   "metadata": {},
   "outputs": [],
   "source": [
    "distributions = \"lognorm_lognorm_\""
   ]
  },
  {
   "cell_type": "code",
   "execution_count": 5,
   "metadata": {},
   "outputs": [
    {
     "name": "stdout",
     "output_type": "stream",
     "text": [
      "[0.01       0.04879483 0.02616108 0.03870272]\n",
      "[0.1        0.04820694 0.02282971 0.03733098]\n",
      "[0.31622777 0.0505585  0.02812071 0.04223006]\n",
      "[1.         0.04810896 0.02635704 0.04056437]\n",
      "[3.16227766 0.04497354 0.02253576 0.03439153]\n",
      "[10.          0.05663335  0.01881246  0.03223594]\n",
      "[1.00000000e+02 5.63394082e-02 2.24377817e-02 3.76249265e-02]\n",
      "Wall time: 2min 49s\n"
     ]
    }
   ],
   "source": [
    "%%time\r\n",
    "\r\n",
    "\r\n",
    "interclass_corr = [-2, -1, -0.5, 0, 0.5, 1, 2]\r\n",
    "seed = tuple(i for i in range(0, 7))\r\n",
    "final = np.empty((len(interclass_corr), 4))\r\n",
    "\r\n",
    "  \r\n",
    "\r\n",
    "if __name__ ==  '__main__': \r\n",
    "    num_processors = 14\r\n",
    "\r\n",
    "    containers = [hierarchy] * num_processors\r\n",
    "\r\n",
    "    p=Pool(processes = num_processors)\r\n",
    "\r\n",
    "    for idx, v in enumerate(interclass_corr):\r\n",
    "\r\n",
    "        paramlist = [[0, 0], [stats.lognorm, 1, 0, 10**v], [stats.lognorm, 1]]\r\n",
    "        paramlist = [paramlist] * num_processors\r\n",
    "\r\n",
    "        ss = np.random.SeedSequence(seedlist[seed[idx]])\r\n",
    "        child_seeds = ss.spawn(num_processors)\r\n",
    "        seeds = [np.random.default_rng(s) for s in child_seeds]\r\n",
    "\r\n",
    "        output = p.starmap(worker, zip(containers, paramlist, seeds))\r\n",
    "\r\n",
    "        final[idx, 0] = 10**v    \r\n",
    "        final[idx, 1:] = (np.asarray(output) <= 0.05).sum(axis=2).sum(axis=0) / (loop_count*num_processors)\r\n",
    "        print(final[idx])\r\n",
    "\r\n",
    "    containerstr = str(hierarchy).translate({ord(','):ord('_'), ord('['):None, ord(']'):None, ord(' '):None})\r\n",
    "    filename = containerstr + \"data_\" + distributions + \".csv\"\r\n",
    "    np.savetxt(os.path.join(folder, filename), final, delimiter=',') \r\n",
    "\r\n",
    "    p.close()\r\n",
    "\r\n"
   ]
  },
  {
   "cell_type": "code",
   "execution_count": 6,
   "metadata": {},
   "outputs": [],
   "source": [
    "distributions = \"norm_norm_\""
   ]
  },
  {
   "cell_type": "code",
   "execution_count": 7,
   "metadata": {},
   "outputs": [
    {
     "name": "stdout",
     "output_type": "stream",
     "text": [
      "[0.01       0.05310602 0.03664511 0.05193024]\n",
      "[0.1        0.0510484  0.0361552  0.04908877]\n",
      "[0.31622777 0.05006859 0.03468548 0.04928473]\n",
      "[1.         0.05261611 0.03654713 0.04957868]\n",
      "[3.16227766 0.06270821 0.03370566 0.04693318]\n",
      "[10.          0.06633353  0.03282383  0.04781501]\n",
      "[1.00000000e+02 5.15383108e-02 3.30197923e-02 4.79129924e-02]\n",
      "Wall time: 3min 39s\n"
     ]
    }
   ],
   "source": [
    "%%time\r\n",
    "\r\n",
    "interclass_corr = [-2, -1, -0.5, 0, 0.5, 1, 2]\r\n",
    "seed = tuple(i for i in range(7, 14))\r\n",
    "final = np.empty((len(interclass_corr), 4))\r\n",
    "\r\n",
    "  \r\n",
    "\r\n",
    "if __name__ ==  '__main__': \r\n",
    "    num_processors = 14\r\n",
    "\r\n",
    "    containers = [hierarchy] * num_processors\r\n",
    "\r\n",
    "    p=Pool(processes = num_processors)\r\n",
    "\r\n",
    "    for idx, v in enumerate(interclass_corr):\r\n",
    "\r\n",
    "        paramlist = [[0, 0], [stats.norm, 0, 10**v], [stats.norm, 0, 1]]\r\n",
    "        paramlist = [paramlist] * num_processors\r\n",
    "\r\n",
    "        ss = np.random.SeedSequence(seedlist[seed[idx]])\r\n",
    "        child_seeds = ss.spawn(num_processors)\r\n",
    "        seeds = [np.random.default_rng(s) for s in child_seeds]\r\n",
    "\r\n",
    "        output = p.starmap(worker, zip(containers, paramlist, seeds))\r\n",
    "\r\n",
    "        final[idx, 0] = 10**v     \r\n",
    "        final[idx, 1:] = (np.asarray(output) <= 0.05).sum(axis=2).sum(axis=0) / (loop_count*num_processors)\r\n",
    "        print(final[idx])\r\n",
    "\r\n",
    "    containerstr = str(hierarchy).translate({ord(','):ord('_'), ord('['):None, ord(']'):None, ord(' '):None})\r\n",
    "    filename = containerstr + \"data_\" + distributions + \".csv\"\r\n",
    "    np.savetxt(os.path.join(folder, filename), final, delimiter=',') \r\n",
    "\r\n",
    "    p.close()\r\n"
   ]
  },
  {
   "cell_type": "code",
   "execution_count": 8,
   "metadata": {},
   "outputs": [
    {
     "name": "stdout",
     "output_type": "stream",
     "text": [
      "[[1.00000000e-02 5.31060161e-02 3.66451107e-02 5.19302371e-02]\n",
      " [1.00000000e-01 5.10484029e-02 3.61552028e-02 4.90887713e-02]\n",
      " [3.16227766e-01 5.00685871e-02 3.46854791e-02 4.92847345e-02]\n",
      " [1.00000000e+00 5.26161082e-02 3.65471291e-02 4.95786792e-02]\n",
      " [3.16227766e+00 6.27082109e-02 3.37056633e-02 4.69331766e-02]\n",
      " [1.00000000e+01 6.63335293e-02 3.28238291e-02 4.78150108e-02]\n",
      " [1.00000000e+02 5.15383108e-02 3.30197923e-02 4.79129924e-02]]\n"
     ]
    }
   ],
   "source": [
    "print(final)\r\n"
   ]
  },
  {
   "cell_type": "code",
   "execution_count": 9,
   "metadata": {},
   "outputs": [],
   "source": [
    "distributions = \"pareto_pareto_\""
   ]
  },
  {
   "cell_type": "code",
   "execution_count": 10,
   "metadata": {},
   "outputs": [
    {
     "name": "stdout",
     "output_type": "stream",
     "text": [
      "[0.01       0.04850088 0.02665099 0.03840878]\n",
      "[0.1        0.04899079 0.02616108 0.03880071]\n",
      "[0.31622777 0.04712914 0.02429943 0.03625318]\n",
      "[1.         0.04810896 0.02331962 0.03635117]\n",
      "[3.16227766 0.05222418 0.02292769 0.03693906]\n",
      "[10.          0.05565354  0.01959632  0.03233392]\n",
      "[1.00000000e+02 5.15383108e-02 1.72447580e-02 2.91985107e-02]\n",
      "Wall time: 2min 55s\n"
     ]
    }
   ],
   "source": [
    "%%time\r\n",
    "\r\n",
    "loop_count = 729\r\n",
    "\r\n",
    "\r\n",
    "interclass_corr = [-2, -1, -0.5, 0, 0.5, 1, 2]\r\n",
    "seed = tuple(i for i in range(14, 21))\r\n",
    "final = np.empty((len(interclass_corr), 4))\r\n",
    "\r\n",
    "  \r\n",
    "\r\n",
    "if __name__ ==  '__main__': \r\n",
    "    num_processors = 14\r\n",
    "\r\n",
    "    containers = [hierarchy] * num_processors\r\n",
    "\r\n",
    "    p=Pool(processes = num_processors)\r\n",
    "\r\n",
    "    for idx, v in enumerate(interclass_corr):\r\n",
    "\r\n",
    "        paramlist = [[0, 0], [stats.pareto, 2.839, 0, 10**v], [stats.pareto, 2.839]]\r\n",
    "        paramlist = [paramlist] * num_processors\r\n",
    "\r\n",
    "        ss = np.random.SeedSequence(seedlist[seed[idx]])\r\n",
    "        child_seeds = ss.spawn(num_processors)\r\n",
    "        seeds = [np.random.default_rng(s) for s in child_seeds]\r\n",
    "\r\n",
    "        output = p.starmap(worker, zip(containers, paramlist, seeds))\r\n",
    "\r\n",
    "        final[idx, 0] = 10**v     \r\n",
    "        final[idx, 1:] = (np.asarray(output) <= 0.05).sum(axis=2).sum(axis=0) / (loop_count*num_processors)\r\n",
    "        print(final[idx])\r\n",
    "\r\n",
    "    containerstr = str(hierarchy).translate({ord(','):ord('_'), ord('['):None, ord(']'):None, ord(' '):None})\r\n",
    "    filename = containerstr + \"data_\" + distributions + \".csv\"\r\n",
    "    np.savetxt(os.path.join(folder, filename), final, delimiter=',') \r\n",
    "\r\n",
    "    p.close()\r\n"
   ]
  },
  {
   "cell_type": "code",
   "execution_count": 11,
   "metadata": {},
   "outputs": [
    {
     "name": "stdout",
     "output_type": "stream",
     "text": [
      "[[1.00000000e-02 4.85008818e-02 2.66509896e-02 3.84087791e-02]\n",
      " [1.00000000e-01 4.89907897e-02 2.61610817e-02 3.88007055e-02]\n",
      " [3.16227766e-01 4.71291397e-02 2.42994317e-02 3.62531844e-02]\n",
      " [1.00000000e+00 4.81089555e-02 2.33196159e-02 3.63511660e-02]\n",
      " [3.16227766e+00 5.22241819e-02 2.29276896e-02 3.69390555e-02]\n",
      " [1.00000000e+01 5.56535371e-02 1.95963159e-02 3.23339212e-02]\n",
      " [1.00000000e+02 5.15383108e-02 1.72447580e-02 2.91985107e-02]]\n"
     ]
    }
   ],
   "source": [
    "print(final)\r\n"
   ]
  },
  {
   "cell_type": "code",
   "execution_count": 12,
   "metadata": {},
   "outputs": [],
   "source": [
    "distributions = \"gamma_gamma_\""
   ]
  },
  {
   "cell_type": "code",
   "execution_count": 13,
   "metadata": {},
   "outputs": [
    {
     "name": "stdout",
     "output_type": "stream",
     "text": [
      "[0.01       0.05144033 0.03439153 0.04781501]\n",
      "[0.1        0.05359592 0.03341172 0.04928473]\n",
      "[0.31622777 0.04957868 0.03292181 0.04712914]\n",
      "[1.         0.05202822 0.03262787 0.04859886]\n",
      "[3.16227766 0.06368803 0.03155007 0.04801097]\n",
      "[10.          0.06535371  0.02841466  0.04507153]\n",
      "[1.00000000e+02 5.51636292e-02 3.07662160e-02 4.85008818e-02]\n",
      "Wall time: 3min 23s\n"
     ]
    }
   ],
   "source": [
    "%%time\r\n",
    "\r\n",
    "loop_count = 729\r\n",
    "\r\n",
    "\r\n",
    "interclass_corr = [-2, -1, -0.5, 0, 0.5, 1, 2]\r\n",
    "seed = tuple(i for i in range(21, 28))\r\n",
    "final = np.empty((len(interclass_corr), 4))\r\n",
    "\r\n",
    "  \r\n",
    "\r\n",
    "if __name__ ==  '__main__': \r\n",
    "    num_processors = 14\r\n",
    "\r\n",
    "    containers = [hierarchy] * num_processors\r\n",
    "\r\n",
    "    p=Pool(processes = num_processors)\r\n",
    "\r\n",
    "    for idx, v in enumerate(interclass_corr):\r\n",
    "\r\n",
    "        paramlist = [[0, 0], [stats.gamma, 2, 0, 10**v], [stats.gamma, 2]]\r\n",
    "        paramlist = [paramlist] * num_processors\r\n",
    "\r\n",
    "        ss = np.random.SeedSequence(seedlist[seed[idx]])\r\n",
    "        child_seeds = ss.spawn(num_processors)\r\n",
    "        seeds = [np.random.default_rng(s) for s in child_seeds]\r\n",
    "\r\n",
    "        output = p.starmap(worker, zip(containers, paramlist, seeds))\r\n",
    "\r\n",
    "        final[idx, 0] = 10**v     \r\n",
    "        final[idx, 1:] = (np.asarray(output) <= 0.05).sum(axis=2).sum(axis=0) / (loop_count*num_processors)\r\n",
    "        print(final[idx])\r\n",
    "\r\n",
    "    containerstr = str(hierarchy).translate({ord(','):ord('_'), ord('['):None, ord(']'):None, ord(' '):None})\r\n",
    "    filename = containerstr + \"data_\" + distributions + \".csv\"\r\n",
    "    np.savetxt(os.path.join(folder, filename), final, delimiter=',') \r\n",
    "\r\n",
    "    p.close()\r\n"
   ]
  },
  {
   "cell_type": "code",
   "execution_count": 14,
   "metadata": {},
   "outputs": [
    {
     "name": "stdout",
     "output_type": "stream",
     "text": [
      "[[1.00000000e-02 5.14403292e-02 3.43915344e-02 4.78150108e-02]\n",
      " [1.00000000e-01 5.35959240e-02 3.34117186e-02 4.92847345e-02]\n",
      " [3.16227766e-01 4.95786792e-02 3.29218107e-02 4.71291397e-02]\n",
      " [1.00000000e+00 5.20282187e-02 3.26278660e-02 4.85988634e-02]\n",
      " [3.16227766e+00 6.36880267e-02 3.15500686e-02 4.80109739e-02]\n",
      " [1.00000000e+01 6.53537135e-02 2.84146580e-02 4.50715266e-02]\n",
      " [1.00000000e+02 5.51636292e-02 3.07662160e-02 4.85008818e-02]]\n"
     ]
    }
   ],
   "source": [
    "print(final)\r\n"
   ]
  },
  {
   "cell_type": "code",
   "execution_count": 15,
   "metadata": {},
   "outputs": [],
   "source": [
    "hierarchy = [2, 4, 3]\r\n",
    "\r\n",
    "bootstraps = 500\r\n",
    "permutations = 'all'\r\n",
    "treatment_col = 0\r\n",
    "compare = \"means\"\r\n",
    "\r\n",
    "loop_count = 729\r\n",
    "\r\n",
    "worker = partial(\r\n",
    "poweranalysis,\r\n",
    "compare=compare,\r\n",
    "loops=loop_count,\r\n",
    "treatment_col=treatment_col,\r\n",
    "bootstraps = bootstraps,\r\n",
    "permutations = permutations)"
   ]
  },
  {
   "cell_type": "code",
   "execution_count": 16,
   "metadata": {},
   "outputs": [],
   "source": [
    "distributions = \"lognorm_lognorm_\""
   ]
  },
  {
   "cell_type": "code",
   "execution_count": 17,
   "metadata": {},
   "outputs": [
    {
     "name": "stdout",
     "output_type": "stream",
     "text": [
      "[0.01       0.05144033 0.02596512 0.03889869]\n",
      "[0.1        0.05349794 0.02684695 0.03889869]\n",
      "[0.31622777 0.05330198 0.02821869 0.03889869]\n",
      "[1.         0.05006859 0.02802273 0.03978052]\n",
      "[3.16227766 0.04281795 0.01989026 0.02939447]\n",
      "[10.          0.05134235  0.01959632  0.03164805]\n",
      "[1.00000000e+02 5.48696845e-02 1.67548501e-02 2.86106212e-02]\n",
      "Wall time: 8min 4s\n"
     ]
    }
   ],
   "source": [
    "%%time\r\n",
    "\r\n",
    "loop_count = 729\r\n",
    "\r\n",
    "\r\n",
    "interclass_corr = [-2, -1, -0.5, 0, 0.5, 1, 2]\r\n",
    "seed = tuple(i for i in range(28, 35))\r\n",
    "final = np.empty((len(interclass_corr), 4))\r\n",
    "\r\n",
    "  \r\n",
    "\r\n",
    "if __name__ ==  '__main__': \r\n",
    "    num_processors = 14\r\n",
    "\r\n",
    "    containers = [hierarchy] * num_processors\r\n",
    "\r\n",
    "    p=Pool(processes = num_processors)\r\n",
    "\r\n",
    "    for idx, v in enumerate(interclass_corr):\r\n",
    "\r\n",
    "        paramlist = [[0, 0], [stats.lognorm, 1, 0, 10**v], [stats.lognorm, 1]]\r\n",
    "        paramlist = [paramlist] * num_processors\r\n",
    "\r\n",
    "        ss = np.random.SeedSequence(seedlist[seed[idx]])\r\n",
    "        child_seeds = ss.spawn(num_processors)\r\n",
    "        seeds = [np.random.default_rng(s) for s in child_seeds]\r\n",
    "\r\n",
    "        output = p.starmap(worker, zip(containers, paramlist, seeds))\r\n",
    "\r\n",
    "        final[idx, 0] = 10**v     \r\n",
    "        final[idx, 1:] = (np.asarray(output) <= 0.05).sum(axis=2).sum(axis=0) / (loop_count*num_processors)\r\n",
    "        print(final[idx])\r\n",
    "\r\n",
    "    containerstr = str(hierarchy).translate({ord(','):ord('_'), ord('['):None, ord(']'):None, ord(' '):None})\r\n",
    "    filename = containerstr + \"data_\" + distributions + \".csv\"\r\n",
    "    np.savetxt(os.path.join(folder, filename), final, delimiter=',') \r\n",
    "\r\n",
    "    p.close()\r\n"
   ]
  },
  {
   "cell_type": "code",
   "execution_count": 18,
   "metadata": {},
   "outputs": [
    {
     "name": "stdout",
     "output_type": "stream",
     "text": [
      "[[1.00000000e-02 5.14403292e-02 2.59651186e-02 3.88986870e-02]\n",
      " [1.00000000e-01 5.34979424e-02 2.68469528e-02 3.88986870e-02]\n",
      " [3.16227766e-01 5.33019792e-02 2.82186949e-02 3.88986870e-02]\n",
      " [1.00000000e+00 5.00685871e-02 2.80227317e-02 3.97805213e-02]\n",
      " [3.16227766e+00 4.28179502e-02 1.98902606e-02 2.93944738e-02]\n",
      " [1.00000000e+01 5.13423476e-02 1.95963159e-02 3.16480502e-02]\n",
      " [1.00000000e+02 5.48696845e-02 1.67548501e-02 2.86106212e-02]]\n"
     ]
    }
   ],
   "source": [
    "print(final)\r\n"
   ]
  },
  {
   "cell_type": "code",
   "execution_count": 19,
   "metadata": {},
   "outputs": [],
   "source": [
    "distributions = \"norm_norm_\""
   ]
  },
  {
   "cell_type": "code",
   "execution_count": 20,
   "metadata": {},
   "outputs": [
    {
     "name": "stdout",
     "output_type": "stream",
     "text": [
      "[0.01       0.05291005 0.04350382 0.05202822]\n",
      "[0.1        0.05300803 0.04056437 0.05144033]\n",
      "[0.31622777 0.05173427 0.0409563  0.05075446]\n",
      "[1.         0.04830492 0.03850676 0.04771703]\n",
      "[3.16227766 0.04644327 0.03860474 0.04614932]\n",
      "[10.          0.05437978  0.04105428  0.05065648]\n",
      "[1.00000000e+02 5.71232608e-02 3.97805213e-02 4.86968450e-02]\n",
      "Wall time: 8min 11s\n"
     ]
    }
   ],
   "source": [
    "%%time\r\n",
    "\r\n",
    "loop_count = 729\r\n",
    "\r\n",
    "\r\n",
    "interclass_corr = [-2, -1, -0.5, 0, 0.5, 1, 2]\r\n",
    "seed = tuple(i for i in range(35, 42))\r\n",
    "final = np.empty((len(interclass_corr), 4))\r\n",
    "\r\n",
    "  \r\n",
    "\r\n",
    "if __name__ ==  '__main__': \r\n",
    "    num_processors = 14\r\n",
    "\r\n",
    "    containers = [hierarchy] * num_processors\r\n",
    "\r\n",
    "    p=Pool(processes = num_processors)\r\n",
    "\r\n",
    "    for idx, v in enumerate(interclass_corr):\r\n",
    "\r\n",
    "        paramlist = [[0, 0], [stats.norm, 0, 10**v], [stats.norm, 0, 1]]\r\n",
    "        paramlist = [paramlist] * num_processors\r\n",
    "\r\n",
    "        ss = np.random.SeedSequence(seedlist[seed[idx]])\r\n",
    "        child_seeds = ss.spawn(num_processors)\r\n",
    "        seeds = [np.random.default_rng(s) for s in child_seeds]\r\n",
    "\r\n",
    "        output = p.starmap(worker, zip(containers, paramlist, seeds))\r\n",
    "\r\n",
    "        final[idx, 0] = 10**v     \r\n",
    "        final[idx, 1:] = (np.asarray(output) <= 0.05).sum(axis=2).sum(axis=0) / (loop_count*num_processors)\r\n",
    "        print(final[idx])\r\n",
    "\r\n",
    "    containerstr = str(hierarchy).translate({ord(','):ord('_'), ord('['):None, ord(']'):None, ord(' '):None})\r\n",
    "    filename = containerstr + \"data_\" + distributions + \".csv\"\r\n",
    "    np.savetxt(os.path.join(folder, filename), final, delimiter=',') \r\n",
    "\r\n",
    "    p.close()\r\n"
   ]
  },
  {
   "cell_type": "code",
   "execution_count": 21,
   "metadata": {},
   "outputs": [
    {
     "name": "stdout",
     "output_type": "stream",
     "text": [
      "[[1.00000000e-02 5.29100529e-02 4.35038213e-02 5.20282187e-02]\n",
      " [1.00000000e-01 5.30080345e-02 4.05643739e-02 5.14403292e-02]\n",
      " [3.16227766e-01 5.17342740e-02 4.09563002e-02 5.07544582e-02]\n",
      " [1.00000000e+00 4.83049187e-02 3.85067607e-02 4.77170292e-02]\n",
      " [3.16227766e+00 4.64432687e-02 3.86047423e-02 4.61493239e-02]\n",
      " [1.00000000e+01 5.43797766e-02 4.10542818e-02 5.06564766e-02]\n",
      " [1.00000000e+02 5.71232608e-02 3.97805213e-02 4.86968450e-02]]\n"
     ]
    }
   ],
   "source": [
    "print(final)\r\n"
   ]
  },
  {
   "cell_type": "code",
   "execution_count": 22,
   "metadata": {},
   "outputs": [],
   "source": [
    "distributions = \"pareto_pareto_\""
   ]
  },
  {
   "cell_type": "code",
   "execution_count": 23,
   "metadata": {},
   "outputs": [
    {
     "name": "stdout",
     "output_type": "stream",
     "text": [
      "[0.01       0.05006859 0.02361356 0.03507741]\n",
      "[0.1        0.04977464 0.02429943 0.03556731]\n",
      "[0.31622777 0.05251813 0.02586714 0.03880071]\n",
      "[1.         0.04957868 0.02684695 0.03929061]\n",
      "[3.16227766 0.04683519 0.02087008 0.03272585]\n",
      "[10.          0.04546345  0.01567705  0.0249853 ]\n",
      "[1.00000000e+02 5.84950029e-02 1.71467764e-02 2.97864002e-02]\n",
      "Wall time: 7min 59s\n"
     ]
    }
   ],
   "source": [
    "%%time\r\n",
    "\r\n",
    "loop_count = 729\r\n",
    "\r\n",
    "\r\n",
    "interclass_corr = [-2, -1, -0.5, 0, 0.5, 1, 2]\r\n",
    "seed = tuple(i for i in range(42, 49))\r\n",
    "final = np.empty((len(interclass_corr), 4))\r\n",
    "\r\n",
    "  \r\n",
    "\r\n",
    "if __name__ ==  '__main__': \r\n",
    "    num_processors = 14\r\n",
    "\r\n",
    "    containers = [hierarchy] * num_processors\r\n",
    "\r\n",
    "    p=Pool(processes = num_processors)\r\n",
    "\r\n",
    "    for idx, v in enumerate(interclass_corr):\r\n",
    "\r\n",
    "        paramlist = [[0, 0], [stats.pareto, 2.839, 0, 10**v], [stats.pareto, 2.839]]\r\n",
    "        paramlist = [paramlist] * num_processors\r\n",
    "\r\n",
    "        ss = np.random.SeedSequence(seedlist[seed[idx]])\r\n",
    "        child_seeds = ss.spawn(num_processors)\r\n",
    "        seeds = [np.random.default_rng(s) for s in child_seeds]\r\n",
    "\r\n",
    "        output = p.starmap(worker, zip(containers, paramlist, seeds))\r\n",
    "\r\n",
    "        final[idx, 0] = 10**v     \r\n",
    "        final[idx, 1:] = (np.asarray(output) <= 0.05).sum(axis=2).sum(axis=0) / (loop_count*num_processors)\r\n",
    "        print(final[idx])\r\n",
    "\r\n",
    "    containerstr = str(hierarchy).translate({ord(','):ord('_'), ord('['):None, ord(']'):None, ord(' '):None})\r\n",
    "    filename = containerstr + \"data_\" + distributions + \".csv\"\r\n",
    "    np.savetxt(os.path.join(folder, filename), final, delimiter=',') \r\n",
    "\r\n",
    "    p.close()\r\n"
   ]
  },
  {
   "cell_type": "code",
   "execution_count": 24,
   "metadata": {},
   "outputs": [
    {
     "name": "stdout",
     "output_type": "stream",
     "text": [
      "[[1.00000000e-02 5.00685871e-02 2.36135607e-02 3.50774054e-02]\n",
      " [1.00000000e-01 4.97746424e-02 2.42994317e-02 3.55673133e-02]\n",
      " [3.16227766e-01 5.25181266e-02 2.58671370e-02 3.88007055e-02]\n",
      " [1.00000000e+00 4.95786792e-02 2.68469528e-02 3.92906134e-02]\n",
      " [3.16227766e+00 4.68351950e-02 2.08700764e-02 3.27258475e-02]\n",
      " [1.00000000e+01 4.54634529e-02 1.56770527e-02 2.49853028e-02]\n",
      " [1.00000000e+02 5.84950029e-02 1.71467764e-02 2.97864002e-02]]\n"
     ]
    }
   ],
   "source": [
    "print(final)"
   ]
  },
  {
   "cell_type": "code",
   "execution_count": 25,
   "metadata": {},
   "outputs": [],
   "source": [
    "distributions = \"gamma_gamma_\""
   ]
  },
  {
   "cell_type": "code",
   "execution_count": 26,
   "metadata": {},
   "outputs": [
    {
     "name": "stdout",
     "output_type": "stream",
     "text": [
      "[0.01       0.05310602 0.03860474 0.04879483]\n",
      "[0.1        0.05281207 0.0398785  0.04997061]\n",
      "[0.31622777 0.0484029  0.03703704 0.04663923]\n",
      "[1.         0.05114638 0.03840878 0.04899079]\n",
      "[3.16227766 0.05085244 0.03517539 0.04624731]\n",
      "[10.          0.05310602  0.0308642   0.04320988]\n",
      "[1.00000000e+02 5.47717029e-02 3.04722712e-02 4.09563002e-02]\n",
      "Wall time: 7min 58s\n"
     ]
    }
   ],
   "source": [
    "%%time\r\n",
    "\r\n",
    "loop_count = 729\r\n",
    "\r\n",
    "\r\n",
    "interclass_corr = [-2, -1, -0.5, 0, 0.5, 1, 2]\r\n",
    "seed = tuple(i for i in range(49, 56))\r\n",
    "final = np.empty((len(interclass_corr), 4))\r\n",
    "\r\n",
    "  \r\n",
    "\r\n",
    "if __name__ ==  '__main__': \r\n",
    "    num_processors = 14\r\n",
    "\r\n",
    "    containers = [hierarchy] * num_processors\r\n",
    "\r\n",
    "    p=Pool(processes = num_processors)\r\n",
    "\r\n",
    "    for idx, v in enumerate(interclass_corr):\r\n",
    "\r\n",
    "\r\n",
    "        paramlist = [[0, 0], [stats.gamma, 2, 0, 10**v], [stats.gamma, 2]]\r\n",
    "        paramlist = [paramlist] * num_processors\r\n",
    "\r\n",
    "        ss = np.random.SeedSequence(seedlist[seed[idx]])\r\n",
    "        child_seeds = ss.spawn(num_processors)\r\n",
    "        seeds = [np.random.default_rng(s) for s in child_seeds]\r\n",
    "\r\n",
    "        output = p.starmap(worker, zip(containers, paramlist, seeds))\r\n",
    "\r\n",
    "        final[idx, 0] = 10**v     \r\n",
    "        final[idx, 1:] = (np.asarray(output) <= 0.05).sum(axis=2).sum(axis=0) / (loop_count*num_processors)\r\n",
    "        print(final[idx])\r\n",
    "\r\n",
    "    containerstr = str(hierarchy).translate({ord(','):ord('_'), ord('['):None, ord(']'):None, ord(' '):None})\r\n",
    "    filename = containerstr + \"data_\" + distributions + \".csv\"\r\n",
    "    np.savetxt(os.path.join(folder, filename), final, delimiter=',') \r\n",
    "\r\n",
    "    p.close()\r\n"
   ]
  },
  {
   "cell_type": "code",
   "execution_count": 27,
   "metadata": {},
   "outputs": [
    {
     "name": "stdout",
     "output_type": "stream",
     "text": [
      "[[1.00000000e-02 5.31060161e-02 3.86047423e-02 4.87948266e-02]\n",
      " [1.00000000e-01 5.28120713e-02 3.98785028e-02 4.99706055e-02]\n",
      " [3.16227766e-01 4.84029003e-02 3.70370370e-02 4.66392318e-02]\n",
      " [1.00000000e+00 5.11463845e-02 3.84087791e-02 4.89907897e-02]\n",
      " [3.16227766e+00 5.08524397e-02 3.51753870e-02 4.62473055e-02]\n",
      " [1.00000000e+01 5.31060161e-02 3.08641975e-02 4.32098765e-02]\n",
      " [1.00000000e+02 5.47717029e-02 3.04722712e-02 4.09563002e-02]]\n"
     ]
    }
   ],
   "source": [
    "print(final)"
   ]
  },
  {
   "cell_type": "code",
   "execution_count": 28,
   "metadata": {},
   "outputs": [],
   "source": [
    "hierarchy = [3, 2, 4, 3]\r\n",
    "\r\n",
    "bootstraps = 100\r\n",
    "permutations = 1000\r\n",
    "treatment_col = 1\r\n",
    "compare = \"means\"\r\n",
    "\r\n",
    "loop_count = 729\r\n",
    "\r\n",
    "worker = partial(\r\n",
    "poweranalysis,\r\n",
    "compare=compare,\r\n",
    "loops=loop_count,\r\n",
    "treatment_col=treatment_col,\r\n",
    "bootstraps = bootstraps,\r\n",
    "permutations = permutations)"
   ]
  },
  {
   "cell_type": "code",
   "execution_count": 29,
   "metadata": {},
   "outputs": [],
   "source": [
    "distributions = \"lognorm_lognorm_\""
   ]
  },
  {
   "cell_type": "code",
   "execution_count": 30,
   "metadata": {},
   "outputs": [
    {
     "name": "stdout",
     "output_type": "stream",
     "text": [
      "[0.01       0.05222418 0.03664511 0.04076034]\n",
      "[0.1        0.053204   0.03595924 0.0409563 ]\n",
      "[0.31622777 0.04889281 0.03262787 0.03605722]\n",
      "[1.         0.04546345 0.02224182 0.02459338]\n",
      "[3.16227766 0.04938272 0.01714678 0.01989026]\n",
      "[10.          0.05330198  0.015971    0.01842054]\n",
      "[1.00000000e+02 5.40858319e-02 1.63629238e-02 1.92043896e-02]\n",
      "Wall time: 15min 39s\n"
     ]
    }
   ],
   "source": [
    "%%time\r\n",
    "\r\n",
    "loop_count = 729\r\n",
    "\r\n",
    "\r\n",
    "interclass_corr = [-2, -1, -0.5, 0, 0.5, 1, 2]\r\n",
    "seed = tuple(i for i in range(56, 63))\r\n",
    "final = np.empty((len(interclass_corr), 4))\r\n",
    "\r\n",
    "  \r\n",
    "\r\n",
    "if __name__ ==  '__main__': \r\n",
    "    num_processors = 14\r\n",
    "    \r\n",
    "    containers = [hierarchy] * num_processors\r\n",
    "\r\n",
    "\r\n",
    "    p=Pool(processes = num_processors)\r\n",
    "\r\n",
    "    for idx, v in enumerate(interclass_corr):\r\n",
    "         \r\n",
    "\r\n",
    "        paramlist = [[stats.lognorm, 1, 0, 10**v], [0, 0]*3, [stats.lognorm, 1, 0, 10**v], [stats.lognorm, 1]]\r\n",
    "        paramlist = [paramlist] * num_processors\r\n",
    "\r\n",
    "        ss = np.random.SeedSequence(seedlist[seed[idx]])\r\n",
    "        child_seeds = ss.spawn(num_processors)\r\n",
    "        seeds = [np.random.default_rng(s) for s in child_seeds]\r\n",
    "\r\n",
    "        output = p.starmap(worker, zip(containers, paramlist, seeds))\r\n",
    "\r\n",
    "        final[idx, 0] = 10**v     \r\n",
    "        final[idx, 1:] = (np.asarray(output) <= 0.05).sum(axis=2).sum(axis=0) / (loop_count*num_processors)\r\n",
    "        print(final[idx])\r\n",
    "\r\n",
    "\r\n",
    "    containerstr = str(hierarchy).translate({ord(','):ord('_'), ord('['):None, ord(']'):None, ord(' '):None})\r\n",
    "    filename = containerstr + \"data_\" + distributions + \".csv\"\r\n",
    "    np.savetxt(os.path.join(folder, filename), final, delimiter=',') \r\n",
    "\r\n",
    "    p.close()\r\n"
   ]
  },
  {
   "cell_type": "code",
   "execution_count": 31,
   "metadata": {},
   "outputs": [
    {
     "name": "stdout",
     "output_type": "stream",
     "text": [
      "[[1.00000000e-02 5.22241819e-02 3.66451107e-02 4.07603371e-02]\n",
      " [1.00000000e-01 5.32039976e-02 3.59592397e-02 4.09563002e-02]\n",
      " [3.16227766e-01 4.88928082e-02 3.26278660e-02 3.60572212e-02]\n",
      " [1.00000000e+00 4.54634529e-02 2.22418185e-02 2.45933764e-02]\n",
      " [3.16227766e+00 4.93827160e-02 1.71467764e-02 1.98902606e-02]\n",
      " [1.00000000e+01 5.33019792e-02 1.59709975e-02 1.84205369e-02]\n",
      " [1.00000000e+02 5.40858319e-02 1.63629238e-02 1.92043896e-02]]\n"
     ]
    }
   ],
   "source": [
    "print(final)"
   ]
  },
  {
   "cell_type": "code",
   "execution_count": 32,
   "metadata": {},
   "outputs": [],
   "source": [
    "distributions = \"norm_norm_\""
   ]
  },
  {
   "cell_type": "code",
   "execution_count": 33,
   "metadata": {},
   "outputs": [
    {
     "name": "stdout",
     "output_type": "stream",
     "text": [
      "[0.01       0.0505585  0.04869684 0.05016657]\n",
      "[0.1        0.04761905 0.04546345 0.04683519]\n",
      "[0.31622777 0.0446796  0.03791887 0.03870272]\n",
      "[1.         0.04556143 0.02410347 0.02478934]\n",
      "[3.16227766 0.04957868 0.01910641 0.01989026]\n",
      "[10.          0.04654125  0.01851852  0.01910641]\n",
      "[1.00000000e+02 4.69331766e-02 1.96942975e-02 2.00862238e-02]\n",
      "Wall time: 20min 21s\n"
     ]
    }
   ],
   "source": [
    "%%time\r\n",
    "\r\n",
    "loop_count = 729\r\n",
    "\r\n",
    "\r\n",
    "interclass_corr = [-2, -1, -0.5, 0, 0.5, 1, 2]\r\n",
    "seed = tuple(i for i in range(63, 70))\r\n",
    "final = np.empty((len(interclass_corr), 4))\r\n",
    "\r\n",
    "  \r\n",
    "\r\n",
    "if __name__ ==  '__main__': \r\n",
    "    num_processors = 14\r\n",
    "\r\n",
    "    containers = [hierarchy] * num_processors\r\n",
    "\r\n",
    "    p=Pool(processes = num_processors)\r\n",
    "\r\n",
    "    for idx, v in enumerate(interclass_corr):\r\n",
    "         \r\n",
    "\r\n",
    "        paramlist = [[stats.norm, 0, 10**v], [0, 0]*3, [stats.norm, 0, 10**v], [stats.norm]]\r\n",
    "        paramlist = [paramlist] * num_processors\r\n",
    "\r\n",
    "        ss = np.random.SeedSequence(seedlist[seed[idx]])\r\n",
    "        child_seeds = ss.spawn(num_processors)\r\n",
    "        seeds = [np.random.default_rng(s) for s in child_seeds]\r\n",
    "\r\n",
    "        output = p.starmap(worker, zip(containers, paramlist, seeds))\r\n",
    "\r\n",
    "        final[idx, 0] = 10**v     \r\n",
    "        final[idx, 1:] = (np.asarray(output) <= 0.05).sum(axis=2).sum(axis=0) / (loop_count*num_processors)\r\n",
    "        print(final[idx])\r\n",
    "\r\n",
    "    containerstr = str(hierarchy).translate({ord(','):ord('_'), ord('['):None, ord(']'):None, ord(' '):None})\r\n",
    "    filename = containerstr + \"data_\" + distributions + \".csv\"\r\n",
    "    np.savetxt(os.path.join(folder, filename), final, delimiter=',') \r\n",
    "\r\n",
    "    p.close()\r\n"
   ]
  },
  {
   "cell_type": "code",
   "execution_count": 34,
   "metadata": {},
   "outputs": [
    {
     "name": "stdout",
     "output_type": "stream",
     "text": [
      "[[1.00000000e-02 5.05584950e-02 4.86968450e-02 5.01665687e-02]\n",
      " [1.00000000e-01 4.76190476e-02 4.54634529e-02 4.68351950e-02]\n",
      " [3.16227766e-01 4.46796002e-02 3.79188713e-02 3.87027239e-02]\n",
      " [1.00000000e+00 4.55614345e-02 2.41034685e-02 2.47893396e-02]\n",
      " [3.16227766e+00 4.95786792e-02 1.91064080e-02 1.98902606e-02]\n",
      " [1.00000000e+01 4.65412502e-02 1.85185185e-02 1.91064080e-02]\n",
      " [1.00000000e+02 4.69331766e-02 1.96942975e-02 2.00862238e-02]]\n"
     ]
    }
   ],
   "source": [
    "print(final)\r\n"
   ]
  },
  {
   "cell_type": "code",
   "execution_count": 35,
   "metadata": {},
   "outputs": [],
   "source": [
    "distributions = \"pareto_pareto_\""
   ]
  },
  {
   "cell_type": "code",
   "execution_count": 36,
   "metadata": {},
   "outputs": [
    {
     "name": "stdout",
     "output_type": "stream",
     "text": [
      "[0.01       0.0510484  0.03203998 0.03693906]\n",
      "[0.1        0.05251813 0.03488144 0.0398785 ]\n",
      "[0.31622777 0.04889281 0.02763081 0.03106016]\n",
      "[1.         0.04899079 0.02263374 0.02547521]\n",
      "[3.16227766 0.04742308 0.01567705 0.01812659]\n",
      "[10.          0.05359592  0.01636292  0.01920439]\n",
      "[1.00000000e+02 4.74230845e-02 1.24436606e-02 1.56770527e-02]\n",
      "Wall time: 15min 41s\n"
     ]
    }
   ],
   "source": [
    "%%time\r\n",
    "\r\n",
    "loop_count = 729\r\n",
    "\r\n",
    "\r\n",
    "interclass_corr = [-2, -1, -0.5, 0, 0.5, 1, 2]\r\n",
    "seed = tuple(i for i in range(70, 77))\r\n",
    "final = np.empty((len(interclass_corr), 4))\r\n",
    "\r\n",
    "  \r\n",
    "\r\n",
    "if __name__ ==  '__main__': \r\n",
    "    num_processors = 14\r\n",
    "\r\n",
    "    containers = [hierarchy] * num_processors\r\n",
    "\r\n",
    "    p=Pool(processes = num_processors)\r\n",
    "\r\n",
    "    for idx, v in enumerate(interclass_corr):\r\n",
    "\r\n",
    "        paramlist = [[stats.pareto, 2.839, 0, 10**v], [0, 0]*3, [stats.pareto, 2.839, 0, 10**v], [stats.pareto, 2.839]]\r\n",
    "        paramlist = [paramlist] * num_processors\r\n",
    "\r\n",
    "        ss = np.random.SeedSequence(seedlist[seed[idx]])\r\n",
    "        child_seeds = ss.spawn(num_processors)\r\n",
    "        seeds = [np.random.default_rng(s) for s in child_seeds]\r\n",
    "\r\n",
    "        output = p.starmap(worker, zip(containers, paramlist, seeds))\r\n",
    "\r\n",
    "        final[idx, 0] = 10**v     \r\n",
    "        final[idx, 1:] = (np.asarray(output) <= 0.05).sum(axis=2).sum(axis=0) / (loop_count*num_processors)\r\n",
    "        print(final[idx])\r\n",
    "\r\n",
    "    containerstr = str(hierarchy).translate({ord(','):ord('_'), ord('['):None, ord(']'):None, ord(' '):None})\r\n",
    "    filename = containerstr + \"data_\" + distributions + \".csv\"\r\n",
    "    np.savetxt(os.path.join(folder, filename), final, delimiter=',') \r\n",
    "\r\n",
    "    p.close()\r\n",
    "\r\n"
   ]
  },
  {
   "cell_type": "code",
   "execution_count": 37,
   "metadata": {},
   "outputs": [
    {
     "name": "stdout",
     "output_type": "stream",
     "text": [
      "[[1.00000000e-02 5.10484029e-02 3.20399765e-02 3.69390555e-02]\n",
      " [1.00000000e-01 5.25181266e-02 3.48814423e-02 3.98785028e-02]\n",
      " [3.16227766e-01 4.88928082e-02 2.76308054e-02 3.10601607e-02]\n",
      " [1.00000000e+00 4.89907897e-02 2.26337449e-02 2.54752107e-02]\n",
      " [3.16227766e+00 4.74230845e-02 1.56770527e-02 1.81265922e-02]\n",
      " [1.00000000e+01 5.35959240e-02 1.63629238e-02 1.92043896e-02]\n",
      " [1.00000000e+02 4.74230845e-02 1.24436606e-02 1.56770527e-02]]\n"
     ]
    }
   ],
   "source": [
    "print(final)"
   ]
  },
  {
   "cell_type": "code",
   "execution_count": 38,
   "metadata": {},
   "outputs": [],
   "source": [
    "distributions = \"gamma_gamma_\""
   ]
  },
  {
   "cell_type": "code",
   "execution_count": 39,
   "metadata": {},
   "outputs": [
    {
     "name": "stdout",
     "output_type": "stream",
     "text": [
      "[0.01       0.04820694 0.04477758 0.04654125]\n",
      "[0.1        0.05124437 0.04546345 0.04742308]\n",
      "[0.31622777 0.04507153 0.03586126 0.03664511]\n",
      "[1.         0.04340584 0.02214384 0.0234176 ]\n",
      "[3.16227766 0.04820694 0.01949833 0.01998824]\n",
      "[10.          0.05163629  0.01881246  0.01930237]\n",
      "[1.00000000e+02 4.57573976e-02 1.83225554e-02 1.93023712e-02]\n",
      "Wall time: 16min 23s\n"
     ]
    }
   ],
   "source": [
    "%%time\r\n",
    "\r\n",
    "loop_count = 729\r\n",
    "\r\n",
    "\r\n",
    "interclass_corr = [-2, -1, -0.5, 0, 0.5, 1, 2]\r\n",
    "seed = tuple(i for i in range(77, 84))\r\n",
    "final = np.empty((len(interclass_corr), 4))\r\n",
    "\r\n",
    "  \r\n",
    "\r\n",
    "if __name__ ==  '__main__': \r\n",
    "    num_processors = 14\r\n",
    "\r\n",
    "    containers = [hierarchy] * num_processors\r\n",
    "\r\n",
    "    p=Pool(processes = num_processors)\r\n",
    "\r\n",
    "    for idx, v in enumerate(interclass_corr):\r\n",
    "\r\n",
    "        paramlist = [[stats.gamma, 2, 0, 10**v], [0, 0]*3, [stats.gamma, 2, 0, 10**v], [stats.gamma, 2]]\r\n",
    "        paramlist = [paramlist] * num_processors\r\n",
    "\r\n",
    "        ss = np.random.SeedSequence(seedlist[seed[idx]])\r\n",
    "        child_seeds = ss.spawn(num_processors)\r\n",
    "        seeds = [np.random.default_rng(s) for s in child_seeds]\r\n",
    "\r\n",
    "        output = p.starmap(worker, zip(containers, paramlist, seeds))\r\n",
    "\r\n",
    "        final[idx, 0] = 10**v     \r\n",
    "        final[idx, 1:] = (np.asarray(output) <= 0.05).sum(axis=2).sum(axis=0) / (loop_count*num_processors)\r\n",
    "        print(final[idx])\r\n",
    "\r\n",
    "\r\n",
    "    containerstr = str(hierarchy).translate({ord(','):ord('_'), ord('['):None, ord(']'):None, ord(' '):None})\r\n",
    "    filename = containerstr + \"data_\" + distributions + \".csv\"\r\n",
    "    np.savetxt(os.path.join(folder, filename), final, delimiter=',') \r\n",
    "\r\n",
    "    p.close()\r\n",
    "\r\n"
   ]
  },
  {
   "cell_type": "code",
   "execution_count": 40,
   "metadata": {},
   "outputs": [
    {
     "name": "stdout",
     "output_type": "stream",
     "text": [
      "[[1.00000000e-02 4.82069371e-02 4.47775818e-02 4.65412502e-02]\n",
      " [1.00000000e-01 5.12443661e-02 4.54634529e-02 4.74230845e-02]\n",
      " [3.16227766e-01 4.50715266e-02 3.58612581e-02 3.66451107e-02]\n",
      " [1.00000000e+00 4.34058397e-02 2.21438370e-02 2.34175975e-02]\n",
      " [3.16227766e+00 4.82069371e-02 1.94983343e-02 1.99882422e-02]\n",
      " [1.00000000e+01 5.16362924e-02 1.88124633e-02 1.93023712e-02]\n",
      " [1.00000000e+02 4.57573976e-02 1.83225554e-02 1.93023712e-02]]\n"
     ]
    }
   ],
   "source": [
    "print(final)\r\n"
   ]
  },
  {
   "cell_type": "code",
   "execution_count": 41,
   "metadata": {},
   "outputs": [],
   "source": [
    "folder = os.path.abspath('hierarch size control_t var')"
   ]
  },
  {
   "cell_type": "code",
   "execution_count": 42,
   "metadata": {},
   "outputs": [],
   "source": [
    "hierarchy = [2,3,3]\r\n",
    "\r\n",
    "bootstraps = 500\r\n",
    "permutations = 'all'\r\n",
    "treatment_col = 0\r\n",
    "compare = \"means\"\r\n",
    "\r\n",
    "loop_count = 729\r\n",
    "\r\n",
    "worker = partial(\r\n",
    "poweranalysis,\r\n",
    "compare=compare,\r\n",
    "loops=loop_count,\r\n",
    "treatment_col=treatment_col,\r\n",
    "bootstraps = bootstraps,\r\n",
    "permutations = permutations)"
   ]
  },
  {
   "cell_type": "code",
   "execution_count": 43,
   "metadata": {},
   "outputs": [],
   "source": [
    "distributions = \"lognorm_lognorm_\""
   ]
  },
  {
   "cell_type": "code",
   "execution_count": 44,
   "metadata": {},
   "outputs": [
    {
     "name": "stdout",
     "output_type": "stream",
     "text": [
      "[0.01       0.04977464 0.02449539 0.03889869]\n",
      "[0.1        0.05349794 0.02596512 0.0420341 ]\n",
      "[0.31622777 0.04605134 0.02616108 0.03840878]\n",
      "[1.         0.04654125 0.02478934 0.03958456]\n",
      "[3.16227766 0.05575152 0.02322163 0.03801685]\n",
      "[10.          0.06427592  0.02420145  0.03889869]\n",
      "[1.00000000e+02 5.82990398e-02 1.93023712e-02 3.38036449e-02]\n",
      "Wall time: 2min 45s\n"
     ]
    }
   ],
   "source": [
    "%%time\r\n",
    "\r\n",
    "\r\n",
    "interclass_corr = [-2, -1, -0.5, 0, 0.5, 1, 2]\r\n",
    "seed = tuple(i for i in range(84, 91))\r\n",
    "final = np.empty((len(interclass_corr), 4))\r\n",
    "\r\n",
    "  \r\n",
    "\r\n",
    "if __name__ ==  '__main__': \r\n",
    "    num_processors = 14\r\n",
    "\r\n",
    "    containers = [hierarchy] * num_processors\r\n",
    "\r\n",
    "    p=Pool(processes = num_processors)\r\n",
    "\r\n",
    "    for idx, v in enumerate(interclass_corr):\r\n",
    "        t_1 = [stats.lognorm, 1, 0, (10**v)]\r\n",
    "\r\n",
    "        loc_correction_3 = stats.lognorm.mean(1, 0, (10**v)) - stats.lognorm.mean(1, 0, 1.224*(10**v))\r\n",
    "\r\n",
    "        t_3 = [stats.lognorm, 1, loc_correction_3, 1.224*(10**v)]\r\n",
    "\r\n",
    "        paramlist = [[stats.norm, 0, 0],  [t_1]*hierarchy[1] + [t_3]*hierarchy[1], [stats.lognorm, 1]]\r\n",
    "        paramlist = [paramlist] * num_processors\r\n",
    "\r\n",
    "        ss = np.random.SeedSequence(seedlist[seed[idx]])\r\n",
    "        child_seeds = ss.spawn(num_processors)\r\n",
    "        seeds = [np.random.default_rng(s) for s in child_seeds]\r\n",
    "\r\n",
    "        output = p.starmap(worker, zip(containers, paramlist, seeds))\r\n",
    "\r\n",
    "        final[idx, 0] = 10**v    \r\n",
    "        final[idx, 1:] = (np.asarray(output) <= 0.05).sum(axis=2).sum(axis=0) / (loop_count*num_processors)\r\n",
    "        print(final[idx])\r\n",
    "\r\n",
    "    containerstr = str(hierarchy).translate({ord(','):ord('_'), ord('['):None, ord(']'):None, ord(' '):None})\r\n",
    "    filename = containerstr + \"data_\" + distributions + \".csv\"\r\n",
    "    np.savetxt(os.path.join(folder, filename), final, delimiter=',') \r\n",
    "\r\n",
    "    p.close()\r\n",
    "\r\n"
   ]
  },
  {
   "cell_type": "code",
   "execution_count": 45,
   "metadata": {},
   "outputs": [],
   "source": [
    "distributions = \"norm_norm_\""
   ]
  },
  {
   "cell_type": "code",
   "execution_count": 46,
   "metadata": {},
   "outputs": [
    {
     "name": "stdout",
     "output_type": "stream",
     "text": [
      "[0.01       0.05349794 0.03605722 0.05134235]\n",
      "[0.1        0.05565354 0.03772291 0.053204  ]\n",
      "[0.31622777 0.05075446 0.03331374 0.04889281]\n",
      "[1.         0.05486968 0.03468548 0.0484029 ]\n",
      "[3.16227766 0.06878307 0.03664511 0.05261611]\n",
      "[10.          0.06505977  0.03654713  0.05173427]\n",
      "[1.00000000e+02 5.17342740e-02 3.32157554e-02 5.09504213e-02]\n",
      "Wall time: 2min 55s\n"
     ]
    }
   ],
   "source": [
    "%%time\r\n",
    "\r\n",
    "interclass_corr = [-2, -1, -0.5, 0, 0.5, 1, 2]\r\n",
    "seed = tuple(i for i in range(91, 98))\r\n",
    "final = np.empty((len(interclass_corr), 4))\r\n",
    "\r\n",
    "  \r\n",
    "\r\n",
    "if __name__ ==  '__main__': \r\n",
    "    num_processors = 14\r\n",
    "\r\n",
    "    containers = [hierarchy] * num_processors\r\n",
    "\r\n",
    "    p=Pool(processes = num_processors)\r\n",
    "\r\n",
    "    for idx, v in enumerate(interclass_corr):\r\n",
    "        \r\n",
    "        t_1 = [stats.norm, 0, 10**v]\r\n",
    "  \r\n",
    "        t_3 = [stats.norm, 0, 1.224*(10**v)]\r\n",
    "\r\n",
    "        paramlist = [[stats.norm, 0, 0],  [t_1]*hierarchy[1] + [t_3]*hierarchy[1], [stats.norm, 0, 1]]\r\n",
    "\r\n",
    "        paramlist = [paramlist] * num_processors\r\n",
    "\r\n",
    "        ss = np.random.SeedSequence(seedlist[seed[idx]])\r\n",
    "        child_seeds = ss.spawn(num_processors)\r\n",
    "        seeds = [np.random.default_rng(s) for s in child_seeds]\r\n",
    "\r\n",
    "        output = p.starmap(worker, zip(containers, paramlist, seeds))\r\n",
    "\r\n",
    "        final[idx, 0] = 10**v     \r\n",
    "        final[idx, 1:] = (np.asarray(output) <= 0.05).sum(axis=2).sum(axis=0) / (loop_count*num_processors)\r\n",
    "        print(final[idx])\r\n",
    "\r\n",
    "    containerstr = str(hierarchy).translate({ord(','):ord('_'), ord('['):None, ord(']'):None, ord(' '):None})\r\n",
    "    filename = containerstr + \"data_\" + distributions + \".csv\"\r\n",
    "    np.savetxt(os.path.join(folder, filename), final, delimiter=',') \r\n",
    "\r\n",
    "    p.close()\r\n"
   ]
  },
  {
   "cell_type": "code",
   "execution_count": 47,
   "metadata": {},
   "outputs": [
    {
     "name": "stdout",
     "output_type": "stream",
     "text": [
      "[[1.00000000e-02 5.34979424e-02 3.60572212e-02 5.13423476e-02]\n",
      " [1.00000000e-01 5.56535371e-02 3.77229081e-02 5.32039976e-02]\n",
      " [3.16227766e-01 5.07544582e-02 3.33137370e-02 4.88928082e-02]\n",
      " [1.00000000e+00 5.48696845e-02 3.46854791e-02 4.84029003e-02]\n",
      " [3.16227766e+00 6.87830688e-02 3.66451107e-02 5.26161082e-02]\n",
      " [1.00000000e+01 6.50597688e-02 3.65471291e-02 5.17342740e-02]\n",
      " [1.00000000e+02 5.17342740e-02 3.32157554e-02 5.09504213e-02]]\n"
     ]
    }
   ],
   "source": [
    "print(final)\r\n"
   ]
  },
  {
   "cell_type": "code",
   "execution_count": 48,
   "metadata": {},
   "outputs": [],
   "source": [
    "distributions = \"pareto_pareto_\""
   ]
  },
  {
   "cell_type": "code",
   "execution_count": 49,
   "metadata": {},
   "outputs": [
    {
     "name": "stdout",
     "output_type": "stream",
     "text": [
      "[0.01       0.04977464 0.02439741 0.03821282]\n",
      "[0.1        0.05467372 0.02772879 0.0436018 ]\n",
      "[0.31622777 0.04810896 0.02380952 0.03889869]\n",
      "[1.         0.04634529 0.02586714 0.03742896]\n",
      "[3.16227766 0.05359592 0.02292769 0.03752694]\n",
      "[10.          0.06143445  0.02018421  0.03605722]\n",
      "[1.00000000e+02 6.05526161e-02 2.16539291e-02 3.73309818e-02]\n",
      "Wall time: 2min 57s\n"
     ]
    }
   ],
   "source": [
    "%%time\r\n",
    "\r\n",
    "loop_count = 729\r\n",
    "\r\n",
    "\r\n",
    "interclass_corr = [-2, -1, -0.5, 0, 0.5, 1, 2]\r\n",
    "seed = tuple(i for i in range(98, 105))\r\n",
    "final = np.empty((len(interclass_corr), 4))\r\n",
    "\r\n",
    "  \r\n",
    "\r\n",
    "if __name__ ==  '__main__': \r\n",
    "    num_processors = 14\r\n",
    "\r\n",
    "    containers = [hierarchy] * num_processors\r\n",
    "\r\n",
    "    p=Pool(processes = num_processors)\r\n",
    "\r\n",
    "    for idx, v in enumerate(interclass_corr):\r\n",
    "\r\n",
    "        t_1 = [stats.pareto, 2.839, 0, 10**v]\r\n",
    "\r\n",
    "        loc_correction_3 = stats.pareto.mean(2.839, 0, (10**v)) - stats.pareto.mean(2.839, 0, 1.224*(10**v))\r\n",
    "\r\n",
    "        t_3 = [stats.pareto, 2.839, loc_correction_3, 1.224*(10**v)]\r\n",
    "\r\n",
    "        paramlist = [[stats.norm, 0, 0],  [t_1]*hierarchy[1] + [t_3]*hierarchy[1], [stats.pareto, 2.839]]\r\n",
    "\r\n",
    "        paramlist = [paramlist] * num_processors\r\n",
    "\r\n",
    "        ss = np.random.SeedSequence(seedlist[seed[idx]])\r\n",
    "        child_seeds = ss.spawn(num_processors)\r\n",
    "        seeds = [np.random.default_rng(s) for s in child_seeds]\r\n",
    "\r\n",
    "        output = p.starmap(worker, zip(containers, paramlist, seeds))\r\n",
    "\r\n",
    "        final[idx, 0] = 10**v     \r\n",
    "        final[idx, 1:] = (np.asarray(output) <= 0.05).sum(axis=2).sum(axis=0) / (loop_count*num_processors)\r\n",
    "        print(final[idx])\r\n",
    "\r\n",
    "    containerstr = str(hierarchy).translate({ord(','):ord('_'), ord('['):None, ord(']'):None, ord(' '):None})\r\n",
    "    filename = containerstr + \"data_\" + distributions + \".csv\"\r\n",
    "    np.savetxt(os.path.join(folder, filename), final, delimiter=',') \r\n",
    "\r\n",
    "    p.close()\r\n"
   ]
  },
  {
   "cell_type": "code",
   "execution_count": 50,
   "metadata": {},
   "outputs": [
    {
     "name": "stdout",
     "output_type": "stream",
     "text": [
      "[[1.00000000e-02 4.97746424e-02 2.43974133e-02 3.82128160e-02]\n",
      " [1.00000000e-01 5.46737213e-02 2.77287870e-02 4.36018029e-02]\n",
      " [3.16227766e-01 4.81089555e-02 2.38095238e-02 3.88986870e-02]\n",
      " [1.00000000e+00 4.63452871e-02 2.58671370e-02 3.74289634e-02]\n",
      " [3.16227766e+00 5.35959240e-02 2.29276896e-02 3.75269449e-02]\n",
      " [1.00000000e+01 6.14344503e-02 2.01842054e-02 3.60572212e-02]\n",
      " [1.00000000e+02 6.05526161e-02 2.16539291e-02 3.73309818e-02]]\n"
     ]
    }
   ],
   "source": [
    "print(final)\r\n"
   ]
  },
  {
   "cell_type": "code",
   "execution_count": 51,
   "metadata": {},
   "outputs": [],
   "source": [
    "distributions = \"gamma_gamma_\""
   ]
  },
  {
   "cell_type": "code",
   "execution_count": 52,
   "metadata": {},
   "outputs": [
    {
     "name": "stdout",
     "output_type": "stream",
     "text": [
      "[0.01       0.05026455 0.03057025 0.04644327]\n",
      "[0.1        0.05516363 0.03605722 0.05114638]\n",
      "[0.31622777 0.04889281 0.03203998 0.04781501]\n",
      "[1.         0.05437978 0.03556731 0.04957868]\n",
      "[3.16227766 0.06114051 0.03057025 0.04350382]\n",
      "[10.          0.06505977  0.03272585  0.04693318]\n",
      "[1.00000000e+02 5.66333529e-02 3.46854791e-02 5.31060161e-02]\n",
      "Wall time: 2min 51s\n"
     ]
    }
   ],
   "source": [
    "%%time\r\n",
    "\r\n",
    "loop_count = 729\r\n",
    "\r\n",
    "\r\n",
    "interclass_corr = [-2, -1, -0.5, 0, 0.5, 1, 2]\r\n",
    "seed = tuple(i for i in range(105, 112))\r\n",
    "final = np.empty((len(interclass_corr), 4))\r\n",
    "\r\n",
    "  \r\n",
    "\r\n",
    "if __name__ ==  '__main__': \r\n",
    "    num_processors = 14\r\n",
    "\r\n",
    "    containers = [hierarchy] * num_processors\r\n",
    "\r\n",
    "    p=Pool(processes = num_processors)\r\n",
    "\r\n",
    "    for idx, v in enumerate(interclass_corr):\r\n",
    "\r\n",
    "        t_1 = [stats.gamma, 2, 0, (10**v)]\r\n",
    "\r\n",
    "        loc_correction_3 = stats.gamma.mean(2, 0, (10**v)) - stats.gamma.mean(2, 0, 1.224*(10**v))\r\n",
    "\r\n",
    "        t_3 = [stats.gamma, 2, loc_correction_3, 1.224*(10**v)]\r\n",
    "\r\n",
    "        paramlist = [[stats.norm, 0, 0],  [t_1]*hierarchy[1] + [t_3]*hierarchy[1], [stats.gamma, 2]]\r\n",
    "\r\n",
    "        paramlist = [paramlist] * num_processors\r\n",
    "\r\n",
    "        ss = np.random.SeedSequence(seedlist[seed[idx]])\r\n",
    "        child_seeds = ss.spawn(num_processors)\r\n",
    "        seeds = [np.random.default_rng(s) for s in child_seeds]\r\n",
    "\r\n",
    "        output = p.starmap(worker, zip(containers, paramlist, seeds))\r\n",
    "\r\n",
    "        final[idx, 0] = 10**v     \r\n",
    "        final[idx, 1:] = (np.asarray(output) <= 0.05).sum(axis=2).sum(axis=0) / (loop_count*num_processors)\r\n",
    "        print(final[idx])\r\n",
    "\r\n",
    "    containerstr = str(hierarchy).translate({ord(','):ord('_'), ord('['):None, ord(']'):None, ord(' '):None})\r\n",
    "    filename = containerstr + \"data_\" + distributions + \".csv\"\r\n",
    "    np.savetxt(os.path.join(folder, filename), final, delimiter=',') \r\n",
    "\r\n",
    "    p.close()\r\n"
   ]
  },
  {
   "cell_type": "code",
   "execution_count": 53,
   "metadata": {},
   "outputs": [
    {
     "name": "stdout",
     "output_type": "stream",
     "text": [
      "[[1.00000000e-02 5.02645503e-02 3.05702528e-02 4.64432687e-02]\n",
      " [1.00000000e-01 5.51636292e-02 3.60572212e-02 5.11463845e-02]\n",
      " [3.16227766e-01 4.88928082e-02 3.20399765e-02 4.78150108e-02]\n",
      " [1.00000000e+00 5.43797766e-02 3.55673133e-02 4.95786792e-02]\n",
      " [3.16227766e+00 6.11405056e-02 3.05702528e-02 4.35038213e-02]\n",
      " [1.00000000e+01 6.50597688e-02 3.27258475e-02 4.69331766e-02]\n",
      " [1.00000000e+02 5.66333529e-02 3.46854791e-02 5.31060161e-02]]\n"
     ]
    }
   ],
   "source": [
    "print(final)\r\n"
   ]
  },
  {
   "cell_type": "code",
   "execution_count": 54,
   "metadata": {},
   "outputs": [],
   "source": [
    "hierarchy = [2, 4, 3]\r\n",
    "\r\n",
    "bootstraps = 500\r\n",
    "permutations = 'all'\r\n",
    "treatment_col = 0\r\n",
    "compare = \"means\"\r\n",
    "\r\n",
    "loop_count = 729\r\n",
    "\r\n",
    "worker = partial(\r\n",
    "poweranalysis,\r\n",
    "compare=compare,\r\n",
    "loops=loop_count,\r\n",
    "treatment_col=treatment_col,\r\n",
    "bootstraps = bootstraps,\r\n",
    "permutations = permutations)"
   ]
  },
  {
   "cell_type": "code",
   "execution_count": 55,
   "metadata": {},
   "outputs": [],
   "source": [
    "distributions = \"lognorm_lognorm_\""
   ]
  },
  {
   "cell_type": "code",
   "execution_count": 56,
   "metadata": {},
   "outputs": [
    {
     "name": "stdout",
     "output_type": "stream",
     "text": [
      "[0.01       0.05388987 0.02821869 0.03968254]\n",
      "[0.1        0.05085244 0.02527925 0.03586126]\n",
      "[0.31622777 0.05173427 0.02812071 0.03968254]\n",
      "[1.         0.04889281 0.02616108 0.03811483]\n",
      "[3.16227766 0.05016657 0.02282971 0.03517539]\n",
      "[10.          0.05986675  0.0249853   0.04027043]\n",
      "[1.00000000e+02 6.55496767e-02 2.04781501e-02 3.46854791e-02]\n",
      "Wall time: 7min 36s\n"
     ]
    }
   ],
   "source": [
    "%%time\r\n",
    "\r\n",
    "loop_count = 729\r\n",
    "\r\n",
    "\r\n",
    "interclass_corr = [-2, -1, -0.5, 0, 0.5, 1, 2]\r\n",
    "seed = tuple(i for i in range(112, 119))\r\n",
    "final = np.empty((len(interclass_corr), 4))\r\n",
    "\r\n",
    "  \r\n",
    "\r\n",
    "if __name__ ==  '__main__': \r\n",
    "    num_processors = 14\r\n",
    "\r\n",
    "    containers = [hierarchy] * num_processors\r\n",
    "\r\n",
    "    p=Pool(processes = num_processors)\r\n",
    "\r\n",
    "    for idx, v in enumerate(interclass_corr):\r\n",
    "\r\n",
    "        t_1 = [stats.lognorm, 1, 0, (10**v)]\r\n",
    "\r\n",
    "        loc_correction_3 = stats.lognorm.mean(1, 0, (10**v)) - stats.lognorm.mean(1, 0, 1.224*(10**v))\r\n",
    "\r\n",
    "        t_3 = [stats.lognorm, 1, loc_correction_3, 1.224*(10**v)]\r\n",
    "\r\n",
    "        paramlist = [[stats.norm, 0, 0],  [t_1]*hierarchy[1] + [t_3]*hierarchy[1], [stats.lognorm, 1]]\r\n",
    "\r\n",
    "        paramlist = [paramlist] * num_processors\r\n",
    "\r\n",
    "        ss = np.random.SeedSequence(seedlist[seed[idx]])\r\n",
    "        child_seeds = ss.spawn(num_processors)\r\n",
    "        seeds = [np.random.default_rng(s) for s in child_seeds]\r\n",
    "\r\n",
    "        output = p.starmap(worker, zip(containers, paramlist, seeds))\r\n",
    "\r\n",
    "        final[idx, 0] = 10**v     \r\n",
    "        final[idx, 1:] = (np.asarray(output) <= 0.05).sum(axis=2).sum(axis=0) / (loop_count*num_processors)\r\n",
    "        print(final[idx])\r\n",
    "\r\n",
    "    containerstr = str(hierarchy).translate({ord(','):ord('_'), ord('['):None, ord(']'):None, ord(' '):None})\r\n",
    "    filename = containerstr + \"data_\" + distributions + \".csv\"\r\n",
    "    np.savetxt(os.path.join(folder, filename), final, delimiter=',') \r\n",
    "\r\n",
    "    p.close()\r\n"
   ]
  },
  {
   "cell_type": "code",
   "execution_count": 57,
   "metadata": {},
   "outputs": [
    {
     "name": "stdout",
     "output_type": "stream",
     "text": [
      "[[1.00000000e-02 5.38898687e-02 2.82186949e-02 3.96825397e-02]\n",
      " [1.00000000e-01 5.08524397e-02 2.52792475e-02 3.58612581e-02]\n",
      " [3.16227766e-01 5.17342740e-02 2.81207133e-02 3.96825397e-02]\n",
      " [1.00000000e+00 4.88928082e-02 2.61610817e-02 3.81148344e-02]\n",
      " [3.16227766e+00 5.01665687e-02 2.28297080e-02 3.51753870e-02]\n",
      " [1.00000000e+01 5.98667451e-02 2.49853028e-02 4.02704292e-02]\n",
      " [1.00000000e+02 6.55496767e-02 2.04781501e-02 3.46854791e-02]]\n"
     ]
    }
   ],
   "source": [
    "print(final)\r\n"
   ]
  },
  {
   "cell_type": "code",
   "execution_count": 58,
   "metadata": {},
   "outputs": [],
   "source": [
    "distributions = \"norm_norm_\""
   ]
  },
  {
   "cell_type": "code",
   "execution_count": 59,
   "metadata": {},
   "outputs": [
    {
     "name": "stdout",
     "output_type": "stream",
     "text": [
      "[0.01       0.04899079 0.03889869 0.04820694]\n",
      "[0.1        0.0494807  0.04036841 0.04722712]\n",
      "[0.31622777 0.05173427 0.04115226 0.05173427]\n",
      "[1.         0.05036253 0.04271997 0.05144033]\n",
      "[3.16227766 0.05222418 0.04301391 0.05251813]\n",
      "[10.          0.05418381  0.04516951  0.05398785]\n",
      "[1.00000000e+02 6.16304135e-02 4.26219871e-02 5.23221634e-02]\n",
      "Wall time: 7min 39s\n"
     ]
    }
   ],
   "source": [
    "%%time\r\n",
    "\r\n",
    "loop_count = 729\r\n",
    "\r\n",
    "\r\n",
    "interclass_corr = [-2, -1, -0.5, 0, 0.5, 1, 2]\r\n",
    "seed = tuple(i for i in range(119, 126))\r\n",
    "final = np.empty((len(interclass_corr), 4))\r\n",
    "\r\n",
    "  \r\n",
    "\r\n",
    "if __name__ ==  '__main__': \r\n",
    "    num_processors = 14\r\n",
    "\r\n",
    "    containers = [hierarchy] * num_processors\r\n",
    "\r\n",
    "    p=Pool(processes = num_processors)\r\n",
    "\r\n",
    "    for idx, v in enumerate(interclass_corr):\r\n",
    "\r\n",
    "        t_1 = [stats.norm, 0, 10**v]\r\n",
    "        t_3 = [stats.norm, 0, 1.224*(10**v)]\r\n",
    "\r\n",
    "        paramlist = [[stats.norm, 0, 0],  [t_1]*hierarchy[1] + [t_3]*hierarchy[1], [stats.norm, 0, 1]]\r\n",
    "\r\n",
    "        paramlist = [paramlist] * num_processors\r\n",
    "\r\n",
    "        ss = np.random.SeedSequence(seedlist[seed[idx]])\r\n",
    "        child_seeds = ss.spawn(num_processors)\r\n",
    "        seeds = [np.random.default_rng(s) for s in child_seeds]\r\n",
    "\r\n",
    "        output = p.starmap(worker, zip(containers, paramlist, seeds))\r\n",
    "\r\n",
    "        final[idx, 0] = 10**v     \r\n",
    "        final[idx, 1:] = (np.asarray(output) <= 0.05).sum(axis=2).sum(axis=0) / (loop_count*num_processors)\r\n",
    "        print(final[idx])\r\n",
    "\r\n",
    "    containerstr = str(hierarchy).translate({ord(','):ord('_'), ord('['):None, ord(']'):None, ord(' '):None})\r\n",
    "    filename = containerstr + \"data_\" + distributions + \".csv\"\r\n",
    "    np.savetxt(os.path.join(folder, filename), final, delimiter=',') \r\n",
    "\r\n",
    "    p.close()\r\n"
   ]
  },
  {
   "cell_type": "code",
   "execution_count": 60,
   "metadata": {},
   "outputs": [
    {
     "name": "stdout",
     "output_type": "stream",
     "text": [
      "[[1.00000000e-02 4.89907897e-02 3.88986870e-02 4.82069371e-02]\n",
      " [1.00000000e-01 4.94806976e-02 4.03684107e-02 4.72271213e-02]\n",
      " [3.16227766e-01 5.17342740e-02 4.11522634e-02 5.17342740e-02]\n",
      " [1.00000000e+00 5.03625318e-02 4.27199686e-02 5.14403292e-02]\n",
      " [3.16227766e+00 5.22241819e-02 4.30139134e-02 5.25181266e-02]\n",
      " [1.00000000e+01 5.41838134e-02 4.51695081e-02 5.39878503e-02]\n",
      " [1.00000000e+02 6.16304135e-02 4.26219871e-02 5.23221634e-02]]\n"
     ]
    }
   ],
   "source": [
    "print(final)\r\n"
   ]
  },
  {
   "cell_type": "code",
   "execution_count": 61,
   "metadata": {},
   "outputs": [],
   "source": [
    "distributions = \"pareto_pareto_\""
   ]
  },
  {
   "cell_type": "code",
   "execution_count": 62,
   "metadata": {},
   "outputs": [
    {
     "name": "stdout",
     "output_type": "stream",
     "text": [
      "[0.01       0.05330198 0.02459338 0.03674309]\n",
      "[0.1        0.05506565 0.02772879 0.03782089]\n",
      "[0.31622777 0.05075446 0.02802273 0.03889869]\n",
      "[1.         0.04683519 0.02361356 0.03478346]\n",
      "[3.16227766 0.05702528 0.0271409  0.04017245]\n",
      "[10.          0.06094454  0.02292769  0.03586126]\n",
      "[1.00000000e+02 7.33882030e-02 2.24377817e-02 3.78208897e-02]\n",
      "Wall time: 7min 35s\n"
     ]
    }
   ],
   "source": [
    "%%time\r\n",
    "\r\n",
    "loop_count = 729\r\n",
    "\r\n",
    "\r\n",
    "interclass_corr = [-2, -1, -0.5, 0, 0.5, 1, 2]\r\n",
    "seed = tuple(i for i in range(126, 133))\r\n",
    "final = np.empty((len(interclass_corr), 4))\r\n",
    "\r\n",
    "  \r\n",
    "\r\n",
    "if __name__ ==  '__main__': \r\n",
    "    num_processors = 14\r\n",
    "\r\n",
    "    containers = [hierarchy] * num_processors\r\n",
    "\r\n",
    "    p=Pool(processes = num_processors)\r\n",
    "\r\n",
    "    for idx, v in enumerate(interclass_corr):\r\n",
    "\r\n",
    "        t_1 = [stats.pareto, 2.839, 0, 10**v]\r\n",
    "\r\n",
    "        loc_correction_3 = stats.pareto.mean(2.839, 0, (10**v)) - stats.pareto.mean(2.839, 0, 1.224*(10**v))\r\n",
    "\r\n",
    "        t_3 = [stats.pareto, 2.839, loc_correction_3, 1.224*(10**v)]\r\n",
    "\r\n",
    "        paramlist = [[stats.norm, 0, 0],  [t_1]*hierarchy[1] + [t_3]*hierarchy[1], [stats.pareto, 2.839]]\r\n",
    "\r\n",
    "        paramlist = [paramlist] * num_processors\r\n",
    "\r\n",
    "        ss = np.random.SeedSequence(seedlist[seed[idx]])\r\n",
    "        child_seeds = ss.spawn(num_processors)\r\n",
    "        seeds = [np.random.default_rng(s) for s in child_seeds]\r\n",
    "\r\n",
    "        output = p.starmap(worker, zip(containers, paramlist, seeds))\r\n",
    "\r\n",
    "        final[idx, 0] = 10**v     \r\n",
    "        final[idx, 1:] = (np.asarray(output) <= 0.05).sum(axis=2).sum(axis=0) / (loop_count*num_processors)\r\n",
    "        print(final[idx])\r\n",
    "\r\n",
    "    containerstr = str(hierarchy).translate({ord(','):ord('_'), ord('['):None, ord(']'):None, ord(' '):None})\r\n",
    "    filename = containerstr + \"data_\" + distributions + \".csv\"\r\n",
    "    np.savetxt(os.path.join(folder, filename), final, delimiter=',') \r\n",
    "\r\n",
    "    p.close()\r\n"
   ]
  },
  {
   "cell_type": "code",
   "execution_count": 63,
   "metadata": {},
   "outputs": [
    {
     "name": "stdout",
     "output_type": "stream",
     "text": [
      "[[1.00000000e-02 5.33019792e-02 2.45933764e-02 3.67430923e-02]\n",
      " [1.00000000e-01 5.50656477e-02 2.77287870e-02 3.78208897e-02]\n",
      " [3.16227766e-01 5.07544582e-02 2.80227317e-02 3.88986870e-02]\n",
      " [1.00000000e+00 4.68351950e-02 2.36135607e-02 3.47834607e-02]\n",
      " [3.16227766e+00 5.70252792e-02 2.71408975e-02 4.01724476e-02]\n",
      " [1.00000000e+01 6.09445424e-02 2.29276896e-02 3.58612581e-02]\n",
      " [1.00000000e+02 7.33882030e-02 2.24377817e-02 3.78208897e-02]]\n"
     ]
    }
   ],
   "source": [
    "print(final)"
   ]
  },
  {
   "cell_type": "code",
   "execution_count": 64,
   "metadata": {},
   "outputs": [],
   "source": [
    "distributions = \"gamma_gamma_\""
   ]
  },
  {
   "cell_type": "code",
   "execution_count": 65,
   "metadata": {},
   "outputs": [
    {
     "name": "stdout",
     "output_type": "stream",
     "text": [
      "[0.01       0.05144033 0.03703704 0.04722712]\n",
      "[0.1        0.04967666 0.0361552  0.04536547]\n",
      "[0.31622777 0.05075446 0.03733098 0.04801097]\n",
      "[1.         0.04722712 0.0345875  0.04624731]\n",
      "[3.16227766 0.05232216 0.03576328 0.04605134]\n",
      "[10.          0.05839702  0.03360768  0.04712914]\n",
      "[1.00000000e+02 6.03566529e-02 3.49794239e-02 4.68351950e-02]\n",
      "Wall time: 7min 49s\n"
     ]
    }
   ],
   "source": [
    "%%time\r\n",
    "\r\n",
    "loop_count = 729\r\n",
    "\r\n",
    "\r\n",
    "interclass_corr = [-2, -1, -0.5, 0, 0.5, 1, 2]\r\n",
    "seed = tuple(i for i in range(133, 140))\r\n",
    "final = np.empty((len(interclass_corr), 4))\r\n",
    "\r\n",
    "  \r\n",
    "\r\n",
    "if __name__ ==  '__main__': \r\n",
    "    num_processors = 14\r\n",
    "\r\n",
    "    containers = [hierarchy] * num_processors\r\n",
    "\r\n",
    "    p=Pool(processes = num_processors)\r\n",
    "\r\n",
    "    for idx, v in enumerate(interclass_corr):\r\n",
    "\r\n",
    "        t_1 = [stats.gamma, 2, 0, (10**v)]\r\n",
    "\r\n",
    "        loc_correction_3 = stats.gamma.mean(2, 0, (10**v)) - stats.gamma.mean(2, 0, 1.224*(10**v))\r\n",
    "\r\n",
    "        t_3 = [stats.gamma, 2, loc_correction_3, 1.224*(10**v)]\r\n",
    "\r\n",
    "        paramlist = [[stats.norm, 0, 0],  [t_1]*hierarchy[1] + [t_3]*hierarchy[1], [stats.gamma, 2]]\r\n",
    "\r\n",
    "        paramlist = [paramlist] * num_processors\r\n",
    "\r\n",
    "        ss = np.random.SeedSequence(seedlist[seed[idx]])\r\n",
    "        child_seeds = ss.spawn(num_processors)\r\n",
    "        seeds = [np.random.default_rng(s) for s in child_seeds]\r\n",
    "\r\n",
    "        output = p.starmap(worker, zip(containers, paramlist, seeds))\r\n",
    "\r\n",
    "        final[idx, 0] = 10**v     \r\n",
    "        final[idx, 1:] = (np.asarray(output) <= 0.05).sum(axis=2).sum(axis=0) / (loop_count*num_processors)\r\n",
    "        print(final[idx])\r\n",
    "\r\n",
    "    containerstr = str(hierarchy).translate({ord(','):ord('_'), ord('['):None, ord(']'):None, ord(' '):None})\r\n",
    "    filename = containerstr + \"data_\" + distributions + \".csv\"\r\n",
    "    np.savetxt(os.path.join(folder, filename), final, delimiter=',') \r\n",
    "\r\n",
    "    p.close()\r\n"
   ]
  },
  {
   "cell_type": "code",
   "execution_count": 66,
   "metadata": {},
   "outputs": [
    {
     "name": "stdout",
     "output_type": "stream",
     "text": [
      "[[1.00000000e-02 5.14403292e-02 3.70370370e-02 4.72271213e-02]\n",
      " [1.00000000e-01 4.96766608e-02 3.61552028e-02 4.53654713e-02]\n",
      " [3.16227766e-01 5.07544582e-02 3.73309818e-02 4.80109739e-02]\n",
      " [1.00000000e+00 4.72271213e-02 3.45874976e-02 4.62473055e-02]\n",
      " [3.16227766e+00 5.23221634e-02 3.57632765e-02 4.60513423e-02]\n",
      " [1.00000000e+01 5.83970214e-02 3.36076818e-02 4.71291397e-02]\n",
      " [1.00000000e+02 6.03566529e-02 3.49794239e-02 4.68351950e-02]]\n"
     ]
    }
   ],
   "source": [
    "print(final)"
   ]
  },
  {
   "cell_type": "code",
   "execution_count": 67,
   "metadata": {},
   "outputs": [],
   "source": [
    "hierarchy = [3, 2, 4, 3]\r\n",
    "\r\n",
    "bootstraps = 100\r\n",
    "permutations = 1000\r\n",
    "treatment_col = 1\r\n",
    "compare = \"means\"\r\n",
    "\r\n",
    "loop_count = 729\r\n",
    "\r\n",
    "worker = partial(\r\n",
    "poweranalysis,\r\n",
    "compare=compare,\r\n",
    "loops=loop_count,\r\n",
    "treatment_col=treatment_col,\r\n",
    "bootstraps = bootstraps,\r\n",
    "permutations = permutations)"
   ]
  },
  {
   "cell_type": "code",
   "execution_count": 68,
   "metadata": {},
   "outputs": [],
   "source": [
    "distributions = \"lognorm_lognorm_\""
   ]
  },
  {
   "cell_type": "code",
   "execution_count": 69,
   "metadata": {},
   "outputs": [
    {
     "name": "stdout",
     "output_type": "stream",
     "text": [
      "[0.01       0.05232216 0.03840878 0.04213208]\n",
      "[0.1        0.05065648 0.03527337 0.03929061]\n",
      "[0.31622777 0.04683519 0.03008034 0.03321576]\n",
      "[1.         0.04428767 0.02273173 0.02576916]\n",
      "[3.16227766 0.05232216 0.01793063 0.02067411]\n",
      "[10.          0.05330198  0.01724476  0.02067411]\n",
      "[1.00000000e+02 5.95728003e-02 2.06741133e-02 2.34175975e-02]\n",
      "Wall time: 15min 43s\n"
     ]
    }
   ],
   "source": [
    "%%time\r\n",
    "\r\n",
    "loop_count = 729\r\n",
    "\r\n",
    "\r\n",
    "interclass_corr = [-2, -1, -0.5, 0, 0.5, 1, 2]\r\n",
    "seed = tuple(i for i in range(140, 147))\r\n",
    "final = np.empty((len(interclass_corr), 4))\r\n",
    "\r\n",
    "  \r\n",
    "\r\n",
    "if __name__ ==  '__main__': \r\n",
    "    num_processors = 14\r\n",
    "    \r\n",
    "    containers = [hierarchy] * num_processors\r\n",
    "\r\n",
    "\r\n",
    "    p=Pool(processes = num_processors)\r\n",
    "\r\n",
    "    for idx, v in enumerate(interclass_corr):\r\n",
    "         \r\n",
    "\r\n",
    "        t_1 = [stats.lognorm, 1, 0, (10 ** v)]\r\n",
    "\r\n",
    "        loc_correction_3 = stats.lognorm.mean(1, 0, (10 ** v)) - stats.lognorm.mean(\r\n",
    "            1, 0, 1.224 * (10 ** v)\r\n",
    "        )\r\n",
    "\r\n",
    "        t_3 = [stats.lognorm, 1, loc_correction_3, 1.224 * (10 ** v)]\r\n",
    "\r\n",
    "        paramlist = [\r\n",
    "            [stats.lognorm, 1, 0, (10 ** v)],\r\n",
    "            [stats.norm, 0, 0],\r\n",
    "            (\r\n",
    "                [t_1] * hierarchy[2]\r\n",
    "                + [t_3] * hierarchy[2]\r\n",
    "            )\r\n",
    "            * hierarchy[0],\r\n",
    "            [stats.lognorm, 1],\r\n",
    "        ]        \r\n",
    "        paramlist = [paramlist] * num_processors\r\n",
    "\r\n",
    "        ss = np.random.SeedSequence(seedlist[seed[idx]])\r\n",
    "        child_seeds = ss.spawn(num_processors)\r\n",
    "        seeds = [np.random.default_rng(s) for s in child_seeds]\r\n",
    "\r\n",
    "        output = p.starmap(worker, zip(containers, paramlist, seeds))\r\n",
    "\r\n",
    "        final[idx, 0] = 10**v     \r\n",
    "        final[idx, 1:] = (np.asarray(output) <= 0.05).sum(axis=2).sum(axis=0) / (loop_count*num_processors)\r\n",
    "        print(final[idx])\r\n",
    "\r\n",
    "\r\n",
    "    containerstr = str(hierarchy).translate({ord(','):ord('_'), ord('['):None, ord(']'):None, ord(' '):None})\r\n",
    "    filename = containerstr + \"data_\" + distributions + \".csv\"\r\n",
    "    np.savetxt(os.path.join(folder, filename), final, delimiter=',') \r\n",
    "\r\n",
    "    p.close()\r\n"
   ]
  },
  {
   "cell_type": "code",
   "execution_count": 70,
   "metadata": {},
   "outputs": [
    {
     "name": "stdout",
     "output_type": "stream",
     "text": [
      "[[1.00000000e-02 5.23221634e-02 3.84087791e-02 4.21320792e-02]\n",
      " [1.00000000e-01 5.06564766e-02 3.52733686e-02 3.92906134e-02]\n",
      " [3.16227766e-01 4.68351950e-02 3.00803449e-02 3.32157554e-02]\n",
      " [1.00000000e+00 4.42876739e-02 2.27317264e-02 2.57691554e-02]\n",
      " [3.16227766e+00 5.23221634e-02 1.79306290e-02 2.06741133e-02]\n",
      " [1.00000000e+01 5.33019792e-02 1.72447580e-02 2.06741133e-02]\n",
      " [1.00000000e+02 5.95728003e-02 2.06741133e-02 2.34175975e-02]]\n"
     ]
    }
   ],
   "source": [
    "print(final)"
   ]
  },
  {
   "cell_type": "code",
   "execution_count": 71,
   "metadata": {},
   "outputs": [],
   "source": [
    "distributions = \"norm_norm_\""
   ]
  },
  {
   "cell_type": "code",
   "execution_count": 72,
   "metadata": {},
   "outputs": [
    {
     "name": "stdout",
     "output_type": "stream",
     "text": [
      "[0.01       0.04761905 0.04585538 0.04654125]\n",
      "[0.1        0.04987262 0.04781501 0.04908877]\n",
      "[0.31622777 0.04134823 0.03419557 0.03439153]\n",
      "[1.         0.04624731 0.02429943 0.02478934]\n",
      "[3.16227766 0.05153831 0.0249853  0.02567117]\n",
      "[10.          0.05359592  0.02253576  0.02302567]\n",
      "[1.00000000e+02 5.15383108e-02 2.35155791e-02 2.42994317e-02]\n",
      "Wall time: 15min 37s\n"
     ]
    }
   ],
   "source": [
    "%%time\r\n",
    "\r\n",
    "loop_count = 729\r\n",
    "\r\n",
    "\r\n",
    "interclass_corr = [-2, -1, -0.5, 0, 0.5, 1, 2]\r\n",
    "seed = tuple(i for i in range(147, 154))\r\n",
    "final = np.empty((len(interclass_corr), 4))\r\n",
    "\r\n",
    "  \r\n",
    "\r\n",
    "if __name__ ==  '__main__': \r\n",
    "    num_processors = 14\r\n",
    "\r\n",
    "    containers = [hierarchy] * num_processors\r\n",
    "\r\n",
    "    p=Pool(processes = num_processors)\r\n",
    "\r\n",
    "    for idx, v in enumerate(interclass_corr):\r\n",
    "         \r\n",
    "\r\n",
    "        t_1 = [stats.norm, 0, (10 ** v)]\r\n",
    "\r\n",
    "        t_3 = [stats.norm, 0, 1.224 * (10 ** v)]\r\n",
    "\r\n",
    "        paramlist = [\r\n",
    "            [stats.norm, 0, (10 ** v)],\r\n",
    "            [stats.norm, 0, 0],\r\n",
    "            (\r\n",
    "                [t_1] * hierarchy[2]\r\n",
    "                + [t_3] * hierarchy[2]\r\n",
    "            )\r\n",
    "            * hierarchy[0],\r\n",
    "            [stats.norm, 0, 1],\r\n",
    "        ]\r\n",
    "\r\n",
    "        paramlist = [paramlist] * num_processors\r\n",
    "\r\n",
    "        ss = np.random.SeedSequence(seedlist[seed[idx]])\r\n",
    "        child_seeds = ss.spawn(num_processors)\r\n",
    "        seeds = [np.random.default_rng(s) for s in child_seeds]\r\n",
    "\r\n",
    "        output = p.starmap(worker, zip(containers, paramlist, seeds))\r\n",
    "\r\n",
    "        final[idx, 0] = 10**v     \r\n",
    "        final[idx, 1:] = (np.asarray(output) <= 0.05).sum(axis=2).sum(axis=0) / (loop_count*num_processors)\r\n",
    "        print(final[idx])\r\n",
    "\r\n",
    "    containerstr = str(hierarchy).translate({ord(','):ord('_'), ord('['):None, ord(']'):None, ord(' '):None})\r\n",
    "    filename = containerstr + \"data_\" + distributions + \".csv\"\r\n",
    "    np.savetxt(os.path.join(folder, filename), final, delimiter=',') \r\n",
    "\r\n",
    "    p.close()\r\n"
   ]
  },
  {
   "cell_type": "code",
   "execution_count": 73,
   "metadata": {},
   "outputs": [
    {
     "name": "stdout",
     "output_type": "stream",
     "text": [
      "[[1.00000000e-02 4.76190476e-02 4.58553792e-02 4.65412502e-02]\n",
      " [1.00000000e-01 4.98726239e-02 4.78150108e-02 4.90887713e-02]\n",
      " [3.16227766e-01 4.13482265e-02 3.41955712e-02 3.43915344e-02]\n",
      " [1.00000000e+00 4.62473055e-02 2.42994317e-02 2.47893396e-02]\n",
      " [3.16227766e+00 5.15383108e-02 2.49853028e-02 2.56711738e-02]\n",
      " [1.00000000e+01 5.35959240e-02 2.25357633e-02 2.30256712e-02]\n",
      " [1.00000000e+02 5.15383108e-02 2.35155791e-02 2.42994317e-02]]\n"
     ]
    }
   ],
   "source": [
    "print(final)\r\n"
   ]
  },
  {
   "cell_type": "code",
   "execution_count": 74,
   "metadata": {},
   "outputs": [],
   "source": [
    "distributions = \"pareto_pareto_\""
   ]
  },
  {
   "cell_type": "code",
   "execution_count": 75,
   "metadata": {},
   "outputs": [
    {
     "name": "stdout",
     "output_type": "stream",
     "text": [
      "[0.01       0.05232216 0.03517539 0.03978052]\n",
      "[0.1        0.05888693 0.03644915 0.04134823]\n",
      "[0.31622777 0.04830492 0.02763081 0.03145209]\n",
      "[1.         0.04487556 0.02145797 0.0249853 ]\n",
      "[3.16227766 0.05281207 0.01900843 0.02175191]\n",
      "[10.          0.05643739  0.01822457  0.02096806]\n",
      "[1.00000000e+02 5.74172056e-02 1.72447580e-02 1.89104448e-02]\n",
      "Wall time: 15min 53s\n"
     ]
    }
   ],
   "source": [
    "%%time\r\n",
    "\r\n",
    "loop_count = 729\r\n",
    "\r\n",
    "\r\n",
    "interclass_corr = [-2, -1, -0.5, 0, 0.5, 1, 2]\r\n",
    "seed = tuple(i for i in range(154, 161))\r\n",
    "final = np.empty((len(interclass_corr), 4))\r\n",
    "\r\n",
    "  \r\n",
    "\r\n",
    "if __name__ ==  '__main__': \r\n",
    "    num_processors = 14\r\n",
    "\r\n",
    "    containers = [hierarchy] * num_processors\r\n",
    "\r\n",
    "    p=Pool(processes = num_processors)\r\n",
    "\r\n",
    "    for idx, v in enumerate(interclass_corr):\r\n",
    "\r\n",
    "        t_1 = [stats.pareto, 2.839, 0, (10 ** v)]\r\n",
    "\r\n",
    "        loc_correction_3 = stats.pareto.mean(2.839, 0, (10 ** v)) - stats.pareto.mean(\r\n",
    "            2.839, 0, 1.224 * (10 ** v)\r\n",
    "        )\r\n",
    "\r\n",
    "        t_3 = [stats.pareto, 2.839, loc_correction_3, 1.224 * (10 ** v)]\r\n",
    "\r\n",
    "\r\n",
    "        paramlist = [\r\n",
    "            [stats.pareto, 2.839, 0, (10 ** v)],\r\n",
    "            [stats.norm, 0, 0],\r\n",
    "            (\r\n",
    "                [t_1] * hierarchy[2]\r\n",
    "                + [t_3] * hierarchy[2]\r\n",
    "            )\r\n",
    "            * hierarchy[0],\r\n",
    "            [stats.pareto, 2.839],\r\n",
    "        ]\r\n",
    "        paramlist = [paramlist] * num_processors\r\n",
    "\r\n",
    "        ss = np.random.SeedSequence(seedlist[seed[idx]])\r\n",
    "        child_seeds = ss.spawn(num_processors)\r\n",
    "        seeds = [np.random.default_rng(s) for s in child_seeds]\r\n",
    "\r\n",
    "        output = p.starmap(worker, zip(containers, paramlist, seeds))\r\n",
    "\r\n",
    "        final[idx, 0] = 10**v     \r\n",
    "        final[idx, 1:] = (np.asarray(output) <= 0.05).sum(axis=2).sum(axis=0) / (loop_count*num_processors)\r\n",
    "        print(final[idx])\r\n",
    "\r\n",
    "    containerstr = str(hierarchy).translate({ord(','):ord('_'), ord('['):None, ord(']'):None, ord(' '):None})\r\n",
    "    filename = containerstr + \"data_\" + distributions + \".csv\"\r\n",
    "    np.savetxt(os.path.join(folder, filename), final, delimiter=',') \r\n",
    "\r\n",
    "    p.close()\r\n",
    "\r\n"
   ]
  },
  {
   "cell_type": "code",
   "execution_count": 76,
   "metadata": {},
   "outputs": [
    {
     "name": "stdout",
     "output_type": "stream",
     "text": [
      "[[1.00000000e-02 5.23221634e-02 3.51753870e-02 3.97805213e-02]\n",
      " [1.00000000e-01 5.88869293e-02 3.64491476e-02 4.13482265e-02]\n",
      " [3.16227766e-01 4.83049187e-02 2.76308054e-02 3.14520870e-02]\n",
      " [1.00000000e+00 4.48755634e-02 2.14579659e-02 2.49853028e-02]\n",
      " [3.16227766e+00 5.28120713e-02 1.90084264e-02 2.17519106e-02]\n",
      " [1.00000000e+01 5.64373898e-02 1.82245738e-02 2.09680580e-02]\n",
      " [1.00000000e+02 5.74172056e-02 1.72447580e-02 1.89104448e-02]]\n"
     ]
    }
   ],
   "source": [
    "print(final)"
   ]
  },
  {
   "cell_type": "code",
   "execution_count": 77,
   "metadata": {},
   "outputs": [],
   "source": [
    "distributions = \"gamma_gamma_\""
   ]
  },
  {
   "cell_type": "code",
   "execution_count": 78,
   "metadata": {},
   "outputs": [
    {
     "name": "stdout",
     "output_type": "stream",
     "text": [
      "[0.01       0.0510484  0.0473251  0.04908877]\n",
      "[0.1        0.04771703 0.04477758 0.04624731]\n",
      "[0.31622777 0.04663923 0.03644915 0.03811483]\n",
      "[1.         0.04526749 0.02674897 0.02753282]\n",
      "[3.16227766 0.04712914 0.02106604 0.02175191]\n",
      "[10.          0.05202822  0.02253576  0.02371154]\n",
      "[1.00000000e+02 5.32039976e-02 2.19478738e-02 2.35155791e-02]\n",
      "Wall time: 22min 55s\n"
     ]
    }
   ],
   "source": [
    "%%time\r\n",
    "\r\n",
    "loop_count = 729\r\n",
    "\r\n",
    "\r\n",
    "interclass_corr = [-2, -1, -0.5, 0, 0.5, 1, 2]\r\n",
    "seed = tuple(i for i in range(161, 168))\r\n",
    "final = np.empty((len(interclass_corr), 4))\r\n",
    "\r\n",
    "  \r\n",
    "\r\n",
    "if __name__ ==  '__main__': \r\n",
    "    num_processors = 14\r\n",
    "\r\n",
    "    containers = [hierarchy] * num_processors\r\n",
    "\r\n",
    "    p=Pool(processes = num_processors)\r\n",
    "\r\n",
    "    for idx, v in enumerate(interclass_corr):\r\n",
    "\r\n",
    "        t_1 = [stats.gamma, 2, 0, (10 ** v)]\r\n",
    "\r\n",
    "        loc_correction_3 = stats.gamma.mean(2, 0, (10 ** v)) - stats.gamma.mean(\r\n",
    "            2, 0, 1.224 * (10 ** v)\r\n",
    "        )\r\n",
    "\r\n",
    "        t_3 = [stats.gamma, 2, loc_correction_3, 1.224 * (10 ** v)]\r\n",
    "\r\n",
    "\r\n",
    "        paramlist = [\r\n",
    "            [stats.gamma, 2, 0, (10 ** v)],\r\n",
    "            [stats.norm, 0, 0],\r\n",
    "            (\r\n",
    "                [t_1] * hierarchy[2]\r\n",
    "                + [t_3] * hierarchy[2]\r\n",
    "            )\r\n",
    "            * hierarchy[0],\r\n",
    "            [stats.gamma, 2],\r\n",
    "        ]\r\n",
    "        paramlist = [paramlist] * num_processors\r\n",
    "\r\n",
    "        ss = np.random.SeedSequence(seedlist[seed[idx]])\r\n",
    "        child_seeds = ss.spawn(num_processors)\r\n",
    "        seeds = [np.random.default_rng(s) for s in child_seeds]\r\n",
    "\r\n",
    "        output = p.starmap(worker, zip(containers, paramlist, seeds))\r\n",
    "\r\n",
    "        final[idx, 0] = 10**v     \r\n",
    "        final[idx, 1:] = (np.asarray(output) <= 0.05).sum(axis=2).sum(axis=0) / (loop_count*num_processors)\r\n",
    "        print(final[idx])\r\n",
    "\r\n",
    "\r\n",
    "    containerstr = str(hierarchy).translate({ord(','):ord('_'), ord('['):None, ord(']'):None, ord(' '):None})\r\n",
    "    filename = containerstr + \"data_\" + distributions + \".csv\"\r\n",
    "    np.savetxt(os.path.join(folder, filename), final, delimiter=',') \r\n",
    "\r\n",
    "    p.close()\r\n",
    "\r\n"
   ]
  },
  {
   "cell_type": "code",
   "execution_count": 79,
   "metadata": {},
   "outputs": [
    {
     "name": "stdout",
     "output_type": "stream",
     "text": [
      "[[1.00000000e-02 5.10484029e-02 4.73251029e-02 4.90887713e-02]\n",
      " [1.00000000e-01 4.77170292e-02 4.47775818e-02 4.62473055e-02]\n",
      " [3.16227766e-01 4.66392318e-02 3.64491476e-02 3.81148344e-02]\n",
      " [1.00000000e+00 4.52674897e-02 2.67489712e-02 2.75328238e-02]\n",
      " [3.16227766e+00 4.71291397e-02 2.10660396e-02 2.17519106e-02]\n",
      " [1.00000000e+01 5.20282187e-02 2.25357633e-02 2.37115422e-02]\n",
      " [1.00000000e+02 5.32039976e-02 2.19478738e-02 2.35155791e-02]]\n"
     ]
    }
   ],
   "source": [
    "print(final)\r\n"
   ]
  },
  {
   "cell_type": "code",
   "execution_count": 80,
   "metadata": {},
   "outputs": [],
   "source": [
    "folder = os.path.abspath('size control corr')"
   ]
  },
  {
   "cell_type": "code",
   "execution_count": 81,
   "metadata": {},
   "outputs": [],
   "source": [
    "hierarchy = [2,3,3]\r\n",
    "\r\n",
    "bootstraps = 500\r\n",
    "permutations = 'all'\r\n",
    "treatment_col = 0\r\n",
    "compare = \"corr\"\r\n",
    "\r\n",
    "loop_count = 729\r\n",
    "\r\n",
    "worker = partial(\r\n",
    "poweranalysis,\r\n",
    "compare=compare,\r\n",
    "loops=loop_count,\r\n",
    "treatment_col=treatment_col,\r\n",
    "bootstraps = bootstraps,\r\n",
    "permutations = permutations)"
   ]
  },
  {
   "cell_type": "code",
   "execution_count": 82,
   "metadata": {},
   "outputs": [],
   "source": [
    "distributions = \"lognorm_lognorm_\""
   ]
  },
  {
   "cell_type": "code",
   "execution_count": 83,
   "metadata": {},
   "outputs": [
    {
     "name": "stdout",
     "output_type": "stream",
     "text": [
      "[0.01       0.05163629 0.03860474]\n",
      "[0.1        0.05124437 0.04076034]\n",
      "[0.31622777 0.04722712 0.03840878]\n",
      "[1.         0.04810896 0.04036841]\n",
      "[3.16227766 0.04997061 0.03684107]\n",
      "[10.          0.05839702  0.03762493]\n",
      "[1.00000000e+02 5.80050950e-02 3.85067607e-02]\n",
      "Wall time: 2min 41s\n"
     ]
    }
   ],
   "source": [
    "%%time\r\n",
    "\r\n",
    "\r\n",
    "interclass_corr = [-2, -1, -0.5, 0, 0.5, 1, 2]\r\n",
    "seed = tuple(i for i in range(168, 175))\r\n",
    "final = np.empty((len(interclass_corr), 3))\r\n",
    "\r\n",
    "  \r\n",
    "\r\n",
    "if __name__ ==  '__main__': \r\n",
    "    num_processors = 14\r\n",
    "\r\n",
    "    containers = [hierarchy] * num_processors\r\n",
    "\r\n",
    "    p=Pool(processes = num_processors)\r\n",
    "\r\n",
    "    for idx, v in enumerate(interclass_corr):\r\n",
    "\r\n",
    "        paramlist = [[0, 0], [stats.lognorm, 1, 0, 10**v], [stats.lognorm, 1]]\r\n",
    "        paramlist = [paramlist] * num_processors\r\n",
    "\r\n",
    "        ss = np.random.SeedSequence(seedlist[seed[idx]])\r\n",
    "        child_seeds = ss.spawn(num_processors)\r\n",
    "        seeds = [np.random.default_rng(s) for s in child_seeds]\r\n",
    "\r\n",
    "        output = p.starmap(worker, zip(containers, paramlist, seeds))\r\n",
    "\r\n",
    "        final[idx, 0] = 10**v    \r\n",
    "        final[idx, 1:] = (np.asarray(output) <= 0.05).sum(axis=2).sum(axis=0) / (loop_count*num_processors)\r\n",
    "        print(final[idx])\r\n",
    "\r\n",
    "    containerstr = str(hierarchy).translate({ord(','):ord('_'), ord('['):None, ord(']'):None, ord(' '):None})\r\n",
    "    filename = containerstr + \"data_\" + distributions + \".csv\"\r\n",
    "    np.savetxt(os.path.join(folder, filename), final, delimiter=',') \r\n",
    "\r\n",
    "    p.close()\r\n",
    "\r\n"
   ]
  },
  {
   "cell_type": "code",
   "execution_count": 84,
   "metadata": {},
   "outputs": [],
   "source": [
    "distributions = \"norm_norm_\""
   ]
  },
  {
   "cell_type": "code",
   "execution_count": 85,
   "metadata": {},
   "outputs": [
    {
     "name": "stdout",
     "output_type": "stream",
     "text": [
      "[0.01       0.05271409 0.05153831]\n",
      "[0.1        0.0521262  0.05085244]\n",
      "[0.31622777 0.05369391 0.05114638]\n",
      "[1.         0.053204   0.04977464]\n",
      "[3.16227766 0.06280619 0.04859886]\n",
      "[10.          0.06496179  0.04477758]\n",
      "[1.00000000e+02 5.39878503e-02 4.83049187e-02]\n",
      "Wall time: 2min 46s\n"
     ]
    }
   ],
   "source": [
    "%%time\r\n",
    "\r\n",
    "interclass_corr = [-2, -1, -0.5, 0, 0.5, 1, 2]\r\n",
    "seed = tuple(i for i in range(175, 182))\r\n",
    "final = np.empty((len(interclass_corr), 3))\r\n",
    "\r\n",
    "  \r\n",
    "\r\n",
    "if __name__ ==  '__main__': \r\n",
    "    num_processors = 14\r\n",
    "\r\n",
    "    containers = [hierarchy] * num_processors\r\n",
    "\r\n",
    "    p=Pool(processes = num_processors)\r\n",
    "\r\n",
    "    for idx, v in enumerate(interclass_corr):\r\n",
    "\r\n",
    "        paramlist = [[0, 0], [stats.norm, 0, 10**v], [stats.norm, 0, 1]]\r\n",
    "        paramlist = [paramlist] * num_processors\r\n",
    "\r\n",
    "        ss = np.random.SeedSequence(seedlist[seed[idx]])\r\n",
    "        child_seeds = ss.spawn(num_processors)\r\n",
    "        seeds = [np.random.default_rng(s) for s in child_seeds]\r\n",
    "\r\n",
    "        output = p.starmap(worker, zip(containers, paramlist, seeds))\r\n",
    "\r\n",
    "        final[idx, 0] = 10**v     \r\n",
    "        final[idx, 1:] = (np.asarray(output) <= 0.05).sum(axis=2).sum(axis=0) / (loop_count*num_processors)\r\n",
    "        print(final[idx])\r\n",
    "\r\n",
    "    containerstr = str(hierarchy).translate({ord(','):ord('_'), ord('['):None, ord(']'):None, ord(' '):None})\r\n",
    "    filename = containerstr + \"data_\" + distributions + \".csv\"\r\n",
    "    np.savetxt(os.path.join(folder, filename), final, delimiter=',') \r\n",
    "\r\n",
    "    p.close()\r\n"
   ]
  },
  {
   "cell_type": "code",
   "execution_count": 86,
   "metadata": {},
   "outputs": [
    {
     "name": "stdout",
     "output_type": "stream",
     "text": [
      "[[1.00000000e-02 5.27140898e-02 5.15383108e-02]\n",
      " [1.00000000e-01 5.21262003e-02 5.08524397e-02]\n",
      " [3.16227766e-01 5.36939055e-02 5.11463845e-02]\n",
      " [1.00000000e+00 5.32039976e-02 4.97746424e-02]\n",
      " [3.16227766e+00 6.28061924e-02 4.85988634e-02]\n",
      " [1.00000000e+01 6.49617872e-02 4.47775818e-02]\n",
      " [1.00000000e+02 5.39878503e-02 4.83049187e-02]]\n"
     ]
    }
   ],
   "source": [
    "print(final)\r\n"
   ]
  },
  {
   "cell_type": "code",
   "execution_count": 87,
   "metadata": {},
   "outputs": [],
   "source": [
    "distributions = \"pareto_pareto_\""
   ]
  },
  {
   "cell_type": "code",
   "execution_count": 88,
   "metadata": {},
   "outputs": [
    {
     "name": "stdout",
     "output_type": "stream",
     "text": [
      "[0.01       0.04957868 0.03929061]\n",
      "[0.1        0.05163629 0.04007447]\n",
      "[0.31622777 0.04869684 0.0398785 ]\n",
      "[1.         0.04301391 0.03507741]\n",
      "[3.16227766 0.0473251  0.03223594]\n",
      "[10.          0.05310602  0.03076622]\n",
      "[1.00000000e+02 5.60454635e-02 3.47834607e-02]\n",
      "Wall time: 2min 43s\n"
     ]
    }
   ],
   "source": [
    "%%time\r\n",
    "\r\n",
    "loop_count = 729\r\n",
    "\r\n",
    "\r\n",
    "interclass_corr = [-2, -1, -0.5, 0, 0.5, 1, 2]\r\n",
    "seed = tuple(i for i in range(182, 189))\r\n",
    "final = np.empty((len(interclass_corr), 3))\r\n",
    "\r\n",
    "  \r\n",
    "\r\n",
    "if __name__ ==  '__main__': \r\n",
    "    num_processors = 14\r\n",
    "\r\n",
    "    containers = [hierarchy] * num_processors\r\n",
    "\r\n",
    "    p=Pool(processes = num_processors)\r\n",
    "\r\n",
    "    for idx, v in enumerate(interclass_corr):\r\n",
    "\r\n",
    "        paramlist = [[0, 0], [stats.pareto, 2.839, 0, 10**v], [stats.pareto, 2.839]]\r\n",
    "        paramlist = [paramlist] * num_processors\r\n",
    "\r\n",
    "        ss = np.random.SeedSequence(seedlist[seed[idx]])\r\n",
    "        child_seeds = ss.spawn(num_processors)\r\n",
    "        seeds = [np.random.default_rng(s) for s in child_seeds]\r\n",
    "\r\n",
    "        output = p.starmap(worker, zip(containers, paramlist, seeds))\r\n",
    "\r\n",
    "        final[idx, 0] = 10**v     \r\n",
    "        final[idx, 1:] = (np.asarray(output) <= 0.05).sum(axis=2).sum(axis=0) / (loop_count*num_processors)\r\n",
    "        print(final[idx])\r\n",
    "\r\n",
    "    containerstr = str(hierarchy).translate({ord(','):ord('_'), ord('['):None, ord(']'):None, ord(' '):None})\r\n",
    "    filename = containerstr + \"data_\" + distributions + \".csv\"\r\n",
    "    np.savetxt(os.path.join(folder, filename), final, delimiter=',') \r\n",
    "\r\n",
    "    p.close()\r\n"
   ]
  },
  {
   "cell_type": "code",
   "execution_count": 89,
   "metadata": {},
   "outputs": [
    {
     "name": "stdout",
     "output_type": "stream",
     "text": [
      "[[1.00000000e-02 4.95786792e-02 3.92906134e-02]\n",
      " [1.00000000e-01 5.16362924e-02 4.00744660e-02]\n",
      " [3.16227766e-01 4.86968450e-02 3.98785028e-02]\n",
      " [1.00000000e+00 4.30139134e-02 3.50774054e-02]\n",
      " [3.16227766e+00 4.73251029e-02 3.22359396e-02]\n",
      " [1.00000000e+01 5.31060161e-02 3.07662160e-02]\n",
      " [1.00000000e+02 5.60454635e-02 3.47834607e-02]]\n"
     ]
    }
   ],
   "source": [
    "print(final)\r\n"
   ]
  },
  {
   "cell_type": "code",
   "execution_count": 90,
   "metadata": {},
   "outputs": [],
   "source": [
    "distributions = \"gamma_gamma_\""
   ]
  },
  {
   "cell_type": "code",
   "execution_count": 91,
   "metadata": {},
   "outputs": [
    {
     "name": "stdout",
     "output_type": "stream",
     "text": [
      "[0.01       0.04987262 0.04644327]\n",
      "[0.1        0.05153831 0.04693318]\n",
      "[0.31622777 0.05114638 0.04850088]\n",
      "[1.         0.05222418 0.04801097]\n",
      "[3.16227766 0.05633941 0.04134823]\n",
      "[10.          0.06515775  0.04477758]\n",
      "[1.00000000e+02 5.00685871e-02 4.77170292e-02]\n",
      "Wall time: 2min 45s\n"
     ]
    }
   ],
   "source": [
    "%%time\r\n",
    "\r\n",
    "loop_count = 729\r\n",
    "\r\n",
    "\r\n",
    "interclass_corr = [-2, -1, -0.5, 0, 0.5, 1, 2]\r\n",
    "seed = tuple(i for i in range(189, 196))\r\n",
    "final = np.empty((len(interclass_corr), 3))\r\n",
    "\r\n",
    "  \r\n",
    "\r\n",
    "if __name__ ==  '__main__': \r\n",
    "    num_processors = 14\r\n",
    "\r\n",
    "    containers = [hierarchy] * num_processors\r\n",
    "\r\n",
    "    p=Pool(processes = num_processors)\r\n",
    "\r\n",
    "    for idx, v in enumerate(interclass_corr):\r\n",
    "\r\n",
    "        paramlist = [[0, 0], [stats.gamma, 2, 0, 10**v], [stats.gamma, 2]]\r\n",
    "        paramlist = [paramlist] * num_processors\r\n",
    "\r\n",
    "        ss = np.random.SeedSequence(seedlist[seed[idx]])\r\n",
    "        child_seeds = ss.spawn(num_processors)\r\n",
    "        seeds = [np.random.default_rng(s) for s in child_seeds]\r\n",
    "\r\n",
    "        output = p.starmap(worker, zip(containers, paramlist, seeds))\r\n",
    "\r\n",
    "        final[idx, 0] = 10**v     \r\n",
    "        final[idx, 1:] = (np.asarray(output) <= 0.05).sum(axis=2).sum(axis=0) / (loop_count*num_processors)\r\n",
    "        print(final[idx])\r\n",
    "\r\n",
    "    containerstr = str(hierarchy).translate({ord(','):ord('_'), ord('['):None, ord(']'):None, ord(' '):None})\r\n",
    "    filename = containerstr + \"data_\" + distributions + \".csv\"\r\n",
    "    np.savetxt(os.path.join(folder, filename), final, delimiter=',') \r\n",
    "\r\n",
    "    p.close()\r\n"
   ]
  },
  {
   "cell_type": "code",
   "execution_count": 92,
   "metadata": {},
   "outputs": [
    {
     "name": "stdout",
     "output_type": "stream",
     "text": [
      "[[1.00000000e-02 4.98726239e-02 4.64432687e-02]\n",
      " [1.00000000e-01 5.15383108e-02 4.69331766e-02]\n",
      " [3.16227766e-01 5.11463845e-02 4.85008818e-02]\n",
      " [1.00000000e+00 5.22241819e-02 4.80109739e-02]\n",
      " [3.16227766e+00 5.63394082e-02 4.13482265e-02]\n",
      " [1.00000000e+01 6.51577503e-02 4.47775818e-02]\n",
      " [1.00000000e+02 5.00685871e-02 4.77170292e-02]]\n"
     ]
    }
   ],
   "source": [
    "print(final)\r\n"
   ]
  },
  {
   "cell_type": "code",
   "execution_count": 93,
   "metadata": {},
   "outputs": [],
   "source": [
    "hierarchy = [2, 4, 3]\r\n",
    "\r\n",
    "bootstraps = 500\r\n",
    "permutations = 'all'\r\n",
    "treatment_col = 0\r\n",
    "compare = \"corr\"\r\n",
    "\r\n",
    "loop_count = 729\r\n",
    "\r\n",
    "worker = partial(\r\n",
    "poweranalysis,\r\n",
    "compare=compare,\r\n",
    "loops=loop_count,\r\n",
    "treatment_col=treatment_col,\r\n",
    "bootstraps = bootstraps,\r\n",
    "permutations = permutations)"
   ]
  },
  {
   "cell_type": "code",
   "execution_count": 94,
   "metadata": {},
   "outputs": [],
   "source": [
    "distributions = \"lognorm_lognorm_\""
   ]
  },
  {
   "cell_type": "code",
   "execution_count": 95,
   "metadata": {},
   "outputs": [
    {
     "name": "stdout",
     "output_type": "stream",
     "text": [
      "[0.01       0.05144033 0.03419557]\n",
      "[0.1        0.05261611 0.03870272]\n",
      "[0.31622777 0.05183226 0.03840878]\n",
      "[1.         0.0473251  0.03664511]\n",
      "[3.16227766 0.04634529 0.03380364]\n",
      "[10.          0.05437978  0.03331374]\n",
      "[1.00000000e+02 5.53595924e-02 2.87086028e-02]\n",
      "Wall time: 7min 36s\n"
     ]
    }
   ],
   "source": [
    "%%time\r\n",
    "\r\n",
    "loop_count = 729\r\n",
    "\r\n",
    "\r\n",
    "interclass_corr = [-2, -1, -0.5, 0, 0.5, 1, 2]\r\n",
    "seed = tuple(i for i in range(196, 203))\r\n",
    "final = np.empty((len(interclass_corr), 3))\r\n",
    "\r\n",
    "  \r\n",
    "\r\n",
    "if __name__ ==  '__main__': \r\n",
    "    num_processors = 14\r\n",
    "\r\n",
    "    containers = [hierarchy] * num_processors\r\n",
    "\r\n",
    "    p=Pool(processes = num_processors)\r\n",
    "\r\n",
    "    for idx, v in enumerate(interclass_corr):\r\n",
    "\r\n",
    "        paramlist = [[0, 0], [stats.lognorm, 1, 0, 10**v], [stats.lognorm, 1]]\r\n",
    "        paramlist = [paramlist] * num_processors\r\n",
    "\r\n",
    "        ss = np.random.SeedSequence(seedlist[seed[idx]])\r\n",
    "        child_seeds = ss.spawn(num_processors)\r\n",
    "        seeds = [np.random.default_rng(s) for s in child_seeds]\r\n",
    "\r\n",
    "        output = p.starmap(worker, zip(containers, paramlist, seeds))\r\n",
    "\r\n",
    "        final[idx, 0] = 10**v     \r\n",
    "        final[idx, 1:] = (np.asarray(output) <= 0.05).sum(axis=2).sum(axis=0) / (loop_count*num_processors)\r\n",
    "        print(final[idx])\r\n",
    "\r\n",
    "    containerstr = str(hierarchy).translate({ord(','):ord('_'), ord('['):None, ord(']'):None, ord(' '):None})\r\n",
    "    filename = containerstr + \"data_\" + distributions + \".csv\"\r\n",
    "    np.savetxt(os.path.join(folder, filename), final, delimiter=',') \r\n",
    "\r\n",
    "    p.close()\r\n"
   ]
  },
  {
   "cell_type": "code",
   "execution_count": 96,
   "metadata": {},
   "outputs": [
    {
     "name": "stdout",
     "output_type": "stream",
     "text": [
      "[[1.00000000e-02 5.14403292e-02 3.41955712e-02]\n",
      " [1.00000000e-01 5.26161082e-02 3.87027239e-02]\n",
      " [3.16227766e-01 5.18322555e-02 3.84087791e-02]\n",
      " [1.00000000e+00 4.73251029e-02 3.66451107e-02]\n",
      " [3.16227766e+00 4.63452871e-02 3.38036449e-02]\n",
      " [1.00000000e+01 5.43797766e-02 3.33137370e-02]\n",
      " [1.00000000e+02 5.53595924e-02 2.87086028e-02]]\n"
     ]
    }
   ],
   "source": [
    "print(final)\r\n"
   ]
  },
  {
   "cell_type": "code",
   "execution_count": 97,
   "metadata": {},
   "outputs": [],
   "source": [
    "distributions = \"norm_norm_\""
   ]
  },
  {
   "cell_type": "code",
   "execution_count": 98,
   "metadata": {},
   "outputs": [
    {
     "name": "stdout",
     "output_type": "stream",
     "text": [
      "[0.01       0.05437978 0.05261611]\n",
      "[0.1        0.05085244 0.05006859]\n",
      "[0.31622777 0.05163629 0.05016657]\n",
      "[1.         0.04663923 0.0473251 ]\n",
      "[3.16227766 0.0510484  0.05006859]\n",
      "[10.          0.05281207  0.04908877]\n",
      "[1.00000000e+02 5.82010582e-02 5.33019792e-02]\n",
      "Wall time: 7min 31s\n"
     ]
    }
   ],
   "source": [
    "%%time\r\n",
    "\r\n",
    "loop_count = 729\r\n",
    "\r\n",
    "\r\n",
    "interclass_corr = [-2, -1, -0.5, 0, 0.5, 1, 2]\r\n",
    "seed = tuple(i for i in range(203, 210))\r\n",
    "final = np.empty((len(interclass_corr), 3))\r\n",
    "\r\n",
    "  \r\n",
    "\r\n",
    "if __name__ ==  '__main__': \r\n",
    "    num_processors = 14\r\n",
    "\r\n",
    "    containers = [hierarchy] * num_processors\r\n",
    "\r\n",
    "    p=Pool(processes = num_processors)\r\n",
    "\r\n",
    "    for idx, v in enumerate(interclass_corr):\r\n",
    "\r\n",
    "        paramlist = [[0, 0], [stats.norm, 0, 10**v], [stats.norm, 0, 1]]\r\n",
    "        paramlist = [paramlist] * num_processors\r\n",
    "\r\n",
    "        ss = np.random.SeedSequence(seedlist[seed[idx]])\r\n",
    "        child_seeds = ss.spawn(num_processors)\r\n",
    "        seeds = [np.random.default_rng(s) for s in child_seeds]\r\n",
    "\r\n",
    "        output = p.starmap(worker, zip(containers, paramlist, seeds))\r\n",
    "\r\n",
    "        final[idx, 0] = 10**v     \r\n",
    "        final[idx, 1:] = (np.asarray(output) <= 0.05).sum(axis=2).sum(axis=0) / (loop_count*num_processors)\r\n",
    "        print(final[idx])\r\n",
    "\r\n",
    "    containerstr = str(hierarchy).translate({ord(','):ord('_'), ord('['):None, ord(']'):None, ord(' '):None})\r\n",
    "    filename = containerstr + \"data_\" + distributions + \".csv\"\r\n",
    "    np.savetxt(os.path.join(folder, filename), final, delimiter=',') \r\n",
    "\r\n",
    "    p.close()\r\n"
   ]
  },
  {
   "cell_type": "code",
   "execution_count": 99,
   "metadata": {},
   "outputs": [
    {
     "name": "stdout",
     "output_type": "stream",
     "text": [
      "[[1.00000000e-02 5.43797766e-02 5.26161082e-02]\n",
      " [1.00000000e-01 5.08524397e-02 5.00685871e-02]\n",
      " [3.16227766e-01 5.16362924e-02 5.01665687e-02]\n",
      " [1.00000000e+00 4.66392318e-02 4.73251029e-02]\n",
      " [3.16227766e+00 5.10484029e-02 5.00685871e-02]\n",
      " [1.00000000e+01 5.28120713e-02 4.90887713e-02]\n",
      " [1.00000000e+02 5.82010582e-02 5.33019792e-02]]\n"
     ]
    }
   ],
   "source": [
    "print(final)\r\n"
   ]
  },
  {
   "cell_type": "code",
   "execution_count": 100,
   "metadata": {},
   "outputs": [],
   "source": [
    "distributions = \"pareto_pareto_\""
   ]
  },
  {
   "cell_type": "code",
   "execution_count": 101,
   "metadata": {},
   "outputs": [
    {
     "name": "stdout",
     "output_type": "stream",
     "text": [
      "[0.01       0.05271409 0.03595924]\n",
      "[0.1        0.04967666 0.03301979]\n",
      "[0.31622777 0.05575152 0.04154419]\n",
      "[1.         0.04899079 0.03576328]\n",
      "[3.16227766 0.04605134 0.02988438]\n",
      "[10.          0.0457574   0.02733686]\n",
      "[1.00000000e+02 6.01606898e-02 2.91005291e-02]\n",
      "Wall time: 7min 35s\n"
     ]
    }
   ],
   "source": [
    "%%time\r\n",
    "\r\n",
    "loop_count = 729\r\n",
    "\r\n",
    "\r\n",
    "interclass_corr = [-2, -1, -0.5, 0, 0.5, 1, 2]\r\n",
    "seed = tuple(i for i in range(210, 217))\r\n",
    "final = np.empty((len(interclass_corr), 3))\r\n",
    "\r\n",
    "  \r\n",
    "\r\n",
    "if __name__ ==  '__main__': \r\n",
    "    num_processors = 14\r\n",
    "\r\n",
    "    containers = [hierarchy] * num_processors\r\n",
    "\r\n",
    "    p=Pool(processes = num_processors)\r\n",
    "\r\n",
    "    for idx, v in enumerate(interclass_corr):\r\n",
    "\r\n",
    "        paramlist = [[0, 0], [stats.pareto, 2.839, 0, 10**v], [stats.pareto, 2.839]]\r\n",
    "        paramlist = [paramlist] * num_processors\r\n",
    "\r\n",
    "        ss = np.random.SeedSequence(seedlist[seed[idx]])\r\n",
    "        child_seeds = ss.spawn(num_processors)\r\n",
    "        seeds = [np.random.default_rng(s) for s in child_seeds]\r\n",
    "\r\n",
    "        output = p.starmap(worker, zip(containers, paramlist, seeds))\r\n",
    "\r\n",
    "        final[idx, 0] = 10**v     \r\n",
    "        final[idx, 1:] = (np.asarray(output) <= 0.05).sum(axis=2).sum(axis=0) / (loop_count*num_processors)\r\n",
    "        print(final[idx])\r\n",
    "\r\n",
    "    containerstr = str(hierarchy).translate({ord(','):ord('_'), ord('['):None, ord(']'):None, ord(' '):None})\r\n",
    "    filename = containerstr + \"data_\" + distributions + \".csv\"\r\n",
    "    np.savetxt(os.path.join(folder, filename), final, delimiter=',') \r\n",
    "\r\n",
    "    p.close()\r\n"
   ]
  },
  {
   "cell_type": "code",
   "execution_count": 102,
   "metadata": {},
   "outputs": [
    {
     "name": "stdout",
     "output_type": "stream",
     "text": [
      "[[1.00000000e-02 5.27140898e-02 3.59592397e-02]\n",
      " [1.00000000e-01 4.96766608e-02 3.30197923e-02]\n",
      " [3.16227766e-01 5.57515187e-02 4.15441897e-02]\n",
      " [1.00000000e+00 4.89907897e-02 3.57632765e-02]\n",
      " [3.16227766e+00 4.60513423e-02 2.98843817e-02]\n",
      " [1.00000000e+01 4.57573976e-02 2.73368607e-02]\n",
      " [1.00000000e+02 6.01606898e-02 2.91005291e-02]]\n"
     ]
    }
   ],
   "source": [
    "print(final)"
   ]
  },
  {
   "cell_type": "code",
   "execution_count": 103,
   "metadata": {},
   "outputs": [],
   "source": [
    "distributions = \"gamma_gamma_\""
   ]
  },
  {
   "cell_type": "code",
   "execution_count": 104,
   "metadata": {},
   "outputs": [
    {
     "name": "stdout",
     "output_type": "stream",
     "text": [
      "[0.01       0.05447776 0.05016657]\n",
      "[0.1        0.05291005 0.0494807 ]\n",
      "[0.31622777 0.05271409 0.05006859]\n",
      "[1.         0.05114638 0.05046051]\n",
      "[3.16227766 0.05124437 0.04634529]\n",
      "[10.          0.05339996  0.04320988]\n",
      "[1.00000000e+02 5.46737213e-02 4.20340976e-02]\n",
      "Wall time: 7min 37s\n"
     ]
    }
   ],
   "source": [
    "%%time\r\n",
    "\r\n",
    "loop_count = 729\r\n",
    "\r\n",
    "\r\n",
    "interclass_corr = [-2, -1, -0.5, 0, 0.5, 1, 2]\r\n",
    "seed = tuple(i for i in range(217, 224))\r\n",
    "final = np.empty((len(interclass_corr), 3))\r\n",
    "\r\n",
    "  \r\n",
    "\r\n",
    "if __name__ ==  '__main__': \r\n",
    "    num_processors = 14\r\n",
    "\r\n",
    "    containers = [hierarchy] * num_processors\r\n",
    "\r\n",
    "    p=Pool(processes = num_processors)\r\n",
    "\r\n",
    "    for idx, v in enumerate(interclass_corr):\r\n",
    "\r\n",
    "\r\n",
    "        paramlist = [[0, 0], [stats.gamma, 2, 0, 10**v], [stats.gamma, 2]]\r\n",
    "        paramlist = [paramlist] * num_processors\r\n",
    "\r\n",
    "        ss = np.random.SeedSequence(seedlist[seed[idx]])\r\n",
    "        child_seeds = ss.spawn(num_processors)\r\n",
    "        seeds = [np.random.default_rng(s) for s in child_seeds]\r\n",
    "\r\n",
    "        output = p.starmap(worker, zip(containers, paramlist, seeds))\r\n",
    "\r\n",
    "        final[idx, 0] = 10**v     \r\n",
    "        final[idx, 1:] = (np.asarray(output) <= 0.05).sum(axis=2).sum(axis=0) / (loop_count*num_processors)\r\n",
    "        print(final[idx])\r\n",
    "\r\n",
    "    containerstr = str(hierarchy).translate({ord(','):ord('_'), ord('['):None, ord(']'):None, ord(' '):None})\r\n",
    "    filename = containerstr + \"data_\" + distributions + \".csv\"\r\n",
    "    np.savetxt(os.path.join(folder, filename), final, delimiter=',') \r\n",
    "\r\n",
    "    p.close()\r\n"
   ]
  },
  {
   "cell_type": "code",
   "execution_count": 105,
   "metadata": {},
   "outputs": [
    {
     "name": "stdout",
     "output_type": "stream",
     "text": [
      "[[1.00000000e-02 5.44777582e-02 5.01665687e-02]\n",
      " [1.00000000e-01 5.29100529e-02 4.94806976e-02]\n",
      " [3.16227766e-01 5.27140898e-02 5.00685871e-02]\n",
      " [1.00000000e+00 5.11463845e-02 5.04605134e-02]\n",
      " [3.16227766e+00 5.12443661e-02 4.63452871e-02]\n",
      " [1.00000000e+01 5.33999608e-02 4.32098765e-02]\n",
      " [1.00000000e+02 5.46737213e-02 4.20340976e-02]]\n"
     ]
    }
   ],
   "source": [
    "print(final)"
   ]
  },
  {
   "cell_type": "code",
   "execution_count": 106,
   "metadata": {},
   "outputs": [],
   "source": [
    "hierarchy = [3, 2, 4, 3]\r\n",
    "\r\n",
    "bootstraps = 100\r\n",
    "permutations = 1000\r\n",
    "treatment_col = 1\r\n",
    "compare = \"corr\"\r\n",
    "\r\n",
    "loop_count = 729\r\n",
    "\r\n",
    "worker = partial(\r\n",
    "poweranalysis,\r\n",
    "compare=compare,\r\n",
    "loops=loop_count,\r\n",
    "treatment_col=treatment_col,\r\n",
    "bootstraps = bootstraps,\r\n",
    "permutations = permutations)"
   ]
  },
  {
   "cell_type": "code",
   "execution_count": 107,
   "metadata": {},
   "outputs": [],
   "source": [
    "distributions = \"lognorm_lognorm_\""
   ]
  },
  {
   "cell_type": "code",
   "execution_count": 108,
   "metadata": {},
   "outputs": [
    {
     "name": "stdout",
     "output_type": "stream",
     "text": [
      "[0.01       0.05349794 0.04262199]\n",
      "[0.1        0.05046051 0.04027043]\n",
      "[0.31622777 0.0484029  0.03399961]\n",
      "[1.         0.0457574  0.02478934]\n",
      "[3.16227766 0.04291593 0.01832256]\n",
      "[10.          0.04869684  0.01655889]\n",
      "[1.00000000e+02 5.10484029e-02 1.76366843e-02]\n",
      "Wall time: 15min 37s\n"
     ]
    }
   ],
   "source": [
    "%%time\r\n",
    "\r\n",
    "loop_count = 729\r\n",
    "\r\n",
    "\r\n",
    "interclass_corr = [-2, -1, -0.5, 0, 0.5, 1, 2]\r\n",
    "seed = tuple(i for i in range(224, 231))\r\n",
    "final = np.empty((len(interclass_corr), 3))\r\n",
    "\r\n",
    "  \r\n",
    "\r\n",
    "if __name__ ==  '__main__': \r\n",
    "    num_processors = 14\r\n",
    "    \r\n",
    "    containers = [hierarchy] * num_processors\r\n",
    "\r\n",
    "\r\n",
    "    p=Pool(processes = num_processors)\r\n",
    "\r\n",
    "    for idx, v in enumerate(interclass_corr):\r\n",
    "         \r\n",
    "\r\n",
    "        paramlist = [[stats.lognorm, 1, 0, 10**v], [0, 0]*3, [stats.lognorm, 1, 0, 10**v], [stats.lognorm, 1]]\r\n",
    "        paramlist = [paramlist] * num_processors\r\n",
    "\r\n",
    "        ss = np.random.SeedSequence(seedlist[seed[idx]])\r\n",
    "        child_seeds = ss.spawn(num_processors)\r\n",
    "        seeds = [np.random.default_rng(s) for s in child_seeds]\r\n",
    "\r\n",
    "        output = p.starmap(worker, zip(containers, paramlist, seeds))\r\n",
    "\r\n",
    "        final[idx, 0] = 10**v     \r\n",
    "        final[idx, 1:] = (np.asarray(output) <= 0.05).sum(axis=2).sum(axis=0) / (loop_count*num_processors)\r\n",
    "        print(final[idx])\r\n",
    "\r\n",
    "\r\n",
    "    containerstr = str(hierarchy).translate({ord(','):ord('_'), ord('['):None, ord(']'):None, ord(' '):None})\r\n",
    "    filename = containerstr + \"data_\" + distributions + \".csv\"\r\n",
    "    np.savetxt(os.path.join(folder, filename), final, delimiter=',') \r\n",
    "\r\n",
    "    p.close()\r\n"
   ]
  },
  {
   "cell_type": "code",
   "execution_count": 109,
   "metadata": {},
   "outputs": [
    {
     "name": "stdout",
     "output_type": "stream",
     "text": [
      "[[1.00000000e-02 5.34979424e-02 4.26219871e-02]\n",
      " [1.00000000e-01 5.04605134e-02 4.02704292e-02]\n",
      " [3.16227766e-01 4.84029003e-02 3.39996081e-02]\n",
      " [1.00000000e+00 4.57573976e-02 2.47893396e-02]\n",
      " [3.16227766e+00 4.29159318e-02 1.83225554e-02]\n",
      " [1.00000000e+01 4.86968450e-02 1.65588869e-02]\n",
      " [1.00000000e+02 5.10484029e-02 1.76366843e-02]]\n"
     ]
    }
   ],
   "source": [
    "print(final)"
   ]
  },
  {
   "cell_type": "code",
   "execution_count": 110,
   "metadata": {},
   "outputs": [],
   "source": [
    "distributions = \"norm_norm_\""
   ]
  },
  {
   "cell_type": "code",
   "execution_count": 111,
   "metadata": {},
   "outputs": [
    {
     "name": "stdout",
     "output_type": "stream",
     "text": [
      "[0.01       0.05242015 0.05144033]\n",
      "[0.1        0.04820694 0.04742308]\n",
      "[0.31622777 0.04516951 0.03782089]\n",
      "[1.         0.04605134 0.02322163]\n",
      "[3.16227766 0.0494807  0.02175191]\n",
      "[10.          0.05271409  0.01842054]\n",
      "[1.00000000e+02 4.89907897e-02 2.12620027e-02]\n",
      "Wall time: 16min 13s\n"
     ]
    }
   ],
   "source": [
    "%%time\r\n",
    "\r\n",
    "loop_count = 729\r\n",
    "\r\n",
    "\r\n",
    "interclass_corr = [-2, -1, -0.5, 0, 0.5, 1, 2]\r\n",
    "seed = tuple(i for i in range(231, 238))\r\n",
    "final = np.empty((len(interclass_corr), 3))\r\n",
    "\r\n",
    "  \r\n",
    "\r\n",
    "if __name__ ==  '__main__': \r\n",
    "    num_processors = 14\r\n",
    "\r\n",
    "    containers = [hierarchy] * num_processors\r\n",
    "\r\n",
    "    p=Pool(processes = num_processors)\r\n",
    "\r\n",
    "    for idx, v in enumerate(interclass_corr):\r\n",
    "         \r\n",
    "\r\n",
    "        paramlist = [[stats.norm, 0, 10**v], [0, 0]*3, [stats.norm, 0, 10**v], [stats.norm]]\r\n",
    "        paramlist = [paramlist] * num_processors\r\n",
    "\r\n",
    "        ss = np.random.SeedSequence(seedlist[seed[idx]])\r\n",
    "        child_seeds = ss.spawn(num_processors)\r\n",
    "        seeds = [np.random.default_rng(s) for s in child_seeds]\r\n",
    "\r\n",
    "        output = p.starmap(worker, zip(containers, paramlist, seeds))\r\n",
    "\r\n",
    "        final[idx, 0] = 10**v     \r\n",
    "        final[idx, 1:] = (np.asarray(output) <= 0.05).sum(axis=2).sum(axis=0) / (loop_count*num_processors)\r\n",
    "        print(final[idx])\r\n",
    "\r\n",
    "    containerstr = str(hierarchy).translate({ord(','):ord('_'), ord('['):None, ord(']'):None, ord(' '):None})\r\n",
    "    filename = containerstr + \"data_\" + distributions + \".csv\"\r\n",
    "    np.savetxt(os.path.join(folder, filename), final, delimiter=',') \r\n",
    "\r\n",
    "    p.close()\r\n"
   ]
  },
  {
   "cell_type": "code",
   "execution_count": 112,
   "metadata": {},
   "outputs": [
    {
     "name": "stdout",
     "output_type": "stream",
     "text": [
      "[[1.00000000e-02 5.24201450e-02 5.14403292e-02]\n",
      " [1.00000000e-01 4.82069371e-02 4.74230845e-02]\n",
      " [3.16227766e-01 4.51695081e-02 3.78208897e-02]\n",
      " [1.00000000e+00 4.60513423e-02 2.32216343e-02]\n",
      " [3.16227766e+00 4.94806976e-02 2.17519106e-02]\n",
      " [1.00000000e+01 5.27140898e-02 1.84205369e-02]\n",
      " [1.00000000e+02 4.89907897e-02 2.12620027e-02]]\n"
     ]
    }
   ],
   "source": [
    "print(final)\r\n"
   ]
  },
  {
   "cell_type": "code",
   "execution_count": 113,
   "metadata": {},
   "outputs": [],
   "source": [
    "distributions = \"pareto_pareto_\""
   ]
  },
  {
   "cell_type": "code",
   "execution_count": 114,
   "metadata": {},
   "outputs": [
    {
     "name": "stdout",
     "output_type": "stream",
     "text": [
      "[0.01       0.05006859 0.0383108 ]\n",
      "[0.1        0.04918675 0.03527337]\n",
      "[0.31622777 0.04899079 0.03203998]\n",
      "[1.         0.04242602 0.02145797]\n",
      "[3.16227766 0.04869684 0.01979228]\n",
      "[10.          0.04859886  0.01518714]\n",
      "[1.00000000e+02 5.15383108e-02 1.68528317e-02]\n",
      "Wall time: 19min 11s\n"
     ]
    }
   ],
   "source": [
    "%%time\r\n",
    "\r\n",
    "loop_count = 729\r\n",
    "\r\n",
    "\r\n",
    "interclass_corr = [-2, -1, -0.5, 0, 0.5, 1, 2]\r\n",
    "seed = tuple(i for i in range(238, 245))\r\n",
    "final = np.empty((len(interclass_corr), 3))\r\n",
    "\r\n",
    "  \r\n",
    "\r\n",
    "if __name__ ==  '__main__': \r\n",
    "    num_processors = 14\r\n",
    "\r\n",
    "    containers = [hierarchy] * num_processors\r\n",
    "\r\n",
    "    p=Pool(processes = num_processors)\r\n",
    "\r\n",
    "    for idx, v in enumerate(interclass_corr):\r\n",
    "\r\n",
    "        paramlist = [[stats.pareto, 2.839, 0, 10**v], [0, 0]*3, [stats.pareto, 2.839, 0, 10**v], [stats.pareto, 2.839]]\r\n",
    "        paramlist = [paramlist] * num_processors\r\n",
    "\r\n",
    "        ss = np.random.SeedSequence(seedlist[seed[idx]])\r\n",
    "        child_seeds = ss.spawn(num_processors)\r\n",
    "        seeds = [np.random.default_rng(s) for s in child_seeds]\r\n",
    "\r\n",
    "        output = p.starmap(worker, zip(containers, paramlist, seeds))\r\n",
    "\r\n",
    "        final[idx, 0] = 10**v     \r\n",
    "        final[idx, 1:] = (np.asarray(output) <= 0.05).sum(axis=2).sum(axis=0) / (loop_count*num_processors)\r\n",
    "        print(final[idx])\r\n",
    "\r\n",
    "    containerstr = str(hierarchy).translate({ord(','):ord('_'), ord('['):None, ord(']'):None, ord(' '):None})\r\n",
    "    filename = containerstr + \"data_\" + distributions + \".csv\"\r\n",
    "    np.savetxt(os.path.join(folder, filename), final, delimiter=',') \r\n",
    "\r\n",
    "    p.close()\r\n",
    "\r\n"
   ]
  },
  {
   "cell_type": "code",
   "execution_count": 115,
   "metadata": {},
   "outputs": [
    {
     "name": "stdout",
     "output_type": "stream",
     "text": [
      "[[1.00000000e-02 5.00685871e-02 3.83107976e-02]\n",
      " [1.00000000e-01 4.91867529e-02 3.52733686e-02]\n",
      " [3.16227766e-01 4.89907897e-02 3.20399765e-02]\n",
      " [1.00000000e+00 4.24260239e-02 2.14579659e-02]\n",
      " [3.16227766e+00 4.86968450e-02 1.97922791e-02]\n",
      " [1.00000000e+01 4.85988634e-02 1.51871448e-02]\n",
      " [1.00000000e+02 5.15383108e-02 1.68528317e-02]]\n"
     ]
    }
   ],
   "source": [
    "print(final)"
   ]
  },
  {
   "cell_type": "code",
   "execution_count": 116,
   "metadata": {},
   "outputs": [],
   "source": [
    "distributions = \"gamma_gamma_\""
   ]
  },
  {
   "cell_type": "code",
   "execution_count": 117,
   "metadata": {},
   "outputs": [
    {
     "name": "stdout",
     "output_type": "stream",
     "text": [
      "[0.01       0.05153831 0.04997061]\n",
      "[0.1        0.05065648 0.04820694]\n",
      "[0.31622777 0.04683519 0.03860474]\n",
      "[1.         0.04409171 0.02537723]\n",
      "[3.16227766 0.04448364 0.0186165 ]\n",
      "[10.          0.05183226  0.02282971]\n",
      "[1.00000000e+02 5.57515187e-02 2.18498922e-02]\n",
      "Wall time: 15min 43s\n"
     ]
    }
   ],
   "source": [
    "%%time\r\n",
    "\r\n",
    "loop_count = 729\r\n",
    "\r\n",
    "\r\n",
    "interclass_corr = [-2, -1, -0.5, 0, 0.5, 1, 2]\r\n",
    "seed = tuple(i for i in range(245, 252))\r\n",
    "final = np.empty((len(interclass_corr), 3))\r\n",
    "\r\n",
    "  \r\n",
    "\r\n",
    "if __name__ ==  '__main__': \r\n",
    "    num_processors = 14\r\n",
    "\r\n",
    "    containers = [hierarchy] * num_processors\r\n",
    "\r\n",
    "    p=Pool(processes = num_processors)\r\n",
    "\r\n",
    "    for idx, v in enumerate(interclass_corr):\r\n",
    "\r\n",
    "        paramlist = [[stats.gamma, 2, 0, 10**v], [0, 0]*3, [stats.gamma, 2, 0, 10**v], [stats.gamma, 2]]\r\n",
    "        paramlist = [paramlist] * num_processors\r\n",
    "\r\n",
    "        ss = np.random.SeedSequence(seedlist[seed[idx]])\r\n",
    "        child_seeds = ss.spawn(num_processors)\r\n",
    "        seeds = [np.random.default_rng(s) for s in child_seeds]\r\n",
    "\r\n",
    "        output = p.starmap(worker, zip(containers, paramlist, seeds))\r\n",
    "\r\n",
    "        final[idx, 0] = 10**v     \r\n",
    "        final[idx, 1:] = (np.asarray(output) <= 0.05).sum(axis=2).sum(axis=0) / (loop_count*num_processors)\r\n",
    "        print(final[idx])\r\n",
    "\r\n",
    "\r\n",
    "    containerstr = str(hierarchy).translate({ord(','):ord('_'), ord('['):None, ord(']'):None, ord(' '):None})\r\n",
    "    filename = containerstr + \"data_\" + distributions + \".csv\"\r\n",
    "    np.savetxt(os.path.join(folder, filename), final, delimiter=',') \r\n",
    "\r\n",
    "    p.close()\r\n",
    "\r\n"
   ]
  },
  {
   "cell_type": "code",
   "execution_count": 118,
   "metadata": {},
   "outputs": [
    {
     "name": "stdout",
     "output_type": "stream",
     "text": [
      "[[1.00000000e-02 5.15383108e-02 4.99706055e-02]\n",
      " [1.00000000e-01 5.06564766e-02 4.82069371e-02]\n",
      " [3.16227766e-01 4.68351950e-02 3.86047423e-02]\n",
      " [1.00000000e+00 4.40917108e-02 2.53772291e-02]\n",
      " [3.16227766e+00 4.44836371e-02 1.86165001e-02]\n",
      " [1.00000000e+01 5.18322555e-02 2.28297080e-02]\n",
      " [1.00000000e+02 5.57515187e-02 2.18498922e-02]]\n"
     ]
    }
   ],
   "source": [
    "print(final)\r\n"
   ]
  },
  {
   "cell_type": "code",
   "execution_count": 119,
   "metadata": {},
   "outputs": [],
   "source": [
    "folder = os.path.abspath('size control corr unequal variance')"
   ]
  },
  {
   "cell_type": "code",
   "execution_count": 120,
   "metadata": {},
   "outputs": [],
   "source": [
    "hierarchy = [2,3,3]\r\n",
    "\r\n",
    "bootstraps = 500\r\n",
    "permutations = 'all'\r\n",
    "treatment_col = 0\r\n",
    "compare = \"corr\"\r\n",
    "\r\n",
    "loop_count = 729\r\n",
    "\r\n",
    "worker = partial(\r\n",
    "poweranalysis,\r\n",
    "compare=compare,\r\n",
    "loops=loop_count,\r\n",
    "treatment_col=treatment_col,\r\n",
    "bootstraps = bootstraps,\r\n",
    "permutations = permutations)"
   ]
  },
  {
   "cell_type": "code",
   "execution_count": 121,
   "metadata": {},
   "outputs": [],
   "source": [
    "distributions = \"lognorm_lognorm_\""
   ]
  },
  {
   "cell_type": "code",
   "execution_count": 122,
   "metadata": {},
   "outputs": [
    {
     "name": "stdout",
     "output_type": "stream",
     "text": [
      "[0.01       0.04722712 0.03801685]\n",
      "[0.1        0.0521262  0.04085832]\n",
      "[0.31622777 0.04810896 0.0409563 ]\n",
      "[1.         0.04810896 0.03880071]\n",
      "[3.16227766 0.0558495  0.03791887]\n",
      "[10.          0.06280619  0.03840878]\n",
      "[1.00000000e+02 5.65353714e-02 3.70370370e-02]\n",
      "Wall time: 2min 44s\n"
     ]
    }
   ],
   "source": [
    "%%time\r\n",
    "\r\n",
    "\r\n",
    "interclass_corr = [-2, -1, -0.5, 0, 0.5, 1, 2]\r\n",
    "seed = tuple(i for i in range(252, 259))\r\n",
    "final = np.empty((len(interclass_corr), 3))\r\n",
    "\r\n",
    "  \r\n",
    "\r\n",
    "if __name__ ==  '__main__': \r\n",
    "    num_processors = 14\r\n",
    "\r\n",
    "    containers = [hierarchy] * num_processors\r\n",
    "\r\n",
    "    p=Pool(processes = num_processors)\r\n",
    "\r\n",
    "    for idx, v in enumerate(interclass_corr):\r\n",
    "        t_1 = [stats.lognorm, 1, 0, (10**v)]\r\n",
    "\r\n",
    "        loc_correction_3 = stats.lognorm.mean(1, 0, (10**v)) - stats.lognorm.mean(1, 0, 1.224*(10**v))\r\n",
    "\r\n",
    "        t_3 = [stats.lognorm, 1, loc_correction_3, 1.224*(10**v)]\r\n",
    "\r\n",
    "        paramlist = [[stats.norm, 0, 0],  [t_1]*hierarchy[1] + [t_3]*hierarchy[1], [stats.lognorm, 1]]\r\n",
    "        paramlist = [paramlist] * num_processors\r\n",
    "\r\n",
    "        ss = np.random.SeedSequence(seedlist[seed[idx]])\r\n",
    "        child_seeds = ss.spawn(num_processors)\r\n",
    "        seeds = [np.random.default_rng(s) for s in child_seeds]\r\n",
    "\r\n",
    "        output = p.starmap(worker, zip(containers, paramlist, seeds))\r\n",
    "\r\n",
    "        final[idx, 0] = 10**v    \r\n",
    "        final[idx, 1:] = (np.asarray(output) <= 0.05).sum(axis=2).sum(axis=0) / (loop_count*num_processors)\r\n",
    "        print(final[idx])\r\n",
    "\r\n",
    "    containerstr = str(hierarchy).translate({ord(','):ord('_'), ord('['):None, ord(']'):None, ord(' '):None})\r\n",
    "    filename = containerstr + \"data_\" + distributions + \".csv\"\r\n",
    "    np.savetxt(os.path.join(folder, filename), final, delimiter=',') \r\n",
    "\r\n",
    "    p.close()\r\n",
    "\r\n"
   ]
  },
  {
   "cell_type": "code",
   "execution_count": 123,
   "metadata": {},
   "outputs": [],
   "source": [
    "distributions = \"norm_norm_\""
   ]
  },
  {
   "cell_type": "code",
   "execution_count": 124,
   "metadata": {},
   "outputs": [
    {
     "name": "stdout",
     "output_type": "stream",
     "text": [
      "[0.01       0.05036253 0.04801097]\n",
      "[0.1        0.05300803 0.0521262 ]\n",
      "[0.31622777 0.0542818  0.05300803]\n",
      "[1.         0.05604546 0.05183226]\n",
      "[3.16227766 0.06574564 0.05036253]\n",
      "[10.          0.06613757  0.04722712]\n",
      "[1.00000000e+02 5.21262003e-02 5.19302371e-02]\n",
      "Wall time: 2min 45s\n"
     ]
    }
   ],
   "source": [
    "%%time\r\n",
    "\r\n",
    "interclass_corr = [-2, -1, -0.5, 0, 0.5, 1, 2]\r\n",
    "seed = tuple(i for i in range(259, 266))\r\n",
    "final = np.empty((len(interclass_corr), 3))\r\n",
    "\r\n",
    "  \r\n",
    "\r\n",
    "if __name__ ==  '__main__': \r\n",
    "    num_processors = 14\r\n",
    "\r\n",
    "    containers = [hierarchy] * num_processors\r\n",
    "\r\n",
    "    p=Pool(processes = num_processors)\r\n",
    "\r\n",
    "    for idx, v in enumerate(interclass_corr):\r\n",
    "        \r\n",
    "        t_1 = [stats.norm, 0, 10**v]\r\n",
    "  \r\n",
    "        t_3 = [stats.norm, 0, 1.224*(10**v)]\r\n",
    "\r\n",
    "        paramlist = [[stats.norm, 0, 0],  [t_1]*hierarchy[1] + [t_3]*hierarchy[1], [stats.norm, 0, 1]]\r\n",
    "\r\n",
    "        paramlist = [paramlist] * num_processors\r\n",
    "\r\n",
    "        ss = np.random.SeedSequence(seedlist[seed[idx]])\r\n",
    "        child_seeds = ss.spawn(num_processors)\r\n",
    "        seeds = [np.random.default_rng(s) for s in child_seeds]\r\n",
    "\r\n",
    "        output = p.starmap(worker, zip(containers, paramlist, seeds))\r\n",
    "\r\n",
    "        final[idx, 0] = 10**v     \r\n",
    "        final[idx, 1:] = (np.asarray(output) <= 0.05).sum(axis=2).sum(axis=0) / (loop_count*num_processors)\r\n",
    "        print(final[idx])\r\n",
    "\r\n",
    "    containerstr = str(hierarchy).translate({ord(','):ord('_'), ord('['):None, ord(']'):None, ord(' '):None})\r\n",
    "    filename = containerstr + \"data_\" + distributions + \".csv\"\r\n",
    "    np.savetxt(os.path.join(folder, filename), final, delimiter=',') \r\n",
    "\r\n",
    "    p.close()\r\n"
   ]
  },
  {
   "cell_type": "code",
   "execution_count": 125,
   "metadata": {},
   "outputs": [
    {
     "name": "stdout",
     "output_type": "stream",
     "text": [
      "[[1.00000000e-02 5.03625318e-02 4.80109739e-02]\n",
      " [1.00000000e-01 5.30080345e-02 5.21262003e-02]\n",
      " [3.16227766e-01 5.42817950e-02 5.30080345e-02]\n",
      " [1.00000000e+00 5.60454635e-02 5.18322555e-02]\n",
      " [3.16227766e+00 6.57456398e-02 5.03625318e-02]\n",
      " [1.00000000e+01 6.61375661e-02 4.72271213e-02]\n",
      " [1.00000000e+02 5.21262003e-02 5.19302371e-02]]\n"
     ]
    }
   ],
   "source": [
    "print(final)\r\n"
   ]
  },
  {
   "cell_type": "code",
   "execution_count": 126,
   "metadata": {},
   "outputs": [],
   "source": [
    "distributions = \"pareto_pareto_\""
   ]
  },
  {
   "cell_type": "code",
   "execution_count": 127,
   "metadata": {},
   "outputs": [
    {
     "name": "stdout",
     "output_type": "stream",
     "text": [
      "[0.01       0.04712914 0.03919263]\n",
      "[0.1        0.05144033 0.03968254]\n",
      "[0.31622777 0.04957868 0.03938859]\n",
      "[1.         0.0521262  0.04174015]\n",
      "[3.16227766 0.05349794 0.03811483]\n",
      "[10.          0.06163041  0.03909465]\n",
      "[1.00000000e+02 5.95728003e-02 3.78208897e-02]\n",
      "Wall time: 2min 46s\n"
     ]
    }
   ],
   "source": [
    "%%time\r\n",
    "\r\n",
    "loop_count = 729\r\n",
    "\r\n",
    "\r\n",
    "interclass_corr = [-2, -1, -0.5, 0, 0.5, 1, 2]\r\n",
    "seed = tuple(i for i in range(266, 273))\r\n",
    "final = np.empty((len(interclass_corr), 3))\r\n",
    "\r\n",
    "  \r\n",
    "\r\n",
    "if __name__ ==  '__main__': \r\n",
    "    num_processors = 14\r\n",
    "\r\n",
    "    containers = [hierarchy] * num_processors\r\n",
    "\r\n",
    "    p=Pool(processes = num_processors)\r\n",
    "\r\n",
    "    for idx, v in enumerate(interclass_corr):\r\n",
    "\r\n",
    "        t_1 = [stats.pareto, 2.839, 0, 10**v]\r\n",
    "\r\n",
    "        loc_correction_3 = stats.pareto.mean(2.839, 0, (10**v)) - stats.pareto.mean(2.839, 0, 1.224*(10**v))\r\n",
    "\r\n",
    "        t_3 = [stats.pareto, 2.839, loc_correction_3, 1.224*(10**v)]\r\n",
    "\r\n",
    "        paramlist = [[stats.norm, 0, 0],  [t_1]*hierarchy[1] + [t_3]*hierarchy[1], [stats.pareto, 2.839]]\r\n",
    "\r\n",
    "        paramlist = [paramlist] * num_processors\r\n",
    "\r\n",
    "        ss = np.random.SeedSequence(seedlist[seed[idx]])\r\n",
    "        child_seeds = ss.spawn(num_processors)\r\n",
    "        seeds = [np.random.default_rng(s) for s in child_seeds]\r\n",
    "\r\n",
    "        output = p.starmap(worker, zip(containers, paramlist, seeds))\r\n",
    "\r\n",
    "        final[idx, 0] = 10**v     \r\n",
    "        final[idx, 1:] = (np.asarray(output) <= 0.05).sum(axis=2).sum(axis=0) / (loop_count*num_processors)\r\n",
    "        print(final[idx])\r\n",
    "\r\n",
    "    containerstr = str(hierarchy).translate({ord(','):ord('_'), ord('['):None, ord(']'):None, ord(' '):None})\r\n",
    "    filename = containerstr + \"data_\" + distributions + \".csv\"\r\n",
    "    np.savetxt(os.path.join(folder, filename), final, delimiter=',') \r\n",
    "\r\n",
    "    p.close()\r\n"
   ]
  },
  {
   "cell_type": "code",
   "execution_count": 128,
   "metadata": {},
   "outputs": [
    {
     "name": "stdout",
     "output_type": "stream",
     "text": [
      "[[1.00000000e-02 4.71291397e-02 3.91926318e-02]\n",
      " [1.00000000e-01 5.14403292e-02 3.96825397e-02]\n",
      " [3.16227766e-01 4.95786792e-02 3.93885949e-02]\n",
      " [1.00000000e+00 5.21262003e-02 4.17401529e-02]\n",
      " [3.16227766e+00 5.34979424e-02 3.81148344e-02]\n",
      " [1.00000000e+01 6.16304135e-02 3.90946502e-02]\n",
      " [1.00000000e+02 5.95728003e-02 3.78208897e-02]]\n"
     ]
    }
   ],
   "source": [
    "print(final)\r\n"
   ]
  },
  {
   "cell_type": "code",
   "execution_count": 129,
   "metadata": {},
   "outputs": [],
   "source": [
    "distributions = \"gamma_gamma_\""
   ]
  },
  {
   "cell_type": "code",
   "execution_count": 130,
   "metadata": {},
   "outputs": [
    {
     "name": "stdout",
     "output_type": "stream",
     "text": [
      "[0.01       0.05095042 0.04771703]\n",
      "[0.1        0.05006859 0.04820694]\n",
      "[0.31622777 0.05388987 0.05036253]\n",
      "[1.         0.05310602 0.04801097]\n",
      "[3.16227766 0.0659416  0.04722712]\n",
      "[10.          0.07015481  0.04605134]\n",
      "[1.00000000e+02 5.33019792e-02 4.65412502e-02]\n",
      "Wall time: 2min 47s\n"
     ]
    }
   ],
   "source": [
    "%%time\r\n",
    "\r\n",
    "loop_count = 729\r\n",
    "\r\n",
    "\r\n",
    "interclass_corr = [-2, -1, -0.5, 0, 0.5, 1, 2]\r\n",
    "seed = tuple(i for i in range(273, 280))\r\n",
    "final = np.empty((len(interclass_corr), 3))\r\n",
    "\r\n",
    "  \r\n",
    "\r\n",
    "if __name__ ==  '__main__': \r\n",
    "    num_processors = 14\r\n",
    "\r\n",
    "    containers = [hierarchy] * num_processors\r\n",
    "\r\n",
    "    p=Pool(processes = num_processors)\r\n",
    "\r\n",
    "    for idx, v in enumerate(interclass_corr):\r\n",
    "\r\n",
    "        t_1 = [stats.gamma, 2, 0, (10**v)]\r\n",
    "\r\n",
    "        loc_correction_3 = stats.gamma.mean(2, 0, (10**v)) - stats.gamma.mean(2, 0, 1.224*(10**v))\r\n",
    "\r\n",
    "        t_3 = [stats.gamma, 2, loc_correction_3, 1.224*(10**v)]\r\n",
    "\r\n",
    "        paramlist = [[stats.norm, 0, 0],  [t_1]*hierarchy[1] + [t_3]*hierarchy[1], [stats.gamma, 2]]\r\n",
    "\r\n",
    "        paramlist = [paramlist] * num_processors\r\n",
    "\r\n",
    "        ss = np.random.SeedSequence(seedlist[seed[idx]])\r\n",
    "        child_seeds = ss.spawn(num_processors)\r\n",
    "        seeds = [np.random.default_rng(s) for s in child_seeds]\r\n",
    "\r\n",
    "        output = p.starmap(worker, zip(containers, paramlist, seeds))\r\n",
    "\r\n",
    "        final[idx, 0] = 10**v     \r\n",
    "        final[idx, 1:] = (np.asarray(output) <= 0.05).sum(axis=2).sum(axis=0) / (loop_count*num_processors)\r\n",
    "        print(final[idx])\r\n",
    "\r\n",
    "    containerstr = str(hierarchy).translate({ord(','):ord('_'), ord('['):None, ord(']'):None, ord(' '):None})\r\n",
    "    filename = containerstr + \"data_\" + distributions + \".csv\"\r\n",
    "    np.savetxt(os.path.join(folder, filename), final, delimiter=',') \r\n",
    "\r\n",
    "    p.close()\r\n"
   ]
  },
  {
   "cell_type": "code",
   "execution_count": 131,
   "metadata": {},
   "outputs": [
    {
     "name": "stdout",
     "output_type": "stream",
     "text": [
      "[[1.00000000e-02 5.09504213e-02 4.77170292e-02]\n",
      " [1.00000000e-01 5.00685871e-02 4.82069371e-02]\n",
      " [3.16227766e-01 5.38898687e-02 5.03625318e-02]\n",
      " [1.00000000e+00 5.31060161e-02 4.80109739e-02]\n",
      " [3.16227766e+00 6.59416030e-02 4.72271213e-02]\n",
      " [1.00000000e+01 7.01548109e-02 4.60513423e-02]\n",
      " [1.00000000e+02 5.33019792e-02 4.65412502e-02]]\n"
     ]
    }
   ],
   "source": [
    "print(final)\r\n"
   ]
  },
  {
   "cell_type": "code",
   "execution_count": 132,
   "metadata": {},
   "outputs": [],
   "source": [
    "hierarchy = [2, 4, 3]\r\n",
    "\r\n",
    "bootstraps = 500\r\n",
    "permutations = 'all'\r\n",
    "treatment_col = 0\r\n",
    "compare = \"corr\"\r\n",
    "\r\n",
    "loop_count = 729\r\n",
    "\r\n",
    "worker = partial(\r\n",
    "poweranalysis,\r\n",
    "compare=compare,\r\n",
    "loops=loop_count,\r\n",
    "treatment_col=treatment_col,\r\n",
    "bootstraps = bootstraps,\r\n",
    "permutations = permutations)"
   ]
  },
  {
   "cell_type": "code",
   "execution_count": 133,
   "metadata": {},
   "outputs": [],
   "source": [
    "distributions = \"lognorm_lognorm_\""
   ]
  },
  {
   "cell_type": "code",
   "execution_count": 134,
   "metadata": {},
   "outputs": [
    {
     "name": "stdout",
     "output_type": "stream",
     "text": [
      "[0.01       0.0521262  0.03635117]\n",
      "[0.1        0.05006859 0.03595924]\n",
      "[0.31622777 0.04938272 0.03948658]\n",
      "[1.         0.05114638 0.03870272]\n",
      "[3.16227766 0.05261611 0.04036841]\n",
      "[10.          0.05790711  0.03654713]\n",
      "[1.00000000e+02 6.81951793e-02 3.89966686e-02]\n",
      "Wall time: 7min 33s\n"
     ]
    }
   ],
   "source": [
    "%%time\r\n",
    "\r\n",
    "loop_count = 729\r\n",
    "\r\n",
    "\r\n",
    "interclass_corr = [-2, -1, -0.5, 0, 0.5, 1, 2]\r\n",
    "seed = tuple(i for i in range(280, 287))\r\n",
    "final = np.empty((len(interclass_corr), 3))\r\n",
    "\r\n",
    "  \r\n",
    "\r\n",
    "if __name__ ==  '__main__': \r\n",
    "    num_processors = 14\r\n",
    "\r\n",
    "    containers = [hierarchy] * num_processors\r\n",
    "\r\n",
    "    p=Pool(processes = num_processors)\r\n",
    "\r\n",
    "    for idx, v in enumerate(interclass_corr):\r\n",
    "\r\n",
    "        t_1 = [stats.lognorm, 1, 0, (10**v)]\r\n",
    "\r\n",
    "        loc_correction_3 = stats.lognorm.mean(1, 0, (10**v)) - stats.lognorm.mean(1, 0, 1.224*(10**v))\r\n",
    "\r\n",
    "        t_3 = [stats.lognorm, 1, loc_correction_3, 1.224*(10**v)]\r\n",
    "\r\n",
    "        paramlist = [[stats.norm, 0, 0],  [t_1]*hierarchy[1] + [t_3]*hierarchy[1], [stats.lognorm, 1]]\r\n",
    "\r\n",
    "        paramlist = [paramlist] * num_processors\r\n",
    "\r\n",
    "        ss = np.random.SeedSequence(seedlist[seed[idx]])\r\n",
    "        child_seeds = ss.spawn(num_processors)\r\n",
    "        seeds = [np.random.default_rng(s) for s in child_seeds]\r\n",
    "\r\n",
    "        output = p.starmap(worker, zip(containers, paramlist, seeds))\r\n",
    "\r\n",
    "        final[idx, 0] = 10**v     \r\n",
    "        final[idx, 1:] = (np.asarray(output) <= 0.05).sum(axis=2).sum(axis=0) / (loop_count*num_processors)\r\n",
    "        print(final[idx])\r\n",
    "\r\n",
    "    containerstr = str(hierarchy).translate({ord(','):ord('_'), ord('['):None, ord(']'):None, ord(' '):None})\r\n",
    "    filename = containerstr + \"data_\" + distributions + \".csv\"\r\n",
    "    np.savetxt(os.path.join(folder, filename), final, delimiter=',') \r\n",
    "\r\n",
    "    p.close()\r\n"
   ]
  },
  {
   "cell_type": "code",
   "execution_count": 135,
   "metadata": {},
   "outputs": [
    {
     "name": "stdout",
     "output_type": "stream",
     "text": [
      "[[1.00000000e-02 5.21262003e-02 3.63511660e-02]\n",
      " [1.00000000e-01 5.00685871e-02 3.59592397e-02]\n",
      " [3.16227766e-01 4.93827160e-02 3.94865765e-02]\n",
      " [1.00000000e+00 5.11463845e-02 3.87027239e-02]\n",
      " [3.16227766e+00 5.26161082e-02 4.03684107e-02]\n",
      " [1.00000000e+01 5.79071135e-02 3.65471291e-02]\n",
      " [1.00000000e+02 6.81951793e-02 3.89966686e-02]]\n"
     ]
    }
   ],
   "source": [
    "print(final)\r\n"
   ]
  },
  {
   "cell_type": "code",
   "execution_count": 136,
   "metadata": {},
   "outputs": [],
   "source": [
    "distributions = \"norm_norm_\""
   ]
  },
  {
   "cell_type": "code",
   "execution_count": 137,
   "metadata": {},
   "outputs": [
    {
     "name": "stdout",
     "output_type": "stream",
     "text": [
      "[0.01       0.05418381 0.05281207]\n",
      "[0.1        0.05369391 0.05261611]\n",
      "[0.31622777 0.05075446 0.0505585 ]\n",
      "[1.         0.04663923 0.04879483]\n",
      "[3.16227766 0.04801097 0.0484029 ]\n",
      "[10.          0.05369391  0.05173427]\n",
      "[1.00000000e+02 5.86909661e-02 5.26161082e-02]\n",
      "Wall time: 7min 31s\n"
     ]
    }
   ],
   "source": [
    "%%time\r\n",
    "\r\n",
    "loop_count = 729\r\n",
    "\r\n",
    "\r\n",
    "interclass_corr = [-2, -1, -0.5, 0, 0.5, 1, 2]\r\n",
    "seed = tuple(i for i in range(287, 294))\r\n",
    "final = np.empty((len(interclass_corr), 3))\r\n",
    "\r\n",
    "  \r\n",
    "\r\n",
    "if __name__ ==  '__main__': \r\n",
    "    num_processors = 14\r\n",
    "\r\n",
    "    containers = [hierarchy] * num_processors\r\n",
    "\r\n",
    "    p=Pool(processes = num_processors)\r\n",
    "\r\n",
    "    for idx, v in enumerate(interclass_corr):\r\n",
    "\r\n",
    "        t_1 = [stats.norm, 0, 10**v]\r\n",
    "        t_3 = [stats.norm, 0, 1.224*(10**v)]\r\n",
    "\r\n",
    "        paramlist = [[stats.norm, 0, 0],  [t_1]*hierarchy[1] + [t_3]*hierarchy[1], [stats.norm, 0, 1]]\r\n",
    "\r\n",
    "        paramlist = [paramlist] * num_processors\r\n",
    "\r\n",
    "        ss = np.random.SeedSequence(seedlist[seed[idx]])\r\n",
    "        child_seeds = ss.spawn(num_processors)\r\n",
    "        seeds = [np.random.default_rng(s) for s in child_seeds]\r\n",
    "\r\n",
    "        output = p.starmap(worker, zip(containers, paramlist, seeds))\r\n",
    "\r\n",
    "        final[idx, 0] = 10**v     \r\n",
    "        final[idx, 1:] = (np.asarray(output) <= 0.05).sum(axis=2).sum(axis=0) / (loop_count*num_processors)\r\n",
    "        print(final[idx])\r\n",
    "\r\n",
    "    containerstr = str(hierarchy).translate({ord(','):ord('_'), ord('['):None, ord(']'):None, ord(' '):None})\r\n",
    "    filename = containerstr + \"data_\" + distributions + \".csv\"\r\n",
    "    np.savetxt(os.path.join(folder, filename), final, delimiter=',') \r\n",
    "\r\n",
    "    p.close()\r\n"
   ]
  },
  {
   "cell_type": "code",
   "execution_count": 138,
   "metadata": {},
   "outputs": [
    {
     "name": "stdout",
     "output_type": "stream",
     "text": [
      "[[1.00000000e-02 5.41838134e-02 5.28120713e-02]\n",
      " [1.00000000e-01 5.36939055e-02 5.26161082e-02]\n",
      " [3.16227766e-01 5.07544582e-02 5.05584950e-02]\n",
      " [1.00000000e+00 4.66392318e-02 4.87948266e-02]\n",
      " [3.16227766e+00 4.80109739e-02 4.84029003e-02]\n",
      " [1.00000000e+01 5.36939055e-02 5.17342740e-02]\n",
      " [1.00000000e+02 5.86909661e-02 5.26161082e-02]]\n"
     ]
    }
   ],
   "source": [
    "print(final)\r\n"
   ]
  },
  {
   "cell_type": "code",
   "execution_count": 139,
   "metadata": {},
   "outputs": [],
   "source": [
    "distributions = \"pareto_pareto_\""
   ]
  },
  {
   "cell_type": "code",
   "execution_count": 140,
   "metadata": {},
   "outputs": [
    {
     "name": "stdout",
     "output_type": "stream",
     "text": [
      "[0.01       0.05242015 0.03527337]\n",
      "[0.1        0.05085244 0.03605722]\n",
      "[0.31622777 0.05085244 0.03684107]\n",
      "[1.         0.04938272 0.03674309]\n",
      "[3.16227766 0.05173427 0.03468548]\n",
      "[10.          0.06123849  0.03840878]\n",
      "[1.00000000e+02 6.94689398e-02 3.75269449e-02]\n",
      "Wall time: 7min 34s\n"
     ]
    }
   ],
   "source": [
    "%%time\r\n",
    "\r\n",
    "loop_count = 729\r\n",
    "\r\n",
    "\r\n",
    "interclass_corr = [-2, -1, -0.5, 0, 0.5, 1, 2]\r\n",
    "seed = tuple(i for i in range(294, 301))\r\n",
    "final = np.empty((len(interclass_corr), 3))\r\n",
    "\r\n",
    "  \r\n",
    "\r\n",
    "if __name__ ==  '__main__': \r\n",
    "    num_processors = 14\r\n",
    "\r\n",
    "    containers = [hierarchy] * num_processors\r\n",
    "\r\n",
    "    p=Pool(processes = num_processors)\r\n",
    "\r\n",
    "    for idx, v in enumerate(interclass_corr):\r\n",
    "\r\n",
    "        t_1 = [stats.pareto, 2.839, 0, 10**v]\r\n",
    "\r\n",
    "        loc_correction_3 = stats.pareto.mean(2.839, 0, (10**v)) - stats.pareto.mean(2.839, 0, 1.224*(10**v))\r\n",
    "\r\n",
    "        t_3 = [stats.pareto, 2.839, loc_correction_3, 1.224*(10**v)]\r\n",
    "\r\n",
    "        paramlist = [[stats.norm, 0, 0],  [t_1]*hierarchy[1] + [t_3]*hierarchy[1], [stats.pareto, 2.839]]\r\n",
    "\r\n",
    "        paramlist = [paramlist] * num_processors\r\n",
    "\r\n",
    "        ss = np.random.SeedSequence(seedlist[seed[idx]])\r\n",
    "        child_seeds = ss.spawn(num_processors)\r\n",
    "        seeds = [np.random.default_rng(s) for s in child_seeds]\r\n",
    "\r\n",
    "        output = p.starmap(worker, zip(containers, paramlist, seeds))\r\n",
    "\r\n",
    "        final[idx, 0] = 10**v     \r\n",
    "        final[idx, 1:] = (np.asarray(output) <= 0.05).sum(axis=2).sum(axis=0) / (loop_count*num_processors)\r\n",
    "        print(final[idx])\r\n",
    "\r\n",
    "    containerstr = str(hierarchy).translate({ord(','):ord('_'), ord('['):None, ord(']'):None, ord(' '):None})\r\n",
    "    filename = containerstr + \"data_\" + distributions + \".csv\"\r\n",
    "    np.savetxt(os.path.join(folder, filename), final, delimiter=',') \r\n",
    "\r\n",
    "    p.close()\r\n"
   ]
  },
  {
   "cell_type": "code",
   "execution_count": 141,
   "metadata": {},
   "outputs": [
    {
     "name": "stdout",
     "output_type": "stream",
     "text": [
      "[[1.00000000e-02 5.24201450e-02 3.52733686e-02]\n",
      " [1.00000000e-01 5.08524397e-02 3.60572212e-02]\n",
      " [3.16227766e-01 5.08524397e-02 3.68410739e-02]\n",
      " [1.00000000e+00 4.93827160e-02 3.67430923e-02]\n",
      " [3.16227766e+00 5.17342740e-02 3.46854791e-02]\n",
      " [1.00000000e+01 6.12384872e-02 3.84087791e-02]\n",
      " [1.00000000e+02 6.94689398e-02 3.75269449e-02]]\n"
     ]
    }
   ],
   "source": [
    "print(final)"
   ]
  },
  {
   "cell_type": "code",
   "execution_count": 142,
   "metadata": {},
   "outputs": [],
   "source": [
    "distributions = \"gamma_gamma_\""
   ]
  },
  {
   "cell_type": "code",
   "execution_count": 143,
   "metadata": {},
   "outputs": [
    {
     "name": "stdout",
     "output_type": "stream",
     "text": [
      "[0.01       0.04967666 0.0457574 ]\n",
      "[0.1        0.05839702 0.0542818 ]\n",
      "[0.31622777 0.05134235 0.04977464]\n",
      "[1.         0.04850088 0.04340584]\n",
      "[3.16227766 0.05330198 0.04673721]\n",
      "[10.          0.05222418  0.04536547]\n",
      "[1.00000000e+02 5.86909661e-02 4.62473055e-02]\n",
      "Wall time: 7min 43s\n"
     ]
    }
   ],
   "source": [
    "%%time\r\n",
    "\r\n",
    "loop_count = 729\r\n",
    "\r\n",
    "\r\n",
    "interclass_corr = [-2, -1, -0.5, 0, 0.5, 1, 2]\r\n",
    "seed = tuple(i for i in range(301, 308))\r\n",
    "final = np.empty((len(interclass_corr), 3))\r\n",
    "\r\n",
    "  \r\n",
    "\r\n",
    "if __name__ ==  '__main__': \r\n",
    "    num_processors = 14\r\n",
    "\r\n",
    "    containers = [hierarchy] * num_processors\r\n",
    "\r\n",
    "    p=Pool(processes = num_processors)\r\n",
    "\r\n",
    "    for idx, v in enumerate(interclass_corr):\r\n",
    "\r\n",
    "        t_1 = [stats.gamma, 2, 0, (10**v)]\r\n",
    "\r\n",
    "        loc_correction_3 = stats.gamma.mean(2, 0, (10**v)) - stats.gamma.mean(2, 0, 1.224*(10**v))\r\n",
    "\r\n",
    "        t_3 = [stats.gamma, 2, loc_correction_3, 1.224*(10**v)]\r\n",
    "\r\n",
    "        paramlist = [[stats.norm, 0, 0],  [t_1]*hierarchy[1] + [t_3]*hierarchy[1], [stats.gamma, 2]]\r\n",
    "\r\n",
    "        paramlist = [paramlist] * num_processors\r\n",
    "\r\n",
    "        ss = np.random.SeedSequence(seedlist[seed[idx]])\r\n",
    "        child_seeds = ss.spawn(num_processors)\r\n",
    "        seeds = [np.random.default_rng(s) for s in child_seeds]\r\n",
    "\r\n",
    "        output = p.starmap(worker, zip(containers, paramlist, seeds))\r\n",
    "\r\n",
    "        final[idx, 0] = 10**v     \r\n",
    "        final[idx, 1:] = (np.asarray(output) <= 0.05).sum(axis=2).sum(axis=0) / (loop_count*num_processors)\r\n",
    "        print(final[idx])\r\n",
    "\r\n",
    "    containerstr = str(hierarchy).translate({ord(','):ord('_'), ord('['):None, ord(']'):None, ord(' '):None})\r\n",
    "    filename = containerstr + \"data_\" + distributions + \".csv\"\r\n",
    "    np.savetxt(os.path.join(folder, filename), final, delimiter=',') \r\n",
    "\r\n",
    "    p.close()\r\n"
   ]
  },
  {
   "cell_type": "code",
   "execution_count": 144,
   "metadata": {},
   "outputs": [
    {
     "name": "stdout",
     "output_type": "stream",
     "text": [
      "[[1.00000000e-02 4.96766608e-02 4.57573976e-02]\n",
      " [1.00000000e-01 5.83970214e-02 5.42817950e-02]\n",
      " [3.16227766e-01 5.13423476e-02 4.97746424e-02]\n",
      " [1.00000000e+00 4.85008818e-02 4.34058397e-02]\n",
      " [3.16227766e+00 5.33019792e-02 4.67372134e-02]\n",
      " [1.00000000e+01 5.22241819e-02 4.53654713e-02]\n",
      " [1.00000000e+02 5.86909661e-02 4.62473055e-02]]\n"
     ]
    }
   ],
   "source": [
    "print(final)"
   ]
  },
  {
   "cell_type": "code",
   "execution_count": 145,
   "metadata": {},
   "outputs": [],
   "source": [
    "hierarchy = [3, 2, 4, 3]\r\n",
    "\r\n",
    "bootstraps = 100\r\n",
    "permutations = 1000\r\n",
    "treatment_col = 1\r\n",
    "compare = \"corr\"\r\n",
    "\r\n",
    "loop_count = 729\r\n",
    "\r\n",
    "worker = partial(\r\n",
    "poweranalysis,\r\n",
    "compare=compare,\r\n",
    "loops=loop_count,\r\n",
    "treatment_col=treatment_col,\r\n",
    "bootstraps = bootstraps,\r\n",
    "permutations = permutations)"
   ]
  },
  {
   "cell_type": "code",
   "execution_count": 146,
   "metadata": {},
   "outputs": [],
   "source": [
    "distributions = \"lognorm_lognorm_\""
   ]
  },
  {
   "cell_type": "code",
   "execution_count": 147,
   "metadata": {},
   "outputs": [
    {
     "name": "stdout",
     "output_type": "stream",
     "text": [
      "[0.01       0.05173427 0.04174015]\n",
      "[0.1        0.05202822 0.04085832]\n",
      "[0.31622777 0.05134235 0.03782089]\n",
      "[1.         0.04389575 0.02263374]\n",
      "[3.16227766 0.0505585  0.01998824]\n",
      "[10.          0.05447776  0.02116402]\n",
      "[1.00000000e+02 5.91808740e-02 2.22418185e-02]\n",
      "Wall time: 16min 41s\n"
     ]
    }
   ],
   "source": [
    "%%time\r\n",
    "\r\n",
    "loop_count = 729\r\n",
    "\r\n",
    "\r\n",
    "interclass_corr = [-2, -1, -0.5, 0, 0.5, 1, 2]\r\n",
    "seed = tuple(i for i in range(308, 315))\r\n",
    "final = np.empty((len(interclass_corr), 3))\r\n",
    "\r\n",
    "  \r\n",
    "\r\n",
    "if __name__ ==  '__main__': \r\n",
    "    num_processors = 14\r\n",
    "    \r\n",
    "    containers = [hierarchy] * num_processors\r\n",
    "\r\n",
    "\r\n",
    "    p=Pool(processes = num_processors)\r\n",
    "\r\n",
    "    for idx, v in enumerate(interclass_corr):\r\n",
    "         \r\n",
    "\r\n",
    "        t_1 = [stats.lognorm, 1, 0, (10 ** v)]\r\n",
    "\r\n",
    "        loc_correction_3 = stats.lognorm.mean(1, 0, (10 ** v)) - stats.lognorm.mean(\r\n",
    "            1, 0, 1.224 * (10 ** v)\r\n",
    "        )\r\n",
    "\r\n",
    "        t_3 = [stats.lognorm, 1, loc_correction_3, 1.224 * (10 ** v)]\r\n",
    "\r\n",
    "        paramlist = [\r\n",
    "            [stats.lognorm, 1, 0, (10 ** v)],\r\n",
    "            [stats.norm, 0, 0],\r\n",
    "            (\r\n",
    "                [t_1] * hierarchy[2]\r\n",
    "                + [t_3] * hierarchy[2]\r\n",
    "            )\r\n",
    "            * hierarchy[0],\r\n",
    "            [stats.lognorm, 1],\r\n",
    "        ]        \r\n",
    "        paramlist = [paramlist] * num_processors\r\n",
    "\r\n",
    "        ss = np.random.SeedSequence(seedlist[seed[idx]])\r\n",
    "        child_seeds = ss.spawn(num_processors)\r\n",
    "        seeds = [np.random.default_rng(s) for s in child_seeds]\r\n",
    "\r\n",
    "        output = p.starmap(worker, zip(containers, paramlist, seeds))\r\n",
    "\r\n",
    "        final[idx, 0] = 10**v     \r\n",
    "        final[idx, 1:] = (np.asarray(output) <= 0.05).sum(axis=2).sum(axis=0) / (loop_count*num_processors)\r\n",
    "        print(final[idx])\r\n",
    "\r\n",
    "\r\n",
    "    containerstr = str(hierarchy).translate({ord(','):ord('_'), ord('['):None, ord(']'):None, ord(' '):None})\r\n",
    "    filename = containerstr + \"data_\" + distributions + \".csv\"\r\n",
    "    np.savetxt(os.path.join(folder, filename), final, delimiter=',') \r\n",
    "\r\n",
    "    p.close()\r\n"
   ]
  },
  {
   "cell_type": "code",
   "execution_count": 148,
   "metadata": {},
   "outputs": [
    {
     "name": "stdout",
     "output_type": "stream",
     "text": [
      "[[1.00000000e-02 5.17342740e-02 4.17401529e-02]\n",
      " [1.00000000e-01 5.20282187e-02 4.08583186e-02]\n",
      " [3.16227766e-01 5.13423476e-02 3.78208897e-02]\n",
      " [1.00000000e+00 4.38957476e-02 2.26337449e-02]\n",
      " [3.16227766e+00 5.05584950e-02 1.99882422e-02]\n",
      " [1.00000000e+01 5.44777582e-02 2.11640212e-02]\n",
      " [1.00000000e+02 5.91808740e-02 2.22418185e-02]]\n"
     ]
    }
   ],
   "source": [
    "print(final)"
   ]
  },
  {
   "cell_type": "code",
   "execution_count": 149,
   "metadata": {},
   "outputs": [],
   "source": [
    "distributions = \"norm_norm_\""
   ]
  },
  {
   "cell_type": "code",
   "execution_count": 150,
   "metadata": {},
   "outputs": [
    {
     "name": "stdout",
     "output_type": "stream",
     "text": [
      "[0.01       0.05085244 0.05144033]\n",
      "[0.1        0.04810896 0.04663923]\n",
      "[0.31622777 0.04350382 0.03654713]\n",
      "[1.         0.04330786 0.02410347]\n",
      "[3.16227766 0.05261611 0.02429943]\n",
      "[10.          0.04997061  0.02263374]\n",
      "[1.00000000e+02 4.85988634e-02 2.10660396e-02]\n",
      "Wall time: 15min 51s\n"
     ]
    }
   ],
   "source": [
    "%%time\r\n",
    "\r\n",
    "loop_count = 729\r\n",
    "\r\n",
    "\r\n",
    "interclass_corr = [-2, -1, -0.5, 0, 0.5, 1, 2]\r\n",
    "seed = tuple(i for i in range(315, 322))\r\n",
    "final = np.empty((len(interclass_corr), 3))\r\n",
    "\r\n",
    "  \r\n",
    "\r\n",
    "if __name__ ==  '__main__': \r\n",
    "    num_processors = 14\r\n",
    "\r\n",
    "    containers = [hierarchy] * num_processors\r\n",
    "\r\n",
    "    p=Pool(processes = num_processors)\r\n",
    "\r\n",
    "    for idx, v in enumerate(interclass_corr):\r\n",
    "         \r\n",
    "\r\n",
    "        t_1 = [stats.norm, 0, (10 ** v)]\r\n",
    "\r\n",
    "        t_3 = [stats.norm, 0, 1.224 * (10 ** v)]\r\n",
    "\r\n",
    "        paramlist = [\r\n",
    "            [stats.norm, 0, (10 ** v)],\r\n",
    "            [stats.norm, 0, 0],\r\n",
    "            (\r\n",
    "                [t_1] * hierarchy[2]\r\n",
    "                + [t_3] * hierarchy[2]\r\n",
    "            )\r\n",
    "            * hierarchy[0],\r\n",
    "            [stats.norm, 0, 1],\r\n",
    "        ]\r\n",
    "\r\n",
    "        paramlist = [paramlist] * num_processors\r\n",
    "\r\n",
    "        ss = np.random.SeedSequence(seedlist[seed[idx]])\r\n",
    "        child_seeds = ss.spawn(num_processors)\r\n",
    "        seeds = [np.random.default_rng(s) for s in child_seeds]\r\n",
    "\r\n",
    "        output = p.starmap(worker, zip(containers, paramlist, seeds))\r\n",
    "\r\n",
    "        final[idx, 0] = 10**v     \r\n",
    "        final[idx, 1:] = (np.asarray(output) <= 0.05).sum(axis=2).sum(axis=0) / (loop_count*num_processors)\r\n",
    "        print(final[idx])\r\n",
    "\r\n",
    "    containerstr = str(hierarchy).translate({ord(','):ord('_'), ord('['):None, ord(']'):None, ord(' '):None})\r\n",
    "    filename = containerstr + \"data_\" + distributions + \".csv\"\r\n",
    "    np.savetxt(os.path.join(folder, filename), final, delimiter=',') \r\n",
    "\r\n",
    "    p.close()\r\n"
   ]
  },
  {
   "cell_type": "code",
   "execution_count": 151,
   "metadata": {},
   "outputs": [
    {
     "name": "stdout",
     "output_type": "stream",
     "text": [
      "[[1.00000000e-02 5.08524397e-02 5.14403292e-02]\n",
      " [1.00000000e-01 4.81089555e-02 4.66392318e-02]\n",
      " [3.16227766e-01 4.35038213e-02 3.65471291e-02]\n",
      " [1.00000000e+00 4.33078581e-02 2.41034685e-02]\n",
      " [3.16227766e+00 5.26161082e-02 2.42994317e-02]\n",
      " [1.00000000e+01 4.99706055e-02 2.26337449e-02]\n",
      " [1.00000000e+02 4.85988634e-02 2.10660396e-02]]\n"
     ]
    }
   ],
   "source": [
    "print(final)\r\n"
   ]
  },
  {
   "cell_type": "code",
   "execution_count": 152,
   "metadata": {},
   "outputs": [],
   "source": [
    "distributions = \"pareto_pareto_\""
   ]
  },
  {
   "cell_type": "code",
   "execution_count": 153,
   "metadata": {},
   "outputs": [
    {
     "name": "stdout",
     "output_type": "stream",
     "text": [
      "[0.01       0.05408583 0.03978052]\n",
      "[0.1        0.04899079 0.03586126]\n",
      "[0.31622777 0.04987262 0.03370566]\n",
      "[1.         0.04605134 0.0249853 ]\n",
      "[3.16227766 0.05310602 0.02008622]\n",
      "[10.          0.0547717   0.02038017]\n",
      "[1.00000000e+02 5.68293161e-02 1.94983343e-02]\n",
      "Wall time: 19min 50s\n"
     ]
    }
   ],
   "source": [
    "%%time\r\n",
    "\r\n",
    "loop_count = 729\r\n",
    "\r\n",
    "\r\n",
    "interclass_corr = [-2, -1, -0.5, 0, 0.5, 1, 2]\r\n",
    "seed = tuple(i for i in range(322, 329))\r\n",
    "final = np.empty((len(interclass_corr), 3))\r\n",
    "\r\n",
    "  \r\n",
    "\r\n",
    "if __name__ ==  '__main__': \r\n",
    "    num_processors = 14\r\n",
    "\r\n",
    "    containers = [hierarchy] * num_processors\r\n",
    "\r\n",
    "    p=Pool(processes = num_processors)\r\n",
    "\r\n",
    "    for idx, v in enumerate(interclass_corr):\r\n",
    "\r\n",
    "        t_1 = [stats.pareto, 2.839, 0, (10 ** v)]\r\n",
    "\r\n",
    "        loc_correction_3 = stats.pareto.mean(2.839, 0, (10 ** v)) - stats.pareto.mean(\r\n",
    "            2.839, 0, 1.224 * (10 ** v)\r\n",
    "        )\r\n",
    "\r\n",
    "        t_3 = [stats.pareto, 2.839, loc_correction_3, 1.224 * (10 ** v)]\r\n",
    "\r\n",
    "\r\n",
    "        paramlist = [\r\n",
    "            [stats.pareto, 2.839, 0, (10 ** v)],\r\n",
    "            [stats.norm, 0, 0],\r\n",
    "            (\r\n",
    "                [t_1] * hierarchy[2]\r\n",
    "                + [t_3] * hierarchy[2]\r\n",
    "            )\r\n",
    "            * hierarchy[0],\r\n",
    "            [stats.pareto, 2.839],\r\n",
    "        ]\r\n",
    "        paramlist = [paramlist] * num_processors\r\n",
    "\r\n",
    "        ss = np.random.SeedSequence(seedlist[seed[idx]])\r\n",
    "        child_seeds = ss.spawn(num_processors)\r\n",
    "        seeds = [np.random.default_rng(s) for s in child_seeds]\r\n",
    "\r\n",
    "        output = p.starmap(worker, zip(containers, paramlist, seeds))\r\n",
    "\r\n",
    "        final[idx, 0] = 10**v     \r\n",
    "        final[idx, 1:] = (np.asarray(output) <= 0.05).sum(axis=2).sum(axis=0) / (loop_count*num_processors)\r\n",
    "        print(final[idx])\r\n",
    "\r\n",
    "    containerstr = str(hierarchy).translate({ord(','):ord('_'), ord('['):None, ord(']'):None, ord(' '):None})\r\n",
    "    filename = containerstr + \"data_\" + distributions + \".csv\"\r\n",
    "    np.savetxt(os.path.join(folder, filename), final, delimiter=',') \r\n",
    "\r\n",
    "    p.close()\r\n",
    "\r\n"
   ]
  },
  {
   "cell_type": "code",
   "execution_count": 154,
   "metadata": {},
   "outputs": [
    {
     "name": "stdout",
     "output_type": "stream",
     "text": [
      "[[1.00000000e-02 5.40858319e-02 3.97805213e-02]\n",
      " [1.00000000e-01 4.89907897e-02 3.58612581e-02]\n",
      " [3.16227766e-01 4.98726239e-02 3.37056633e-02]\n",
      " [1.00000000e+00 4.60513423e-02 2.49853028e-02]\n",
      " [3.16227766e+00 5.31060161e-02 2.00862238e-02]\n",
      " [1.00000000e+01 5.47717029e-02 2.03801685e-02]\n",
      " [1.00000000e+02 5.68293161e-02 1.94983343e-02]]\n"
     ]
    }
   ],
   "source": [
    "print(final)"
   ]
  },
  {
   "cell_type": "code",
   "execution_count": 155,
   "metadata": {},
   "outputs": [],
   "source": [
    "distributions = \"gamma_gamma_\""
   ]
  },
  {
   "cell_type": "code",
   "execution_count": 156,
   "metadata": {},
   "outputs": [
    {
     "name": "stdout",
     "output_type": "stream",
     "text": [
      "[0.01       0.05134235 0.04869684]\n",
      "[0.1        0.05144033 0.04810896]\n",
      "[0.31622777 0.0505585  0.04174015]\n",
      "[1.         0.04654125 0.02596512]\n",
      "[3.16227766 0.05016657 0.02400549]\n",
      "[10.          0.0505585   0.02087008]\n",
      "[1.00000000e+02 5.13423476e-02 2.23398001e-02]\n",
      "Wall time: 20min 34s\n"
     ]
    }
   ],
   "source": [
    "%%time\r\n",
    "\r\n",
    "loop_count = 729\r\n",
    "\r\n",
    "\r\n",
    "interclass_corr = [-2, -1, -0.5, 0, 0.5, 1, 2]\r\n",
    "seed = tuple(i for i in range(329, 336))\r\n",
    "final = np.empty((len(interclass_corr), 3))\r\n",
    "\r\n",
    "  \r\n",
    "\r\n",
    "if __name__ ==  '__main__': \r\n",
    "    num_processors = 14\r\n",
    "\r\n",
    "    containers = [hierarchy] * num_processors\r\n",
    "\r\n",
    "    p=Pool(processes = num_processors)\r\n",
    "\r\n",
    "    for idx, v in enumerate(interclass_corr):\r\n",
    "\r\n",
    "        t_1 = [stats.gamma, 2, 0, (10 ** v)]\r\n",
    "\r\n",
    "        loc_correction_3 = stats.gamma.mean(2, 0, (10 ** v)) - stats.gamma.mean(\r\n",
    "            2, 0, 1.224 * (10 ** v)\r\n",
    "        )\r\n",
    "\r\n",
    "        t_3 = [stats.gamma, 2, loc_correction_3, 1.224 * (10 ** v)]\r\n",
    "\r\n",
    "\r\n",
    "        paramlist = [\r\n",
    "            [stats.gamma, 2, 0, (10 ** v)],\r\n",
    "            [stats.norm, 0, 0],\r\n",
    "            (\r\n",
    "                [t_1] * hierarchy[2]\r\n",
    "                + [t_3] * hierarchy[2]\r\n",
    "            )\r\n",
    "            * hierarchy[0],\r\n",
    "            [stats.gamma, 2],\r\n",
    "        ]\r\n",
    "        paramlist = [paramlist] * num_processors\r\n",
    "\r\n",
    "        ss = np.random.SeedSequence(seedlist[seed[idx]])\r\n",
    "        child_seeds = ss.spawn(num_processors)\r\n",
    "        seeds = [np.random.default_rng(s) for s in child_seeds]\r\n",
    "\r\n",
    "        output = p.starmap(worker, zip(containers, paramlist, seeds))\r\n",
    "\r\n",
    "        final[idx, 0] = 10**v     \r\n",
    "        final[idx, 1:] = (np.asarray(output) <= 0.05).sum(axis=2).sum(axis=0) / (loop_count*num_processors)\r\n",
    "        print(final[idx])\r\n",
    "\r\n",
    "\r\n",
    "    containerstr = str(hierarchy).translate({ord(','):ord('_'), ord('['):None, ord(']'):None, ord(' '):None})\r\n",
    "    filename = containerstr + \"data_\" + distributions + \".csv\"\r\n",
    "    np.savetxt(os.path.join(folder, filename), final, delimiter=',') \r\n",
    "\r\n",
    "    p.close()\r\n",
    "\r\n"
   ]
  },
  {
   "cell_type": "code",
   "execution_count": 157,
   "metadata": {},
   "outputs": [
    {
     "name": "stdout",
     "output_type": "stream",
     "text": [
      "[[1.00000000e-02 5.13423476e-02 4.86968450e-02]\n",
      " [1.00000000e-01 5.14403292e-02 4.81089555e-02]\n",
      " [3.16227766e-01 5.05584950e-02 4.17401529e-02]\n",
      " [1.00000000e+00 4.65412502e-02 2.59651186e-02]\n",
      " [3.16227766e+00 5.01665687e-02 2.40054870e-02]\n",
      " [1.00000000e+01 5.05584950e-02 2.08700764e-02]\n",
      " [1.00000000e+02 5.13423476e-02 2.23398001e-02]]\n"
     ]
    }
   ],
   "source": [
    "print(final)\r\n"
   ]
  }
 ],
 "metadata": {
  "interpreter": {
   "hash": "6366f6cbfee632ea607dd741425fd59c16398e10991248334782cf8f57619d54"
  },
  "kernelspec": {
   "display_name": "Python 3.8.8 64-bit ('base': conda)",
   "name": "python3"
  },
  "language_info": {
   "codemirror_mode": {
    "name": "ipython",
    "version": 3
   },
   "file_extension": ".py",
   "mimetype": "text/x-python",
   "name": "python",
   "nbconvert_exporter": "python",
   "pygments_lexer": "ipython3",
   "version": "3.8.8"
  }
 },
 "nbformat": 4,
 "nbformat_minor": 4
}