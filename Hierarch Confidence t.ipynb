{
 "cells": [
  {
   "cell_type": "code",
   "execution_count": 1,
   "metadata": {},
   "outputs": [],
   "source": [
    "import pandas as pd\r\n",
    "import numpy as np\r\n",
    "import numba as nb\r\n",
    "import scipy.stats as stats\r\n",
    "import hierarch as ha\r\n",
    "from multiprocessing import Pool\r\n",
    "from functools import partial\r\n",
    "import os\r\n",
    "from poweranalysis import conf_int_analysis\r\n",
    "\r\n",
    "seedlist = np.loadtxt(\"seedlist.csv\", dtype='int', delimiter=',')"
   ]
  },
  {
   "cell_type": "code",
   "execution_count": 2,
   "metadata": {},
   "outputs": [],
   "source": [
    "folder = \"E:\\OneDrive\\FluorescenceImagingPython\\\\confidence intervals_t\""
   ]
  },
  {
   "cell_type": "code",
   "execution_count": 3,
   "metadata": {},
   "outputs": [],
   "source": [
    "hierarchy = [2,3,3]\r\n",
    "\r\n",
    "bootstraps = 250\r\n",
    "permutations = 'all'\r\n",
    "interval = 95\r\n",
    "treatment_col = 0\r\n",
    "compare = \"means\"\r\n",
    "\r\n",
    "loop_count = 729\r\n",
    "\r\n",
    "worker = partial(\r\n",
    "conf_int_analysis,\r\n",
    "interval=interval,\r\n",
    "compare=compare,\r\n",
    "loops=loop_count,\r\n",
    "treatment_col=treatment_col,\r\n",
    "bootstraps = bootstraps,\r\n",
    "permutations = permutations,\r\n",
    "iterations = 10,\r\n",
    "tolerance = 0.5\r\n",
    ")"
   ]
  },
  {
   "cell_type": "code",
   "execution_count": 4,
   "metadata": {},
   "outputs": [],
   "source": [
    "distributions = \"lognorm_lognorm_\""
   ]
  },
  {
   "cell_type": "code",
   "execution_count": 5,
   "metadata": {},
   "outputs": [
    {
     "name": "stdout",
     "output_type": "stream",
     "text": [
      "[0.         0.95169508 0.9739369  0.96159122]\n",
      "[1.52819735 0.95169508 0.97423084 0.95972957]\n",
      "[3.0563947  0.95100921 0.97521066 0.96041544]\n",
      "[4.58459204 0.95169508 0.97462277 0.96061141]\n",
      "[6.11278939 0.95443857 0.97403488 0.96139526]\n",
      "[7.64098674 0.95130316 0.97472075 0.96051342]\n",
      "[9.16918409 0.95394866 0.97550461 0.96257104]\n",
      "Wall time: 7min 31s\n"
     ]
    }
   ],
   "source": [
    "%%time\r\n",
    "\r\n",
    "\r\n",
    "mean_diff = np.array([j for j in range(0,7)]) / 2\r\n",
    "seed = tuple(i for i in range(668, 675))\r\n",
    "final = np.empty((len(mean_diff), 4))\r\n",
    "\r\n",
    "import poweranalysis\r\n",
    "\r\n",
    "if __name__ ==  '__main__': \r\n",
    "    num_processors = 14\r\n",
    "\r\n",
    "    containers = [hierarchy] * num_processors\r\n",
    "\r\n",
    "    p=Pool(processes = num_processors)\r\n",
    "\r\n",
    "    for idx, v in enumerate(mean_diff):\r\n",
    "\r\n",
    "        treat = [0, v*np.sqrt(stats.lognorm.var(1)*2)]\r\n",
    "        true_slope = [treat[1]] * num_processors\r\n",
    "\r\n",
    "        paramlist = [treat, [stats.lognorm, 1], [stats.lognorm, 1]]\r\n",
    "        paramlist = [paramlist] * num_processors\r\n",
    "\r\n",
    "        ss = np.random.SeedSequence(seedlist[seed[idx]])\r\n",
    "        child_seeds = ss.spawn(num_processors)\r\n",
    "        seeds = [np.random.default_rng(s) for s in child_seeds]\r\n",
    "\r\n",
    "        output = p.starmap(worker, zip(containers, paramlist, true_slope, seeds))\r\n",
    "\r\n",
    "        final[idx, 0] = treat[1]    \r\n",
    "        final[idx, 1:] = np.sum(output, axis=0) / (loop_count*num_processors)\r\n",
    "        print(final[idx])\r\n",
    "\r\n",
    "    containerstr = str(hierarchy).translate({ord(','):ord('_'), ord('['):None, ord(']'):None, ord(' '):None})\r\n",
    "    filename = containerstr + \"data_\" + distributions + \".csv\"\r\n",
    "    np.savetxt(os.path.join(folder, filename), final, delimiter=',') \r\n",
    "\r\n",
    "    p.close()\r\n",
    "\r\n"
   ]
  },
  {
   "cell_type": "code",
   "execution_count": 6,
   "metadata": {},
   "outputs": [
    {
     "name": "stdout",
     "output_type": "stream",
     "text": [
      "[[0.         0.95169508 0.9739369  0.96159122]\n",
      " [1.52819735 0.95169508 0.97423084 0.95972957]\n",
      " [3.0563947  0.95100921 0.97521066 0.96041544]\n",
      " [4.58459204 0.95169508 0.97462277 0.96061141]\n",
      " [6.11278939 0.95443857 0.97403488 0.96139526]\n",
      " [7.64098674 0.95130316 0.97472075 0.96051342]\n",
      " [9.16918409 0.95394866 0.97550461 0.96257104]]\n"
     ]
    }
   ],
   "source": [
    "print(final)\r\n"
   ]
  },
  {
   "cell_type": "code",
   "execution_count": 7,
   "metadata": {},
   "outputs": [],
   "source": [
    "distributions = \"norm_norm_\""
   ]
  },
  {
   "cell_type": "code",
   "execution_count": 8,
   "metadata": {},
   "outputs": [
    {
     "name": "stdout",
     "output_type": "stream",
     "text": [
      "[0.         0.95081325 0.96619636 0.95257692]\n",
      "[0.70710678 0.94855967 0.96511856 0.94983343]\n",
      "[1.41421356 0.95149912 0.96668626 0.95189104]\n",
      "[2.12132034 0.94473839 0.96129728 0.94591417]\n",
      "[2.82842712 0.95100921 0.96668626 0.95277288]\n",
      "[3.53553391 0.94767784 0.962767   0.94826573]\n",
      "[4.24264069 0.94473839 0.96198315 0.94552224]\n",
      "Wall time: 7min 10s\n"
     ]
    }
   ],
   "source": [
    "%%time\r\n",
    "\r\n",
    "mean_diff = np.array([j for j in range(0,7)]) / 2\r\n",
    "seed = tuple(i for i in range(675, 682))\r\n",
    "final = np.empty((len(mean_diff), 4))\r\n",
    "\r\n",
    "import poweranalysis\r\n",
    "\r\n",
    "if __name__ ==  '__main__': \r\n",
    "    num_processors = 14\r\n",
    "\r\n",
    "    containers = [hierarchy] * num_processors\r\n",
    "\r\n",
    "    p=Pool(processes = num_processors)\r\n",
    "\r\n",
    "    for idx, v in enumerate(mean_diff):\r\n",
    "\r\n",
    "        treat = [0, v*np.sqrt(stats.norm.var(1)*2)]\r\n",
    "        true_slope = [treat[1]] * num_processors\r\n",
    "\r\n",
    "        paramlist = [treat, [stats.norm, 1], [stats.norm, 1]]\r\n",
    "        paramlist = [paramlist] * num_processors\r\n",
    "\r\n",
    "        ss = np.random.SeedSequence(seedlist[seed[idx]])\r\n",
    "        child_seeds = ss.spawn(num_processors)\r\n",
    "        seeds = [np.random.default_rng(s) for s in child_seeds]\r\n",
    "\r\n",
    "        output = p.starmap(worker, zip(containers, paramlist, true_slope, seeds))\r\n",
    "\r\n",
    "        final[idx, 0] = treat[1]    \r\n",
    "        final[idx, 1:] = np.sum(output, axis=0) / (loop_count*num_processors)\r\n",
    "        print(final[idx])\r\n",
    "\r\n",
    "    containerstr = str(hierarchy).translate({ord(','):ord('_'), ord('['):None, ord(']'):None, ord(' '):None})\r\n",
    "    filename = containerstr + \"data_\" + distributions + \".csv\"\r\n",
    "    np.savetxt(os.path.join(folder, filename), final, delimiter=',') \r\n",
    "\r\n",
    "    p.close()\r\n"
   ]
  },
  {
   "cell_type": "code",
   "execution_count": 9,
   "metadata": {},
   "outputs": [
    {
     "name": "stdout",
     "output_type": "stream",
     "text": [
      "[[0.         0.95081325 0.96619636 0.95257692]\n",
      " [0.70710678 0.94855967 0.96511856 0.94983343]\n",
      " [1.41421356 0.95149912 0.96668626 0.95189104]\n",
      " [2.12132034 0.94473839 0.96129728 0.94591417]\n",
      " [2.82842712 0.95100921 0.96668626 0.95277288]\n",
      " [3.53553391 0.94767784 0.962767   0.94826573]\n",
      " [4.24264069 0.94473839 0.96198315 0.94552224]]\n"
     ]
    }
   ],
   "source": [
    "print(final)\r\n"
   ]
  },
  {
   "cell_type": "code",
   "execution_count": 10,
   "metadata": {},
   "outputs": [],
   "source": [
    "distributions = \"pareto_pareto_\""
   ]
  },
  {
   "cell_type": "code",
   "execution_count": 11,
   "metadata": {},
   "outputs": [
    {
     "name": "stdout",
     "output_type": "stream",
     "text": [
      "[0.         0.95238095 0.97609249 0.95992553]\n",
      "[0.70730217 0.95306682 0.97619048 0.96139526]\n",
      "[1.41460433 0.95012738 0.97550461 0.9616892 ]\n",
      "[2.1219065  0.95571233 0.9776602  0.96462865]\n",
      "[2.82920867 0.9494415  0.97413286 0.95874976]\n",
      "[3.53651084 0.95287086 0.97648442 0.96257104]\n",
      "[4.243813   0.95198903 0.97599451 0.96188517]\n",
      "Wall time: 7min 46s\n"
     ]
    }
   ],
   "source": [
    "%%time\r\n",
    "\r\n",
    "loop_count = 729\r\n",
    "\r\n",
    "\r\n",
    "mean_diff = np.array([j for j in range(0,7)]) / 2\r\n",
    "seed = tuple(i for i in range(682, 689))\r\n",
    "final = np.empty((len(mean_diff), 4))\r\n",
    "\r\n",
    "import poweranalysis\r\n",
    "\r\n",
    "if __name__ ==  '__main__': \r\n",
    "    num_processors = 14\r\n",
    "\r\n",
    "    containers = [hierarchy] * num_processors\r\n",
    "\r\n",
    "    p=Pool(processes = num_processors)\r\n",
    "\r\n",
    "    for idx, v in enumerate(mean_diff):\r\n",
    "\r\n",
    "        treat = [0, v*np.sqrt(stats.pareto.var(2.839)*2)]\r\n",
    "        true_slope = [treat[1]] * num_processors\r\n",
    "\r\n",
    "        paramlist = [treat, [stats.pareto, 2.839], [stats.pareto, 2.839]]\r\n",
    "        paramlist = [paramlist] * num_processors\r\n",
    "\r\n",
    "        ss = np.random.SeedSequence(seedlist[seed[idx]])\r\n",
    "        child_seeds = ss.spawn(num_processors)\r\n",
    "        seeds = [np.random.default_rng(s) for s in child_seeds]\r\n",
    "\r\n",
    "        output = p.starmap(worker, zip(containers, paramlist, true_slope, seeds))\r\n",
    "\r\n",
    "        final[idx, 0] = treat[1]    \r\n",
    "        final[idx, 1:] = np.sum(output, axis=0) / (loop_count*num_processors)\r\n",
    "        print(final[idx])\r\n",
    "\r\n",
    "    containerstr = str(hierarchy).translate({ord(','):ord('_'), ord('['):None, ord(']'):None, ord(' '):None})\r\n",
    "    filename = containerstr + \"data_\" + distributions + \".csv\"\r\n",
    "    np.savetxt(os.path.join(folder, filename), final, delimiter=',') \r\n",
    "\r\n",
    "    p.close()\r\n"
   ]
  },
  {
   "cell_type": "code",
   "execution_count": 12,
   "metadata": {},
   "outputs": [
    {
     "name": "stdout",
     "output_type": "stream",
     "text": [
      "[[0.         0.95238095 0.97609249 0.95992553]\n",
      " [0.70730217 0.95306682 0.97619048 0.96139526]\n",
      " [1.41460433 0.95012738 0.97550461 0.9616892 ]\n",
      " [2.1219065  0.95571233 0.9776602  0.96462865]\n",
      " [2.82920867 0.9494415  0.97413286 0.95874976]\n",
      " [3.53651084 0.95287086 0.97648442 0.96257104]\n",
      " [4.243813   0.95198903 0.97599451 0.96188517]]\n"
     ]
    }
   ],
   "source": [
    "print(final)\r\n"
   ]
  },
  {
   "cell_type": "code",
   "execution_count": 13,
   "metadata": {},
   "outputs": [],
   "source": [
    "distributions = \"gamma_gamma_\""
   ]
  },
  {
   "cell_type": "code",
   "execution_count": 14,
   "metadata": {},
   "outputs": [
    {
     "name": "stdout",
     "output_type": "stream",
     "text": [
      "[0.         0.94865765 0.96737213 0.95189104]\n",
      "[1.         0.95012738 0.96874388 0.95247893]\n",
      "[2.         0.94767784 0.96560847 0.95002939]\n",
      "[3.         0.95100921 0.96844993 0.95238095]\n",
      "[4.         0.95169508 0.97001764 0.95404664]\n",
      "[5.         0.95483049 0.96844993 0.95483049]\n",
      "[6.         0.94757985 0.96609837 0.94865765]\n",
      "Wall time: 7min 11s\n"
     ]
    }
   ],
   "source": [
    "%%time\r\n",
    "\r\n",
    "loop_count = 729\r\n",
    "\r\n",
    "\r\n",
    "mean_diff = np.array([j for j in range(0,7)]) / 2\r\n",
    "seed = tuple(i for i in range(689, 696))\r\n",
    "final = np.empty((len(mean_diff), 4))\r\n",
    "\r\n",
    "import poweranalysis\r\n",
    "\r\n",
    "if __name__ ==  '__main__': \r\n",
    "    num_processors = 14\r\n",
    "\r\n",
    "    containers = [hierarchy] * num_processors\r\n",
    "\r\n",
    "    p=Pool(processes = num_processors)\r\n",
    "\r\n",
    "    for idx, v in enumerate(mean_diff):\r\n",
    "\r\n",
    "        treat = [0, v*np.sqrt(stats.gamma.var(2)*2)]\r\n",
    "        true_slope = [treat[1]] * num_processors\r\n",
    "\r\n",
    "        paramlist = [treat, [stats.gamma, 2], [stats.gamma, 2]]\r\n",
    "        paramlist = [paramlist] * num_processors\r\n",
    "\r\n",
    "        ss = np.random.SeedSequence(seedlist[seed[idx]])\r\n",
    "        child_seeds = ss.spawn(num_processors)\r\n",
    "        seeds = [np.random.default_rng(s) for s in child_seeds]\r\n",
    "\r\n",
    "        output = p.starmap(worker, zip(containers, paramlist, true_slope, seeds))\r\n",
    "\r\n",
    "        final[idx, 0] = treat[1]    \r\n",
    "        final[idx, 1:] = np.sum(output, axis=0) / (loop_count*num_processors)\r\n",
    "        print(final[idx])\r\n",
    "\r\n",
    "    containerstr = str(hierarchy).translate({ord(','):ord('_'), ord('['):None, ord(']'):None, ord(' '):None})\r\n",
    "    filename = containerstr + \"data_\" + distributions + \".csv\"\r\n",
    "    np.savetxt(os.path.join(folder, filename), final, delimiter=',') \r\n",
    "\r\n",
    "    p.close()\r\n"
   ]
  },
  {
   "cell_type": "code",
   "execution_count": 15,
   "metadata": {},
   "outputs": [
    {
     "name": "stdout",
     "output_type": "stream",
     "text": [
      "[[0.         0.94865765 0.96737213 0.95189104]\n",
      " [1.         0.95012738 0.96874388 0.95247893]\n",
      " [2.         0.94767784 0.96560847 0.95002939]\n",
      " [3.         0.95100921 0.96844993 0.95238095]\n",
      " [4.         0.95169508 0.97001764 0.95404664]\n",
      " [5.         0.95483049 0.96844993 0.95483049]\n",
      " [6.         0.94757985 0.96609837 0.94865765]]\n"
     ]
    }
   ],
   "source": [
    "print(final)\r\n"
   ]
  },
  {
   "cell_type": "code",
   "execution_count": 16,
   "metadata": {},
   "outputs": [],
   "source": [
    "hierarchy = [2, 4, 3]\r\n",
    "bootstraps = 100\r\n",
    "permutations = 'all'\r\n",
    "\r\n",
    "interval = 95\r\n",
    "treatment_col = 0\r\n",
    "compare = \"means\"\r\n",
    "\r\n",
    "loop_count = 729\r\n",
    "\r\n",
    "worker = partial(\r\n",
    "conf_int_analysis,\r\n",
    "interval=interval,\r\n",
    "compare=compare,\r\n",
    "loops=loop_count,\r\n",
    "treatment_col=treatment_col,\r\n",
    "bootstraps = bootstraps,\r\n",
    "permutations = permutations,\r\n",
    "iterations = 10,\r\n",
    "tolerance = 0.5\r\n",
    ")"
   ]
  },
  {
   "cell_type": "code",
   "execution_count": 17,
   "metadata": {},
   "outputs": [],
   "source": [
    "distributions = \"lognorm_lognorm_\""
   ]
  },
  {
   "cell_type": "code",
   "execution_count": 18,
   "metadata": {},
   "outputs": [
    {
     "name": "stdout",
     "output_type": "stream",
     "text": [
      "[0.         0.95012738 0.97462277 0.96286498]\n",
      "[1.52819735 0.95365471 0.9739369  0.96345287]\n",
      "[3.0563947  0.95100921 0.97423084 0.96335489]\n",
      "[4.58459204 0.95022536 0.97472075 0.96149324]\n",
      "[6.11278939 0.95189104 0.97628846 0.96472663]\n",
      "[7.64098674 0.95247893 0.97491672 0.96129728]\n",
      "[9.16918409 0.95238095 0.97276112 0.96198315]\n",
      "Wall time: 8min 37s\n"
     ]
    }
   ],
   "source": [
    "%%time\r\n",
    "\r\n",
    "loop_count = 729\r\n",
    "\r\n",
    "\r\n",
    "mean_diff = np.array([j for j in range(0,7)]) / 2\r\n",
    "seed = tuple(i for i in range(689, 696))\r\n",
    "final = np.empty((len(mean_diff), 4))\r\n",
    "\r\n",
    "import poweranalysis\r\n",
    "\r\n",
    "if __name__ ==  '__main__': \r\n",
    "    num_processors = 14\r\n",
    "\r\n",
    "    containers = [hierarchy] * num_processors\r\n",
    "\r\n",
    "    p=Pool(processes = num_processors)\r\n",
    "\r\n",
    "    for idx, v in enumerate(mean_diff):\r\n",
    "\r\n",
    "        treat = [0, v*np.sqrt(stats.lognorm.var(1)*2)]\r\n",
    "        true_slope = [treat[1]] * num_processors\r\n",
    "\r\n",
    "        paramlist = [treat, [stats.lognorm, 1], [stats.lognorm, 1]]\r\n",
    "        paramlist = [paramlist] * num_processors\r\n",
    "\r\n",
    "        ss = np.random.SeedSequence(seedlist[seed[idx]])\r\n",
    "        child_seeds = ss.spawn(num_processors)\r\n",
    "        seeds = [np.random.default_rng(s) for s in child_seeds]\r\n",
    "\r\n",
    "        output = p.starmap(worker, zip(containers, paramlist, true_slope, seeds))\r\n",
    "\r\n",
    "        final[idx, 0] = treat[1]    \r\n",
    "        final[idx, 1:] = np.sum(output, axis=0) / (loop_count*num_processors)\r\n",
    "        print(final[idx])\r\n",
    "\r\n",
    "    containerstr = str(hierarchy).translate({ord(','):ord('_'), ord('['):None, ord(']'):None, ord(' '):None})\r\n",
    "    filename = containerstr + \"data_\" + distributions + \".csv\"\r\n",
    "    np.savetxt(os.path.join(folder, filename), final, delimiter=',') \r\n",
    "\r\n",
    "    p.close()\r\n"
   ]
  },
  {
   "cell_type": "code",
   "execution_count": 19,
   "metadata": {},
   "outputs": [
    {
     "name": "stdout",
     "output_type": "stream",
     "text": [
      "[[0.         0.95012738 0.97462277 0.96286498]\n",
      " [1.52819735 0.95365471 0.9739369  0.96345287]\n",
      " [3.0563947  0.95100921 0.97423084 0.96335489]\n",
      " [4.58459204 0.95022536 0.97472075 0.96149324]\n",
      " [6.11278939 0.95189104 0.97628846 0.96472663]\n",
      " [7.64098674 0.95247893 0.97491672 0.96129728]\n",
      " [9.16918409 0.95238095 0.97276112 0.96198315]]\n"
     ]
    }
   ],
   "source": [
    "print(final)\r\n"
   ]
  },
  {
   "cell_type": "code",
   "execution_count": 20,
   "metadata": {},
   "outputs": [],
   "source": [
    "distributions = \"norm_norm_\""
   ]
  },
  {
   "cell_type": "code",
   "execution_count": 21,
   "metadata": {},
   "outputs": [
    {
     "name": "stdout",
     "output_type": "stream",
     "text": [
      "[0.         0.95042132 0.95767196 0.9494415 ]\n",
      "[0.70710678 0.94757985 0.95502646 0.94660004]\n",
      "[1.41421356 0.95110719 0.95963159 0.95100921]\n",
      "[2.12132034 0.94797178 0.95698609 0.94983343]\n",
      "[2.82842712 0.95179306 0.96002352 0.95061728]\n",
      "[3.53553391 0.95287086 0.9601215  0.95208701]\n",
      "[4.24264069 0.95198903 0.96198315 0.95208701]\n",
      "Wall time: 7min 39s\n"
     ]
    }
   ],
   "source": [
    "%%time\r\n",
    "\r\n",
    "loop_count = 729\r\n",
    "\r\n",
    "\r\n",
    "mean_diff = np.array([j for j in range(0,7)]) / 2\r\n",
    "seed = tuple(i for i in range(696, 703))\r\n",
    "final = np.empty((len(mean_diff), 4))\r\n",
    "\r\n",
    "import poweranalysis\r\n",
    "\r\n",
    "if __name__ ==  '__main__': \r\n",
    "    num_processors = 14\r\n",
    "\r\n",
    "    containers = [hierarchy] * num_processors\r\n",
    "\r\n",
    "    p=Pool(processes = num_processors)\r\n",
    "\r\n",
    "    for idx, v in enumerate(mean_diff):\r\n",
    "\r\n",
    "        treat = [0, v*np.sqrt(stats.norm.var(1)*2)]\r\n",
    "        true_slope = [treat[1]] * num_processors\r\n",
    "\r\n",
    "        paramlist = [treat, [stats.norm, 1], [stats.norm, 1]]\r\n",
    "        paramlist = [paramlist] * num_processors\r\n",
    "\r\n",
    "        ss = np.random.SeedSequence(seedlist[seed[idx]])\r\n",
    "        child_seeds = ss.spawn(num_processors)\r\n",
    "        seeds = [np.random.default_rng(s) for s in child_seeds]\r\n",
    "\r\n",
    "        output = p.starmap(worker, zip(containers, paramlist, true_slope, seeds))\r\n",
    "\r\n",
    "        final[idx, 0] = treat[1]    \r\n",
    "        final[idx, 1:] = np.sum(output, axis=0) / (loop_count*num_processors)\r\n",
    "        print(final[idx])\r\n",
    "\r\n",
    "    containerstr = str(hierarchy).translate({ord(','):ord('_'), ord('['):None, ord(']'):None, ord(' '):None})\r\n",
    "    filename = containerstr + \"data_\" + distributions + \".csv\"\r\n",
    "    np.savetxt(os.path.join(folder, filename), final, delimiter=',') \r\n",
    "\r\n",
    "    p.close()\r\n"
   ]
  },
  {
   "cell_type": "code",
   "execution_count": 22,
   "metadata": {},
   "outputs": [
    {
     "name": "stdout",
     "output_type": "stream",
     "text": [
      "[[0.         0.95042132 0.95767196 0.9494415 ]\n",
      " [0.70710678 0.94757985 0.95502646 0.94660004]\n",
      " [1.41421356 0.95110719 0.95963159 0.95100921]\n",
      " [2.12132034 0.94797178 0.95698609 0.94983343]\n",
      " [2.82842712 0.95179306 0.96002352 0.95061728]\n",
      " [3.53553391 0.95287086 0.9601215  0.95208701]\n",
      " [4.24264069 0.95198903 0.96198315 0.95208701]]\n"
     ]
    }
   ],
   "source": [
    "print(final)\r\n"
   ]
  },
  {
   "cell_type": "code",
   "execution_count": 23,
   "metadata": {},
   "outputs": [],
   "source": [
    "distributions = \"pareto_pareto_\""
   ]
  },
  {
   "cell_type": "code",
   "execution_count": 24,
   "metadata": {},
   "outputs": [
    {
     "name": "stdout",
     "output_type": "stream",
     "text": [
      "[0.         0.95149912 0.97511268 0.96247306]\n",
      "[0.70730217 0.94973545 0.97609249 0.96188517]\n",
      "[1.41460433 0.9542426  0.97599451 0.96639232]\n",
      "[2.1219065  0.95032334 0.97540662 0.9638448 ]\n",
      "[2.82920867 0.95512444 0.97579855 0.96521654]\n",
      "[3.53651084 0.95149912 0.97579855 0.96355085]\n",
      "[4.243813   0.95355673 0.97589653 0.96423672]\n",
      "Wall time: 8min 52s\n"
     ]
    }
   ],
   "source": [
    "%%time\r\n",
    "\r\n",
    "loop_count = 729\r\n",
    "\r\n",
    "\r\n",
    "mean_diff = np.array([j for j in range(0,7)]) / 2\r\n",
    "seed = tuple(i for i in range(703, 710))\r\n",
    "final = np.empty((len(mean_diff), 4))\r\n",
    "\r\n",
    "import poweranalysis\r\n",
    "\r\n",
    "if __name__ ==  '__main__': \r\n",
    "    num_processors = 14\r\n",
    "\r\n",
    "    containers = [hierarchy] * num_processors\r\n",
    "\r\n",
    "    p=Pool(processes = num_processors)\r\n",
    "\r\n",
    "    for idx, v in enumerate(mean_diff):\r\n",
    "\r\n",
    "        treat = [0, v*np.sqrt(stats.pareto.var(2.839)*2)]\r\n",
    "        true_slope = [treat[1]] * num_processors\r\n",
    "\r\n",
    "        paramlist = [treat, [stats.pareto, 2.839], [stats.pareto, 2.839]]\r\n",
    "        paramlist = [paramlist] * num_processors\r\n",
    "\r\n",
    "        ss = np.random.SeedSequence(seedlist[seed[idx]])\r\n",
    "        child_seeds = ss.spawn(num_processors)\r\n",
    "        seeds = [np.random.default_rng(s) for s in child_seeds]\r\n",
    "\r\n",
    "        output = p.starmap(worker, zip(containers, paramlist, true_slope, seeds))\r\n",
    "\r\n",
    "        final[idx, 0] = treat[1]    \r\n",
    "        final[idx, 1:] = np.sum(output, axis=0) / (loop_count*num_processors)\r\n",
    "        print(final[idx])\r\n",
    "\r\n",
    "    containerstr = str(hierarchy).translate({ord(','):ord('_'), ord('['):None, ord(']'):None, ord(' '):None})\r\n",
    "    filename = containerstr + \"data_\" + distributions + \".csv\"\r\n",
    "    np.savetxt(os.path.join(folder, filename), final, delimiter=',') \r\n",
    "\r\n",
    "    p.close()\r\n"
   ]
  },
  {
   "cell_type": "code",
   "execution_count": 25,
   "metadata": {},
   "outputs": [
    {
     "name": "stdout",
     "output_type": "stream",
     "text": [
      "[[0.         0.95149912 0.97511268 0.96247306]\n",
      " [0.70730217 0.94973545 0.97609249 0.96188517]\n",
      " [1.41460433 0.9542426  0.97599451 0.96639232]\n",
      " [2.1219065  0.95032334 0.97540662 0.9638448 ]\n",
      " [2.82920867 0.95512444 0.97579855 0.96521654]\n",
      " [3.53651084 0.95149912 0.97579855 0.96355085]\n",
      " [4.243813   0.95355673 0.97589653 0.96423672]]\n"
     ]
    }
   ],
   "source": [
    "print(final)"
   ]
  },
  {
   "cell_type": "code",
   "execution_count": 26,
   "metadata": {},
   "outputs": [],
   "source": [
    "distributions = \"gamma_gamma_\""
   ]
  },
  {
   "cell_type": "code",
   "execution_count": 27,
   "metadata": {},
   "outputs": [
    {
     "name": "stdout",
     "output_type": "stream",
     "text": [
      "[0.         0.95365471 0.96600039 0.95483049]\n",
      "[1.         0.9505193  0.96178718 0.95169508]\n",
      "[2.         0.94885362 0.9616892  0.95071527]\n",
      "[3.         0.95091123 0.96551048 0.95365471]\n",
      "[4.         0.94953949 0.962767   0.95326279]\n",
      "[5.         0.9494415  0.96315893 0.95228297]\n",
      "[6.         0.94963747 0.962767   0.95228297]\n",
      "Wall time: 7min 55s\n"
     ]
    }
   ],
   "source": [
    "%%time\r\n",
    "\r\n",
    "loop_count = 729\r\n",
    "\r\n",
    "\r\n",
    "mean_diff = np.array([j for j in range(0,7)]) / 2\r\n",
    "seed = tuple(i for i in range(710, 717))\r\n",
    "final = np.empty((len(mean_diff), 4))\r\n",
    "\r\n",
    "import poweranalysis\r\n",
    "\r\n",
    "if __name__ ==  '__main__': \r\n",
    "    num_processors = 14\r\n",
    "\r\n",
    "    containers = [hierarchy] * num_processors\r\n",
    "\r\n",
    "    p=Pool(processes = num_processors)\r\n",
    "\r\n",
    "    for idx, v in enumerate(mean_diff):\r\n",
    "\r\n",
    "        treat = [0, v*np.sqrt(stats.gamma.var(2)*2)]\r\n",
    "        true_slope = [treat[1]] * num_processors\r\n",
    "\r\n",
    "        paramlist = [treat, [stats.gamma, 2], [stats.gamma, 2]]\r\n",
    "        paramlist = [paramlist] * num_processors\r\n",
    "\r\n",
    "        ss = np.random.SeedSequence(seedlist[seed[idx]])\r\n",
    "        child_seeds = ss.spawn(num_processors)\r\n",
    "        seeds = [np.random.default_rng(s) for s in child_seeds]\r\n",
    "\r\n",
    "        output = p.starmap(worker, zip(containers, paramlist, true_slope, seeds))\r\n",
    "\r\n",
    "        final[idx, 0] = treat[1]    \r\n",
    "        final[idx, 1:] = np.sum(output, axis=0) / (loop_count*num_processors)\r\n",
    "        print(final[idx])\r\n",
    "\r\n",
    "    containerstr = str(hierarchy).translate({ord(','):ord('_'), ord('['):None, ord(']'):None, ord(' '):None})\r\n",
    "    filename = containerstr + \"data_\" + distributions + \".csv\"\r\n",
    "    np.savetxt(os.path.join(folder, filename), final, delimiter=',') \r\n",
    "\r\n",
    "    p.close()\r\n"
   ]
  },
  {
   "cell_type": "code",
   "execution_count": 28,
   "metadata": {},
   "outputs": [
    {
     "name": "stdout",
     "output_type": "stream",
     "text": [
      "[[0.         0.95365471 0.96600039 0.95483049]\n",
      " [1.         0.9505193  0.96178718 0.95169508]\n",
      " [2.         0.94885362 0.9616892  0.95071527]\n",
      " [3.         0.95091123 0.96551048 0.95365471]\n",
      " [4.         0.94953949 0.962767   0.95326279]\n",
      " [5.         0.9494415  0.96315893 0.95228297]\n",
      " [6.         0.94963747 0.962767   0.95228297]]\n"
     ]
    }
   ],
   "source": [
    "print(final)"
   ]
  },
  {
   "cell_type": "code",
   "execution_count": 29,
   "metadata": {},
   "outputs": [],
   "source": [
    "hierarchy = [3, 2, 4, 3]\r\n",
    "\r\n",
    "bootstraps = 100\r\n",
    "permutations = 100\r\n",
    "interval = 95\r\n",
    "treatment_col = 1\r\n",
    "compare = \"means\"\r\n",
    "\r\n",
    "loop_count = 729\r\n",
    "\r\n",
    "worker = partial(\r\n",
    "conf_int_analysis,\r\n",
    "interval=interval,\r\n",
    "compare=compare,\r\n",
    "loops=loop_count,\r\n",
    "treatment_col=treatment_col,\r\n",
    "bootstraps = bootstraps,\r\n",
    "permutations = permutations,\r\n",
    "iterations = 10,\r\n",
    "tolerance = 0.5\r\n",
    ")"
   ]
  },
  {
   "cell_type": "code",
   "execution_count": 30,
   "metadata": {},
   "outputs": [],
   "source": [
    "distributions = \"lognorm_lognorm_\""
   ]
  },
  {
   "cell_type": "code",
   "execution_count": 31,
   "metadata": {},
   "outputs": [
    {
     "name": "stdout",
     "output_type": "stream",
     "text": [
      "[0.         0.9542426  0.97893396 0.97677837]\n",
      "[1.52819735 0.95277288 0.97844405 0.97677837]\n",
      "[3.0563947  0.95483049 0.97971781 0.97756222]\n",
      "[4.58459204 0.95012738 0.97775818 0.97521066]\n",
      "[6.11278939 0.95189104 0.97815011 0.97570057]\n",
      "[7.64098674 0.95179306 0.97932589 0.97717029]\n",
      "[9.16918409 0.95149912 0.97687635 0.97432883]\n",
      "Wall time: 9min 18s\n"
     ]
    }
   ],
   "source": [
    "%%time\r\n",
    "\r\n",
    "loop_count = 729\r\n",
    "\r\n",
    "\r\n",
    "mean_diff = np.array([j for j in range(0,7)]) / 2\r\n",
    "seed = tuple(i for i in range(717, 724))\r\n",
    "final = np.empty((len(mean_diff), 4))\r\n",
    "\r\n",
    "import poweranalysis\r\n",
    "\r\n",
    "if __name__ ==  '__main__': \r\n",
    "    num_processors = 14\r\n",
    "    \r\n",
    "    containers = [hierarchy] * num_processors\r\n",
    "\r\n",
    "\r\n",
    "    p=Pool(processes = num_processors)\r\n",
    "\r\n",
    "    for idx, v in enumerate(mean_diff):\r\n",
    "\r\n",
    "        treat = [0, v*np.sqrt(stats.lognorm.var(1)*2)] * 3\r\n",
    "        true_slope = [treat[1]] * num_processors\r\n",
    "\r\n",
    "        paramlist = [[stats.lognorm, 1], treat, [stats.lognorm, 1], [stats.lognorm, 1]]\r\n",
    "        paramlist = [paramlist] * num_processors\r\n",
    "\r\n",
    "        ss = np.random.SeedSequence(seedlist[seed[idx]])\r\n",
    "        child_seeds = ss.spawn(num_processors)\r\n",
    "        seeds = [np.random.default_rng(s) for s in child_seeds]\r\n",
    "\r\n",
    "        output = p.starmap(worker, zip(containers, paramlist, true_slope, seeds))\r\n",
    "\r\n",
    "        final[idx, 0] = treat[1]    \r\n",
    "        final[idx, 1:] = np.sum(output, axis=0) / (loop_count*num_processors)\r\n",
    "        print(final[idx])\r\n",
    "\r\n",
    "\r\n",
    "    containerstr = str(hierarchy).translate({ord(','):ord('_'), ord('['):None, ord(']'):None, ord(' '):None})\r\n",
    "    filename = containerstr + \"data_\" + distributions + \".csv\"\r\n",
    "    np.savetxt(os.path.join(folder, filename), final, delimiter=',') \r\n",
    "\r\n",
    "    p.close()\r\n"
   ]
  },
  {
   "cell_type": "code",
   "execution_count": 32,
   "metadata": {},
   "outputs": [
    {
     "name": "stdout",
     "output_type": "stream",
     "text": [
      "[[0.         0.9542426  0.97893396 0.97677837]\n",
      " [1.52819735 0.95277288 0.97844405 0.97677837]\n",
      " [3.0563947  0.95483049 0.97971781 0.97756222]\n",
      " [4.58459204 0.95012738 0.97775818 0.97521066]\n",
      " [6.11278939 0.95189104 0.97815011 0.97570057]\n",
      " [7.64098674 0.95179306 0.97932589 0.97717029]\n",
      " [9.16918409 0.95149912 0.97687635 0.97432883]]\n"
     ]
    }
   ],
   "source": [
    "print(final)"
   ]
  },
  {
   "cell_type": "code",
   "execution_count": 33,
   "metadata": {},
   "outputs": [],
   "source": [
    "distributions = \"norm_norm_\""
   ]
  },
  {
   "cell_type": "code",
   "execution_count": 34,
   "metadata": {},
   "outputs": [
    {
     "name": "stdout",
     "output_type": "stream",
     "text": [
      "[0.         0.95345875 0.97824809 0.97775818]\n",
      "[0.70710678 0.95081325 0.97677837 0.97628846]\n",
      "[1.41421356 0.94963747 0.97462277 0.97403488]\n",
      "[2.12132034 0.9478738  0.97432883 0.97344699]\n",
      "[2.82842712 0.95110719 0.97805213 0.97785616]\n",
      "[3.53553391 0.95071527 0.97668038 0.97628846]\n",
      "[4.24264069 0.95238095 0.97844405 0.97726827]\n",
      "Wall time: 8min 49s\n"
     ]
    }
   ],
   "source": [
    "%%time\r\n",
    "\r\n",
    "loop_count = 729\r\n",
    "\r\n",
    "\r\n",
    "mean_diff = np.array([j for j in range(0,7)]) / 2\r\n",
    "seed = tuple(i for i in range(724, 731))\r\n",
    "final = np.empty((len(mean_diff), 4))\r\n",
    "\r\n",
    "import poweranalysis\r\n",
    "\r\n",
    "if __name__ ==  '__main__': \r\n",
    "    num_processors = 14\r\n",
    "\r\n",
    "    containers = [hierarchy] * num_processors\r\n",
    "\r\n",
    "    p=Pool(processes = num_processors)\r\n",
    "\r\n",
    "    for idx, v in enumerate(mean_diff):\r\n",
    "\r\n",
    "        treat = [0, v*np.sqrt(stats.norm.var()*2)] * 3\r\n",
    "        true_slope = [treat[1]] * num_processors\r\n",
    "\r\n",
    "        paramlist = [[stats.norm], treat, [stats.norm], [stats.norm]]\r\n",
    "        paramlist = [paramlist] * num_processors\r\n",
    "\r\n",
    "        ss = np.random.SeedSequence(seedlist[seed[idx]])\r\n",
    "        child_seeds = ss.spawn(num_processors)\r\n",
    "        seeds = [np.random.default_rng(s) for s in child_seeds]\r\n",
    "\r\n",
    "        output = p.starmap(worker, zip(containers, paramlist, true_slope, seeds))\r\n",
    "\r\n",
    "        final[idx, 0] = treat[1]    \r\n",
    "        final[idx, 1:] = np.sum(output, axis=0) / (loop_count*num_processors)\r\n",
    "        print(final[idx])\r\n",
    "\r\n",
    "    containerstr = str(hierarchy).translate({ord(','):ord('_'), ord('['):None, ord(']'):None, ord(' '):None})\r\n",
    "    filename = containerstr + \"data_\" + distributions + \".csv\"\r\n",
    "    np.savetxt(os.path.join(folder, filename), final, delimiter=',') \r\n",
    "\r\n",
    "    p.close()\r\n"
   ]
  },
  {
   "cell_type": "code",
   "execution_count": 35,
   "metadata": {},
   "outputs": [
    {
     "name": "stdout",
     "output_type": "stream",
     "text": [
      "[[0.         0.95345875 0.97824809 0.97775818]\n",
      " [0.70710678 0.95081325 0.97677837 0.97628846]\n",
      " [1.41421356 0.94963747 0.97462277 0.97403488]\n",
      " [2.12132034 0.9478738  0.97432883 0.97344699]\n",
      " [2.82842712 0.95110719 0.97805213 0.97785616]\n",
      " [3.53553391 0.95071527 0.97668038 0.97628846]\n",
      " [4.24264069 0.95238095 0.97844405 0.97726827]]\n"
     ]
    }
   ],
   "source": [
    "print(final)\r\n"
   ]
  },
  {
   "cell_type": "code",
   "execution_count": 36,
   "metadata": {},
   "outputs": [],
   "source": [
    "distributions = \"pareto_pareto_\""
   ]
  },
  {
   "cell_type": "code",
   "execution_count": 37,
   "metadata": {},
   "outputs": [
    {
     "name": "stdout",
     "output_type": "stream",
     "text": [
      "[0.         0.95140114 0.97912992 0.97687635]\n",
      "[0.70730217 0.95463453 0.98040368 0.97775818]\n",
      "[1.41460433 0.95541838 0.97971781 0.97707231]\n",
      "[2.1219065  0.95208701 0.97677837 0.97374094]\n",
      "[2.82920867 0.95130316 0.97864002 0.97599451]\n",
      "[3.53651084 0.95336077 0.97893396 0.97550461]\n",
      "[4.243813   0.95345875 0.97912992 0.97619048]\n",
      "Wall time: 9min 24s\n"
     ]
    }
   ],
   "source": [
    "%%time\r\n",
    "\r\n",
    "loop_count = 729\r\n",
    "\r\n",
    "\r\n",
    "mean_diff = np.array([j for j in range(0,7)]) / 2\r\n",
    "seed = tuple(i for i in range(731, 738))\r\n",
    "final = np.empty((len(mean_diff), 4))\r\n",
    "\r\n",
    "import poweranalysis\r\n",
    "\r\n",
    "if __name__ ==  '__main__': \r\n",
    "    num_processors = 14\r\n",
    "\r\n",
    "    containers = [hierarchy] * num_processors\r\n",
    "\r\n",
    "    p=Pool(processes = num_processors)\r\n",
    "\r\n",
    "    for idx, v in enumerate(mean_diff):\r\n",
    "\r\n",
    "        treat = [0, v*np.sqrt(stats.pareto.var(2.839)*2)] * 3\r\n",
    "        true_slope = [treat[1]] * num_processors\r\n",
    "\r\n",
    "        paramlist = [[stats.pareto, 2.839], treat, [stats.pareto, 2.839], [stats.pareto, 2.839]]\r\n",
    "        paramlist = [paramlist] * num_processors\r\n",
    "\r\n",
    "        ss = np.random.SeedSequence(seedlist[seed[idx]])\r\n",
    "        child_seeds = ss.spawn(num_processors)\r\n",
    "        seeds = [np.random.default_rng(s) for s in child_seeds]\r\n",
    "\r\n",
    "        output = p.starmap(worker, zip(containers, paramlist, true_slope, seeds))\r\n",
    "\r\n",
    "        final[idx, 0] = treat[1]    \r\n",
    "        final[idx, 1:] = np.sum(output, axis=0) / (loop_count*num_processors)\r\n",
    "        print(final[idx])\r\n",
    "\r\n",
    "    containerstr = str(hierarchy).translate({ord(','):ord('_'), ord('['):None, ord(']'):None, ord(' '):None})\r\n",
    "    filename = containerstr + \"data_\" + distributions + \".csv\"\r\n",
    "    np.savetxt(os.path.join(folder, filename), final, delimiter=',') \r\n",
    "\r\n",
    "    p.close()\r\n",
    "\r\n"
   ]
  },
  {
   "cell_type": "code",
   "execution_count": 38,
   "metadata": {},
   "outputs": [
    {
     "name": "stdout",
     "output_type": "stream",
     "text": [
      "[[0.         0.95140114 0.97912992 0.97687635]\n",
      " [0.70730217 0.95463453 0.98040368 0.97775818]\n",
      " [1.41460433 0.95541838 0.97971781 0.97707231]\n",
      " [2.1219065  0.95208701 0.97677837 0.97374094]\n",
      " [2.82920867 0.95130316 0.97864002 0.97599451]\n",
      " [3.53651084 0.95336077 0.97893396 0.97550461]\n",
      " [4.243813   0.95345875 0.97912992 0.97619048]]\n"
     ]
    }
   ],
   "source": [
    "print(final)"
   ]
  },
  {
   "cell_type": "code",
   "execution_count": 39,
   "metadata": {},
   "outputs": [],
   "source": [
    "distributions = \"gamma_gamma_\""
   ]
  },
  {
   "cell_type": "code",
   "execution_count": 40,
   "metadata": {},
   "outputs": [
    {
     "name": "stdout",
     "output_type": "stream",
     "text": [
      "[0.         0.9526749  0.97717029 0.97589653]\n",
      "[1.         0.95287086 0.9776602  0.97697433]\n",
      "[2.         0.9526749  0.97540662 0.97413286]\n",
      "[3.         0.95140114 0.97619048 0.97491672]\n",
      "[4.         0.95179306 0.97589653 0.97530864]\n",
      "[5.         0.95247893 0.97609249 0.97481873]\n",
      "[6.         0.95287086 0.97687635 0.97560259]\n",
      "Wall time: 8min 44s\n"
     ]
    }
   ],
   "source": [
    "%%time\r\n",
    "\r\n",
    "loop_count = 729\r\n",
    "\r\n",
    "\r\n",
    "mean_diff = np.array([j for j in range(0,7)]) / 2\r\n",
    "seed = tuple(i for i in range(738, 745))\r\n",
    "final = np.empty((len(mean_diff), 4))\r\n",
    "\r\n",
    "import poweranalysis\r\n",
    "\r\n",
    "if __name__ ==  '__main__': \r\n",
    "    num_processors = 14\r\n",
    "\r\n",
    "    containers = [hierarchy] * num_processors\r\n",
    "\r\n",
    "    p=Pool(processes = num_processors)\r\n",
    "\r\n",
    "    for idx, v in enumerate(mean_diff):\r\n",
    "\r\n",
    "        treat = [0, v*np.sqrt(stats.gamma.var(2)*2)] * 3\r\n",
    "        true_slope = [treat[1]] * num_processors\r\n",
    "\r\n",
    "        paramlist = [[stats.gamma, 2], treat, [stats.gamma, 2], [stats.gamma, 2]]\r\n",
    "        paramlist = [paramlist] * num_processors\r\n",
    "\r\n",
    "        ss = np.random.SeedSequence(seedlist[seed[idx]])\r\n",
    "        child_seeds = ss.spawn(num_processors)\r\n",
    "        seeds = [np.random.default_rng(s) for s in child_seeds]\r\n",
    "\r\n",
    "        output = p.starmap(worker, zip(containers, paramlist, true_slope, seeds))\r\n",
    "\r\n",
    "        final[idx, 0] = treat[1]    \r\n",
    "        final[idx, 1:] = np.sum(output, axis=0) / (loop_count*num_processors)\r\n",
    "        print(final[idx])\r\n",
    "\r\n",
    "\r\n",
    "    containerstr = str(hierarchy).translate({ord(','):ord('_'), ord('['):None, ord(']'):None, ord(' '):None})\r\n",
    "    filename = containerstr + \"data_\" + distributions + \".csv\"\r\n",
    "    np.savetxt(os.path.join(folder, filename), final, delimiter=',') \r\n",
    "\r\n",
    "    p.close()\r\n",
    "\r\n"
   ]
  },
  {
   "cell_type": "code",
   "execution_count": 41,
   "metadata": {},
   "outputs": [
    {
     "name": "stdout",
     "output_type": "stream",
     "text": [
      "[[0.         0.9526749  0.97717029 0.97589653]\n",
      " [1.         0.95287086 0.9776602  0.97697433]\n",
      " [2.         0.9526749  0.97540662 0.97413286]\n",
      " [3.         0.95140114 0.97619048 0.97491672]\n",
      " [4.         0.95179306 0.97589653 0.97530864]\n",
      " [5.         0.95247893 0.97609249 0.97481873]\n",
      " [6.         0.95287086 0.97687635 0.97560259]]\n"
     ]
    }
   ],
   "source": [
    "print(final)\r\n"
   ]
  },
  {
   "cell_type": "code",
   "execution_count": 42,
   "metadata": {},
   "outputs": [],
   "source": [
    "folder = os.path.abspath('confidence intervals corr')"
   ]
  },
  {
   "cell_type": "code",
   "execution_count": 43,
   "metadata": {},
   "outputs": [],
   "source": [
    "hierarchy = [3,3,3]\r\n",
    "bootstraps = 50\r\n",
    "permutations = 200\r\n",
    "interval = 95\r\n",
    "treatment_col = 0\r\n",
    "compare = \"corr\"\r\n",
    "\r\n",
    "loop_count = 729\r\n",
    "\r\n",
    "worker = partial(\r\n",
    "conf_int_analysis,\r\n",
    "interval=interval,\r\n",
    "compare=compare,\r\n",
    "loops=loop_count,\r\n",
    "treatment_col=treatment_col,\r\n",
    "bootstraps = bootstraps,\r\n",
    "permutations = permutations,\r\n",
    "iterations = 10,\r\n",
    "tolerance = 0.2\r\n",
    ")"
   ]
  },
  {
   "cell_type": "code",
   "execution_count": 44,
   "metadata": {},
   "outputs": [],
   "source": [
    "distributions = \"lognorm_lognorm_\""
   ]
  },
  {
   "cell_type": "code",
   "execution_count": 45,
   "metadata": {},
   "outputs": [
    {
     "name": "stdout",
     "output_type": "stream",
     "text": [
      "[0.         0.95091123 0.96257104]\n",
      "[0.76409867 0.94826573 0.95845581]\n",
      "[1.52819735 0.94738389 0.95894572]\n",
      "[2.29229602 0.95012738 0.96002352]\n",
      "[3.0563947  0.94963747 0.95914168]\n",
      "[3.82049337 0.95022536 0.9601215 ]\n",
      "[4.58459204 0.94973545 0.96002352]\n",
      "Wall time: 12min 39s\n"
     ]
    }
   ],
   "source": [
    "%%time\r\n",
    "\r\n",
    "\r\n",
    "mean_diff = np.array([j for j in range(0,7)]) / 2\r\n",
    "seed = tuple(i for i in range(668, 675))\r\n",
    "final = np.empty((len(mean_diff), 3))\r\n",
    "3\r\n",
    "import poweranalysis\r\n",
    "\r\n",
    "if __name__ ==  '__main__': \r\n",
    "    num_processors = 14\r\n",
    "\r\n",
    "    containers = [hierarchy] * num_processors\r\n",
    "\r\n",
    "    p=Pool(processes = num_processors)\r\n",
    "\r\n",
    "    for idx, v in enumerate(mean_diff):\r\n",
    "\r\n",
    "        treat = [0, (v/2)*np.sqrt(stats.lognorm.var(1)*2), (v)*np.sqrt(stats.lognorm.var(1)*2)]\r\n",
    "        true_slope = [treat[1]] * num_processors\r\n",
    "\r\n",
    "        paramlist = [treat, [stats.lognorm, 1], [stats.lognorm, 1]]\r\n",
    "        paramlist = [paramlist] * num_processors\r\n",
    "\r\n",
    "        ss = np.random.SeedSequence(seedlist[seed[idx]])\r\n",
    "        child_seeds = ss.spawn(num_processors)\r\n",
    "        seeds = [np.random.default_rng(s) for s in child_seeds]\r\n",
    "\r\n",
    "        output = p.starmap(worker, zip(containers, paramlist, true_slope, seeds))\r\n",
    "\r\n",
    "        final[idx, 0] = treat[1]    \r\n",
    "        final[idx, 1:] = np.sum(output, axis=0) / (loop_count*num_processors)\r\n",
    "        print(final[idx])\r\n",
    "\r\n",
    "    containerstr = str(hierarchy).translate({ord(','):ord('_'), ord('['):None, ord(']'):None, ord(' '):None})\r\n",
    "    filename = containerstr + \"data_\" + distributions + \".csv\"\r\n",
    "    np.savetxt(os.path.join(folder, filename), final, delimiter=',') \r\n",
    "\r\n",
    "    p.close()\r\n",
    "\r\n"
   ]
  },
  {
   "cell_type": "code",
   "execution_count": 46,
   "metadata": {},
   "outputs": [],
   "source": [
    "distributions = \"norm_norm_\""
   ]
  },
  {
   "cell_type": "code",
   "execution_count": 47,
   "metadata": {},
   "outputs": [
    {
     "name": "stdout",
     "output_type": "stream",
     "text": [
      "[0.         0.94552224 0.94689398]\n",
      "[0.35355339 0.94777582 0.94973545]\n",
      "[0.70710678 0.94601215 0.94767784]\n",
      "[1.06066017 0.94493435 0.94963747]\n",
      "[1.41421356 0.94983343 0.95238095]\n",
      "[1.76776695 0.94748187 0.95022536]\n",
      "[2.12132034 0.95042132 0.95042132]\n",
      "Wall time: 12min 5s\n"
     ]
    }
   ],
   "source": [
    "%%time\r\n",
    "\r\n",
    "mean_diff = np.array([j for j in range(0,7)]) / 2\r\n",
    "seed = tuple(i for i in range(675, 682))\r\n",
    "final = np.empty((len(mean_diff), 3))\r\n",
    "\r\n",
    "import poweranalysis\r\n",
    "\r\n",
    "if __name__ ==  '__main__': \r\n",
    "    num_processors = 14\r\n",
    "\r\n",
    "    containers = [hierarchy] * num_processors\r\n",
    "\r\n",
    "    p=Pool(processes = num_processors)\r\n",
    "\r\n",
    "    for idx, v in enumerate(mean_diff):\r\n",
    "\r\n",
    "        treat = [0, (v/2)*np.sqrt(stats.norm.var(1)*2),v*np.sqrt(stats.norm.var(1)*2)]\r\n",
    "        true_slope = [treat[1]] * num_processors\r\n",
    "\r\n",
    "        paramlist = [treat, [stats.norm, 1], [stats.norm, 1]]\r\n",
    "        paramlist = [paramlist] * num_processors\r\n",
    "\r\n",
    "        ss = np.random.SeedSequence(seedlist[seed[idx]])\r\n",
    "        child_seeds = ss.spawn(num_processors)\r\n",
    "        seeds = [np.random.default_rng(s) for s in child_seeds]\r\n",
    "\r\n",
    "        output = p.starmap(worker, zip(containers, paramlist, true_slope, seeds))\r\n",
    "\r\n",
    "        final[idx, 0] = treat[1]    \r\n",
    "        final[idx, 1:] = np.sum(output, axis=0) / (loop_count*num_processors)\r\n",
    "        print(final[idx])\r\n",
    "\r\n",
    "    containerstr = str(hierarchy).translate({ord(','):ord('_'), ord('['):None, ord(']'):None, ord(' '):None})\r\n",
    "    filename = containerstr + \"data_\" + distributions + \".csv\"\r\n",
    "    np.savetxt(os.path.join(folder, filename), final, delimiter=',') \r\n",
    "\r\n",
    "    p.close()\r\n"
   ]
  },
  {
   "cell_type": "code",
   "execution_count": 48,
   "metadata": {},
   "outputs": [
    {
     "name": "stdout",
     "output_type": "stream",
     "text": [
      "[[0.         0.94552224 0.94689398]\n",
      " [0.35355339 0.94777582 0.94973545]\n",
      " [0.70710678 0.94601215 0.94767784]\n",
      " [1.06066017 0.94493435 0.94963747]\n",
      " [1.41421356 0.94983343 0.95238095]\n",
      " [1.76776695 0.94748187 0.95022536]\n",
      " [2.12132034 0.95042132 0.95042132]]\n"
     ]
    }
   ],
   "source": [
    "print(final)\r\n"
   ]
  },
  {
   "cell_type": "code",
   "execution_count": 49,
   "metadata": {},
   "outputs": [],
   "source": [
    "distributions = \"pareto_pareto_\""
   ]
  },
  {
   "cell_type": "code",
   "execution_count": 50,
   "metadata": {},
   "outputs": [
    {
     "name": "stdout",
     "output_type": "stream",
     "text": [
      "[0.         0.94601215 0.95884774]\n",
      "[0.35365108 0.95002939 0.96070939]\n",
      "[0.70730217 0.94914756 0.95816187]\n",
      "[1.06095325 0.9505193  0.96217911]\n",
      "[1.41460433 0.95120517 0.96129728]\n",
      "[1.76825542 0.94963747 0.96080737]\n",
      "[2.1219065  0.95091123 0.96188517]\n",
      "Wall time: 12min 50s\n"
     ]
    }
   ],
   "source": [
    "%%time\r\n",
    "\r\n",
    "loop_count = 729\r\n",
    "\r\n",
    "\r\n",
    "mean_diff = np.array([j for j in range(0,7)]) / 2\r\n",
    "seed = tuple(i for i in range(682, 689))\r\n",
    "final = np.empty((len(mean_diff), 3))\r\n",
    "\r\n",
    "import poweranalysis\r\n",
    "\r\n",
    "if __name__ ==  '__main__': \r\n",
    "    num_processors = 14\r\n",
    "\r\n",
    "    containers = [hierarchy] * num_processors\r\n",
    "\r\n",
    "    p=Pool(processes = num_processors)\r\n",
    "\r\n",
    "    for idx, v in enumerate(mean_diff):\r\n",
    "\r\n",
    "        treat = [0, (v/2)*np.sqrt(stats.pareto.var(2.839)*2), v*np.sqrt(stats.pareto.var(2.839)*2)]\r\n",
    "        true_slope = [treat[1]] * num_processors\r\n",
    "\r\n",
    "        paramlist = [treat, [stats.pareto, 2.839], [stats.pareto, 2.839]]\r\n",
    "        paramlist = [paramlist] * num_processors\r\n",
    "\r\n",
    "        ss = np.random.SeedSequence(seedlist[seed[idx]])\r\n",
    "        child_seeds = ss.spawn(num_processors)\r\n",
    "        seeds = [np.random.default_rng(s) for s in child_seeds]\r\n",
    "\r\n",
    "        output = p.starmap(worker, zip(containers, paramlist, true_slope, seeds))\r\n",
    "\r\n",
    "        final[idx, 0] = treat[1]    \r\n",
    "        final[idx, 1:] = np.sum(output, axis=0) / (loop_count*num_processors)\r\n",
    "        print(final[idx])\r\n",
    "\r\n",
    "    containerstr = str(hierarchy).translate({ord(','):ord('_'), ord('['):None, ord(']'):None, ord(' '):None})\r\n",
    "    filename = containerstr + \"data_\" + distributions + \".csv\"\r\n",
    "    np.savetxt(os.path.join(folder, filename), final, delimiter=',') \r\n",
    "\r\n",
    "    p.close()\r\n"
   ]
  },
  {
   "cell_type": "code",
   "execution_count": 51,
   "metadata": {},
   "outputs": [
    {
     "name": "stdout",
     "output_type": "stream",
     "text": [
      "[[0.         0.94601215 0.95884774]\n",
      " [0.35365108 0.95002939 0.96070939]\n",
      " [0.70730217 0.94914756 0.95816187]\n",
      " [1.06095325 0.9505193  0.96217911]\n",
      " [1.41460433 0.95120517 0.96129728]\n",
      " [1.76825542 0.94963747 0.96080737]\n",
      " [2.1219065  0.95091123 0.96188517]]\n"
     ]
    }
   ],
   "source": [
    "print(final)\r\n"
   ]
  },
  {
   "cell_type": "code",
   "execution_count": 52,
   "metadata": {},
   "outputs": [],
   "source": [
    "distributions = \"gamma_gamma_\""
   ]
  },
  {
   "cell_type": "code",
   "execution_count": 53,
   "metadata": {},
   "outputs": [
    {
     "name": "stdout",
     "output_type": "stream",
     "text": [
      "[0.         0.95032334 0.95296884]\n",
      "[0.5        0.95081325 0.95394866]\n",
      "[1.         0.94806976 0.95277288]\n",
      "[1.5        0.94336665 0.95032334]\n",
      "[2.         0.95012738 0.95463453]\n",
      "[2.5        0.95100921 0.95453655]\n",
      "[3.         0.94846169 0.95414462]\n",
      "Wall time: 12min 13s\n"
     ]
    }
   ],
   "source": [
    "%%time\r\n",
    "\r\n",
    "loop_count = 729\r\n",
    "\r\n",
    "\r\n",
    "mean_diff = np.array([j for j in range(0,7)]) / 2\r\n",
    "seed = tuple(i for i in range(689, 696))\r\n",
    "final = np.empty((len(mean_diff), 3))\r\n",
    "\r\n",
    "import poweranalysis\r\n",
    "\r\n",
    "if __name__ ==  '__main__': \r\n",
    "    num_processors = 14\r\n",
    "\r\n",
    "    containers = [hierarchy] * num_processors\r\n",
    "\r\n",
    "    p=Pool(processes = num_processors)\r\n",
    "\r\n",
    "    for idx, v in enumerate(mean_diff):\r\n",
    "\r\n",
    "        treat = [0, (v/2)*np.sqrt(stats.gamma.var(2)*2), v*np.sqrt(stats.gamma.var(2)*2)]\r\n",
    "        true_slope = [treat[1]] * num_processors\r\n",
    "\r\n",
    "        paramlist = [treat, [stats.gamma, 2], [stats.gamma, 2]]\r\n",
    "        paramlist = [paramlist] * num_processors\r\n",
    "\r\n",
    "        ss = np.random.SeedSequence(seedlist[seed[idx]])\r\n",
    "        child_seeds = ss.spawn(num_processors)\r\n",
    "        seeds = [np.random.default_rng(s) for s in child_seeds]\r\n",
    "\r\n",
    "        output = p.starmap(worker, zip(containers, paramlist, true_slope, seeds))\r\n",
    "\r\n",
    "        final[idx, 0] = treat[1]    \r\n",
    "        final[idx, 1:] = np.sum(output, axis=0) / (loop_count*num_processors)\r\n",
    "        print(final[idx])\r\n",
    "\r\n",
    "    containerstr = str(hierarchy).translate({ord(','):ord('_'), ord('['):None, ord(']'):None, ord(' '):None})\r\n",
    "    filename = containerstr + \"data_\" + distributions + \".csv\"\r\n",
    "    np.savetxt(os.path.join(folder, filename), final, delimiter=',') \r\n",
    "\r\n",
    "    p.close()\r\n"
   ]
  },
  {
   "cell_type": "code",
   "execution_count": 54,
   "metadata": {},
   "outputs": [
    {
     "name": "stdout",
     "output_type": "stream",
     "text": [
      "[[0.         0.95032334 0.95296884]\n",
      " [0.5        0.95081325 0.95394866]\n",
      " [1.         0.94806976 0.95277288]\n",
      " [1.5        0.94336665 0.95032334]\n",
      " [2.         0.95012738 0.95463453]\n",
      " [2.5        0.95100921 0.95453655]\n",
      " [3.         0.94846169 0.95414462]]\n"
     ]
    }
   ],
   "source": [
    "print(final)\r\n"
   ]
  },
  {
   "cell_type": "code",
   "execution_count": 55,
   "metadata": {},
   "outputs": [],
   "source": [
    "hierarchy = [4,3,3]\r\n",
    "bootstraps = 50\r\n",
    "permutations = 200\r\n",
    "\r\n",
    "interval = 95\r\n",
    "treatment_col = 0\r\n",
    "compare = \"corr\"\r\n",
    "\r\n",
    "loop_count = 729\r\n",
    "\r\n",
    "worker = partial(\r\n",
    "conf_int_analysis,\r\n",
    "interval=interval,\r\n",
    "compare=compare,\r\n",
    "loops=loop_count,\r\n",
    "treatment_col=treatment_col,\r\n",
    "bootstraps = bootstraps,\r\n",
    "permutations = permutations,\r\n",
    "iterations = 10,\r\n",
    "tolerance = 0.2\r\n",
    ")"
   ]
  },
  {
   "cell_type": "code",
   "execution_count": 56,
   "metadata": {},
   "outputs": [],
   "source": [
    "distributions = \"lognorm_lognorm_\""
   ]
  },
  {
   "cell_type": "code",
   "execution_count": 57,
   "metadata": {},
   "outputs": [
    {
     "name": "stdout",
     "output_type": "stream",
     "text": [
      "[0.         0.94993141 0.95953361]\n",
      "[0.50939912 0.94865765 0.95865177]\n",
      "[1.01879823 0.946796   0.95649618]\n",
      "[1.52819735 0.94924554 0.9579659 ]\n",
      "[2.03759646 0.95355673 0.95767196]\n",
      "[2.54699558 0.95002939 0.9590437 ]\n",
      "[3.0563947  0.95120517 0.96031746]\n",
      "Wall time: 12min 4s\n"
     ]
    }
   ],
   "source": [
    "%%time\r\n",
    "\r\n",
    "loop_count = 729\r\n",
    "\r\n",
    "\r\n",
    "mean_diff = np.array([j for j in range(0,7)]) / 2\r\n",
    "seed = tuple(i for i in range(689, 696))\r\n",
    "final = np.empty((len(mean_diff), 3))\r\n",
    "\r\n",
    "import poweranalysis\r\n",
    "\r\n",
    "if __name__ ==  '__main__': \r\n",
    "    num_processors = 14\r\n",
    "\r\n",
    "    containers = [hierarchy] * num_processors\r\n",
    "\r\n",
    "    p=Pool(processes = num_processors)\r\n",
    "\r\n",
    "    for idx, v in enumerate(mean_diff):\r\n",
    "\r\n",
    "        treat = [0, (v/3)*np.sqrt(stats.lognorm.var(1)*2), (2*v/3)*np.sqrt(stats.lognorm.var(1)*2), v*np.sqrt(stats.lognorm.var(1)*2)]\r\n",
    "        true_slope = [treat[1]] * num_processors\r\n",
    "\r\n",
    "        paramlist = [treat, [stats.lognorm, 1], [stats.lognorm, 1]]\r\n",
    "        paramlist = [paramlist] * num_processors\r\n",
    "\r\n",
    "        ss = np.random.SeedSequence(seedlist[seed[idx]])\r\n",
    "        child_seeds = ss.spawn(num_processors)\r\n",
    "        seeds = [np.random.default_rng(s) for s in child_seeds]\r\n",
    "\r\n",
    "        output = p.starmap(worker, zip(containers, paramlist, true_slope, seeds))\r\n",
    "\r\n",
    "        final[idx, 0] = treat[1]    \r\n",
    "        final[idx, 1:] = np.sum(output, axis=0) / (loop_count*num_processors)\r\n",
    "        print(final[idx])\r\n",
    "\r\n",
    "    containerstr = str(hierarchy).translate({ord(','):ord('_'), ord('['):None, ord(']'):None, ord(' '):None})\r\n",
    "    filename = containerstr + \"data_\" + distributions + \".csv\"\r\n",
    "    np.savetxt(os.path.join(folder, filename), final, delimiter=',') \r\n",
    "\r\n",
    "    p.close()\r\n"
   ]
  },
  {
   "cell_type": "code",
   "execution_count": 58,
   "metadata": {},
   "outputs": [
    {
     "name": "stdout",
     "output_type": "stream",
     "text": [
      "[[0.         0.94993141 0.95953361]\n",
      " [0.50939912 0.94865765 0.95865177]\n",
      " [1.01879823 0.946796   0.95649618]\n",
      " [1.52819735 0.94924554 0.9579659 ]\n",
      " [2.03759646 0.95355673 0.95767196]\n",
      " [2.54699558 0.95002939 0.9590437 ]\n",
      " [3.0563947  0.95120517 0.96031746]]\n"
     ]
    }
   ],
   "source": [
    "print(final)\r\n"
   ]
  },
  {
   "cell_type": "code",
   "execution_count": 59,
   "metadata": {},
   "outputs": [],
   "source": [
    "distributions = \"norm_norm_\""
   ]
  },
  {
   "cell_type": "code",
   "execution_count": 60,
   "metadata": {},
   "outputs": [
    {
     "name": "stdout",
     "output_type": "stream",
     "text": [
      "[0.         0.94708995 0.94620811]\n",
      "[0.23570226 0.94993141 0.9526749 ]\n",
      "[0.47140452 0.94924554 0.9526749 ]\n",
      "[0.70710678 0.94836371 0.95091123]\n",
      "[0.94280904 0.94914756 0.95277288]\n",
      "[1.1785113  0.94846169 0.94953949]\n",
      "[1.41421356 0.94738389 0.94699197]\n",
      "Wall time: 11min 28s\n"
     ]
    }
   ],
   "source": [
    "%%time\r\n",
    "\r\n",
    "loop_count = 729\r\n",
    "\r\n",
    "\r\n",
    "mean_diff = np.array([j for j in range(0,7)]) / 2\r\n",
    "seed = tuple(i for i in range(696, 703))\r\n",
    "final = np.empty((len(mean_diff), 3))\r\n",
    "\r\n",
    "import poweranalysis\r\n",
    "\r\n",
    "if __name__ ==  '__main__': \r\n",
    "    num_processors = 14\r\n",
    "\r\n",
    "    containers = [hierarchy] * num_processors\r\n",
    "\r\n",
    "    p=Pool(processes = num_processors)\r\n",
    "\r\n",
    "    for idx, v in enumerate(mean_diff):\r\n",
    "\r\n",
    "        treat = [0,(v/3)*np.sqrt(stats.norm.var(1)*2), (2*v/3)*np.sqrt(stats.norm.var(1)*2), v*np.sqrt(stats.norm.var(1)*2)]\r\n",
    "        true_slope = [treat[1]] * num_processors\r\n",
    "\r\n",
    "        paramlist = [treat, [stats.norm, 1], [stats.norm, 1]]\r\n",
    "        paramlist = [paramlist] * num_processors\r\n",
    "\r\n",
    "        ss = np.random.SeedSequence(seedlist[seed[idx]])\r\n",
    "        child_seeds = ss.spawn(num_processors)\r\n",
    "        seeds = [np.random.default_rng(s) for s in child_seeds]\r\n",
    "\r\n",
    "        output = p.starmap(worker, zip(containers, paramlist, true_slope, seeds))\r\n",
    "\r\n",
    "        final[idx, 0] = treat[1]    \r\n",
    "        final[idx, 1:] = np.sum(output, axis=0) / (loop_count*num_processors)\r\n",
    "        print(final[idx])\r\n",
    "\r\n",
    "    containerstr = str(hierarchy).translate({ord(','):ord('_'), ord('['):None, ord(']'):None, ord(' '):None})\r\n",
    "    filename = containerstr + \"data_\" + distributions + \".csv\"\r\n",
    "    np.savetxt(os.path.join(folder, filename), final, delimiter=',') \r\n",
    "\r\n",
    "    p.close()\r\n"
   ]
  },
  {
   "cell_type": "code",
   "execution_count": 61,
   "metadata": {},
   "outputs": [
    {
     "name": "stdout",
     "output_type": "stream",
     "text": [
      "[[0.         0.94708995 0.94620811]\n",
      " [0.23570226 0.94993141 0.9526749 ]\n",
      " [0.47140452 0.94924554 0.9526749 ]\n",
      " [0.70710678 0.94836371 0.95091123]\n",
      " [0.94280904 0.94914756 0.95277288]\n",
      " [1.1785113  0.94846169 0.94953949]\n",
      " [1.41421356 0.94738389 0.94699197]]\n"
     ]
    }
   ],
   "source": [
    "print(final)\r\n"
   ]
  },
  {
   "cell_type": "code",
   "execution_count": 62,
   "metadata": {},
   "outputs": [],
   "source": [
    "distributions = \"pareto_pareto_\""
   ]
  },
  {
   "cell_type": "code",
   "execution_count": 63,
   "metadata": {},
   "outputs": [
    {
     "name": "stdout",
     "output_type": "stream",
     "text": [
      "[0.         0.94973545 0.95776994]\n",
      "[0.23576739 0.94826573 0.96041544]\n",
      "[0.47153478 0.94464041 0.95600627]\n",
      "[0.70730217 0.94846169 0.96100333]\n",
      "[0.94306956 0.94806976 0.95600627]\n",
      "[1.17883695 0.94934352 0.95767196]\n",
      "[1.41460433 0.95032334 0.95972957]\n",
      "Wall time: 12min 15s\n"
     ]
    }
   ],
   "source": [
    "%%time\r\n",
    "\r\n",
    "loop_count = 729\r\n",
    "\r\n",
    "\r\n",
    "mean_diff = np.array([j for j in range(0,7)]) / 2\r\n",
    "seed = tuple(i for i in range(703, 710))\r\n",
    "final = np.empty((len(mean_diff), 3))\r\n",
    "\r\n",
    "import poweranalysis\r\n",
    "\r\n",
    "if __name__ ==  '__main__': \r\n",
    "    num_processors = 14\r\n",
    "\r\n",
    "    containers = [hierarchy] * num_processors\r\n",
    "\r\n",
    "    p=Pool(processes = num_processors)\r\n",
    "\r\n",
    "    for idx, v in enumerate(mean_diff):\r\n",
    "\r\n",
    "        treat = [0, (v/3)*np.sqrt(stats.pareto.var(2.839)*2), (2*v/3)*np.sqrt(stats.pareto.var(2.839)*2), v*np.sqrt(stats.pareto.var(2.839)*2)]\r\n",
    "        true_slope = [treat[1]] * num_processors\r\n",
    "\r\n",
    "        paramlist = [treat, [stats.pareto, 2.839], [stats.pareto, 2.839]]\r\n",
    "        paramlist = [paramlist] * num_processors\r\n",
    "\r\n",
    "        ss = np.random.SeedSequence(seedlist[seed[idx]])\r\n",
    "        child_seeds = ss.spawn(num_processors)\r\n",
    "        seeds = [np.random.default_rng(s) for s in child_seeds]\r\n",
    "\r\n",
    "        output = p.starmap(worker, zip(containers, paramlist, true_slope, seeds))\r\n",
    "\r\n",
    "        final[idx, 0] = treat[1]    \r\n",
    "        final[idx, 1:] = np.sum(output, axis=0) / (loop_count*num_processors)\r\n",
    "        print(final[idx])\r\n",
    "\r\n",
    "    containerstr = str(hierarchy).translate({ord(','):ord('_'), ord('['):None, ord(']'):None, ord(' '):None})\r\n",
    "    filename = containerstr + \"data_\" + distributions + \".csv\"\r\n",
    "    np.savetxt(os.path.join(folder, filename), final, delimiter=',') \r\n",
    "\r\n",
    "    p.close()\r\n"
   ]
  },
  {
   "cell_type": "code",
   "execution_count": 64,
   "metadata": {},
   "outputs": [
    {
     "name": "stdout",
     "output_type": "stream",
     "text": [
      "[[0.         0.94973545 0.95776994]\n",
      " [0.23576739 0.94826573 0.96041544]\n",
      " [0.47153478 0.94464041 0.95600627]\n",
      " [0.70730217 0.94846169 0.96100333]\n",
      " [0.94306956 0.94806976 0.95600627]\n",
      " [1.17883695 0.94934352 0.95767196]\n",
      " [1.41460433 0.95032334 0.95972957]]\n"
     ]
    }
   ],
   "source": [
    "print(final)"
   ]
  },
  {
   "cell_type": "code",
   "execution_count": 65,
   "metadata": {},
   "outputs": [],
   "source": [
    "distributions = \"gamma_gamma_\""
   ]
  },
  {
   "cell_type": "code",
   "execution_count": 66,
   "metadata": {},
   "outputs": [
    {
     "name": "stdout",
     "output_type": "stream",
     "text": [
      "[0.         0.94797178 0.94865765]\n",
      "[0.33333333 0.95169508 0.95277288]\n",
      "[0.66666667 0.95149912 0.95365471]\n",
      "[1.         0.95022536 0.95434058]\n",
      "[1.33333333 0.94620811 0.95287086]\n",
      "[1.66666667 0.94826573 0.95002939]\n",
      "[2.         0.9489516  0.95238095]\n",
      "Wall time: 11min 34s\n"
     ]
    }
   ],
   "source": [
    "%%time\r\n",
    "\r\n",
    "loop_count = 729\r\n",
    "\r\n",
    "\r\n",
    "mean_diff = np.array([j for j in range(0,7)]) / 2\r\n",
    "seed = tuple(i for i in range(710, 717))\r\n",
    "final = np.empty((len(mean_diff), 3))\r\n",
    "\r\n",
    "import poweranalysis\r\n",
    "\r\n",
    "if __name__ ==  '__main__': \r\n",
    "    num_processors = 14\r\n",
    "\r\n",
    "    containers = [hierarchy] * num_processors\r\n",
    "\r\n",
    "    p=Pool(processes = num_processors)\r\n",
    "\r\n",
    "    for idx, v in enumerate(mean_diff):\r\n",
    "\r\n",
    "        treat = [0, (v/3)*np.sqrt(stats.gamma.var(2)*2), (2*v/3)*np.sqrt(stats.gamma.var(2)*2), v*np.sqrt(stats.gamma.var(2)*2)]\r\n",
    "        true_slope = [treat[1]] * num_processors\r\n",
    "\r\n",
    "        paramlist = [treat, [stats.gamma, 2], [stats.gamma, 2]]\r\n",
    "        paramlist = [paramlist] * num_processors\r\n",
    "\r\n",
    "        ss = np.random.SeedSequence(seedlist[seed[idx]])\r\n",
    "        child_seeds = ss.spawn(num_processors)\r\n",
    "        seeds = [np.random.default_rng(s) for s in child_seeds]\r\n",
    "\r\n",
    "        output = p.starmap(worker, zip(containers, paramlist, true_slope, seeds))\r\n",
    "\r\n",
    "        final[idx, 0] = treat[1]    \r\n",
    "        final[idx, 1:] = np.sum(output, axis=0) / (loop_count*num_processors)\r\n",
    "        print(final[idx])\r\n",
    "\r\n",
    "    containerstr = str(hierarchy).translate({ord(','):ord('_'), ord('['):None, ord(']'):None, ord(' '):None})\r\n",
    "    filename = containerstr + \"data_\" + distributions + \".csv\"\r\n",
    "    np.savetxt(os.path.join(folder, filename), final, delimiter=',') \r\n",
    "\r\n",
    "    p.close()\r\n"
   ]
  },
  {
   "cell_type": "code",
   "execution_count": 67,
   "metadata": {},
   "outputs": [
    {
     "name": "stdout",
     "output_type": "stream",
     "text": [
      "[[0.         0.94797178 0.94865765]\n",
      " [0.33333333 0.95169508 0.95277288]\n",
      " [0.66666667 0.95149912 0.95365471]\n",
      " [1.         0.95022536 0.95434058]\n",
      " [1.33333333 0.94620811 0.95287086]\n",
      " [1.66666667 0.94826573 0.95002939]\n",
      " [2.         0.9489516  0.95238095]]\n"
     ]
    }
   ],
   "source": [
    "print(final)"
   ]
  },
  {
   "cell_type": "code",
   "execution_count": 68,
   "metadata": {},
   "outputs": [],
   "source": [
    "hierarchy = [3, 4, 3, 3]\r\n",
    "\r\n",
    "bootstraps = 100\r\n",
    "permutations = 100\r\n",
    "\r\n",
    "interval = 95\r\n",
    "treatment_col = 1\r\n",
    "compare = \"corr\"\r\n",
    "\r\n",
    "loop_count = 729\r\n",
    "\r\n",
    "worker = partial(\r\n",
    "conf_int_analysis,\r\n",
    "interval=interval,\r\n",
    "compare=compare,\r\n",
    "loops=loop_count,\r\n",
    "treatment_col=treatment_col,\r\n",
    "bootstraps = bootstraps,\r\n",
    "permutations = permutations,\r\n",
    "iterations = 10,\r\n",
    "tolerance = 0.2\r\n",
    ")"
   ]
  },
  {
   "cell_type": "code",
   "execution_count": 69,
   "metadata": {},
   "outputs": [],
   "source": [
    "distributions = \"lognorm_lognorm_\""
   ]
  },
  {
   "cell_type": "code",
   "execution_count": 70,
   "metadata": {},
   "outputs": [
    {
     "name": "stdout",
     "output_type": "stream",
     "text": [
      "[0.         0.95277288 0.97001764]\n",
      "[0.50939912 0.95247893 0.97315305]\n",
      "[1.01879823 0.95708407 0.97217323]\n",
      "[1.52819735 0.94924554 0.96923378]\n",
      "[2.03759646 0.95110719 0.97031158]\n",
      "[2.54699558 0.95179306 0.97099745]\n",
      "[3.0563947  0.95306682 0.97158534]\n",
      "Wall time: 12min 42s\n"
     ]
    }
   ],
   "source": [
    "%%time\r\n",
    "\r\n",
    "loop_count = 729\r\n",
    "\r\n",
    "\r\n",
    "mean_diff = np.array([j for j in range(0,7)]) / 2\r\n",
    "seed = tuple(i for i in range(717, 724))\r\n",
    "final = np.empty((len(mean_diff), 3))\r\n",
    "\r\n",
    "import poweranalysis\r\n",
    "\r\n",
    "if __name__ ==  '__main__': \r\n",
    "    num_processors = 14\r\n",
    "    \r\n",
    "    containers = [hierarchy] * num_processors\r\n",
    "\r\n",
    "\r\n",
    "    p=Pool(processes = num_processors)\r\n",
    "\r\n",
    "    for idx, v in enumerate(mean_diff):\r\n",
    "\r\n",
    "        treat = [0, (v/3)*np.sqrt(stats.lognorm.var(1)*2), (2*v/3)*np.sqrt(stats.lognorm.var(1)*2), v*np.sqrt(stats.lognorm.var(1)*2)] * 3\r\n",
    "        true_slope = [treat[1]] * num_processors\r\n",
    "\r\n",
    "        paramlist = [[stats.lognorm, 1], treat, [stats.lognorm, 1], [stats.lognorm, 1]]\r\n",
    "        paramlist = [paramlist] * num_processors\r\n",
    "\r\n",
    "        ss = np.random.SeedSequence(seedlist[seed[idx]])\r\n",
    "        child_seeds = ss.spawn(num_processors)\r\n",
    "        seeds = [np.random.default_rng(s) for s in child_seeds]\r\n",
    "\r\n",
    "        output = p.starmap(worker, zip(containers, paramlist, true_slope, seeds))\r\n",
    "\r\n",
    "        final[idx, 0] = treat[1]    \r\n",
    "        final[idx, 1:] = np.sum(output, axis=0) / (loop_count*num_processors)\r\n",
    "        print(final[idx])\r\n",
    "\r\n",
    "\r\n",
    "    containerstr = str(hierarchy).translate({ord(','):ord('_'), ord('['):None, ord(']'):None, ord(' '):None})\r\n",
    "    filename = containerstr + \"data_\" + distributions + \".csv\"\r\n",
    "    np.savetxt(os.path.join(folder, filename), final, delimiter=',') \r\n",
    "\r\n",
    "    p.close()\r\n"
   ]
  },
  {
   "cell_type": "code",
   "execution_count": 71,
   "metadata": {},
   "outputs": [
    {
     "name": "stdout",
     "output_type": "stream",
     "text": [
      "[[0.         0.95277288 0.97001764]\n",
      " [0.50939912 0.95247893 0.97315305]\n",
      " [1.01879823 0.95708407 0.97217323]\n",
      " [1.52819735 0.94924554 0.96923378]\n",
      " [2.03759646 0.95110719 0.97031158]\n",
      " [2.54699558 0.95179306 0.97099745]\n",
      " [3.0563947  0.95306682 0.97158534]]\n"
     ]
    }
   ],
   "source": [
    "print(final)"
   ]
  },
  {
   "cell_type": "code",
   "execution_count": 72,
   "metadata": {},
   "outputs": [],
   "source": [
    "distributions = \"norm_norm_\""
   ]
  },
  {
   "cell_type": "code",
   "execution_count": 73,
   "metadata": {},
   "outputs": [
    {
     "name": "stdout",
     "output_type": "stream",
     "text": [
      "[0.         0.95316481 0.97726827]\n",
      "[0.23570226 0.95385068 0.97619048]\n",
      "[0.47140452 0.95100921 0.97511268]\n",
      "[0.70710678 0.95326279 0.97775818]\n",
      "[0.94280904 0.95414462 0.97599451]\n",
      "[1.1785113  0.95473251 0.97736626]\n",
      "[1.41421356 0.95581031 0.97942387]\n",
      "Wall time: 12min 24s\n"
     ]
    }
   ],
   "source": [
    "%%time\r\n",
    "\r\n",
    "loop_count = 729\r\n",
    "\r\n",
    "\r\n",
    "mean_diff = np.array([j for j in range(0,7)]) / 2\r\n",
    "seed = tuple(i for i in range(724, 731))\r\n",
    "final = np.empty((len(mean_diff), 3))\r\n",
    "\r\n",
    "import poweranalysis\r\n",
    "\r\n",
    "if __name__ ==  '__main__': \r\n",
    "    num_processors = 14\r\n",
    "\r\n",
    "    containers = [hierarchy] * num_processors\r\n",
    "\r\n",
    "    p=Pool(processes = num_processors)\r\n",
    "\r\n",
    "    for idx, v in enumerate(mean_diff):\r\n",
    "\r\n",
    "        treat = [0,(v/3)*np.sqrt(stats.norm.var(1)*2), (2*v/3)*np.sqrt(stats.norm.var(1)*2), v*np.sqrt(stats.norm.var(1)*2)] * 3\r\n",
    "        true_slope = [treat[1]] * num_processors\r\n",
    "\r\n",
    "        paramlist = [[stats.norm], treat, [stats.norm], [stats.norm]]\r\n",
    "        paramlist = [paramlist] * num_processors\r\n",
    "\r\n",
    "        ss = np.random.SeedSequence(seedlist[seed[idx]])\r\n",
    "        child_seeds = ss.spawn(num_processors)\r\n",
    "        seeds = [np.random.default_rng(s) for s in child_seeds]\r\n",
    "\r\n",
    "        output = p.starmap(worker, zip(containers, paramlist, true_slope, seeds))\r\n",
    "\r\n",
    "        final[idx, 0] = treat[1]    \r\n",
    "        final[idx, 1:] = np.sum(output, axis=0) / (loop_count*num_processors)\r\n",
    "        print(final[idx])\r\n",
    "\r\n",
    "    containerstr = str(hierarchy).translate({ord(','):ord('_'), ord('['):None, ord(']'):None, ord(' '):None})\r\n",
    "    filename = containerstr + \"data_\" + distributions + \".csv\"\r\n",
    "    np.savetxt(os.path.join(folder, filename), final, delimiter=',') \r\n",
    "\r\n",
    "    p.close()\r\n"
   ]
  },
  {
   "cell_type": "code",
   "execution_count": 74,
   "metadata": {},
   "outputs": [
    {
     "name": "stdout",
     "output_type": "stream",
     "text": [
      "[[0.         0.95316481 0.97726827]\n",
      " [0.23570226 0.95385068 0.97619048]\n",
      " [0.47140452 0.95100921 0.97511268]\n",
      " [0.70710678 0.95326279 0.97775818]\n",
      " [0.94280904 0.95414462 0.97599451]\n",
      " [1.1785113  0.95473251 0.97736626]\n",
      " [1.41421356 0.95581031 0.97942387]]\n"
     ]
    }
   ],
   "source": [
    "print(final)\r\n"
   ]
  },
  {
   "cell_type": "code",
   "execution_count": 75,
   "metadata": {},
   "outputs": [],
   "source": [
    "distributions = \"pareto_pareto_\""
   ]
  },
  {
   "cell_type": "code",
   "execution_count": 76,
   "metadata": {},
   "outputs": [
    {
     "name": "stdout",
     "output_type": "stream",
     "text": [
      "[0.         0.9505193  0.96923378]\n",
      "[0.23576739 0.95238095 0.97217323]\n",
      "[0.47153478 0.95198903 0.96982167]\n",
      "[0.70730217 0.95394866 0.97138938]\n",
      "[0.94306956 0.95032334 0.97236919]\n",
      "[1.17883695 0.95110719 0.97236919]\n",
      "[1.41460433 0.95198903 0.97227121]\n",
      "Wall time: 12min 48s\n"
     ]
    }
   ],
   "source": [
    "%%time\r\n",
    "\r\n",
    "loop_count = 729\r\n",
    "\r\n",
    "\r\n",
    "mean_diff = np.array([j for j in range(0,7)]) / 2\r\n",
    "seed = tuple(i for i in range(731, 738))\r\n",
    "final = np.empty((len(mean_diff), 3))\r\n",
    "\r\n",
    "import poweranalysis\r\n",
    "\r\n",
    "if __name__ ==  '__main__': \r\n",
    "    num_processors = 14\r\n",
    "\r\n",
    "    containers = [hierarchy] * num_processors\r\n",
    "\r\n",
    "    p=Pool(processes = num_processors)\r\n",
    "\r\n",
    "    for idx, v in enumerate(mean_diff):\r\n",
    "\r\n",
    "        treat = [0, (v/3)*np.sqrt(stats.pareto.var(2.839)*2), (2*v/3)*np.sqrt(stats.pareto.var(2.839)*2), v*np.sqrt(stats.pareto.var(2.839)*2)] * 3\r\n",
    "        true_slope = [treat[1]] * num_processors\r\n",
    "\r\n",
    "        paramlist = [[stats.pareto, 2.839], treat, [stats.pareto, 2.839], [stats.pareto, 2.839]]\r\n",
    "        paramlist = [paramlist] * num_processors\r\n",
    "\r\n",
    "        ss = np.random.SeedSequence(seedlist[seed[idx]])\r\n",
    "        child_seeds = ss.spawn(num_processors)\r\n",
    "        seeds = [np.random.default_rng(s) for s in child_seeds]\r\n",
    "\r\n",
    "        output = p.starmap(worker, zip(containers, paramlist, true_slope, seeds))\r\n",
    "\r\n",
    "        final[idx, 0] = treat[1]    \r\n",
    "        final[idx, 1:] = np.sum(output, axis=0) / (loop_count*num_processors)\r\n",
    "        print(final[idx])\r\n",
    "\r\n",
    "    containerstr = str(hierarchy).translate({ord(','):ord('_'), ord('['):None, ord(']'):None, ord(' '):None})\r\n",
    "    filename = containerstr + \"data_\" + distributions + \".csv\"\r\n",
    "    np.savetxt(os.path.join(folder, filename), final, delimiter=',') \r\n",
    "\r\n",
    "    p.close()\r\n",
    "\r\n"
   ]
  },
  {
   "cell_type": "code",
   "execution_count": 77,
   "metadata": {},
   "outputs": [
    {
     "name": "stdout",
     "output_type": "stream",
     "text": [
      "[[0.         0.9505193  0.96923378]\n",
      " [0.23576739 0.95238095 0.97217323]\n",
      " [0.47153478 0.95198903 0.96982167]\n",
      " [0.70730217 0.95394866 0.97138938]\n",
      " [0.94306956 0.95032334 0.97236919]\n",
      " [1.17883695 0.95110719 0.97236919]\n",
      " [1.41460433 0.95198903 0.97227121]]\n"
     ]
    }
   ],
   "source": [
    "print(final)"
   ]
  },
  {
   "cell_type": "code",
   "execution_count": 78,
   "metadata": {},
   "outputs": [],
   "source": [
    "distributions = \"gamma_gamma_\""
   ]
  },
  {
   "cell_type": "code",
   "execution_count": 79,
   "metadata": {},
   "outputs": [
    {
     "name": "stdout",
     "output_type": "stream",
     "text": [
      "[0.         0.95277288 0.97334901]\n",
      "[0.33333333 0.95071527 0.97383892]\n",
      "[0.66666667 0.95365471 0.97315305]\n",
      "[1.         0.95443857 0.97521066]\n",
      "[1.33333333 0.95483049 0.97432883]\n",
      "[1.66666667 0.95571233 0.97677837]\n",
      "[2.         0.95306682 0.97442681]\n",
      "Wall time: 12min 32s\n"
     ]
    }
   ],
   "source": [
    "%%time\r\n",
    "\r\n",
    "loop_count = 729\r\n",
    "\r\n",
    "\r\n",
    "mean_diff = np.array([j for j in range(0,7)]) / 2\r\n",
    "seed = tuple(i for i in range(738, 745))\r\n",
    "final = np.empty((len(mean_diff), 3))\r\n",
    "\r\n",
    "import poweranalysis\r\n",
    "\r\n",
    "if __name__ ==  '__main__': \r\n",
    "    num_processors = 14\r\n",
    "\r\n",
    "    containers = [hierarchy] * num_processors\r\n",
    "\r\n",
    "    p=Pool(processes = num_processors)\r\n",
    "\r\n",
    "    for idx, v in enumerate(mean_diff):\r\n",
    "\r\n",
    "        treat = [0, (v/3)*np.sqrt(stats.gamma.var(2)*2), (2*v/3)*np.sqrt(stats.gamma.var(2)*2), v*np.sqrt(stats.gamma.var(2)*2)] * 3\r\n",
    "        true_slope = [treat[1]] * num_processors\r\n",
    "\r\n",
    "        paramlist = [[stats.gamma, 2], treat, [stats.gamma, 2], [stats.gamma, 2]]\r\n",
    "        paramlist = [paramlist] * num_processors\r\n",
    "\r\n",
    "        ss = np.random.SeedSequence(seedlist[seed[idx]])\r\n",
    "        child_seeds = ss.spawn(num_processors)\r\n",
    "        seeds = [np.random.default_rng(s) for s in child_seeds]\r\n",
    "\r\n",
    "        output = p.starmap(worker, zip(containers, paramlist, true_slope, seeds))\r\n",
    "\r\n",
    "        final[idx, 0] = treat[1]    \r\n",
    "        final[idx, 1:] = np.sum(output, axis=0) / (loop_count*num_processors)\r\n",
    "        print(final[idx])\r\n",
    "\r\n",
    "\r\n",
    "    containerstr = str(hierarchy).translate({ord(','):ord('_'), ord('['):None, ord(']'):None, ord(' '):None})\r\n",
    "    filename = containerstr + \"data_\" + distributions + \".csv\"\r\n",
    "    np.savetxt(os.path.join(folder, filename), final, delimiter=',') \r\n",
    "\r\n",
    "    p.close()\r\n",
    "\r\n"
   ]
  },
  {
   "cell_type": "code",
   "execution_count": 80,
   "metadata": {},
   "outputs": [
    {
     "name": "stdout",
     "output_type": "stream",
     "text": [
      "[[0.         0.95277288 0.97334901]\n",
      " [0.33333333 0.95071527 0.97383892]\n",
      " [0.66666667 0.95365471 0.97315305]\n",
      " [1.         0.95443857 0.97521066]\n",
      " [1.33333333 0.95483049 0.97432883]\n",
      " [1.66666667 0.95571233 0.97677837]\n",
      " [2.         0.95306682 0.97442681]]\n"
     ]
    }
   ],
   "source": [
    "print(final)\r\n"
   ]
  }
 ],
 "metadata": {
  "interpreter": {
   "hash": "6366f6cbfee632ea607dd741425fd59c16398e10991248334782cf8f57619d54"
  },
  "kernelspec": {
   "display_name": "Python 3.8.8 64-bit ('base': conda)",
   "name": "python3"
  },
  "language_info": {
   "codemirror_mode": {
    "name": "ipython",
    "version": 3
   },
   "file_extension": ".py",
   "mimetype": "text/x-python",
   "name": "python",
   "nbconvert_exporter": "python",
   "pygments_lexer": "ipython3",
   "version": "3.8.8"
  }
 },
 "nbformat": 4,
 "nbformat_minor": 4
}